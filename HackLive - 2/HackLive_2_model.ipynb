{
  "nbformat": 4,
  "nbformat_minor": 0,
  "metadata": {
    "colab": {
      "name": "HackLive-2_model.ipynb",
      "provenance": [],
      "collapsed_sections": []
    },
    "kernelspec": {
      "name": "python3",
      "display_name": "Python 3"
    }
  },
  "cells": [
    {
      "cell_type": "code",
      "metadata": {
        "id": "n75k-1FR7aaE"
      },
      "source": [
        "import pandas as pd\n",
        "import numpy as np\n",
        "from sklearn.feature_extraction.text import CountVectorizer\n",
        "import matplotlib.pyplot as plt"
      ],
      "execution_count": 1,
      "outputs": []
    },
    {
      "cell_type": "code",
      "metadata": {
        "id": "_DvRx6S38Iyx"
      },
      "source": [
        "from sklearn.metrics import mean_squared_error, mean_squared_log_error\n",
        "\n",
        "def rmsle(y_true, y_pred):\n",
        "    \n",
        "  return np.sqrt(mean_squared_log_error(y_true, y_pred))\n",
        "\n",
        "def av_metric(y_true, y_pred):\n",
        "  return 1000 * np.sqrt(mean_squared_error(y_true, y_pred))"
      ],
      "execution_count": 2,
      "outputs": []
    },
    {
      "cell_type": "code",
      "metadata": {
        "id": "a8uPQAyQ8O0t"
      },
      "source": [
        "#from sklearn.model_selection import StratifiedKFold\n",
        "#from sklearn.preprocessing  import StandardScaler\n",
        "\n",
        "#TARGET_COL = 'likes'\n",
        "#ID_COL = 'video_id'\n",
        "def run_gradient_boosting(n_splits, clf, fit_params, train, test, features):\n",
        "    \n",
        "    N_SPLITS = n_splits\n",
        "    oofs = np.zeros(len(train))\n",
        "    preds = np.zeros((len(test)))\n",
        "\n",
        "    target = train[TARGET_COL]\n",
        "\n",
        "    folds = StratifiedKFold(n_splits = N_SPLITS)\n",
        "    stratified_target = pd.qcut(train[TARGET_COL], 5, labels = False, duplicates='drop')\n",
        "\n",
        "    feature_importances = pd.DataFrame()\n",
        "\n",
        "    for fold_, (trn_idx, val_idx) in enumerate(folds.split(train, stratified_target)):\n",
        "        print(f'\\n------------- Fold {fold_ + 1} -------------')\n",
        "\n",
        "    ### Training Set\n",
        "        X_trn, y_trn = train[features].iloc[trn_idx], target.iloc[trn_idx]\n",
        "\n",
        "        ### Validation Set\n",
        "        X_val, y_val = train[features].iloc[val_idx], target.iloc[val_idx]\n",
        "\n",
        "        ### Test Set\n",
        "        X_test = test[features]\n",
        "\n",
        "        scaler = StandardScaler()\n",
        "        _ = scaler.fit(X_trn)\n",
        "\n",
        "        X_trn = scaler.transform(X_trn)\n",
        "        X_val = scaler.transform(X_val)\n",
        "        X_test = scaler.transform(X_test)\n",
        "\n",
        "        _ = clf.fit(X_trn, y_trn, eval_set = [(X_val, y_val)], **fit_params)\n",
        "\n",
        "        fold_importance = pd.DataFrame({'fold': fold_ + 1, 'feature': features, 'importance': clf.feature_importances_})\n",
        "        feature_importances = pd.concat([feature_importances, fold_importance], axis=0)\n",
        "\n",
        "        ### Instead of directly predicting the classes we will obtain the probability of positive class.\n",
        "        preds_val = clf.predict(X_val)\n",
        "        preds_test = clf.predict(X_test)\n",
        "\n",
        "        fold_score = av_metric(y_val, preds_val)\n",
        "        print(f'\\nAV metric score for validation set is {fold_score}')\n",
        "\n",
        "        oofs[val_idx] = preds_val\n",
        "        preds += preds_test / N_SPLITS\n",
        "\n",
        "\n",
        "    oofs_score = av_metric(target, oofs)\n",
        "    print(f'\\n\\nAV metric for oofs is {oofs_score}')\n",
        "\n",
        "    feature_importances = feature_importances.reset_index(drop = True)\n",
        "    fi = feature_importances.groupby('feature')['importance'].mean().sort_values(ascending = False)[:20][::-1]\n",
        "    fi.plot(kind = 'barh', figsize=(12, 6))\n",
        "\n",
        "    return oofs, preds, fi"
      ],
      "execution_count": 158,
      "outputs": []
    },
    {
      "cell_type": "code",
      "metadata": {
        "id": "H5dApg_A8owK"
      },
      "source": [
        "df = pd.read_csv('/content/drive/My Drive/Colab Notebooks/Predata.csv')"
      ],
      "execution_count": 8,
      "outputs": []
    },
    {
      "cell_type": "code",
      "metadata": {
        "id": "WJ7Hut4r9EDX"
      },
      "source": [
        "def join_df(train, test):\n",
        "\n",
        "    df = pd.concat([train, test], axis=0).reset_index(drop = True)\n",
        "    features = [c for c in df.columns if c not in [ID_COL, TARGET_COL]]\n",
        "    df[num_cols + ['likes']] = df[num_cols + ['likes']].apply(lambda x: np.log1p(x))\n",
        "\n",
        "    return df, features\n",
        "\n",
        "def split_df_and_get_features(df, train_nrows):\n",
        "\n",
        "    train, test = df[:train_nrows].reset_index(drop = True), df[train_nrows:].reset_index(drop = True)\n",
        "    features = [c for c in train.columns if c not in [ID_COL, TARGET_COL]]\n",
        "  \n",
        "    return train, test, features"
      ],
      "execution_count": 4,
      "outputs": []
    },
    {
      "cell_type": "code",
      "metadata": {
        "id": "n_7boFpb9EU_"
      },
      "source": [
        ""
      ],
      "execution_count": 9,
      "outputs": []
    },
    {
      "cell_type": "code",
      "metadata": {
        "id": "FivoKD7X8w4Q",
        "outputId": "336dc8b1-2ddf-4ed1-c6b6-249be7d360e6",
        "colab": {
          "base_uri": "https://localhost:8080/",
          "height": 34
        }
      },
      "source": [
        "TOP_N_WORDS = 50\n",
        "\n",
        "vec = CountVectorizer(max_features = TOP_N_WORDS)\n",
        "txt_to_fts = vec.fit_transform(df['description']).toarray()\n",
        "txt_to_fts.shape"
      ],
      "execution_count": 10,
      "outputs": [
        {
          "output_type": "execute_result",
          "data": {
            "text/plain": [
              "(37231, 50)"
            ]
          },
          "metadata": {
            "tags": []
          },
          "execution_count": 10
        }
      ]
    },
    {
      "cell_type": "code",
      "metadata": {
        "id": "frmar3-R86Fj"
      },
      "source": [
        "c = 'description'\n",
        "txt_fts_names = [c + f'_word_{i}_count' for i in range(TOP_N_WORDS)]\n",
        "df[txt_fts_names] = txt_to_fts\n"
      ],
      "execution_count": 11,
      "outputs": []
    },
    {
      "cell_type": "code",
      "metadata": {
        "id": "RT8CbKWJdoqf",
        "outputId": "f0a3271b-5765-4e18-cd49-5242c5ee2ac4",
        "colab": {
          "base_uri": "https://localhost:8080/",
          "height": 34
        }
      },
      "source": [
        "TOP_N_WORDS = 20\n",
        "\n",
        "vec = CountVectorizer(max_features = TOP_N_WORDS)\n",
        "txt_to_fts = vec.fit_transform(df['tags']).toarray()\n",
        "txt_to_fts.shape"
      ],
      "execution_count": 12,
      "outputs": [
        {
          "output_type": "execute_result",
          "data": {
            "text/plain": [
              "(37231, 20)"
            ]
          },
          "metadata": {
            "tags": []
          },
          "execution_count": 12
        }
      ]
    },
    {
      "cell_type": "code",
      "metadata": {
        "id": "V0T7MPIBdrI3"
      },
      "source": [
        "c = 'tags'\n",
        "txt_fts_names = [c + f'_word_{i}_count' for i in range(TOP_N_WORDS)]\n",
        "df[txt_fts_names] = txt_to_fts\n"
      ],
      "execution_count": 13,
      "outputs": []
    },
    {
      "cell_type": "code",
      "metadata": {
        "id": "inG2jU8J9Zc5"
      },
      "source": [
        "train_proc, test_proc, features = split_df_and_get_features(df1, train.shape[0])\n",
        "features = [c for c in df1.columns if c not in [ID_COL, TARGET_COL]]\n",
        "cat_num_cols = [c for c in features if c not in ['title', 'tags', 'description', 'publish_date']]"
      ],
      "execution_count": 49,
      "outputs": []
    },
    {
      "cell_type": "code",
      "metadata": {
        "id": "MaEZiNiL9WBR"
      },
      "source": [
        "train = pd.read_csv('/content/drive/My Drive/Colab Notebooks/train.csv')"
      ],
      "execution_count": 5,
      "outputs": []
    },
    {
      "cell_type": "code",
      "metadata": {
        "id": "Yc7aI6de9iqF"
      },
      "source": [
        "test= pd.read_csv('/content/drive/My Drive/Colab Notebooks/test.csv')"
      ],
      "execution_count": 6,
      "outputs": []
    },
    {
      "cell_type": "code",
      "metadata": {
        "id": "HgxvQh5v_2ya"
      },
      "source": [
        "df[\"RANK_channel_views\"] = df.groupby(['channel_title','views'])['channel_title'].rank(method=\"first\", ascending=True)\n",
        "df[\"RANK_channel_cmnt\"] = df.groupby(['channel_title','comment_count'])['channel_title'].rank(method=\"first\", ascending=True)\n"
      ],
      "execution_count": 18,
      "outputs": []
    },
    {
      "cell_type": "code",
      "metadata": {
        "id": "fxROEJbfI8Cx",
        "outputId": "6b37dd7e-149d-41e6-809d-412f278ab640",
        "colab": {
          "base_uri": "https://localhost:8080/",
          "height": 1000
        }
      },
      "source": [
        "clf = LGBMRegressor(n_estimators = 5000,\n",
        "                        learning_rate = 0.05,\n",
        "                        colsample_bytree = 0.65,\n",
        "                        metric = 'None',\n",
        "                        )\n",
        "fit_params = {'verbose': 300, 'early_stopping_rounds': 200, 'eval_metric': 'rmse'}\n",
        "\n",
        "lgb_oofs, lgb_preds, fi = run_gradient_boosting(clf, fit_params, train_proc, test_proc, cat_num_cols)"
      ],
      "execution_count": 38,
      "outputs": [
        {
          "output_type": "stream",
          "text": [
            "\n",
            "------------- Fold 1 -------------\n",
            "Training until validation scores don't improve for 200 rounds.\n",
            "[300]\tvalid_0's rmse: 0.530099\n",
            "[600]\tvalid_0's rmse: 0.507955\n",
            "[900]\tvalid_0's rmse: 0.497312\n",
            "[1200]\tvalid_0's rmse: 0.490304\n",
            "[1500]\tvalid_0's rmse: 0.486755\n",
            "[1800]\tvalid_0's rmse: 0.483938\n",
            "[2100]\tvalid_0's rmse: 0.481754\n",
            "[2400]\tvalid_0's rmse: 0.480371\n",
            "[2700]\tvalid_0's rmse: 0.479369\n",
            "[3000]\tvalid_0's rmse: 0.478507\n",
            "[3300]\tvalid_0's rmse: 0.477804\n",
            "[3600]\tvalid_0's rmse: 0.477175\n",
            "[3900]\tvalid_0's rmse: 0.476896\n",
            "[4200]\tvalid_0's rmse: 0.476683\n",
            "[4500]\tvalid_0's rmse: 0.476365\n",
            "[4800]\tvalid_0's rmse: 0.476247\n",
            "Early stopping, best iteration is:\n",
            "[4788]\tvalid_0's rmse: 0.476198\n",
            "\n",
            "AV metric score for validation set is 476.19819141590506\n",
            "\n",
            "------------- Fold 2 -------------\n",
            "Training until validation scores don't improve for 200 rounds.\n",
            "[300]\tvalid_0's rmse: 0.523086\n",
            "[600]\tvalid_0's rmse: 0.501991\n",
            "[900]\tvalid_0's rmse: 0.493337\n",
            "[1200]\tvalid_0's rmse: 0.487295\n",
            "[1500]\tvalid_0's rmse: 0.483276\n",
            "[1800]\tvalid_0's rmse: 0.480605\n",
            "[2100]\tvalid_0's rmse: 0.47889\n",
            "[2400]\tvalid_0's rmse: 0.477602\n",
            "[2700]\tvalid_0's rmse: 0.476907\n",
            "[3000]\tvalid_0's rmse: 0.476379\n",
            "[3300]\tvalid_0's rmse: 0.475906\n",
            "[3600]\tvalid_0's rmse: 0.475586\n",
            "[3900]\tvalid_0's rmse: 0.475278\n",
            "[4200]\tvalid_0's rmse: 0.475021\n",
            "Early stopping, best iteration is:\n",
            "[4181]\tvalid_0's rmse: 0.474958\n",
            "\n",
            "AV metric score for validation set is 474.9578806801423\n",
            "\n",
            "------------- Fold 3 -------------\n",
            "Training until validation scores don't improve for 200 rounds.\n",
            "[300]\tvalid_0's rmse: 0.510873\n",
            "[600]\tvalid_0's rmse: 0.490077\n",
            "[900]\tvalid_0's rmse: 0.480659\n",
            "[1200]\tvalid_0's rmse: 0.474745\n",
            "[1500]\tvalid_0's rmse: 0.472179\n",
            "[1800]\tvalid_0's rmse: 0.470668\n",
            "[2100]\tvalid_0's rmse: 0.469559\n",
            "[2400]\tvalid_0's rmse: 0.468564\n",
            "[2700]\tvalid_0's rmse: 0.467834\n",
            "[3000]\tvalid_0's rmse: 0.467394\n",
            "[3300]\tvalid_0's rmse: 0.466872\n",
            "[3600]\tvalid_0's rmse: 0.466668\n",
            "[3900]\tvalid_0's rmse: 0.466425\n",
            "[4200]\tvalid_0's rmse: 0.466272\n",
            "Early stopping, best iteration is:\n",
            "[4177]\tvalid_0's rmse: 0.466239\n",
            "\n",
            "AV metric score for validation set is 466.2390691849778\n",
            "\n",
            "------------- Fold 4 -------------\n",
            "Training until validation scores don't improve for 200 rounds.\n",
            "[300]\tvalid_0's rmse: 0.509289\n",
            "[600]\tvalid_0's rmse: 0.48623\n",
            "[900]\tvalid_0's rmse: 0.474794\n",
            "[1200]\tvalid_0's rmse: 0.468887\n",
            "[1500]\tvalid_0's rmse: 0.466067\n",
            "[1800]\tvalid_0's rmse: 0.463788\n",
            "[2100]\tvalid_0's rmse: 0.462763\n",
            "[2400]\tvalid_0's rmse: 0.461445\n",
            "[2700]\tvalid_0's rmse: 0.460746\n",
            "[3000]\tvalid_0's rmse: 0.460099\n",
            "[3300]\tvalid_0's rmse: 0.459742\n",
            "[3900]\tvalid_0's rmse: 0.459113\n",
            "[4200]\tvalid_0's rmse: 0.458916\n",
            "[4500]\tvalid_0's rmse: 0.458824\n",
            "Early stopping, best iteration is:\n",
            "[4405]\tvalid_0's rmse: 0.458721\n",
            "\n",
            "AV metric score for validation set is 458.721424262042\n",
            "\n",
            "------------- Fold 5 -------------\n",
            "Training until validation scores don't improve for 200 rounds.\n",
            "[300]\tvalid_0's rmse: 0.520856\n",
            "[600]\tvalid_0's rmse: 0.49881\n",
            "[900]\tvalid_0's rmse: 0.491119\n",
            "[1200]\tvalid_0's rmse: 0.486267\n",
            "[1500]\tvalid_0's rmse: 0.482612\n",
            "[1800]\tvalid_0's rmse: 0.480281\n",
            "[2100]\tvalid_0's rmse: 0.479334\n",
            "[2400]\tvalid_0's rmse: 0.478402\n",
            "[2700]\tvalid_0's rmse: 0.477847\n",
            "[3000]\tvalid_0's rmse: 0.477329\n",
            "[3300]\tvalid_0's rmse: 0.477085\n",
            "[3600]\tvalid_0's rmse: 0.476748\n",
            "Early stopping, best iteration is:\n",
            "[3591]\tvalid_0's rmse: 0.476702\n",
            "\n",
            "AV metric score for validation set is 476.7020643667839\n",
            "\n",
            "\n",
            "AV metric for oofs is 470.61657275766794\n"
          ],
          "name": "stdout"
        },
        {
          "output_type": "display_data",
          "data": {
            "image/png": "[encoded data removed]",
            "text/plain": [
              "<Figure size 864x432 with 1 Axes>"
            ]
          },
          "metadata": {
            "tags": [],
            "needs_background": "light"
          }
        }
      ]
    },
    {
      "cell_type": "code",
      "metadata": {
        "id": "IGSgAe_Q9orU",
        "outputId": "97da3f19-a476-4292-e00d-ead8b6e288a3",
        "colab": {
          "base_uri": "https://localhost:8080/",
          "height": 1000
        }
      },
      "source": [
        "clf = LGBMRegressor(n_estimators = 5000,\n",
        "                        learning_rate = 0.05,\n",
        "                        colsample_bytree = 0.65,\n",
        "                        metric = 'None',\n",
        "                        )\n",
        "fit_params = {'verbose': 300, 'early_stopping_rounds': 200, 'eval_metric': 'rmse'}\n",
        "\n",
        "lgb_oofs1, lgb_preds1, fi = run_gradient_boosting(clf, fit_params, train_proc1, test_proc1, cat_num_cols1)"
      ],
      "execution_count": 53,
      "outputs": [
        {
          "output_type": "stream",
          "text": [
            "\n",
            "------------- Fold 1 -------------\n",
            "Training until validation scores don't improve for 200 rounds.\n",
            "[300]\tvalid_0's rmse: 0.529996\n",
            "[600]\tvalid_0's rmse: 0.507651\n",
            "[900]\tvalid_0's rmse: 0.49759\n",
            "[1200]\tvalid_0's rmse: 0.490689\n",
            "[1500]\tvalid_0's rmse: 0.486156\n",
            "[1800]\tvalid_0's rmse: 0.483176\n",
            "[2100]\tvalid_0's rmse: 0.481462\n",
            "[2400]\tvalid_0's rmse: 0.480318\n",
            "[2700]\tvalid_0's rmse: 0.479487\n",
            "[3000]\tvalid_0's rmse: 0.478962\n",
            "[3300]\tvalid_0's rmse: 0.478234\n",
            "[3600]\tvalid_0's rmse: 0.477602\n",
            "[3900]\tvalid_0's rmse: 0.477117\n",
            "[4200]\tvalid_0's rmse: 0.476838\n",
            "[4500]\tvalid_0's rmse: 0.476647\n",
            "Early stopping, best iteration is:\n",
            "[4555]\tvalid_0's rmse: 0.47655\n",
            "\n",
            "AV metric score for validation set is 476.55037001981543\n",
            "\n",
            "------------- Fold 2 -------------\n",
            "Training until validation scores don't improve for 200 rounds.\n",
            "[300]\tvalid_0's rmse: 0.527068\n",
            "[600]\tvalid_0's rmse: 0.505515\n",
            "[900]\tvalid_0's rmse: 0.495834\n",
            "[1200]\tvalid_0's rmse: 0.490322\n",
            "[1500]\tvalid_0's rmse: 0.486493\n",
            "[1800]\tvalid_0's rmse: 0.484274\n",
            "[2100]\tvalid_0's rmse: 0.482281\n",
            "[2400]\tvalid_0's rmse: 0.481216\n",
            "[2700]\tvalid_0's rmse: 0.480173\n",
            "[3000]\tvalid_0's rmse: 0.479325\n",
            "[3300]\tvalid_0's rmse: 0.478863\n",
            "[3600]\tvalid_0's rmse: 0.478627\n",
            "[3900]\tvalid_0's rmse: 0.478412\n",
            "[4200]\tvalid_0's rmse: 0.478107\n",
            "Early stopping, best iteration is:\n",
            "[4158]\tvalid_0's rmse: 0.478027\n",
            "\n",
            "AV metric score for validation set is 478.0271230841766\n",
            "\n",
            "------------- Fold 3 -------------\n",
            "Training until validation scores don't improve for 200 rounds.\n",
            "[300]\tvalid_0's rmse: 0.514889\n",
            "[600]\tvalid_0's rmse: 0.492103\n",
            "[900]\tvalid_0's rmse: 0.483837\n",
            "[1200]\tvalid_0's rmse: 0.479377\n",
            "[1500]\tvalid_0's rmse: 0.476367\n",
            "[1800]\tvalid_0's rmse: 0.474622\n",
            "[2100]\tvalid_0's rmse: 0.473299\n",
            "[2400]\tvalid_0's rmse: 0.473134\n",
            "[2700]\tvalid_0's rmse: 0.472439\n",
            "[3000]\tvalid_0's rmse: 0.471749\n",
            "Early stopping, best iteration is:\n",
            "[2986]\tvalid_0's rmse: 0.471706\n",
            "\n",
            "AV metric score for validation set is 471.70599866669045\n",
            "\n",
            "------------- Fold 4 -------------\n",
            "Training until validation scores don't improve for 200 rounds.\n",
            "[300]\tvalid_0's rmse: 0.511836\n",
            "[600]\tvalid_0's rmse: 0.490945\n",
            "[900]\tvalid_0's rmse: 0.480469\n",
            "[1200]\tvalid_0's rmse: 0.474189\n",
            "[1500]\tvalid_0's rmse: 0.470538\n",
            "[1800]\tvalid_0's rmse: 0.467759\n",
            "[2100]\tvalid_0's rmse: 0.46646\n",
            "[2400]\tvalid_0's rmse: 0.465588\n",
            "[2700]\tvalid_0's rmse: 0.464998\n",
            "[3000]\tvalid_0's rmse: 0.464271\n",
            "[3300]\tvalid_0's rmse: 0.463989\n",
            "[3600]\tvalid_0's rmse: 0.463781\n",
            "[3900]\tvalid_0's rmse: 0.463511\n",
            "Early stopping, best iteration is:\n",
            "[3935]\tvalid_0's rmse: 0.463411\n",
            "\n",
            "AV metric score for validation set is 463.41132770991004\n",
            "\n",
            "------------- Fold 5 -------------\n",
            "Training until validation scores don't improve for 200 rounds.\n",
            "[300]\tvalid_0's rmse: 0.517835\n",
            "[600]\tvalid_0's rmse: 0.497058\n",
            "[900]\tvalid_0's rmse: 0.488044\n",
            "[1200]\tvalid_0's rmse: 0.484121\n",
            "[1500]\tvalid_0's rmse: 0.481526\n",
            "[1800]\tvalid_0's rmse: 0.479711\n",
            "[2100]\tvalid_0's rmse: 0.478715\n",
            "[2400]\tvalid_0's rmse: 0.477518\n",
            "[2700]\tvalid_0's rmse: 0.477118\n",
            "[3000]\tvalid_0's rmse: 0.476636\n",
            "[3300]\tvalid_0's rmse: 0.476283\n",
            "[3600]\tvalid_0's rmse: 0.476067\n",
            "[3900]\tvalid_0's rmse: 0.475807\n",
            "[4200]\tvalid_0's rmse: 0.475686\n",
            "[4500]\tvalid_0's rmse: 0.475655\n",
            "[4800]\tvalid_0's rmse: 0.475506\n",
            "Did not meet early stopping. Best iteration is:\n",
            "[4908]\tvalid_0's rmse: 0.47537\n",
            "\n",
            "AV metric score for validation set is 475.3700564808231\n",
            "\n",
            "\n",
            "AV metric for oofs is 473.04209605095724\n"
          ],
          "name": "stdout"
        },
        {
          "output_type": "display_data",
          "data": {
            "image/png": "[encoded data removed]",
            "text/plain": [
              "<Figure size 864x432 with 1 Axes>"
            ]
          },
          "metadata": {
            "tags": [],
            "needs_background": "light"
          }
        }
      ]
    },
    {
      "cell_type": "code",
      "metadata": {
        "id": "ckAyApXQ9yhZ"
      },
      "source": [
        "from lightgbm import LGBMRegressor"
      ],
      "execution_count": 51,
      "outputs": []
    },
    {
      "cell_type": "code",
      "metadata": {
        "id": "qLxAyGqaPtJi"
      },
      "source": [
        "lr_train['lgb1'] = lgb_oofs1\n",
        "lr_test['lgb1'] = lgb_preds1"
      ],
      "execution_count": 54,
      "outputs": []
    },
    {
      "cell_type": "code",
      "metadata": {
        "id": "Ohy8OQ3S-jCF",
        "outputId": "a3ff730b-11a4-4a3a-b01b-038d1810f6e2",
        "colab": {
          "base_uri": "https://localhost:8080/",
          "height": 34
        }
      },
      "source": [
        "lgb_preds[:5]"
      ],
      "execution_count": null,
      "outputs": [
        {
          "output_type": "execute_result",
          "data": {
            "text/plain": [
              "array([6.54845316, 8.03892615, 3.92211551, 7.87610938, 6.02173588])"
            ]
          },
          "metadata": {
            "tags": []
          },
          "execution_count": 31
        }
      ]
    },
    {
      "cell_type": "code",
      "metadata": {
        "id": "tsk64X2X-ugn"
      },
      "source": [
        "preds = np.expm1(lgb_preds)\n",
        "sslg = pd.DataFrame({'video_id':test.video_id})\n",
        "sslg['likes'] = preds"
      ],
      "execution_count": null,
      "outputs": []
    },
    {
      "cell_type": "code",
      "metadata": {
        "id": "mGFwfyUUiMIP"
      },
      "source": [
        "predscb = np.expm1(cb_preds)\n",
        "sscb = pd.DataFrame({'video_id':test.video_id})\n",
        "sscb['likes'] = predscb"
      ],
      "execution_count": null,
      "outputs": []
    },
    {
      "cell_type": "code",
      "metadata": {
        "id": "A6IO_l_Z-7Ns",
        "outputId": "f0404848-e801-4f08-efe5-bb11aa46d098",
        "colab": {
          "base_uri": "https://localhost:8080/",
          "height": 195
        }
      },
      "source": [
        "sslg.head()"
      ],
      "execution_count": null,
      "outputs": [
        {
          "output_type": "execute_result",
          "data": {
            "text/html": [
              "<div>\n",
              "<style scoped>\n",
              "    .dataframe tbody tr th:only-of-type {\n",
              "        vertical-align: middle;\n",
              "    }\n",
              "\n",
              "    .dataframe tbody tr th {\n",
              "        vertical-align: top;\n",
              "    }\n",
              "\n",
              "    .dataframe thead th {\n",
              "        text-align: right;\n",
              "    }\n",
              "</style>\n",
              "<table border=\"1\" class=\"dataframe\">\n",
              "  <thead>\n",
              "    <tr style=\"text-align: right;\">\n",
              "      <th></th>\n",
              "      <th>video_id</th>\n",
              "      <th>likes</th>\n",
              "    </tr>\n",
              "  </thead>\n",
              "  <tbody>\n",
              "    <tr>\n",
              "      <th>0</th>\n",
              "      <td>87185</td>\n",
              "      <td>697.163390</td>\n",
              "    </tr>\n",
              "    <tr>\n",
              "      <th>1</th>\n",
              "      <td>9431</td>\n",
              "      <td>3098.283241</td>\n",
              "    </tr>\n",
              "    <tr>\n",
              "      <th>2</th>\n",
              "      <td>40599</td>\n",
              "      <td>49.507180</td>\n",
              "    </tr>\n",
              "    <tr>\n",
              "      <th>3</th>\n",
              "      <td>494</td>\n",
              "      <td>2632.606233</td>\n",
              "    </tr>\n",
              "    <tr>\n",
              "      <th>4</th>\n",
              "      <td>73942</td>\n",
              "      <td>411.293666</td>\n",
              "    </tr>\n",
              "  </tbody>\n",
              "</table>\n",
              "</div>"
            ],
            "text/plain": [
              "   video_id        likes\n",
              "0     87185   697.163390\n",
              "1      9431  3098.283241\n",
              "2     40599    49.507180\n",
              "3       494  2632.606233\n",
              "4     73942   411.293666"
            ]
          },
          "metadata": {
            "tags": []
          },
          "execution_count": 33
        }
      ]
    },
    {
      "cell_type": "code",
      "metadata": {
        "id": "DdoZwWKZ-8gm"
      },
      "source": [
        "from google.colab import files\n"
      ],
      "execution_count": null,
      "outputs": []
    },
    {
      "cell_type": "code",
      "metadata": {
        "id": "OsxCCI2jfM3S"
      },
      "source": [
        "sslg.to_csv('/content/drive/My Drive/Colab Notebooks/lgb_bowtg.csv', index=False)"
      ],
      "execution_count": null,
      "outputs": []
    },
    {
      "cell_type": "code",
      "metadata": {
        "id": "hyaLzA7liVyp"
      },
      "source": [
        "sscb.to_csv('/content/drive/My Drive/Colab Notebooks/cb_bowtg.csv', index=False)"
      ],
      "execution_count": null,
      "outputs": []
    },
    {
      "cell_type": "code",
      "metadata": {
        "id": "_L5KnKZ1_BAs"
      },
      "source": [
        "def download_preds(file_name = 'hacklive_sub.csv'):\n",
        "\n",
        "  \n",
        " \n",
        "  ## 2. Saving our predictions to a csv file\n",
        "\n",
        "  ss.to_csv(file_name, index = False)\n",
        "\n",
        "  ## 3. Downloading and submitting the csv file\n",
        "  from google.colab import files\n",
        "  files.download(file_name)"
      ],
      "execution_count": null,
      "outputs": []
    },
    {
      "cell_type": "code",
      "metadata": {
        "id": "OFXN3_Io_NbA",
        "outputId": "d231d5db-5385-42d6-f558-c364e54b9171",
        "colab": {
          "base_uri": "https://localhost:8080/",
          "height": 17
        }
      },
      "source": [
        "download_preds(file_name='lgb_fin1.csv')"
      ],
      "execution_count": null,
      "outputs": [
        {
          "output_type": "display_data",
          "data": {
            "application/javascript": [
              "\n",
              "    async function download(id, filename, size) {\n",
              "      if (!google.colab.kernel.accessAllowed) {\n",
              "        return;\n",
              "      }\n",
              "      const div = document.createElement('div');\n",
              "      const label = document.createElement('label');\n",
              "      label.textContent = `Downloading \"${filename}\": `;\n",
              "      div.appendChild(label);\n",
              "      const progress = document.createElement('progress');\n",
              "      progress.max = size;\n",
              "      div.appendChild(progress);\n",
              "      document.body.appendChild(div);\n",
              "\n",
              "      const buffers = [];\n",
              "      let downloaded = 0;\n",
              "\n",
              "      const channel = await google.colab.kernel.comms.open(id);\n",
              "      // Send a message to notify the kernel that we're ready.\n",
              "      channel.send({})\n",
              "\n",
              "      for await (const message of channel.messages) {\n",
              "        // Send a message to notify the kernel that we're ready.\n",
              "        channel.send({})\n",
              "        if (message.buffers) {\n",
              "          for (const buffer of message.buffers) {\n",
              "            buffers.push(buffer);\n",
              "            downloaded += buffer.byteLength;\n",
              "            progress.value = downloaded;\n",
              "          }\n",
              "        }\n",
              "      }\n",
              "      const blob = new Blob(buffers, {type: 'application/binary'});\n",
              "      const a = document.createElement('a');\n",
              "      a.href = window.URL.createObjectURL(blob);\n",
              "      a.download = filename;\n",
              "      div.appendChild(a);\n",
              "      a.click();\n",
              "      div.remove();\n",
              "    }\n",
              "  "
            ],
            "text/plain": [
              "<IPython.core.display.Javascript object>"
            ]
          },
          "metadata": {
            "tags": []
          }
        },
        {
          "output_type": "display_data",
          "data": {
            "application/javascript": [
              "download(\"download_9d285e18-ce60-4488-9e79-0c453d4a6056\", \"lgb_fin1.csv\", 270890)"
            ],
            "text/plain": [
              "<IPython.core.display.Javascript object>"
            ]
          },
          "metadata": {
            "tags": []
          }
        }
      ]
    },
    {
      "cell_type": "code",
      "metadata": {
        "id": "3UbsFyX5KZjO"
      },
      "source": [
        ""
      ],
      "execution_count": null,
      "outputs": []
    },
    {
      "cell_type": "code",
      "metadata": {
        "id": "9OKnVUsaKZd1"
      },
      "source": [
        "train_proc1, test_proc1, features = split_df_and_get_features(df, train.shape[0])\n",
        "features1 = [c for c in df.columns if c not in [ID_COL, TARGET_COL]]\n",
        "cat_num_cols1 = [c for c in features1 if c not in ['title', 'tags', 'description', 'publish_date']]"
      ],
      "execution_count": 33,
      "outputs": []
    },
    {
      "cell_type": "code",
      "metadata": {
        "id": "rqKoD4nEBGQu",
        "outputId": "cc96b391-df68-4009-fe04-4d03c6b3024a",
        "colab": {
          "base_uri": "https://localhost:8080/",
          "height": 1000
        }
      },
      "source": [
        "clf = CatBoostRegressor(n_estimators = 10000,\n",
        "                       learning_rate = 0.05,\n",
        "                       rsm = 0.76, ## Analogous to colsample_bytree\n",
        "                       random_state=2054,\n",
        "                       )\n",
        "\n",
        "fit_params = {'verbose': 200, 'early_stopping_rounds': 200}\n",
        "\n",
        "cb_oofs, cb_preds, fi = run_gradient_boosting(clf, fit_params, train_proc, test_proc, cat_num_cols)"
      ],
      "execution_count": 64,
      "outputs": [
        {
          "output_type": "stream",
          "text": [
            "\n",
            "------------- Fold 1 -------------\n",
            "0:\tlearn: 1.8599750\ttest: 1.8523934\tbest: 1.8523934 (0)\ttotal: 16.6ms\tremaining: 2m 45s\n",
            "200:\tlearn: 0.5854381\ttest: 0.6143374\tbest: 0.6143374 (200)\ttotal: 3.24s\tremaining: 2m 38s\n",
            "400:\tlearn: 0.5141218\ttest: 0.5621136\tbest: 0.5621136 (400)\ttotal: 6.42s\tremaining: 2m 33s\n",
            "600:\tlearn: 0.4748727\ttest: 0.5383689\tbest: 0.5383689 (600)\ttotal: 9.57s\tremaining: 2m 29s\n",
            "800:\tlearn: 0.4467494\ttest: 0.5248516\tbest: 0.5248516 (800)\ttotal: 12.7s\tremaining: 2m 26s\n",
            "1000:\tlearn: 0.4253570\ttest: 0.5164813\tbest: 0.5164565 (999)\ttotal: 15.9s\tremaining: 2m 22s\n",
            "1200:\tlearn: 0.4090832\ttest: 0.5114284\tbest: 0.5114284 (1200)\ttotal: 19s\tremaining: 2m 18s\n",
            "1400:\tlearn: 0.3922588\ttest: 0.5063143\tbest: 0.5063143 (1400)\ttotal: 22.1s\tremaining: 2m 15s\n",
            "1600:\tlearn: 0.3774663\ttest: 0.5021801\tbest: 0.5021801 (1600)\ttotal: 25.3s\tremaining: 2m 12s\n",
            "1800:\tlearn: 0.3645991\ttest: 0.4984501\tbest: 0.4984428 (1799)\ttotal: 28.4s\tremaining: 2m 9s\n",
            "2000:\tlearn: 0.3524871\ttest: 0.4953731\tbest: 0.4953527 (1998)\ttotal: 31.5s\tremaining: 2m 6s\n",
            "2200:\tlearn: 0.3418327\ttest: 0.4932143\tbest: 0.4932143 (2200)\ttotal: 34.7s\tremaining: 2m 2s\n",
            "2400:\tlearn: 0.3318041\ttest: 0.4912228\tbest: 0.4912228 (2400)\ttotal: 37.9s\tremaining: 1m 59s\n",
            "2600:\tlearn: 0.3223508\ttest: 0.4896929\tbest: 0.4896929 (2600)\ttotal: 41s\tremaining: 1m 56s\n",
            "2800:\tlearn: 0.3133301\ttest: 0.4882062\tbest: 0.4882062 (2800)\ttotal: 44.1s\tremaining: 1m 53s\n",
            "3000:\tlearn: 0.3047053\ttest: 0.4871783\tbest: 0.4871325 (2995)\ttotal: 47.3s\tremaining: 1m 50s\n",
            "3200:\tlearn: 0.2968523\ttest: 0.4859908\tbest: 0.4859819 (3199)\ttotal: 50.4s\tremaining: 1m 47s\n",
            "3400:\tlearn: 0.2893607\ttest: 0.4849444\tbest: 0.4849059 (3391)\ttotal: 53.6s\tremaining: 1m 44s\n",
            "3600:\tlearn: 0.2827763\ttest: 0.4839189\tbest: 0.4839161 (3599)\ttotal: 56.7s\tremaining: 1m 40s\n",
            "3800:\tlearn: 0.2761910\ttest: 0.4828357\tbest: 0.4828210 (3796)\ttotal: 59.9s\tremaining: 1m 37s\n",
            "4000:\tlearn: 0.2697214\ttest: 0.4820585\tbest: 0.4820585 (4000)\ttotal: 1m 3s\tremaining: 1m 34s\n",
            "4200:\tlearn: 0.2637057\ttest: 0.4812581\tbest: 0.4812581 (4200)\ttotal: 1m 6s\tremaining: 1m 31s\n",
            "4400:\tlearn: 0.2581660\ttest: 0.4806232\tbest: 0.4806141 (4391)\ttotal: 1m 9s\tremaining: 1m 28s\n",
            "4600:\tlearn: 0.2525629\ttest: 0.4800787\tbest: 0.4800574 (4598)\ttotal: 1m 12s\tremaining: 1m 25s\n",
            "4800:\tlearn: 0.2474301\ttest: 0.4795532\tbest: 0.4795532 (4800)\ttotal: 1m 15s\tremaining: 1m 21s\n",
            "5000:\tlearn: 0.2424782\ttest: 0.4792013\tbest: 0.4791916 (4989)\ttotal: 1m 18s\tremaining: 1m 18s\n",
            "5200:\tlearn: 0.2373459\ttest: 0.4786947\tbest: 0.4786947 (5200)\ttotal: 1m 21s\tremaining: 1m 15s\n",
            "5400:\tlearn: 0.2323028\ttest: 0.4782370\tbest: 0.4782209 (5397)\ttotal: 1m 25s\tremaining: 1m 12s\n",
            "5600:\tlearn: 0.2277364\ttest: 0.4779436\tbest: 0.4779436 (5600)\ttotal: 1m 28s\tremaining: 1m 9s\n",
            "5800:\tlearn: 0.2234587\ttest: 0.4778164\tbest: 0.4777560 (5766)\ttotal: 1m 31s\tremaining: 1m 6s\n",
            "6000:\tlearn: 0.2191062\ttest: 0.4776432\tbest: 0.4776214 (5998)\ttotal: 1m 34s\tremaining: 1m 3s\n",
            "6200:\tlearn: 0.2150281\ttest: 0.4774358\tbest: 0.4774358 (6200)\ttotal: 1m 37s\tremaining: 59.9s\n",
            "6400:\tlearn: 0.2108311\ttest: 0.4772073\tbest: 0.4771910 (6395)\ttotal: 1m 40s\tremaining: 56.7s\n",
            "6600:\tlearn: 0.2067432\ttest: 0.4767876\tbest: 0.4767876 (6600)\ttotal: 1m 43s\tremaining: 53.5s\n",
            "6800:\tlearn: 0.2027549\ttest: 0.4764774\tbest: 0.4764668 (6794)\ttotal: 1m 47s\tremaining: 50.4s\n",
            "7000:\tlearn: 0.1987601\ttest: 0.4761973\tbest: 0.4761924 (6999)\ttotal: 1m 50s\tremaining: 47.4s\n",
            "7200:\tlearn: 0.1949503\ttest: 0.4760800\tbest: 0.4760530 (7191)\ttotal: 1m 53s\tremaining: 44.3s\n",
            "7400:\tlearn: 0.1914010\ttest: 0.4759970\tbest: 0.4759696 (7388)\ttotal: 1m 57s\tremaining: 41.1s\n",
            "7600:\tlearn: 0.1880248\ttest: 0.4759230\tbest: 0.4759165 (7595)\ttotal: 2m\tremaining: 37.9s\n",
            "7800:\tlearn: 0.1845901\ttest: 0.4757511\tbest: 0.4757203 (7776)\ttotal: 2m 3s\tremaining: 34.8s\n",
            "8000:\tlearn: 0.1812872\ttest: 0.4756876\tbest: 0.4756493 (7985)\ttotal: 2m 6s\tremaining: 31.6s\n",
            "8200:\tlearn: 0.1781253\ttest: 0.4754530\tbest: 0.4754526 (8199)\ttotal: 2m 9s\tremaining: 28.4s\n",
            "8400:\tlearn: 0.1750665\ttest: 0.4753301\tbest: 0.4753301 (8400)\ttotal: 2m 12s\tremaining: 25.3s\n",
            "8600:\tlearn: 0.1721318\ttest: 0.4753362\tbest: 0.4752878 (8414)\ttotal: 2m 16s\tremaining: 22.1s\n",
            "Stopped by overfitting detector  (200 iterations wait)\n",
            "\n",
            "bestTest = 0.4752877612\n",
            "bestIteration = 8414\n",
            "\n",
            "Shrink model to first 8415 iterations.\n",
            "\n",
            "AV metric score for validation set is 475.2877628892353\n",
            "\n",
            "------------- Fold 2 -------------\n",
            "0:\tlearn: 1.8550093\ttest: 1.8729394\tbest: 1.8729394 (0)\ttotal: 16.9ms\tremaining: 2m 48s\n",
            "200:\tlearn: 0.5848895\ttest: 0.6118356\tbest: 0.6118356 (200)\ttotal: 3.21s\tremaining: 2m 36s\n",
            "400:\tlearn: 0.5115941\ttest: 0.5573563\tbest: 0.5573563 (400)\ttotal: 6.4s\tremaining: 2m 33s\n",
            "600:\tlearn: 0.4735413\ttest: 0.5350516\tbest: 0.5350516 (600)\ttotal: 9.5s\tremaining: 2m 28s\n",
            "800:\tlearn: 0.4465232\ttest: 0.5222553\tbest: 0.5222553 (800)\ttotal: 12.6s\tremaining: 2m 25s\n",
            "1000:\tlearn: 0.4239525\ttest: 0.5133334\tbest: 0.5133334 (1000)\ttotal: 15.8s\tremaining: 2m 21s\n",
            "1200:\tlearn: 0.4051563\ttest: 0.5063515\tbest: 0.5063515 (1200)\ttotal: 18.9s\tremaining: 2m 18s\n",
            "1400:\tlearn: 0.3894023\ttest: 0.5015036\tbest: 0.5015036 (1400)\ttotal: 22.1s\tremaining: 2m 15s\n",
            "1600:\tlearn: 0.3747211\ttest: 0.4977006\tbest: 0.4976946 (1599)\ttotal: 25.2s\tremaining: 2m 12s\n",
            "1800:\tlearn: 0.3620147\ttest: 0.4947209\tbest: 0.4947118 (1798)\ttotal: 28.3s\tremaining: 2m 8s\n",
            "2000:\tlearn: 0.3502186\ttest: 0.4925000\tbest: 0.4925000 (2000)\ttotal: 31.4s\tremaining: 2m 5s\n",
            "2200:\tlearn: 0.3389591\ttest: 0.4899567\tbest: 0.4899567 (2200)\ttotal: 34.5s\tremaining: 2m 2s\n",
            "2400:\tlearn: 0.3289178\ttest: 0.4878336\tbest: 0.4878336 (2400)\ttotal: 37.7s\tremaining: 1m 59s\n",
            "2600:\tlearn: 0.3195052\ttest: 0.4858485\tbest: 0.4858261 (2597)\ttotal: 40.8s\tremaining: 1m 56s\n",
            "2800:\tlearn: 0.3103991\ttest: 0.4843249\tbest: 0.4843249 (2800)\ttotal: 43.9s\tremaining: 1m 52s\n",
            "3000:\tlearn: 0.3021040\ttest: 0.4830252\tbest: 0.4830252 (3000)\ttotal: 47s\tremaining: 1m 49s\n",
            "3200:\tlearn: 0.2940587\ttest: 0.4820017\tbest: 0.4820017 (3200)\ttotal: 50.2s\tremaining: 1m 46s\n",
            "3400:\tlearn: 0.2868637\ttest: 0.4810882\tbest: 0.4810818 (3392)\ttotal: 53.3s\tremaining: 1m 43s\n",
            "3600:\tlearn: 0.2798342\ttest: 0.4801112\tbest: 0.4800912 (3578)\ttotal: 56.4s\tremaining: 1m 40s\n",
            "3800:\tlearn: 0.2729559\ttest: 0.4793554\tbest: 0.4793554 (3800)\ttotal: 59.6s\tremaining: 1m 37s\n",
            "4000:\tlearn: 0.2667564\ttest: 0.4783794\tbest: 0.4783508 (3999)\ttotal: 1m 2s\tremaining: 1m 34s\n",
            "4200:\tlearn: 0.2604024\ttest: 0.4779342\tbest: 0.4779186 (4195)\ttotal: 1m 5s\tremaining: 1m 30s\n",
            "4400:\tlearn: 0.2542416\ttest: 0.4773936\tbest: 0.4773922 (4392)\ttotal: 1m 9s\tremaining: 1m 27s\n",
            "4600:\tlearn: 0.2483962\ttest: 0.4764826\tbest: 0.4764813 (4596)\ttotal: 1m 12s\tremaining: 1m 24s\n",
            "4800:\tlearn: 0.2425688\ttest: 0.4759809\tbest: 0.4759430 (4784)\ttotal: 1m 15s\tremaining: 1m 21s\n",
            "5000:\tlearn: 0.2372902\ttest: 0.4755893\tbest: 0.4755681 (4950)\ttotal: 1m 19s\tremaining: 1m 19s\n",
            "5200:\tlearn: 0.2324424\ttest: 0.4750655\tbest: 0.4750625 (5193)\ttotal: 1m 25s\tremaining: 1m 18s\n",
            "5400:\tlearn: 0.2276663\ttest: 0.4743937\tbest: 0.4743767 (5366)\ttotal: 1m 28s\tremaining: 1m 15s\n",
            "5600:\tlearn: 0.2232108\ttest: 0.4741818\tbest: 0.4741779 (5589)\ttotal: 1m 31s\tremaining: 1m 11s\n",
            "5800:\tlearn: 0.2185579\ttest: 0.4739473\tbest: 0.4738921 (5766)\ttotal: 1m 34s\tremaining: 1m 8s\n",
            "6000:\tlearn: 0.2146962\ttest: 0.4735892\tbest: 0.4735892 (6000)\ttotal: 1m 37s\tremaining: 1m 5s\n",
            "6200:\tlearn: 0.2108710\ttest: 0.4734701\tbest: 0.4734168 (6148)\ttotal: 1m 40s\tremaining: 1m 1s\n",
            "6400:\tlearn: 0.2071472\ttest: 0.4732852\tbest: 0.4732659 (6399)\ttotal: 1m 43s\tremaining: 58.4s\n",
            "6600:\tlearn: 0.2035681\ttest: 0.4731110\tbest: 0.4731110 (6600)\ttotal: 1m 47s\tremaining: 55.1s\n",
            "6800:\tlearn: 0.1998753\ttest: 0.4729893\tbest: 0.4729699 (6794)\ttotal: 1m 50s\tremaining: 51.9s\n",
            "7000:\tlearn: 0.1962942\ttest: 0.4727657\tbest: 0.4727657 (7000)\ttotal: 1m 53s\tremaining: 48.6s\n",
            "7200:\tlearn: 0.1930649\ttest: 0.4726631\tbest: 0.4726540 (7177)\ttotal: 1m 56s\tremaining: 45.3s\n",
            "7400:\tlearn: 0.1899696\ttest: 0.4724007\tbest: 0.4723984 (7399)\ttotal: 1m 59s\tremaining: 42s\n",
            "7600:\tlearn: 0.1866901\ttest: 0.4724165\tbest: 0.4723697 (7534)\ttotal: 2m 2s\tremaining: 38.7s\n",
            "7800:\tlearn: 0.1834398\ttest: 0.4721410\tbest: 0.4721410 (7800)\ttotal: 2m 5s\tremaining: 35.5s\n",
            "8000:\tlearn: 0.1803001\ttest: 0.4720720\tbest: 0.4720576 (7884)\ttotal: 2m 8s\tremaining: 32.2s\n",
            "8200:\tlearn: 0.1773668\ttest: 0.4720374\tbest: 0.4720124 (8055)\ttotal: 2m 12s\tremaining: 29s\n",
            "8400:\tlearn: 0.1748378\ttest: 0.4719273\tbest: 0.4719264 (8397)\ttotal: 2m 15s\tremaining: 25.7s\n",
            "8600:\tlearn: 0.1719940\ttest: 0.4718053\tbest: 0.4717688 (8580)\ttotal: 2m 18s\tremaining: 22.5s\n",
            "8800:\tlearn: 0.1690980\ttest: 0.4715877\tbest: 0.4715871 (8799)\ttotal: 2m 21s\tremaining: 19.3s\n",
            "9000:\tlearn: 0.1663739\ttest: 0.4714653\tbest: 0.4714520 (8996)\ttotal: 2m 24s\tremaining: 16s\n",
            "9200:\tlearn: 0.1637875\ttest: 0.4714309\tbest: 0.4713919 (9068)\ttotal: 2m 27s\tremaining: 12.8s\n",
            "9400:\tlearn: 0.1611746\ttest: 0.4712797\tbest: 0.4712517 (9387)\ttotal: 2m 30s\tremaining: 9.61s\n",
            "9600:\tlearn: 0.1585037\ttest: 0.4711935\tbest: 0.4711848 (9597)\ttotal: 2m 34s\tremaining: 6.4s\n",
            "9800:\tlearn: 0.1559382\ttest: 0.4710805\tbest: 0.4710579 (9784)\ttotal: 2m 37s\tremaining: 3.19s\n",
            "9999:\tlearn: 0.1534814\ttest: 0.4709345\tbest: 0.4709219 (9988)\ttotal: 2m 40s\tremaining: 0us\n",
            "\n",
            "bestTest = 0.4709218576\n",
            "bestIteration = 9988\n",
            "\n",
            "Shrink model to first 9989 iterations.\n",
            "\n",
            "AV metric score for validation set is 470.92185653530464\n",
            "\n",
            "------------- Fold 3 -------------\n",
            "0:\tlearn: 1.8614070\ttest: 1.8459194\tbest: 1.8459194 (0)\ttotal: 16.8ms\tremaining: 2m 48s\n",
            "200:\tlearn: 0.5877763\ttest: 0.6013004\tbest: 0.6013004 (200)\ttotal: 3.41s\tremaining: 2m 46s\n",
            "400:\tlearn: 0.5141296\ttest: 0.5445818\tbest: 0.5445818 (400)\ttotal: 6.86s\tremaining: 2m 44s\n",
            "600:\tlearn: 0.4747645\ttest: 0.5216696\tbest: 0.5216696 (600)\ttotal: 10.5s\tremaining: 2m 44s\n",
            "800:\tlearn: 0.4474448\ttest: 0.5093966\tbest: 0.5093966 (800)\ttotal: 13.9s\tremaining: 2m 40s\n",
            "1000:\tlearn: 0.4254980\ttest: 0.5005116\tbest: 0.5005116 (1000)\ttotal: 17.1s\tremaining: 2m 33s\n",
            "1200:\tlearn: 0.4063295\ttest: 0.4942598\tbest: 0.4942598 (1200)\ttotal: 20.2s\tremaining: 2m 27s\n",
            "1400:\tlearn: 0.3901017\ttest: 0.4896464\tbest: 0.4896464 (1400)\ttotal: 23.4s\tremaining: 2m 23s\n",
            "1600:\tlearn: 0.3755489\ttest: 0.4856684\tbest: 0.4856679 (1599)\ttotal: 26.5s\tremaining: 2m 18s\n",
            "1800:\tlearn: 0.3615578\ttest: 0.4823635\tbest: 0.4822996 (1797)\ttotal: 29.7s\tremaining: 2m 15s\n",
            "2000:\tlearn: 0.3490577\ttest: 0.4799450\tbest: 0.4799312 (1995)\ttotal: 32.9s\tremaining: 2m 11s\n",
            "2200:\tlearn: 0.3386229\ttest: 0.4779988\tbest: 0.4779988 (2200)\ttotal: 36s\tremaining: 2m 7s\n",
            "2400:\tlearn: 0.3284963\ttest: 0.4763140\tbest: 0.4762848 (2398)\ttotal: 39.1s\tremaining: 2m 3s\n",
            "2600:\tlearn: 0.3192124\ttest: 0.4745977\tbest: 0.4745977 (2600)\ttotal: 42.3s\tremaining: 2m\n",
            "2800:\tlearn: 0.3105495\ttest: 0.4733392\tbest: 0.4733392 (2800)\ttotal: 45.4s\tremaining: 1m 56s\n",
            "3000:\tlearn: 0.3023329\ttest: 0.4725630\tbest: 0.4725437 (2983)\ttotal: 48.6s\tremaining: 1m 53s\n",
            "3200:\tlearn: 0.2946837\ttest: 0.4717162\tbest: 0.4717126 (3198)\ttotal: 51.7s\tremaining: 1m 49s\n",
            "3400:\tlearn: 0.2875979\ttest: 0.4703870\tbest: 0.4703870 (3400)\ttotal: 54.9s\tremaining: 1m 46s\n",
            "3600:\tlearn: 0.2809195\ttest: 0.4697928\tbest: 0.4697928 (3600)\ttotal: 58s\tremaining: 1m 43s\n",
            "3800:\tlearn: 0.2740503\ttest: 0.4693677\tbest: 0.4693144 (3756)\ttotal: 1m 1s\tremaining: 1m 39s\n",
            "4000:\tlearn: 0.2674558\ttest: 0.4686374\tbest: 0.4686104 (3996)\ttotal: 1m 4s\tremaining: 1m 36s\n",
            "4200:\tlearn: 0.2617439\ttest: 0.4680952\tbest: 0.4680932 (4199)\ttotal: 1m 7s\tremaining: 1m 33s\n",
            "4400:\tlearn: 0.2564234\ttest: 0.4675229\tbest: 0.4675078 (4398)\ttotal: 1m 10s\tremaining: 1m 29s\n",
            "4600:\tlearn: 0.2508113\ttest: 0.4672098\tbest: 0.4671908 (4590)\ttotal: 1m 13s\tremaining: 1m 26s\n",
            "4800:\tlearn: 0.2454935\ttest: 0.4666268\tbest: 0.4666268 (4800)\ttotal: 1m 16s\tremaining: 1m 23s\n",
            "5000:\tlearn: 0.2403407\ttest: 0.4661815\tbest: 0.4661322 (4946)\ttotal: 1m 20s\tremaining: 1m 20s\n",
            "5200:\tlearn: 0.2352397\ttest: 0.4658113\tbest: 0.4658113 (5200)\ttotal: 1m 23s\tremaining: 1m 16s\n",
            "5400:\tlearn: 0.2305628\ttest: 0.4654623\tbest: 0.4654623 (5400)\ttotal: 1m 26s\tremaining: 1m 13s\n",
            "5600:\tlearn: 0.2259559\ttest: 0.4652077\tbest: 0.4651855 (5531)\ttotal: 1m 29s\tremaining: 1m 10s\n",
            "5800:\tlearn: 0.2211374\ttest: 0.4647568\tbest: 0.4647468 (5798)\ttotal: 1m 32s\tremaining: 1m 7s\n",
            "6000:\tlearn: 0.2168730\ttest: 0.4646491\tbest: 0.4646491 (6000)\ttotal: 1m 35s\tremaining: 1m 3s\n",
            "6200:\tlearn: 0.2125981\ttest: 0.4644384\tbest: 0.4643869 (6158)\ttotal: 1m 38s\tremaining: 1m\n",
            "6400:\tlearn: 0.2085412\ttest: 0.4642285\tbest: 0.4642233 (6383)\ttotal: 1m 42s\tremaining: 57.4s\n",
            "6600:\tlearn: 0.2045182\ttest: 0.4640383\tbest: 0.4640383 (6600)\ttotal: 1m 45s\tremaining: 54.2s\n",
            "6800:\tlearn: 0.2006254\ttest: 0.4637735\tbest: 0.4637697 (6739)\ttotal: 1m 48s\tremaining: 51s\n",
            "7000:\tlearn: 0.1968185\ttest: 0.4633425\tbest: 0.4633425 (7000)\ttotal: 1m 51s\tremaining: 47.8s\n",
            "7200:\tlearn: 0.1932473\ttest: 0.4631783\tbest: 0.4631510 (7164)\ttotal: 1m 54s\tremaining: 44.6s\n",
            "7400:\tlearn: 0.1896971\ttest: 0.4629274\tbest: 0.4628982 (7392)\ttotal: 1m 58s\tremaining: 41.6s\n",
            "7600:\tlearn: 0.1864644\ttest: 0.4629315\tbest: 0.4628963 (7423)\ttotal: 2m 2s\tremaining: 38.5s\n",
            "Stopped by overfitting detector  (200 iterations wait)\n",
            "\n",
            "bestTest = 0.4628962979\n",
            "bestIteration = 7423\n",
            "\n",
            "Shrink model to first 7424 iterations.\n",
            "\n",
            "AV metric score for validation set is 462.8962982520872\n",
            "\n",
            "------------- Fold 4 -------------\n",
            "0:\tlearn: 1.8587265\ttest: 1.8575690\tbest: 1.8575690 (0)\ttotal: 16.5ms\tremaining: 2m 44s\n",
            "200:\tlearn: 0.5861246\ttest: 0.6001797\tbest: 0.6001797 (200)\ttotal: 3.24s\tremaining: 2m 37s\n",
            "400:\tlearn: 0.5142318\ttest: 0.5468896\tbest: 0.5468896 (400)\ttotal: 6.43s\tremaining: 2m 34s\n",
            "600:\tlearn: 0.4749941\ttest: 0.5237949\tbest: 0.5237949 (600)\ttotal: 9.69s\tremaining: 2m 31s\n",
            "800:\tlearn: 0.4475366\ttest: 0.5097539\tbest: 0.5097539 (800)\ttotal: 12.9s\tremaining: 2m 27s\n",
            "1000:\tlearn: 0.4256375\ttest: 0.5005326\tbest: 0.5005326 (1000)\ttotal: 16.1s\tremaining: 2m 24s\n",
            "1200:\tlearn: 0.4089186\ttest: 0.4942290\tbest: 0.4942055 (1198)\ttotal: 19.2s\tremaining: 2m 20s\n",
            "1400:\tlearn: 0.3918910\ttest: 0.4888707\tbest: 0.4888707 (1400)\ttotal: 22.4s\tremaining: 2m 17s\n",
            "1600:\tlearn: 0.3772881\ttest: 0.4844155\tbest: 0.4844097 (1598)\ttotal: 25.6s\tremaining: 2m 14s\n",
            "1800:\tlearn: 0.3639035\ttest: 0.4805690\tbest: 0.4805690 (1800)\ttotal: 28.8s\tremaining: 2m 10s\n",
            "2000:\tlearn: 0.3516795\ttest: 0.4776510\tbest: 0.4776476 (1999)\ttotal: 31.9s\tremaining: 2m 7s\n",
            "2200:\tlearn: 0.3405862\ttest: 0.4754391\tbest: 0.4754119 (2197)\ttotal: 35.2s\tremaining: 2m 4s\n",
            "2400:\tlearn: 0.3307138\ttest: 0.4734172\tbest: 0.4734172 (2400)\ttotal: 38.3s\tremaining: 2m 1s\n",
            "2600:\tlearn: 0.3211904\ttest: 0.4715339\tbest: 0.4715339 (2600)\ttotal: 41.5s\tremaining: 1m 57s\n",
            "2800:\tlearn: 0.3116215\ttest: 0.4697547\tbest: 0.4697547 (2800)\ttotal: 44.7s\tremaining: 1m 54s\n",
            "3000:\tlearn: 0.3025929\ttest: 0.4681039\tbest: 0.4681039 (3000)\ttotal: 47.8s\tremaining: 1m 51s\n",
            "3200:\tlearn: 0.2945231\ttest: 0.4670989\tbest: 0.4670937 (3198)\ttotal: 50.9s\tremaining: 1m 48s\n",
            "3400:\tlearn: 0.2872125\ttest: 0.4658588\tbest: 0.4658588 (3400)\ttotal: 54s\tremaining: 1m 44s\n",
            "3600:\tlearn: 0.2805340\ttest: 0.4647060\tbest: 0.4647005 (3593)\ttotal: 57.1s\tremaining: 1m 41s\n",
            "3800:\tlearn: 0.2738701\ttest: 0.4637226\tbest: 0.4637211 (3794)\ttotal: 1m\tremaining: 1m 38s\n",
            "4000:\tlearn: 0.2671721\ttest: 0.4627832\tbest: 0.4627754 (3998)\ttotal: 1m 3s\tremaining: 1m 35s\n",
            "4200:\tlearn: 0.2614145\ttest: 0.4623188\tbest: 0.4623025 (4196)\ttotal: 1m 6s\tremaining: 1m 32s\n",
            "4400:\tlearn: 0.2555253\ttest: 0.4616136\tbest: 0.4616136 (4400)\ttotal: 1m 9s\tremaining: 1m 28s\n",
            "4600:\tlearn: 0.2498916\ttest: 0.4608854\tbest: 0.4608852 (4599)\ttotal: 1m 12s\tremaining: 1m 25s\n",
            "4800:\tlearn: 0.2444420\ttest: 0.4603179\tbest: 0.4603179 (4800)\ttotal: 1m 16s\tremaining: 1m 22s\n",
            "5000:\tlearn: 0.2390128\ttest: 0.4596772\tbest: 0.4596772 (5000)\ttotal: 1m 19s\tremaining: 1m 19s\n",
            "5200:\tlearn: 0.2338470\ttest: 0.4591606\tbest: 0.4591462 (5199)\ttotal: 1m 22s\tremaining: 1m 16s\n",
            "5400:\tlearn: 0.2287652\ttest: 0.4587621\tbest: 0.4587418 (5394)\ttotal: 1m 25s\tremaining: 1m 13s\n",
            "5600:\tlearn: 0.2241356\ttest: 0.4584248\tbest: 0.4584147 (5599)\ttotal: 1m 28s\tremaining: 1m 9s\n",
            "5800:\tlearn: 0.2196499\ttest: 0.4580242\tbest: 0.4579680 (5766)\ttotal: 1m 32s\tremaining: 1m 6s\n",
            "6000:\tlearn: 0.2151736\ttest: 0.4575994\tbest: 0.4575994 (6000)\ttotal: 1m 35s\tremaining: 1m 3s\n",
            "6200:\tlearn: 0.2109226\ttest: 0.4572990\tbest: 0.4572903 (6187)\ttotal: 1m 38s\tremaining: 1m\n",
            "6400:\tlearn: 0.2067438\ttest: 0.4569940\tbest: 0.4569516 (6333)\ttotal: 1m 41s\tremaining: 57.1s\n",
            "6600:\tlearn: 0.2027383\ttest: 0.4566113\tbest: 0.4565913 (6535)\ttotal: 1m 44s\tremaining: 53.9s\n",
            "6800:\tlearn: 0.1990513\ttest: 0.4563758\tbest: 0.4563671 (6798)\ttotal: 1m 47s\tremaining: 50.7s\n",
            "7000:\tlearn: 0.1955422\ttest: 0.4560652\tbest: 0.4560638 (6998)\ttotal: 1m 50s\tremaining: 47.5s\n",
            "7200:\tlearn: 0.1918749\ttest: 0.4559438\tbest: 0.4559121 (7130)\ttotal: 1m 54s\tremaining: 44.4s\n",
            "7400:\tlearn: 0.1883636\ttest: 0.4557339\tbest: 0.4556921 (7391)\ttotal: 1m 57s\tremaining: 41.2s\n",
            "7600:\tlearn: 0.1850677\ttest: 0.4555635\tbest: 0.4555635 (7600)\ttotal: 2m\tremaining: 38s\n",
            "8000:\tlearn: 0.1786886\ttest: 0.4552735\tbest: 0.4552699 (7994)\ttotal: 2m 6s\tremaining: 31.7s\n",
            "8200:\tlearn: 0.1756114\ttest: 0.4551908\tbest: 0.4551218 (8163)\ttotal: 2m 9s\tremaining: 28.5s\n",
            "8400:\tlearn: 0.1726619\ttest: 0.4551329\tbest: 0.4550808 (8385)\ttotal: 2m 13s\tremaining: 25.3s\n",
            "8600:\tlearn: 0.1697881\ttest: 0.4550481\tbest: 0.4550439 (8554)\ttotal: 2m 16s\tremaining: 22.2s\n",
            "8800:\tlearn: 0.1670745\ttest: 0.4548649\tbest: 0.4548537 (8791)\ttotal: 2m 19s\tremaining: 19s\n",
            "9000:\tlearn: 0.1643559\ttest: 0.4547794\tbest: 0.4547637 (8987)\ttotal: 2m 22s\tremaining: 15.8s\n",
            "9200:\tlearn: 0.1616421\ttest: 0.4547194\tbest: 0.4547166 (9060)\ttotal: 2m 25s\tremaining: 12.7s\n",
            "9400:\tlearn: 0.1589199\ttest: 0.4546610\tbest: 0.4546610 (9400)\ttotal: 2m 28s\tremaining: 9.48s\n",
            "9600:\tlearn: 0.1564819\ttest: 0.4545436\tbest: 0.4545436 (9600)\ttotal: 2m 31s\tremaining: 6.32s\n",
            "9800:\tlearn: 0.1539088\ttest: 0.4545743\tbest: 0.4545133 (9636)\ttotal: 2m 35s\tremaining: 3.15s\n",
            "Stopped by overfitting detector  (200 iterations wait)\n",
            "\n",
            "bestTest = 0.4545133416\n",
            "bestIteration = 9636\n",
            "\n",
            "Shrink model to first 9637 iterations.\n",
            "\n",
            "AV metric score for validation set is 454.5133433161348\n",
            "\n",
            "------------- Fold 5 -------------\n",
            "0:\tlearn: 1.8571361\ttest: 1.8639142\tbest: 1.8639142 (0)\ttotal: 16.3ms\tremaining: 2m 42s\n",
            "200:\tlearn: 0.5868391\ttest: 0.6096319\tbest: 0.6096319 (200)\ttotal: 3.22s\tremaining: 2m 36s\n",
            "400:\tlearn: 0.5118092\ttest: 0.5564366\tbest: 0.5564366 (400)\ttotal: 6.41s\tremaining: 2m 33s\n",
            "600:\tlearn: 0.4720499\ttest: 0.5338578\tbest: 0.5338578 (600)\ttotal: 9.6s\tremaining: 2m 30s\n",
            "800:\tlearn: 0.4447983\ttest: 0.5211099\tbest: 0.5211099 (800)\ttotal: 12.8s\tremaining: 2m 26s\n",
            "1000:\tlearn: 0.4230314\ttest: 0.5124207\tbest: 0.5124207 (1000)\ttotal: 15.9s\tremaining: 2m 23s\n",
            "1200:\tlearn: 0.4040307\ttest: 0.5058052\tbest: 0.5058052 (1200)\ttotal: 19.1s\tremaining: 2m 20s\n",
            "1400:\tlearn: 0.3887282\ttest: 0.5006311\tbest: 0.5006131 (1399)\ttotal: 22.3s\tremaining: 2m 16s\n",
            "1600:\tlearn: 0.3745727\ttest: 0.4965128\tbest: 0.4965086 (1599)\ttotal: 25.4s\tremaining: 2m 13s\n",
            "1800:\tlearn: 0.3617763\ttest: 0.4937957\tbest: 0.4937693 (1799)\ttotal: 28.6s\tremaining: 2m 10s\n",
            "2000:\tlearn: 0.3504146\ttest: 0.4912317\tbest: 0.4912317 (2000)\ttotal: 31.8s\tremaining: 2m 6s\n",
            "2200:\tlearn: 0.3393609\ttest: 0.4893027\tbest: 0.4893027 (2200)\ttotal: 35.1s\tremaining: 2m 4s\n",
            "2400:\tlearn: 0.3297215\ttest: 0.4877998\tbest: 0.4877866 (2398)\ttotal: 38.8s\tremaining: 2m 2s\n",
            "2600:\tlearn: 0.3201731\ttest: 0.4860933\tbest: 0.4860933 (2600)\ttotal: 42.5s\tremaining: 2m\n",
            "2800:\tlearn: 0.3115920\ttest: 0.4845050\tbest: 0.4845050 (2800)\ttotal: 45.7s\tremaining: 1m 57s\n",
            "3000:\tlearn: 0.3027646\ttest: 0.4833643\tbest: 0.4833635 (2999)\ttotal: 48.9s\tremaining: 1m 53s\n",
            "3200:\tlearn: 0.2949108\ttest: 0.4824367\tbest: 0.4823977 (3187)\ttotal: 52.1s\tremaining: 1m 50s\n",
            "3400:\tlearn: 0.2876374\ttest: 0.4816765\tbest: 0.4816315 (3396)\ttotal: 55.2s\tremaining: 1m 47s\n",
            "3600:\tlearn: 0.2808083\ttest: 0.4811376\tbest: 0.4811003 (3589)\ttotal: 58.3s\tremaining: 1m 43s\n",
            "3800:\tlearn: 0.2740222\ttest: 0.4809587\tbest: 0.4808663 (3728)\ttotal: 1m 1s\tremaining: 1m 40s\n",
            "4000:\tlearn: 0.2674146\ttest: 0.4803413\tbest: 0.4803286 (3997)\ttotal: 1m 4s\tremaining: 1m 36s\n",
            "4200:\tlearn: 0.2614491\ttest: 0.4799170\tbest: 0.4799001 (4198)\ttotal: 1m 7s\tremaining: 1m 33s\n",
            "4400:\tlearn: 0.2554600\ttest: 0.4794723\tbest: 0.4794723 (4400)\ttotal: 1m 10s\tremaining: 1m 30s\n",
            "4600:\tlearn: 0.2499262\ttest: 0.4791717\tbest: 0.4791376 (4580)\ttotal: 1m 14s\tremaining: 1m 26s\n",
            "4800:\tlearn: 0.2441343\ttest: 0.4789212\tbest: 0.4789161 (4798)\ttotal: 1m 17s\tremaining: 1m 23s\n",
            "5000:\tlearn: 0.2392593\ttest: 0.4784894\tbest: 0.4784575 (4974)\ttotal: 1m 20s\tremaining: 1m 20s\n",
            "5200:\tlearn: 0.2341986\ttest: 0.4784181\tbest: 0.4783326 (5154)\ttotal: 1m 23s\tremaining: 1m 17s\n",
            "5400:\tlearn: 0.2297147\ttest: 0.4780650\tbest: 0.4780488 (5374)\ttotal: 1m 26s\tremaining: 1m 13s\n",
            "5600:\tlearn: 0.2253859\ttest: 0.4777482\tbest: 0.4777482 (5600)\ttotal: 1m 30s\tremaining: 1m 10s\n",
            "5800:\tlearn: 0.2207380\ttest: 0.4773922\tbest: 0.4773877 (5799)\ttotal: 1m 33s\tremaining: 1m 7s\n",
            "6000:\tlearn: 0.2162458\ttest: 0.4770507\tbest: 0.4770455 (5988)\ttotal: 1m 36s\tremaining: 1m 4s\n",
            "6200:\tlearn: 0.2121717\ttest: 0.4766728\tbest: 0.4766728 (6200)\ttotal: 1m 39s\tremaining: 1m 1s\n",
            "6400:\tlearn: 0.2079688\ttest: 0.4764110\tbest: 0.4763651 (6389)\ttotal: 1m 42s\tremaining: 57.8s\n",
            "6600:\tlearn: 0.2040578\ttest: 0.4763273\tbest: 0.4762804 (6493)\ttotal: 1m 46s\tremaining: 54.6s\n",
            "6800:\tlearn: 0.2001849\ttest: 0.4762121\tbest: 0.4761870 (6774)\ttotal: 1m 49s\tremaining: 51.4s\n",
            "7000:\tlearn: 0.1964286\ttest: 0.4761602\tbest: 0.4761099 (6986)\ttotal: 1m 52s\tremaining: 48.1s\n",
            "7200:\tlearn: 0.1930405\ttest: 0.4759636\tbest: 0.4759162 (7172)\ttotal: 1m 55s\tremaining: 44.9s\n",
            "7400:\tlearn: 0.1894973\ttest: 0.4757870\tbest: 0.4757870 (7400)\ttotal: 1m 58s\tremaining: 41.7s\n",
            "7600:\tlearn: 0.1861700\ttest: 0.4756256\tbest: 0.4756054 (7588)\ttotal: 2m 1s\tremaining: 38.5s\n",
            "7800:\tlearn: 0.1830182\ttest: 0.4755939\tbest: 0.4755728 (7789)\ttotal: 2m 4s\tremaining: 35.2s\n",
            "8000:\tlearn: 0.1798390\ttest: 0.4755038\tbest: 0.4754948 (7977)\ttotal: 2m 8s\tremaining: 32s\n",
            "8200:\tlearn: 0.1767212\ttest: 0.4754106\tbest: 0.4753901 (8164)\ttotal: 2m 11s\tremaining: 28.8s\n",
            "8400:\tlearn: 0.1736059\ttest: 0.4753471\tbest: 0.4753462 (8398)\ttotal: 2m 14s\tremaining: 25.6s\n",
            "8600:\tlearn: 0.1709478\ttest: 0.4753100\tbest: 0.4752795 (8577)\ttotal: 2m 17s\tremaining: 22.4s\n",
            "Stopped by overfitting detector  (200 iterations wait)\n",
            "\n",
            "bestTest = 0.4752794856\n",
            "bestIteration = 8577\n",
            "\n",
            "Shrink model to first 8578 iterations.\n",
            "\n",
            "AV metric score for validation set is 475.2794891723363\n",
            "\n",
            "\n",
            "AV metric for oofs is 467.84894006972536\n"
          ],
          "name": "stdout"
        },
        {
          "output_type": "display_data",
          "data": {
            "image/png": "[encoded data removed]",
            "text/plain": [
              "<Figure size 864x432 with 1 Axes>"
            ]
          },
          "metadata": {
            "tags": [],
            "needs_background": "light"
          }
        }
      ]
    },
    {
      "cell_type": "code",
      "metadata": {
        "id": "aojonCQ4VIiw"
      },
      "source": [
        "lr_train['cb1'] = cb_oofs\n",
        "lr_test['cb1'] = cb_preds"
      ],
      "execution_count": 65,
      "outputs": []
    },
    {
      "cell_type": "code",
      "metadata": {
        "id": "-n2cE0j8_VAW",
        "outputId": "e16162bc-0a31-4c44-9d0a-c6ccae30cddd",
        "colab": {
          "base_uri": "https://localhost:8080/",
          "height": 1000
        }
      },
      "source": [
        "clf = CatBoostRegressor(n_estimators = 10000,\n",
        "                       learning_rate = 0.05,\n",
        "                       rsm = 0.76, ## Analogous to colsample_bytree\n",
        "                       random_state=2054,\n",
        "                       )\n",
        "\n",
        "fit_params = {'verbose': 200, 'early_stopping_rounds': 200}\n",
        "\n",
        "cb_oofs1, cb_preds1, fi = run_gradient_boosting(clf, fit_params, train_proc1, test_proc1, cat_num_cols1)"
      ],
      "execution_count": 34,
      "outputs": [
        {
          "output_type": "stream",
          "text": [
            "\n",
            "------------- Fold 1 -------------\n",
            "0:\tlearn: 1.8616808\ttest: 1.8540389\tbest: 1.8540389 (0)\ttotal: 18.3ms\tremaining: 3m 3s\n",
            "200:\tlearn: 0.5859991\ttest: 0.6152616\tbest: 0.6152616 (200)\ttotal: 3.27s\tremaining: 2m 39s\n",
            "400:\tlearn: 0.5126930\ttest: 0.5605731\tbest: 0.5605731 (400)\ttotal: 6.55s\tremaining: 2m 36s\n",
            "600:\tlearn: 0.4755802\ttest: 0.5397131\tbest: 0.5397131 (600)\ttotal: 10.3s\tremaining: 2m 41s\n",
            "800:\tlearn: 0.4481497\ttest: 0.5250569\tbest: 0.5250569 (800)\ttotal: 14.1s\tremaining: 2m 42s\n",
            "1000:\tlearn: 0.4264744\ttest: 0.5153919\tbest: 0.5153919 (1000)\ttotal: 17.3s\tremaining: 2m 35s\n",
            "1200:\tlearn: 0.4084748\ttest: 0.5093803\tbest: 0.5093608 (1191)\ttotal: 20.5s\tremaining: 2m 30s\n",
            "1400:\tlearn: 0.3928750\ttest: 0.5043395\tbest: 0.5043395 (1400)\ttotal: 23.7s\tremaining: 2m 25s\n",
            "1600:\tlearn: 0.3779429\ttest: 0.5002370\tbest: 0.5002370 (1600)\ttotal: 26.9s\tremaining: 2m 21s\n",
            "1800:\tlearn: 0.3649000\ttest: 0.4964917\tbest: 0.4964742 (1799)\ttotal: 30.1s\tremaining: 2m 16s\n",
            "2000:\tlearn: 0.3530061\ttest: 0.4935465\tbest: 0.4935465 (2000)\ttotal: 33.2s\tremaining: 2m 12s\n",
            "2200:\tlearn: 0.3420931\ttest: 0.4910030\tbest: 0.4910013 (2198)\ttotal: 36.4s\tremaining: 2m 8s\n",
            "2400:\tlearn: 0.3318976\ttest: 0.4891815\tbest: 0.4891815 (2400)\ttotal: 39.6s\tremaining: 2m 5s\n",
            "2600:\tlearn: 0.3220692\ttest: 0.4869635\tbest: 0.4869566 (2599)\ttotal: 42.7s\tremaining: 2m 1s\n",
            "2800:\tlearn: 0.3129752\ttest: 0.4856183\tbest: 0.4855750 (2798)\ttotal: 46s\tremaining: 1m 58s\n",
            "3000:\tlearn: 0.3049162\ttest: 0.4842383\tbest: 0.4841838 (2972)\ttotal: 49.1s\tremaining: 1m 54s\n",
            "3200:\tlearn: 0.2973318\ttest: 0.4832101\tbest: 0.4832101 (3200)\ttotal: 52.3s\tremaining: 1m 51s\n",
            "3400:\tlearn: 0.2895400\ttest: 0.4827110\tbest: 0.4827044 (3398)\ttotal: 55.6s\tremaining: 1m 47s\n",
            "3600:\tlearn: 0.2824801\ttest: 0.4816427\tbest: 0.4816396 (3598)\ttotal: 58.9s\tremaining: 1m 44s\n",
            "3800:\tlearn: 0.2754860\ttest: 0.4807192\tbest: 0.4807135 (3797)\ttotal: 1m 2s\tremaining: 1m 42s\n",
            "4000:\tlearn: 0.2690982\ttest: 0.4800786\tbest: 0.4800625 (3997)\ttotal: 1m 6s\tremaining: 1m 39s\n",
            "4200:\tlearn: 0.2626709\ttest: 0.4792365\tbest: 0.4792282 (4197)\ttotal: 1m 10s\tremaining: 1m 36s\n",
            "4400:\tlearn: 0.2570804\ttest: 0.4785074\tbest: 0.4785074 (4400)\ttotal: 1m 13s\tremaining: 1m 33s\n",
            "4600:\tlearn: 0.2517422\ttest: 0.4778541\tbest: 0.4778541 (4600)\ttotal: 1m 17s\tremaining: 1m 30s\n",
            "4800:\tlearn: 0.2459738\ttest: 0.4773359\tbest: 0.4773286 (4791)\ttotal: 1m 21s\tremaining: 1m 27s\n",
            "5000:\tlearn: 0.2406690\ttest: 0.4766451\tbest: 0.4766451 (5000)\ttotal: 1m 24s\tremaining: 1m 24s\n",
            "5200:\tlearn: 0.2352951\ttest: 0.4760993\tbest: 0.4760987 (5199)\ttotal: 1m 27s\tremaining: 1m 20s\n",
            "5400:\tlearn: 0.2305296\ttest: 0.4757148\tbest: 0.4756506 (5339)\ttotal: 1m 30s\tremaining: 1m 17s\n",
            "5600:\tlearn: 0.2257333\ttest: 0.4753209\tbest: 0.4752679 (5585)\ttotal: 1m 33s\tremaining: 1m 13s\n",
            "5800:\tlearn: 0.2210284\ttest: 0.4748531\tbest: 0.4748531 (5800)\ttotal: 1m 37s\tremaining: 1m 10s\n",
            "6000:\tlearn: 0.2166910\ttest: 0.4743315\tbest: 0.4743315 (6000)\ttotal: 1m 40s\tremaining: 1m 6s\n",
            "6200:\tlearn: 0.2124738\ttest: 0.4739424\tbest: 0.4739424 (6200)\ttotal: 1m 43s\tremaining: 1m 3s\n",
            "6400:\tlearn: 0.2083991\ttest: 0.4736873\tbest: 0.4736645 (6388)\ttotal: 1m 46s\tremaining: 59.9s\n",
            "6600:\tlearn: 0.2046889\ttest: 0.4736222\tbest: 0.4736162 (6581)\ttotal: 1m 49s\tremaining: 56.5s\n",
            "6800:\tlearn: 0.2010857\ttest: 0.4734180\tbest: 0.4733981 (6792)\ttotal: 1m 52s\tremaining: 53.1s\n",
            "7000:\tlearn: 0.1971556\ttest: 0.4731756\tbest: 0.4731756 (7000)\ttotal: 1m 56s\tremaining: 49.7s\n",
            "7200:\tlearn: 0.1935861\ttest: 0.4729116\tbest: 0.4729106 (7199)\ttotal: 1m 59s\tremaining: 46.3s\n",
            "7400:\tlearn: 0.1900975\ttest: 0.4726842\tbest: 0.4726842 (7400)\ttotal: 2m 2s\tremaining: 43s\n",
            "7600:\tlearn: 0.1870751\ttest: 0.4726140\tbest: 0.4725491 (7491)\ttotal: 2m 5s\tremaining: 39.6s\n",
            "7800:\tlearn: 0.1838562\ttest: 0.4724668\tbest: 0.4724595 (7797)\ttotal: 2m 8s\tremaining: 36.3s\n",
            "8000:\tlearn: 0.1805972\ttest: 0.4723663\tbest: 0.4723441 (7996)\ttotal: 2m 11s\tremaining: 33s\n",
            "8200:\tlearn: 0.1773728\ttest: 0.4722583\tbest: 0.4722455 (8191)\ttotal: 2m 15s\tremaining: 29.6s\n",
            "8400:\tlearn: 0.1742725\ttest: 0.4720432\tbest: 0.4720361 (8383)\ttotal: 2m 18s\tremaining: 26.3s\n",
            "8600:\tlearn: 0.1712505\ttest: 0.4720400\tbest: 0.4719986 (8424)\ttotal: 2m 21s\tremaining: 23s\n",
            "Stopped by overfitting detector  (200 iterations wait)\n",
            "\n",
            "bestTest = 0.4719986456\n",
            "bestIteration = 8424\n",
            "\n",
            "Shrink model to first 8425 iterations.\n",
            "\n",
            "AV metric score for validation set is 471.9986476632693\n",
            "\n",
            "------------- Fold 2 -------------\n",
            "0:\tlearn: 1.8578641\ttest: 1.8758098\tbest: 1.8758098 (0)\ttotal: 16.5ms\tremaining: 2m 45s\n",
            "200:\tlearn: 0.5835809\ttest: 0.6104156\tbest: 0.6104156 (200)\ttotal: 3.28s\tremaining: 2m 39s\n",
            "400:\tlearn: 0.5124397\ttest: 0.5585259\tbest: 0.5585259 (400)\ttotal: 6.47s\tremaining: 2m 34s\n",
            "600:\tlearn: 0.4735635\ttest: 0.5360372\tbest: 0.5360372 (600)\ttotal: 10.8s\tremaining: 2m 49s\n",
            "800:\tlearn: 0.4461422\ttest: 0.5229376\tbest: 0.5229123 (799)\ttotal: 16.3s\tremaining: 3m 7s\n",
            "1000:\tlearn: 0.4251737\ttest: 0.5148599\tbest: 0.5148599 (1000)\ttotal: 19.5s\tremaining: 2m 55s\n",
            "1200:\tlearn: 0.4054716\ttest: 0.5087798\tbest: 0.5087798 (1200)\ttotal: 22.6s\tremaining: 2m 45s\n",
            "1400:\tlearn: 0.3889415\ttest: 0.5038043\tbest: 0.5038043 (1400)\ttotal: 25.8s\tremaining: 2m 38s\n",
            "1600:\tlearn: 0.3740523\ttest: 0.4998538\tbest: 0.4998525 (1599)\ttotal: 28.9s\tremaining: 2m 31s\n",
            "1800:\tlearn: 0.3610967\ttest: 0.4963646\tbest: 0.4963568 (1799)\ttotal: 32.2s\tremaining: 2m 26s\n",
            "2000:\tlearn: 0.3500266\ttest: 0.4935460\tbest: 0.4935460 (2000)\ttotal: 35.3s\tremaining: 2m 21s\n",
            "2200:\tlearn: 0.3390832\ttest: 0.4912536\tbest: 0.4912536 (2200)\ttotal: 38.5s\tremaining: 2m 16s\n",
            "2400:\tlearn: 0.3287910\ttest: 0.4892261\tbest: 0.4892217 (2399)\ttotal: 41.7s\tremaining: 2m 12s\n",
            "2600:\tlearn: 0.3198490\ttest: 0.4874432\tbest: 0.4874432 (2600)\ttotal: 44.9s\tremaining: 2m 7s\n",
            "2800:\tlearn: 0.3107509\ttest: 0.4858467\tbest: 0.4858436 (2796)\ttotal: 48.1s\tremaining: 2m 3s\n",
            "3000:\tlearn: 0.3026525\ttest: 0.4842090\tbest: 0.4841956 (2996)\ttotal: 51.3s\tremaining: 1m 59s\n",
            "3200:\tlearn: 0.2944292\ttest: 0.4828445\tbest: 0.4828445 (3200)\ttotal: 54.5s\tremaining: 1m 55s\n",
            "3400:\tlearn: 0.2869339\ttest: 0.4816382\tbest: 0.4816382 (3400)\ttotal: 57.8s\tremaining: 1m 52s\n",
            "3600:\tlearn: 0.2795049\ttest: 0.4808542\tbest: 0.4808473 (3599)\ttotal: 1m\tremaining: 1m 48s\n",
            "3800:\tlearn: 0.2725797\ttest: 0.4800615\tbest: 0.4800324 (3762)\ttotal: 1m 4s\tremaining: 1m 44s\n",
            "4000:\tlearn: 0.2662601\ttest: 0.4795041\tbest: 0.4795041 (4000)\ttotal: 1m 7s\tremaining: 1m 40s\n",
            "4200:\tlearn: 0.2603778\ttest: 0.4788002\tbest: 0.4787653 (4187)\ttotal: 1m 10s\tremaining: 1m 37s\n",
            "4400:\tlearn: 0.2543023\ttest: 0.4782658\tbest: 0.4782325 (4394)\ttotal: 1m 13s\tremaining: 1m 33s\n",
            "4600:\tlearn: 0.2487739\ttest: 0.4779784\tbest: 0.4779655 (4594)\ttotal: 1m 16s\tremaining: 1m 30s\n",
            "4800:\tlearn: 0.2435061\ttest: 0.4772127\tbest: 0.4772127 (4800)\ttotal: 1m 19s\tremaining: 1m 26s\n",
            "5000:\tlearn: 0.2383739\ttest: 0.4768712\tbest: 0.4768712 (5000)\ttotal: 1m 23s\tremaining: 1m 23s\n",
            "5200:\tlearn: 0.2334325\ttest: 0.4762746\tbest: 0.4762601 (5195)\ttotal: 1m 26s\tremaining: 1m 19s\n",
            "5400:\tlearn: 0.2287819\ttest: 0.4757780\tbest: 0.4757715 (5395)\ttotal: 1m 29s\tremaining: 1m 16s\n",
            "5600:\tlearn: 0.2240124\ttest: 0.4756207\tbest: 0.4755676 (5539)\ttotal: 1m 32s\tremaining: 1m 12s\n",
            "5800:\tlearn: 0.2194939\ttest: 0.4753607\tbest: 0.4753412 (5782)\ttotal: 1m 35s\tremaining: 1m 9s\n",
            "6000:\tlearn: 0.2149980\ttest: 0.4753280\tbest: 0.4752999 (5992)\ttotal: 1m 39s\tremaining: 1m 6s\n",
            "6200:\tlearn: 0.2108613\ttest: 0.4751051\tbest: 0.4750934 (6198)\ttotal: 1m 42s\tremaining: 1m 2s\n",
            "6400:\tlearn: 0.2068780\ttest: 0.4749375\tbest: 0.4749328 (6395)\ttotal: 1m 45s\tremaining: 59.3s\n",
            "6600:\tlearn: 0.2031418\ttest: 0.4747260\tbest: 0.4747260 (6600)\ttotal: 1m 48s\tremaining: 55.9s\n",
            "6800:\tlearn: 0.1999069\ttest: 0.4745483\tbest: 0.4745483 (6800)\ttotal: 1m 51s\tremaining: 52.5s\n",
            "7000:\tlearn: 0.1964521\ttest: 0.4743991\tbest: 0.4743784 (6994)\ttotal: 1m 54s\tremaining: 49.2s\n",
            "7200:\tlearn: 0.1930876\ttest: 0.4743474\tbest: 0.4743474 (7200)\ttotal: 1m 58s\tremaining: 45.9s\n",
            "7400:\tlearn: 0.1898028\ttest: 0.4743787\tbest: 0.4743378 (7332)\ttotal: 2m 1s\tremaining: 42.6s\n",
            "7600:\tlearn: 0.1866606\ttest: 0.4741855\tbest: 0.4741685 (7585)\ttotal: 2m 4s\tremaining: 39.3s\n",
            "7800:\tlearn: 0.1835443\ttest: 0.4741230\tbest: 0.4740795 (7669)\ttotal: 2m 7s\tremaining: 36s\n",
            "8000:\tlearn: 0.1801303\ttest: 0.4739470\tbest: 0.4739198 (7992)\ttotal: 2m 10s\tremaining: 32.7s\n",
            "8200:\tlearn: 0.1771727\ttest: 0.4737880\tbest: 0.4737870 (8175)\ttotal: 2m 13s\tremaining: 29.4s\n",
            "8400:\tlearn: 0.1740226\ttest: 0.4735504\tbest: 0.4735392 (8392)\ttotal: 2m 17s\tremaining: 26.1s\n",
            "8600:\tlearn: 0.1712669\ttest: 0.4733787\tbest: 0.4733457 (8561)\ttotal: 2m 20s\tremaining: 22.8s\n",
            "8800:\tlearn: 0.1684926\ttest: 0.4733313\tbest: 0.4732861 (8713)\ttotal: 2m 23s\tremaining: 19.5s\n",
            "9000:\tlearn: 0.1655856\ttest: 0.4732757\tbest: 0.4732373 (8964)\ttotal: 2m 26s\tremaining: 16.3s\n",
            "9200:\tlearn: 0.1629544\ttest: 0.4731279\tbest: 0.4731200 (9198)\ttotal: 2m 29s\tremaining: 13s\n",
            "9400:\tlearn: 0.1603338\ttest: 0.4730381\tbest: 0.4729765 (9318)\ttotal: 2m 32s\tremaining: 9.74s\n",
            "9600:\tlearn: 0.1577714\ttest: 0.4728697\tbest: 0.4728498 (9574)\ttotal: 2m 36s\tremaining: 6.49s\n",
            "9800:\tlearn: 0.1551664\ttest: 0.4727483\tbest: 0.4727203 (9779)\ttotal: 2m 39s\tremaining: 3.23s\n",
            "9999:\tlearn: 0.1527866\ttest: 0.4726695\tbest: 0.4726630 (9994)\ttotal: 2m 42s\tremaining: 0us\n",
            "\n",
            "bestTest = 0.4726630108\n",
            "bestIteration = 9994\n",
            "\n",
            "Shrink model to first 9995 iterations.\n",
            "\n",
            "AV metric score for validation set is 472.6630100122896\n",
            "\n",
            "------------- Fold 3 -------------\n",
            "0:\tlearn: 1.8629374\ttest: 1.8475674\tbest: 1.8475674 (0)\ttotal: 15.8ms\tremaining: 2m 37s\n",
            "200:\tlearn: 0.5885504\ttest: 0.6031838\tbest: 0.6031838 (200)\ttotal: 3.29s\tremaining: 2m 40s\n",
            "400:\tlearn: 0.5137702\ttest: 0.5449546\tbest: 0.5449546 (400)\ttotal: 6.53s\tremaining: 2m 36s\n",
            "600:\tlearn: 0.4741288\ttest: 0.5213400\tbest: 0.5213400 (600)\ttotal: 10s\tremaining: 2m 36s\n",
            "800:\tlearn: 0.4460165\ttest: 0.5078332\tbest: 0.5078332 (800)\ttotal: 13.8s\tremaining: 2m 38s\n",
            "1000:\tlearn: 0.4241841\ttest: 0.4988699\tbest: 0.4988699 (1000)\ttotal: 17s\tremaining: 2m 33s\n",
            "1200:\tlearn: 0.4057591\ttest: 0.4927342\tbest: 0.4927342 (1200)\ttotal: 20.2s\tremaining: 2m 27s\n",
            "1400:\tlearn: 0.3896659\ttest: 0.4881592\tbest: 0.4881592 (1400)\ttotal: 23.3s\tremaining: 2m 23s\n",
            "1600:\tlearn: 0.3754020\ttest: 0.4843232\tbest: 0.4843200 (1599)\ttotal: 26.5s\tremaining: 2m 19s\n",
            "1800:\tlearn: 0.3618533\ttest: 0.4809485\tbest: 0.4809402 (1799)\ttotal: 29.7s\tremaining: 2m 15s\n",
            "2000:\tlearn: 0.3501292\ttest: 0.4783814\tbest: 0.4783524 (1994)\ttotal: 32.8s\tremaining: 2m 11s\n",
            "2200:\tlearn: 0.3393149\ttest: 0.4764041\tbest: 0.4764041 (2200)\ttotal: 36s\tremaining: 2m 7s\n",
            "2400:\tlearn: 0.3294490\ttest: 0.4748666\tbest: 0.4748666 (2400)\ttotal: 39.2s\tremaining: 2m 4s\n",
            "2600:\tlearn: 0.3198321\ttest: 0.4732754\tbest: 0.4732745 (2598)\ttotal: 42.4s\tremaining: 2m\n",
            "2800:\tlearn: 0.3111149\ttest: 0.4717168\tbest: 0.4717078 (2798)\ttotal: 45.7s\tremaining: 1m 57s\n",
            "3000:\tlearn: 0.3028479\ttest: 0.4709720\tbest: 0.4709720 (3000)\ttotal: 48.9s\tremaining: 1m 54s\n",
            "3200:\tlearn: 0.2947302\ttest: 0.4696327\tbest: 0.4696292 (3199)\ttotal: 52s\tremaining: 1m 50s\n",
            "3400:\tlearn: 0.2875590\ttest: 0.4687380\tbest: 0.4687161 (3399)\ttotal: 55.2s\tremaining: 1m 47s\n",
            "3600:\tlearn: 0.2807837\ttest: 0.4676629\tbest: 0.4676629 (3600)\ttotal: 58.5s\tremaining: 1m 43s\n",
            "3800:\tlearn: 0.2748903\ttest: 0.4671141\tbest: 0.4671025 (3795)\ttotal: 1m 1s\tremaining: 1m 40s\n",
            "4000:\tlearn: 0.2690381\ttest: 0.4663066\tbest: 0.4663066 (4000)\ttotal: 1m 4s\tremaining: 1m 37s\n",
            "4200:\tlearn: 0.2628841\ttest: 0.4658541\tbest: 0.4658496 (4196)\ttotal: 1m 7s\tremaining: 1m 33s\n",
            "4400:\tlearn: 0.2568854\ttest: 0.4650524\tbest: 0.4650283 (4398)\ttotal: 1m 11s\tremaining: 1m 30s\n",
            "4600:\tlearn: 0.2511041\ttest: 0.4646817\tbest: 0.4645947 (4577)\ttotal: 1m 14s\tremaining: 1m 27s\n",
            "4800:\tlearn: 0.2456717\ttest: 0.4642565\tbest: 0.4642437 (4799)\ttotal: 1m 17s\tremaining: 1m 24s\n",
            "5000:\tlearn: 0.2403271\ttest: 0.4637776\tbest: 0.4637764 (4999)\ttotal: 1m 21s\tremaining: 1m 21s\n",
            "5200:\tlearn: 0.2352450\ttest: 0.4633949\tbest: 0.4633611 (5195)\ttotal: 1m 24s\tremaining: 1m 18s\n",
            "5400:\tlearn: 0.2304846\ttest: 0.4629379\tbest: 0.4628877 (5381)\ttotal: 1m 28s\tremaining: 1m 15s\n",
            "5600:\tlearn: 0.2263384\ttest: 0.4627170\tbest: 0.4626668 (5544)\ttotal: 1m 32s\tremaining: 1m 12s\n",
            "5800:\tlearn: 0.2220643\ttest: 0.4624716\tbest: 0.4624081 (5787)\ttotal: 1m 35s\tremaining: 1m 9s\n",
            "6000:\tlearn: 0.2173797\ttest: 0.4621711\tbest: 0.4621693 (5999)\ttotal: 1m 38s\tremaining: 1m 5s\n",
            "6200:\tlearn: 0.2126395\ttest: 0.4620765\tbest: 0.4620622 (6187)\ttotal: 1m 42s\tremaining: 1m 2s\n",
            "6400:\tlearn: 0.2084500\ttest: 0.4617736\tbest: 0.4617527 (6384)\ttotal: 1m 45s\tremaining: 59.2s\n",
            "6600:\tlearn: 0.2045143\ttest: 0.4617290\tbest: 0.4617144 (6599)\ttotal: 1m 48s\tremaining: 55.8s\n",
            "6800:\tlearn: 0.2006008\ttest: 0.4616046\tbest: 0.4616041 (6798)\ttotal: 1m 51s\tremaining: 52.5s\n",
            "7000:\tlearn: 0.1967758\ttest: 0.4612172\tbest: 0.4612097 (6994)\ttotal: 1m 54s\tremaining: 49.1s\n",
            "7200:\tlearn: 0.1933039\ttest: 0.4610712\tbest: 0.4610595 (7183)\ttotal: 1m 57s\tremaining: 45.8s\n",
            "7400:\tlearn: 0.1899074\ttest: 0.4609445\tbest: 0.4608601 (7300)\ttotal: 2m 1s\tremaining: 42.5s\n",
            "Stopped by overfitting detector  (200 iterations wait)\n",
            "\n",
            "bestTest = 0.4608600673\n",
            "bestIteration = 7300\n",
            "\n",
            "Shrink model to first 7301 iterations.\n",
            "\n",
            "AV metric score for validation set is 460.8600674158872\n",
            "\n",
            "------------- Fold 4 -------------\n",
            "0:\tlearn: 1.8596624\ttest: 1.8580271\tbest: 1.8580271 (0)\ttotal: 16.6ms\tremaining: 2m 46s\n",
            "200:\tlearn: 0.5875797\ttest: 0.6027803\tbest: 0.6027803 (200)\ttotal: 3.24s\tremaining: 2m 38s\n",
            "400:\tlearn: 0.5150217\ttest: 0.5476224\tbest: 0.5476224 (400)\ttotal: 6.47s\tremaining: 2m 34s\n",
            "600:\tlearn: 0.4750956\ttest: 0.5230995\tbest: 0.5230995 (600)\ttotal: 9.69s\tremaining: 2m 31s\n",
            "800:\tlearn: 0.4473575\ttest: 0.5099341\tbest: 0.5099341 (800)\ttotal: 12.9s\tremaining: 2m 27s\n",
            "1000:\tlearn: 0.4251610\ttest: 0.4998522\tbest: 0.4998522 (1000)\ttotal: 16s\tremaining: 2m 24s\n",
            "1200:\tlearn: 0.4074383\ttest: 0.4934180\tbest: 0.4934055 (1199)\ttotal: 19.2s\tremaining: 2m 20s\n",
            "1400:\tlearn: 0.3906956\ttest: 0.4877915\tbest: 0.4877915 (1400)\ttotal: 22.4s\tremaining: 2m 17s\n",
            "1600:\tlearn: 0.3766579\ttest: 0.4840738\tbest: 0.4840633 (1599)\ttotal: 25.6s\tremaining: 2m 14s\n",
            "1800:\tlearn: 0.3631965\ttest: 0.4804321\tbest: 0.4804321 (1800)\ttotal: 28.7s\tremaining: 2m 10s\n",
            "2000:\tlearn: 0.3512277\ttest: 0.4774701\tbest: 0.4774371 (1994)\ttotal: 31.9s\tremaining: 2m 7s\n",
            "2200:\tlearn: 0.3398691\ttest: 0.4751462\tbest: 0.4751462 (2200)\ttotal: 35s\tremaining: 2m 4s\n",
            "2400:\tlearn: 0.3296856\ttest: 0.4729920\tbest: 0.4729920 (2400)\ttotal: 38.2s\tremaining: 2m\n",
            "2600:\tlearn: 0.3202765\ttest: 0.4713465\tbest: 0.4713465 (2600)\ttotal: 41.4s\tremaining: 1m 57s\n",
            "2800:\tlearn: 0.3110684\ttest: 0.4697801\tbest: 0.4697636 (2794)\ttotal: 44.5s\tremaining: 1m 54s\n",
            "3000:\tlearn: 0.3024990\ttest: 0.4687481\tbest: 0.4687481 (3000)\ttotal: 47.7s\tremaining: 1m 51s\n",
            "3200:\tlearn: 0.2947644\ttest: 0.4673302\tbest: 0.4673105 (3189)\ttotal: 50.9s\tremaining: 1m 48s\n",
            "3400:\tlearn: 0.2872739\ttest: 0.4659480\tbest: 0.4659315 (3381)\ttotal: 54s\tremaining: 1m 44s\n",
            "3600:\tlearn: 0.2801961\ttest: 0.4648964\tbest: 0.4648889 (3597)\ttotal: 57.2s\tremaining: 1m 41s\n",
            "3800:\tlearn: 0.2734802\ttest: 0.4637046\tbest: 0.4637046 (3800)\ttotal: 1m\tremaining: 1m 38s\n",
            "4000:\tlearn: 0.2672112\ttest: 0.4628080\tbest: 0.4628080 (4000)\ttotal: 1m 3s\tremaining: 1m 35s\n",
            "4200:\tlearn: 0.2613269\ttest: 0.4621446\tbest: 0.4621424 (4194)\ttotal: 1m 6s\tremaining: 1m 32s\n",
            "4400:\tlearn: 0.2554271\ttest: 0.4614100\tbest: 0.4614100 (4400)\ttotal: 1m 9s\tremaining: 1m 28s\n",
            "4600:\tlearn: 0.2498489\ttest: 0.4607954\tbest: 0.4607747 (4598)\ttotal: 1m 13s\tremaining: 1m 25s\n",
            "4800:\tlearn: 0.2445933\ttest: 0.4602136\tbest: 0.4601912 (4793)\ttotal: 1m 16s\tremaining: 1m 22s\n",
            "5000:\tlearn: 0.2397708\ttest: 0.4596626\tbest: 0.4596612 (4999)\ttotal: 1m 19s\tremaining: 1m 19s\n",
            "5200:\tlearn: 0.2347932\ttest: 0.4592279\tbest: 0.4591891 (5185)\ttotal: 1m 22s\tremaining: 1m 16s\n",
            "5400:\tlearn: 0.2300001\ttest: 0.4588911\tbest: 0.4588274 (5354)\ttotal: 1m 25s\tremaining: 1m 13s\n",
            "5600:\tlearn: 0.2255099\ttest: 0.4585646\tbest: 0.4585497 (5590)\ttotal: 1m 28s\tremaining: 1m 9s\n",
            "5800:\tlearn: 0.2210704\ttest: 0.4582209\tbest: 0.4582202 (5794)\ttotal: 1m 32s\tremaining: 1m 6s\n",
            "6000:\tlearn: 0.2167290\ttest: 0.4577616\tbest: 0.4577616 (6000)\ttotal: 1m 35s\tremaining: 1m 3s\n",
            "6200:\tlearn: 0.2124736\ttest: 0.4575367\tbest: 0.4575308 (6192)\ttotal: 1m 38s\tremaining: 1m\n",
            "6400:\tlearn: 0.2083117\ttest: 0.4573341\tbest: 0.4573341 (6400)\ttotal: 1m 41s\tremaining: 57.1s\n",
            "6600:\tlearn: 0.2043439\ttest: 0.4568801\tbest: 0.4568801 (6600)\ttotal: 1m 44s\tremaining: 53.9s\n",
            "6800:\tlearn: 0.2006542\ttest: 0.4567779\tbest: 0.4567756 (6786)\ttotal: 1m 47s\tremaining: 50.8s\n",
            "7000:\tlearn: 0.1968859\ttest: 0.4563838\tbest: 0.4563820 (6999)\ttotal: 1m 51s\tremaining: 47.6s\n",
            "7200:\tlearn: 0.1933974\ttest: 0.4561228\tbest: 0.4560958 (7186)\ttotal: 1m 54s\tremaining: 44.5s\n",
            "7400:\tlearn: 0.1899260\ttest: 0.4559388\tbest: 0.4559294 (7398)\ttotal: 1m 57s\tremaining: 41.3s\n",
            "7600:\tlearn: 0.1864549\ttest: 0.4557178\tbest: 0.4557072 (7596)\ttotal: 2m\tremaining: 38.1s\n",
            "7800:\tlearn: 0.1829152\ttest: 0.4554792\tbest: 0.4554770 (7799)\ttotal: 2m 3s\tremaining: 34.9s\n",
            "8000:\tlearn: 0.1797362\ttest: 0.4554095\tbest: 0.4553386 (7975)\ttotal: 2m 7s\tremaining: 31.8s\n",
            "8200:\tlearn: 0.1765198\ttest: 0.4552271\tbest: 0.4552003 (8156)\ttotal: 2m 10s\tremaining: 28.6s\n",
            "8400:\tlearn: 0.1733335\ttest: 0.4549614\tbest: 0.4549600 (8396)\ttotal: 2m 13s\tremaining: 25.4s\n",
            "8600:\tlearn: 0.1704700\ttest: 0.4547677\tbest: 0.4547586 (8581)\ttotal: 2m 16s\tremaining: 22.2s\n",
            "8800:\tlearn: 0.1674627\ttest: 0.4545448\tbest: 0.4545347 (8780)\ttotal: 2m 19s\tremaining: 19s\n",
            "9000:\tlearn: 0.1645622\ttest: 0.4544064\tbest: 0.4543986 (8996)\ttotal: 2m 23s\tremaining: 15.9s\n",
            "9200:\tlearn: 0.1618494\ttest: 0.4544348\tbest: 0.4543482 (9058)\ttotal: 2m 26s\tremaining: 12.7s\n",
            "Stopped by overfitting detector  (200 iterations wait)\n",
            "\n",
            "bestTest = 0.4543481599\n",
            "bestIteration = 9058\n",
            "\n",
            "Shrink model to first 9059 iterations.\n",
            "\n",
            "AV metric score for validation set is 454.34816144746287\n",
            "\n",
            "------------- Fold 5 -------------\n",
            "0:\tlearn: 1.8590609\ttest: 1.8659106\tbest: 1.8659106 (0)\ttotal: 16.4ms\tremaining: 2m 44s\n",
            "200:\tlearn: 0.5829423\ttest: 0.6042319\tbest: 0.6042319 (200)\ttotal: 3.31s\tremaining: 2m 41s\n",
            "400:\tlearn: 0.5096715\ttest: 0.5511654\tbest: 0.5511654 (400)\ttotal: 6.53s\tremaining: 2m 36s\n",
            "600:\tlearn: 0.4717041\ttest: 0.5303701\tbest: 0.5303701 (600)\ttotal: 9.77s\tremaining: 2m 32s\n",
            "800:\tlearn: 0.4445218\ttest: 0.5177624\tbest: 0.5177624 (800)\ttotal: 13s\tremaining: 2m 29s\n",
            "1000:\tlearn: 0.4227518\ttest: 0.5088652\tbest: 0.5088652 (1000)\ttotal: 16.2s\tremaining: 2m 25s\n",
            "1200:\tlearn: 0.4045114\ttest: 0.5026237\tbest: 0.5026237 (1200)\ttotal: 19.4s\tremaining: 2m 22s\n",
            "1400:\tlearn: 0.3894934\ttest: 0.4973308\tbest: 0.4973263 (1398)\ttotal: 22.6s\tremaining: 2m 18s\n",
            "1600:\tlearn: 0.3757866\ttest: 0.4939015\tbest: 0.4938966 (1599)\ttotal: 25.8s\tremaining: 2m 15s\n",
            "1800:\tlearn: 0.3634391\ttest: 0.4913708\tbest: 0.4913708 (1800)\ttotal: 29s\tremaining: 2m 12s\n",
            "2000:\tlearn: 0.3519072\ttest: 0.4883998\tbest: 0.4883998 (2000)\ttotal: 32.3s\tremaining: 2m 8s\n",
            "2200:\tlearn: 0.3414399\ttest: 0.4865027\tbest: 0.4864921 (2197)\ttotal: 35.4s\tremaining: 2m 5s\n",
            "2400:\tlearn: 0.3310787\ttest: 0.4844463\tbest: 0.4844211 (2399)\ttotal: 38.7s\tremaining: 2m 2s\n",
            "2600:\tlearn: 0.3220467\ttest: 0.4829133\tbest: 0.4829066 (2597)\ttotal: 41.9s\tremaining: 1m 59s\n",
            "2800:\tlearn: 0.3137060\ttest: 0.4818322\tbest: 0.4817226 (2752)\ttotal: 45.6s\tremaining: 1m 57s\n",
            "3000:\tlearn: 0.3050931\ttest: 0.4804926\tbest: 0.4804926 (3000)\ttotal: 49.3s\tremaining: 1m 55s\n",
            "3200:\tlearn: 0.2965958\ttest: 0.4792698\tbest: 0.4792310 (3196)\ttotal: 52.6s\tremaining: 1m 51s\n",
            "3400:\tlearn: 0.2892537\ttest: 0.4781480\tbest: 0.4781011 (3391)\ttotal: 55.8s\tremaining: 1m 48s\n",
            "3600:\tlearn: 0.2825127\ttest: 0.4777435\tbest: 0.4777342 (3598)\ttotal: 59s\tremaining: 1m 44s\n",
            "3800:\tlearn: 0.2762251\ttest: 0.4769950\tbest: 0.4769670 (3749)\ttotal: 1m 2s\tremaining: 1m 41s\n",
            "4000:\tlearn: 0.2699096\ttest: 0.4762717\tbest: 0.4762645 (3999)\ttotal: 1m 5s\tremaining: 1m 38s\n",
            "4200:\tlearn: 0.2637335\ttest: 0.4757794\tbest: 0.4757679 (4198)\ttotal: 1m 8s\tremaining: 1m 34s\n",
            "4400:\tlearn: 0.2578280\ttest: 0.4754172\tbest: 0.4754013 (4396)\ttotal: 1m 11s\tremaining: 1m 31s\n",
            "4600:\tlearn: 0.2519361\ttest: 0.4751476\tbest: 0.4750665 (4587)\ttotal: 1m 15s\tremaining: 1m 28s\n",
            "4800:\tlearn: 0.2461342\ttest: 0.4745098\tbest: 0.4744802 (4778)\ttotal: 1m 18s\tremaining: 1m 24s\n",
            "5000:\tlearn: 0.2408881\ttest: 0.4743673\tbest: 0.4743673 (5000)\ttotal: 1m 21s\tremaining: 1m 21s\n",
            "5200:\tlearn: 0.2361559\ttest: 0.4743613\tbest: 0.4742944 (5154)\ttotal: 1m 24s\tremaining: 1m 18s\n",
            "5400:\tlearn: 0.2315355\ttest: 0.4742326\tbest: 0.4742152 (5382)\ttotal: 1m 28s\tremaining: 1m 14s\n",
            "5600:\tlearn: 0.2269563\ttest: 0.4739225\tbest: 0.4739225 (5600)\ttotal: 1m 31s\tremaining: 1m 11s\n",
            "5800:\tlearn: 0.2223027\ttest: 0.4737622\tbest: 0.4737597 (5799)\ttotal: 1m 34s\tremaining: 1m 8s\n",
            "6000:\tlearn: 0.2179673\ttest: 0.4738097\tbest: 0.4737068 (5806)\ttotal: 1m 37s\tremaining: 1m 5s\n",
            "Stopped by overfitting detector  (200 iterations wait)\n",
            "\n",
            "bestTest = 0.4737068199\n",
            "bestIteration = 5806\n",
            "\n",
            "Shrink model to first 5807 iterations.\n",
            "\n",
            "AV metric score for validation set is 473.7068231592767\n",
            "\n",
            "\n",
            "AV metric for oofs is 466.7796894292633\n"
          ],
          "name": "stdout"
        },
        {
          "output_type": "display_data",
          "data": {
            "image/png": "[encoded data removed]",
            "text/plain": [
              "<Figure size 864x432 with 1 Axes>"
            ]
          },
          "metadata": {
            "tags": [],
            "needs_background": "light"
          }
        }
      ]
    },
    {
      "cell_type": "code",
      "metadata": {
        "id": "zvxZIvIkAOlx"
      },
      "source": [
        "!pip install -q catboost\n",
        "from catboost import CatBoostRegressor"
      ],
      "execution_count": 25,
      "outputs": []
    },
    {
      "cell_type": "code",
      "metadata": {
        "id": "wcXrqoEvAR47",
        "outputId": "56222cce-0b2f-4be6-fa9e-8d77096f060c",
        "colab": {
          "base_uri": "https://localhost:8080/",
          "height": 34
        }
      },
      "source": [
        " av_metric(train['likes'], lgb_oofs * 0.50 + cb_oofs * 0.50)"
      ],
      "execution_count": null,
      "outputs": [
        {
          "output_type": "execute_result",
          "data": {
            "text/plain": [
              "463.0751986322361"
            ]
          },
          "metadata": {
            "tags": []
          },
          "execution_count": 44
        }
      ]
    },
    {
      "cell_type": "code",
      "metadata": {
        "id": "AVa8FtonFJa2",
        "outputId": "c52a7858-df8c-4c2a-93b9-284c83fbe7cf",
        "colab": {
          "base_uri": "https://localhost:8080/",
          "height": 118
        }
      },
      "source": [
        "train['likes'].head()"
      ],
      "execution_count": null,
      "outputs": [
        {
          "output_type": "execute_result",
          "data": {
            "text/plain": [
              "0     2351.0\n",
              "1     3264.0\n",
              "2      580.0\n",
              "3    82773.0\n",
              "4     3557.0\n",
              "Name: likes, dtype: float64"
            ]
          },
          "metadata": {
            "tags": []
          },
          "execution_count": 33
        }
      ]
    },
    {
      "cell_type": "code",
      "metadata": {
        "id": "obNrayuaFSCk"
      },
      "source": [
        "train['likes'] = np.log1p(train['likes'])"
      ],
      "execution_count": null,
      "outputs": []
    },
    {
      "cell_type": "code",
      "metadata": {
        "id": "AvhqLofKFWaj",
        "outputId": "896c40b0-cadb-446a-e036-cf174fd37b8b",
        "colab": {
          "base_uri": "https://localhost:8080/",
          "height": 34
        }
      },
      "source": [
        "lgb_oofs[:5]"
      ],
      "execution_count": null,
      "outputs": [
        {
          "output_type": "execute_result",
          "data": {
            "text/plain": [
              "array([ 7.67633649,  8.40665061,  5.37227676, 10.48238522,  8.07581096])"
            ]
          },
          "metadata": {
            "tags": []
          },
          "execution_count": 52
        }
      ]
    },
    {
      "cell_type": "code",
      "metadata": {
        "id": "37Gjp1azFgjl",
        "outputId": "14d03ce6-3616-4e28-8fd5-80bba3d7ef32",
        "colab": {
          "base_uri": "https://localhost:8080/",
          "height": 118
        }
      },
      "source": [
        "train['likes'][:5]"
      ],
      "execution_count": null,
      "outputs": [
        {
          "output_type": "execute_result",
          "data": {
            "text/plain": [
              "0     7.763021\n",
              "1     8.091015\n",
              "2     6.364751\n",
              "3    11.323869\n",
              "4     8.176954\n",
              "Name: likes, dtype: float64"
            ]
          },
          "metadata": {
            "tags": []
          },
          "execution_count": 53
        }
      ]
    },
    {
      "cell_type": "code",
      "metadata": {
        "id": "JMwMszJWFkBt"
      },
      "source": [
        "ens_predstg = np.expm1(lgb_preds * 0.50 + cb_preds * 0.50)\n",
        "ens_1tg = pd.DataFrame({'video_id':test.video_id})\n",
        "ens_1tg['likes'] = ens_predstg"
      ],
      "execution_count": null,
      "outputs": []
    },
    {
      "cell_type": "code",
      "metadata": {
        "id": "ZQZRC2fxi6zn"
      },
      "source": [
        "ens_1tg.to_csv('/content/drive/My Drive/Colab Notebooks/ens_tg_2nm.csv', index=False)"
      ],
      "execution_count": null,
      "outputs": []
    },
    {
      "cell_type": "markdown",
      "metadata": {
        "id": "Tyk_bzvajY7f"
      },
      "source": [
        "ens_1tg or ens_tg_2nm.csv till now; 10/4/2020, 1:10 pm"
      ]
    },
    {
      "cell_type": "code",
      "metadata": {
        "id": "kfCpgmoGGVVe",
        "outputId": "731353ff-43c7-4dec-fcbe-f04bb3982e15",
        "colab": {
          "base_uri": "https://localhost:8080/",
          "height": 195
        }
      },
      "source": [
        "ens_1.head()"
      ],
      "execution_count": null,
      "outputs": [
        {
          "output_type": "execute_result",
          "data": {
            "text/html": [
              "<div>\n",
              "<style scoped>\n",
              "    .dataframe tbody tr th:only-of-type {\n",
              "        vertical-align: middle;\n",
              "    }\n",
              "\n",
              "    .dataframe tbody tr th {\n",
              "        vertical-align: top;\n",
              "    }\n",
              "\n",
              "    .dataframe thead th {\n",
              "        text-align: right;\n",
              "    }\n",
              "</style>\n",
              "<table border=\"1\" class=\"dataframe\">\n",
              "  <thead>\n",
              "    <tr style=\"text-align: right;\">\n",
              "      <th></th>\n",
              "      <th>video_id</th>\n",
              "      <th>likes</th>\n",
              "    </tr>\n",
              "  </thead>\n",
              "  <tbody>\n",
              "    <tr>\n",
              "      <th>0</th>\n",
              "      <td>87185</td>\n",
              "      <td>757.895158</td>\n",
              "    </tr>\n",
              "    <tr>\n",
              "      <th>1</th>\n",
              "      <td>9431</td>\n",
              "      <td>2515.068507</td>\n",
              "    </tr>\n",
              "    <tr>\n",
              "      <th>2</th>\n",
              "      <td>40599</td>\n",
              "      <td>47.792302</td>\n",
              "    </tr>\n",
              "    <tr>\n",
              "      <th>3</th>\n",
              "      <td>494</td>\n",
              "      <td>2783.635772</td>\n",
              "    </tr>\n",
              "    <tr>\n",
              "      <th>4</th>\n",
              "      <td>73942</td>\n",
              "      <td>532.399930</td>\n",
              "    </tr>\n",
              "  </tbody>\n",
              "</table>\n",
              "</div>"
            ],
            "text/plain": [
              "   video_id        likes\n",
              "0     87185   757.895158\n",
              "1      9431  2515.068507\n",
              "2     40599    47.792302\n",
              "3       494  2783.635772\n",
              "4     73942   532.399930"
            ]
          },
          "metadata": {
            "tags": []
          },
          "execution_count": 49
        }
      ]
    },
    {
      "cell_type": "code",
      "metadata": {
        "id": "WCKeTm5QGbqF",
        "outputId": "8b8a7df8-cb20-4fec-ac29-d4c233eace51",
        "colab": {
          "base_uri": "https://localhost:8080/",
          "height": 17
        }
      },
      "source": [
        "download_preds(file_name='ens1_no_meta.csv')"
      ],
      "execution_count": null,
      "outputs": [
        {
          "output_type": "display_data",
          "data": {
            "application/javascript": [
              "\n",
              "    async function download(id, filename, size) {\n",
              "      if (!google.colab.kernel.accessAllowed) {\n",
              "        return;\n",
              "      }\n",
              "      const div = document.createElement('div');\n",
              "      const label = document.createElement('label');\n",
              "      label.textContent = `Downloading \"${filename}\": `;\n",
              "      div.appendChild(label);\n",
              "      const progress = document.createElement('progress');\n",
              "      progress.max = size;\n",
              "      div.appendChild(progress);\n",
              "      document.body.appendChild(div);\n",
              "\n",
              "      const buffers = [];\n",
              "      let downloaded = 0;\n",
              "\n",
              "      const channel = await google.colab.kernel.comms.open(id);\n",
              "      // Send a message to notify the kernel that we're ready.\n",
              "      channel.send({})\n",
              "\n",
              "      for await (const message of channel.messages) {\n",
              "        // Send a message to notify the kernel that we're ready.\n",
              "        channel.send({})\n",
              "        if (message.buffers) {\n",
              "          for (const buffer of message.buffers) {\n",
              "            buffers.push(buffer);\n",
              "            downloaded += buffer.byteLength;\n",
              "            progress.value = downloaded;\n",
              "          }\n",
              "        }\n",
              "      }\n",
              "      const blob = new Blob(buffers, {type: 'application/binary'});\n",
              "      const a = document.createElement('a');\n",
              "      a.href = window.URL.createObjectURL(blob);\n",
              "      a.download = filename;\n",
              "      div.appendChild(a);\n",
              "      a.click();\n",
              "      div.remove();\n",
              "    }\n",
              "  "
            ],
            "text/plain": [
              "<IPython.core.display.Javascript object>"
            ]
          },
          "metadata": {
            "tags": []
          }
        },
        {
          "output_type": "display_data",
          "data": {
            "application/javascript": [
              "download(\"download_e8da2fa5-3b81-4b12-93d4-61a2c721572d\", \"ens1_no_meta.csv\", 270890)"
            ],
            "text/plain": [
              "<IPython.core.display.Javascript object>"
            ]
          },
          "metadata": {
            "tags": []
          }
        }
      ]
    },
    {
      "cell_type": "code",
      "metadata": {
        "id": "7mnBanf-GiR8"
      },
      "source": [
        "ens_1.to_csv('/content/drive/My Drive/Colab Notebooks/ens1_no_meta.csv', index=False)"
      ],
      "execution_count": null,
      "outputs": []
    },
    {
      "cell_type": "code",
      "metadata": {
        "id": "iMOY8HWDG2qR"
      },
      "source": [
        "train_new = pd.DataFrame()\n",
        "test_new = pd.DataFrame()\n",
        "\n",
        "train_new['cb'] = cb_oofs\n",
        "train_new['lgb'] = lgb_oofs\n",
        "train_new['likes'] = train['likes']\n",
        "\n",
        "test_new['cb'] = cb_preds\n",
        "test_new['lgb'] = lgb_preds"
      ],
      "execution_count": null,
      "outputs": []
    },
    {
      "cell_type": "code",
      "metadata": {
        "id": "eiIL-Ew2IbcA",
        "outputId": "13733d5a-2d4a-469f-ecc6-cf7ed4c110c3",
        "colab": {
          "base_uri": "https://localhost:8080/",
          "height": 195
        }
      },
      "source": [
        "train_new.head()"
      ],
      "execution_count": null,
      "outputs": [
        {
          "output_type": "execute_result",
          "data": {
            "text/html": [
              "<div>\n",
              "<style scoped>\n",
              "    .dataframe tbody tr th:only-of-type {\n",
              "        vertical-align: middle;\n",
              "    }\n",
              "\n",
              "    .dataframe tbody tr th {\n",
              "        vertical-align: top;\n",
              "    }\n",
              "\n",
              "    .dataframe thead th {\n",
              "        text-align: right;\n",
              "    }\n",
              "</style>\n",
              "<table border=\"1\" class=\"dataframe\">\n",
              "  <thead>\n",
              "    <tr style=\"text-align: right;\">\n",
              "      <th></th>\n",
              "      <th>cb</th>\n",
              "      <th>lgb</th>\n",
              "      <th>likes</th>\n",
              "    </tr>\n",
              "  </thead>\n",
              "  <tbody>\n",
              "    <tr>\n",
              "      <th>0</th>\n",
              "      <td>7.774883</td>\n",
              "      <td>7.676336</td>\n",
              "      <td>7.763021</td>\n",
              "    </tr>\n",
              "    <tr>\n",
              "      <th>1</th>\n",
              "      <td>8.327288</td>\n",
              "      <td>8.406651</td>\n",
              "      <td>8.091015</td>\n",
              "    </tr>\n",
              "    <tr>\n",
              "      <th>2</th>\n",
              "      <td>5.638850</td>\n",
              "      <td>5.372277</td>\n",
              "      <td>6.364751</td>\n",
              "    </tr>\n",
              "    <tr>\n",
              "      <th>3</th>\n",
              "      <td>10.952559</td>\n",
              "      <td>10.482385</td>\n",
              "      <td>11.323869</td>\n",
              "    </tr>\n",
              "    <tr>\n",
              "      <th>4</th>\n",
              "      <td>8.293664</td>\n",
              "      <td>8.075811</td>\n",
              "      <td>8.176954</td>\n",
              "    </tr>\n",
              "  </tbody>\n",
              "</table>\n",
              "</div>"
            ],
            "text/plain": [
              "          cb        lgb      likes\n",
              "0   7.774883   7.676336   7.763021\n",
              "1   8.327288   8.406651   8.091015\n",
              "2   5.638850   5.372277   6.364751\n",
              "3  10.952559  10.482385  11.323869\n",
              "4   8.293664   8.075811   8.176954"
            ]
          },
          "metadata": {
            "tags": []
          },
          "execution_count": 57
        }
      ]
    },
    {
      "cell_type": "code",
      "metadata": {
        "id": "3hTjwIYTIih4",
        "outputId": "bfac6c2c-acbb-441b-83de-ddc0613a2e6b",
        "colab": {
          "base_uri": "https://localhost:8080/",
          "height": 195
        }
      },
      "source": [
        "test_new.head()"
      ],
      "execution_count": null,
      "outputs": [
        {
          "output_type": "execute_result",
          "data": {
            "text/html": [
              "<div>\n",
              "<style scoped>\n",
              "    .dataframe tbody tr th:only-of-type {\n",
              "        vertical-align: middle;\n",
              "    }\n",
              "\n",
              "    .dataframe tbody tr th {\n",
              "        vertical-align: top;\n",
              "    }\n",
              "\n",
              "    .dataframe thead th {\n",
              "        text-align: right;\n",
              "    }\n",
              "</style>\n",
              "<table border=\"1\" class=\"dataframe\">\n",
              "  <thead>\n",
              "    <tr style=\"text-align: right;\">\n",
              "      <th></th>\n",
              "      <th>cb</th>\n",
              "      <th>lgb</th>\n",
              "    </tr>\n",
              "  </thead>\n",
              "  <tbody>\n",
              "    <tr>\n",
              "      <th>0</th>\n",
              "      <td>6.657346</td>\n",
              "      <td>6.611014</td>\n",
              "    </tr>\n",
              "    <tr>\n",
              "      <th>1</th>\n",
              "      <td>7.789561</td>\n",
              "      <td>7.863910</td>\n",
              "    </tr>\n",
              "    <tr>\n",
              "      <th>2</th>\n",
              "      <td>3.905570</td>\n",
              "      <td>3.872847</td>\n",
              "    </tr>\n",
              "    <tr>\n",
              "      <th>3</th>\n",
              "      <td>7.923671</td>\n",
              "      <td>7.938582</td>\n",
              "    </tr>\n",
              "    <tr>\n",
              "      <th>4</th>\n",
              "      <td>6.316550</td>\n",
              "      <td>6.248771</td>\n",
              "    </tr>\n",
              "  </tbody>\n",
              "</table>\n",
              "</div>"
            ],
            "text/plain": [
              "         cb       lgb\n",
              "0  6.657346  6.611014\n",
              "1  7.789561  7.863910\n",
              "2  3.905570  3.872847\n",
              "3  7.923671  7.938582\n",
              "4  6.316550  6.248771"
            ]
          },
          "metadata": {
            "tags": []
          },
          "execution_count": 58
        }
      ]
    },
    {
      "cell_type": "code",
      "metadata": {
        "id": "LZ6WIfSdJcUF"
      },
      "source": [
        "features = ['cb','lgb']"
      ],
      "execution_count": null,
      "outputs": []
    },
    {
      "cell_type": "code",
      "metadata": {
        "id": "l-UmTN1fJGHl",
        "outputId": "901038d9-5e0d-448c-f481-deecdbfd41a5",
        "colab": {
          "base_uri": "https://localhost:8080/",
          "height": 1000
        }
      },
      "source": [
        "clf = LGBMRegressor(n_estimators = 1500,\n",
        "                        learning_rate = 0.1,\n",
        "                        colsample_bytree = 0.80,\n",
        "                        metric = 'None',\n",
        "                        )\n",
        "fit_params = {'verbose': 300, 'early_stopping_rounds': 200, 'eval_metric': 'rmse'}\n",
        "\n",
        "lgb_oofs, lgb_preds, fi = run_gradient_boosting(clf, fit_params, train_new, test_new, features)\n"
      ],
      "execution_count": null,
      "outputs": [
        {
          "output_type": "stream",
          "text": [
            "\n",
            "------------- Fold 1 -------------\n",
            "Training until validation scores don't improve for 200 rounds.\n",
            "Early stopping, best iteration is:\n",
            "[43]\tvalid_0's rmse: 0.468386\n",
            "\n",
            "AV metric score for validation set is 468.38607073868457\n",
            "\n",
            "------------- Fold 2 -------------\n",
            "Training until validation scores don't improve for 200 rounds.\n",
            "Early stopping, best iteration is:\n",
            "[56]\tvalid_0's rmse: 0.474437\n",
            "\n",
            "AV metric score for validation set is 474.4374342461445\n",
            "\n",
            "------------- Fold 3 -------------\n",
            "Training until validation scores don't improve for 200 rounds.\n",
            "Early stopping, best iteration is:\n",
            "[51]\tvalid_0's rmse: 0.464306\n",
            "\n",
            "AV metric score for validation set is 464.30621220134964\n",
            "\n",
            "------------- Fold 4 -------------\n",
            "Training until validation scores don't improve for 200 rounds.\n",
            "Early stopping, best iteration is:\n",
            "[56]\tvalid_0's rmse: 0.460376\n",
            "\n",
            "AV metric score for validation set is 460.37637714118097\n",
            "\n",
            "------------- Fold 5 -------------\n",
            "Training until validation scores don't improve for 200 rounds.\n",
            "Early stopping, best iteration is:\n",
            "[60]\tvalid_0's rmse: 0.47246\n",
            "\n",
            "AV metric score for validation set is 472.4598248196098\n",
            "\n",
            "\n",
            "AV metric for oofs is 468.0216681165583\n"
          ],
          "name": "stdout"
        },
        {
          "output_type": "display_data",
          "data": {
            "image/png": "[encoded data removed]",
            "text/plain": [
              "<Figure size 864x432 with 1 Axes>"
            ]
          },
          "metadata": {
            "tags": [],
            "needs_background": "light"
          }
        }
      ]
    },
    {
      "cell_type": "code",
      "metadata": {
        "id": "moWT-s-sJisU",
        "outputId": "0a09710d-7bdf-4609-9eba-70a6879c99ca",
        "colab": {
          "base_uri": "https://localhost:8080/",
          "height": 34
        }
      },
      "source": [
        "ens_preds[:5]"
      ],
      "execution_count": null,
      "outputs": [
        {
          "output_type": "execute_result",
          "data": {
            "text/plain": [
              "array([6.61233883, 7.81956547, 3.69873574, 7.94929105, 6.30380323])"
            ]
          },
          "metadata": {
            "tags": []
          },
          "execution_count": 64
        }
      ]
    },
    {
      "cell_type": "code",
      "metadata": {
        "id": "kR73-iMEKI0U"
      },
      "source": [
        "ens_preds1 = np.expm1(lgb_preds)\n",
        "ens3 = pd.DataFrame({'video_id':test.video_id})\n",
        "ens3['likes'] = ens_preds1"
      ],
      "execution_count": null,
      "outputs": []
    },
    {
      "cell_type": "code",
      "metadata": {
        "id": "DG0C3wLiKUlw",
        "outputId": "287705a2-a030-4a04-c354-369f022f6bb5",
        "colab": {
          "base_uri": "https://localhost:8080/",
          "height": 195
        }
      },
      "source": [
        "ens3.head()"
      ],
      "execution_count": null,
      "outputs": [
        {
          "output_type": "execute_result",
          "data": {
            "text/html": [
              "<div>\n",
              "<style scoped>\n",
              "    .dataframe tbody tr th:only-of-type {\n",
              "        vertical-align: middle;\n",
              "    }\n",
              "\n",
              "    .dataframe tbody tr th {\n",
              "        vertical-align: top;\n",
              "    }\n",
              "\n",
              "    .dataframe thead th {\n",
              "        text-align: right;\n",
              "    }\n",
              "</style>\n",
              "<table border=\"1\" class=\"dataframe\">\n",
              "  <thead>\n",
              "    <tr style=\"text-align: right;\">\n",
              "      <th></th>\n",
              "      <th>video_id</th>\n",
              "      <th>likes</th>\n",
              "    </tr>\n",
              "  </thead>\n",
              "  <tbody>\n",
              "    <tr>\n",
              "      <th>0</th>\n",
              "      <td>87185</td>\n",
              "      <td>737.010572</td>\n",
              "    </tr>\n",
              "    <tr>\n",
              "      <th>1</th>\n",
              "      <td>9431</td>\n",
              "      <td>2461.918658</td>\n",
              "    </tr>\n",
              "    <tr>\n",
              "      <th>2</th>\n",
              "      <td>40599</td>\n",
              "      <td>40.903601</td>\n",
              "    </tr>\n",
              "    <tr>\n",
              "      <th>3</th>\n",
              "      <td>494</td>\n",
              "      <td>2849.113882</td>\n",
              "    </tr>\n",
              "    <tr>\n",
              "      <th>4</th>\n",
              "      <td>73942</td>\n",
              "      <td>550.309013</td>\n",
              "    </tr>\n",
              "  </tbody>\n",
              "</table>\n",
              "</div>"
            ],
            "text/plain": [
              "   video_id        likes\n",
              "0     87185   737.010572\n",
              "1      9431  2461.918658\n",
              "2     40599    40.903601\n",
              "3       494  2849.113882\n",
              "4     73942   550.309013"
            ]
          },
          "metadata": {
            "tags": []
          },
          "execution_count": 83
        }
      ]
    },
    {
      "cell_type": "code",
      "metadata": {
        "id": "lvZdIyh4Kay0"
      },
      "source": [
        "ens3.to_csv('/content/drive/My Drive/Colab Notebooks/ens2_meta.csv', index=False)"
      ],
      "execution_count": null,
      "outputs": []
    },
    {
      "cell_type": "code",
      "metadata": {
        "id": "DO6-CWAMNj3Q"
      },
      "source": [
        "df1 = df.copy()"
      ],
      "execution_count": null,
      "outputs": []
    },
    {
      "cell_type": "markdown",
      "metadata": {
        "id": "V4QbIhdsNjHZ"
      },
      "source": [
        ""
      ]
    },
    {
      "cell_type": "code",
      "metadata": {
        "id": "Vrjhl_3uKkiP"
      },
      "source": [
        "#df['cat_mean_views'] = df.groupby('category_id')['views'].transform('mean')\n",
        "#df['cat_max_views'] = df.groupby('category_id')['views'].transform('max')\n",
        "#df['cat_min_views'] = df.groupby('category_id')['views'].transform('min')\n",
        "\n",
        "#df['cat_comments'] = df.groupby('category_id')['comment_count'].transform('mean')\n",
        "#df['cat_comments'] = df.groupby('category_id')['comment_count'].transform('max')\n",
        "#df['cat_comments'] = df.groupby('category_id')['comment_count'].transform('min')"
      ],
      "execution_count": null,
      "outputs": []
    },
    {
      "cell_type": "code",
      "metadata": {
        "id": "Nr479DrqNn8k"
      },
      "source": [
        "train_proc, test_proc, features = split_df_and_get_features(df, train.shape[0])\n",
        "features = [c for c in df.columns if c not in [ID_COL, TARGET_COL]]\n",
        "cat_num_cols = [c for c in features if c not in ['title', 'tags', 'description', 'publish_date']]"
      ],
      "execution_count": null,
      "outputs": []
    },
    {
      "cell_type": "code",
      "metadata": {
        "id": "MdrY0R0ENte6",
        "outputId": "ed4a2dc3-f98d-43f0-9732-70fe0f459532",
        "colab": {
          "base_uri": "https://localhost:8080/",
          "height": 438
        }
      },
      "source": [
        "clf = LGBMRegressor(n_estimators = 5000,\n",
        "                        learning_rate = 0.05,\n",
        "                        colsample_bytree = 0.75,\n",
        "                        metric = 'None',\n",
        "                        )\n",
        "fit_params = {'verbose': 300, 'early_stopping_rounds': 200, 'eval_metric': 'rmse'}\n",
        "\n",
        "lgb_oofs, lgb_preds, fi = run_gradient_boosting(clf, fit_params, train_proc, test_proc, cat_num_cols)"
      ],
      "execution_count": null,
      "outputs": [
        {
          "output_type": "stream",
          "text": [
            "\n",
            "------------- Fold 1 -------------\n",
            "Training until validation scores don't improve for 200 rounds.\n",
            "[300]\tvalid_0's rmse: 0.532779\n",
            "[600]\tvalid_0's rmse: 0.50853\n",
            "[900]\tvalid_0's rmse: 0.497628\n"
          ],
          "name": "stdout"
        },
        {
          "output_type": "error",
          "ename": "KeyboardInterrupt",
          "evalue": "ignored",
          "traceback": [
            "\u001b[0;31m---------------------------------------------------------------------------\u001b[0m",
            "\u001b[0;31mKeyboardInterrupt\u001b[0m                         Traceback (most recent call last)",
            "\u001b[0;32m<ipython-input-93-77e1cfc75233>\u001b[0m in \u001b[0;36m<module>\u001b[0;34m()\u001b[0m\n\u001b[1;32m      6\u001b[0m \u001b[0mfit_params\u001b[0m \u001b[0;34m=\u001b[0m \u001b[0;34m{\u001b[0m\u001b[0;34m'verbose'\u001b[0m\u001b[0;34m:\u001b[0m \u001b[0;36m300\u001b[0m\u001b[0;34m,\u001b[0m \u001b[0;34m'early_stopping_rounds'\u001b[0m\u001b[0;34m:\u001b[0m \u001b[0;36m200\u001b[0m\u001b[0;34m,\u001b[0m \u001b[0;34m'eval_metric'\u001b[0m\u001b[0;34m:\u001b[0m \u001b[0;34m'rmse'\u001b[0m\u001b[0;34m}\u001b[0m\u001b[0;34m\u001b[0m\u001b[0;34m\u001b[0m\u001b[0m\n\u001b[1;32m      7\u001b[0m \u001b[0;34m\u001b[0m\u001b[0m\n\u001b[0;32m----> 8\u001b[0;31m \u001b[0mlgb_oofs\u001b[0m\u001b[0;34m,\u001b[0m \u001b[0mlgb_preds\u001b[0m\u001b[0;34m,\u001b[0m \u001b[0mfi\u001b[0m \u001b[0;34m=\u001b[0m \u001b[0mrun_gradient_boosting\u001b[0m\u001b[0;34m(\u001b[0m\u001b[0mclf\u001b[0m\u001b[0;34m,\u001b[0m \u001b[0mfit_params\u001b[0m\u001b[0;34m,\u001b[0m \u001b[0mtrain_proc\u001b[0m\u001b[0;34m,\u001b[0m \u001b[0mtest_proc\u001b[0m\u001b[0;34m,\u001b[0m \u001b[0mcat_num_cols\u001b[0m\u001b[0;34m)\u001b[0m\u001b[0;34m\u001b[0m\u001b[0;34m\u001b[0m\u001b[0m\n\u001b[0m",
            "\u001b[0;32m<ipython-input-5-41f33d95b08c>\u001b[0m in \u001b[0;36mrun_gradient_boosting\u001b[0;34m(clf, fit_params, train, test, features)\u001b[0m\n\u001b[1;32m     36\u001b[0m         \u001b[0mX_test\u001b[0m \u001b[0;34m=\u001b[0m \u001b[0mscaler\u001b[0m\u001b[0;34m.\u001b[0m\u001b[0mtransform\u001b[0m\u001b[0;34m(\u001b[0m\u001b[0mX_test\u001b[0m\u001b[0;34m)\u001b[0m\u001b[0;34m\u001b[0m\u001b[0;34m\u001b[0m\u001b[0m\n\u001b[1;32m     37\u001b[0m \u001b[0;34m\u001b[0m\u001b[0m\n\u001b[0;32m---> 38\u001b[0;31m         \u001b[0m_\u001b[0m \u001b[0;34m=\u001b[0m \u001b[0mclf\u001b[0m\u001b[0;34m.\u001b[0m\u001b[0mfit\u001b[0m\u001b[0;34m(\u001b[0m\u001b[0mX_trn\u001b[0m\u001b[0;34m,\u001b[0m \u001b[0my_trn\u001b[0m\u001b[0;34m,\u001b[0m \u001b[0meval_set\u001b[0m \u001b[0;34m=\u001b[0m \u001b[0;34m[\u001b[0m\u001b[0;34m(\u001b[0m\u001b[0mX_val\u001b[0m\u001b[0;34m,\u001b[0m \u001b[0my_val\u001b[0m\u001b[0;34m)\u001b[0m\u001b[0;34m]\u001b[0m\u001b[0;34m,\u001b[0m \u001b[0;34m**\u001b[0m\u001b[0mfit_params\u001b[0m\u001b[0;34m)\u001b[0m\u001b[0;34m\u001b[0m\u001b[0;34m\u001b[0m\u001b[0m\n\u001b[0m\u001b[1;32m     39\u001b[0m \u001b[0;34m\u001b[0m\u001b[0m\n\u001b[1;32m     40\u001b[0m         \u001b[0mfold_importance\u001b[0m \u001b[0;34m=\u001b[0m \u001b[0mpd\u001b[0m\u001b[0;34m.\u001b[0m\u001b[0mDataFrame\u001b[0m\u001b[0;34m(\u001b[0m\u001b[0;34m{\u001b[0m\u001b[0;34m'fold'\u001b[0m\u001b[0;34m:\u001b[0m \u001b[0mfold_\u001b[0m \u001b[0;34m+\u001b[0m \u001b[0;36m1\u001b[0m\u001b[0;34m,\u001b[0m \u001b[0;34m'feature'\u001b[0m\u001b[0;34m:\u001b[0m \u001b[0mfeatures\u001b[0m\u001b[0;34m,\u001b[0m \u001b[0;34m'importance'\u001b[0m\u001b[0;34m:\u001b[0m \u001b[0mclf\u001b[0m\u001b[0;34m.\u001b[0m\u001b[0mfeature_importances_\u001b[0m\u001b[0;34m}\u001b[0m\u001b[0;34m)\u001b[0m\u001b[0;34m\u001b[0m\u001b[0;34m\u001b[0m\u001b[0m\n",
            "\u001b[0;32m/usr/local/lib/python3.6/dist-packages/lightgbm/sklearn.py\u001b[0m in \u001b[0;36mfit\u001b[0;34m(self, X, y, sample_weight, init_score, eval_set, eval_names, eval_sample_weight, eval_init_score, eval_metric, early_stopping_rounds, verbose, feature_name, categorical_feature, callbacks)\u001b[0m\n\u001b[1;32m    683\u001b[0m                                        \u001b[0mverbose\u001b[0m\u001b[0;34m=\u001b[0m\u001b[0mverbose\u001b[0m\u001b[0;34m,\u001b[0m \u001b[0mfeature_name\u001b[0m\u001b[0;34m=\u001b[0m\u001b[0mfeature_name\u001b[0m\u001b[0;34m,\u001b[0m\u001b[0;34m\u001b[0m\u001b[0;34m\u001b[0m\u001b[0m\n\u001b[1;32m    684\u001b[0m                                        \u001b[0mcategorical_feature\u001b[0m\u001b[0;34m=\u001b[0m\u001b[0mcategorical_feature\u001b[0m\u001b[0;34m,\u001b[0m\u001b[0;34m\u001b[0m\u001b[0;34m\u001b[0m\u001b[0m\n\u001b[0;32m--> 685\u001b[0;31m                                        callbacks=callbacks)\n\u001b[0m\u001b[1;32m    686\u001b[0m         \u001b[0;32mreturn\u001b[0m \u001b[0mself\u001b[0m\u001b[0;34m\u001b[0m\u001b[0;34m\u001b[0m\u001b[0m\n\u001b[1;32m    687\u001b[0m \u001b[0;34m\u001b[0m\u001b[0m\n",
            "\u001b[0;32m/usr/local/lib/python3.6/dist-packages/lightgbm/sklearn.py\u001b[0m in \u001b[0;36mfit\u001b[0;34m(self, X, y, sample_weight, init_score, group, eval_set, eval_names, eval_sample_weight, eval_class_weight, eval_init_score, eval_group, eval_metric, early_stopping_rounds, verbose, feature_name, categorical_feature, callbacks)\u001b[0m\n\u001b[1;32m    542\u001b[0m                               \u001b[0mverbose_eval\u001b[0m\u001b[0;34m=\u001b[0m\u001b[0mverbose\u001b[0m\u001b[0;34m,\u001b[0m \u001b[0mfeature_name\u001b[0m\u001b[0;34m=\u001b[0m\u001b[0mfeature_name\u001b[0m\u001b[0;34m,\u001b[0m\u001b[0;34m\u001b[0m\u001b[0;34m\u001b[0m\u001b[0m\n\u001b[1;32m    543\u001b[0m                               \u001b[0mcategorical_feature\u001b[0m\u001b[0;34m=\u001b[0m\u001b[0mcategorical_feature\u001b[0m\u001b[0;34m,\u001b[0m\u001b[0;34m\u001b[0m\u001b[0;34m\u001b[0m\u001b[0m\n\u001b[0;32m--> 544\u001b[0;31m                               callbacks=callbacks)\n\u001b[0m\u001b[1;32m    545\u001b[0m \u001b[0;34m\u001b[0m\u001b[0m\n\u001b[1;32m    546\u001b[0m         \u001b[0;32mif\u001b[0m \u001b[0mevals_result\u001b[0m\u001b[0;34m:\u001b[0m\u001b[0;34m\u001b[0m\u001b[0;34m\u001b[0m\u001b[0m\n",
            "\u001b[0;32m/usr/local/lib/python3.6/dist-packages/lightgbm/engine.py\u001b[0m in \u001b[0;36mtrain\u001b[0;34m(params, train_set, num_boost_round, valid_sets, valid_names, fobj, feval, init_model, feature_name, categorical_feature, early_stopping_rounds, evals_result, verbose_eval, learning_rates, keep_training_booster, callbacks)\u001b[0m\n\u001b[1;32m    216\u001b[0m                                     evaluation_result_list=None))\n\u001b[1;32m    217\u001b[0m \u001b[0;34m\u001b[0m\u001b[0m\n\u001b[0;32m--> 218\u001b[0;31m         \u001b[0mbooster\u001b[0m\u001b[0;34m.\u001b[0m\u001b[0mupdate\u001b[0m\u001b[0;34m(\u001b[0m\u001b[0mfobj\u001b[0m\u001b[0;34m=\u001b[0m\u001b[0mfobj\u001b[0m\u001b[0;34m)\u001b[0m\u001b[0;34m\u001b[0m\u001b[0;34m\u001b[0m\u001b[0m\n\u001b[0m\u001b[1;32m    219\u001b[0m \u001b[0;34m\u001b[0m\u001b[0m\n\u001b[1;32m    220\u001b[0m         \u001b[0mevaluation_result_list\u001b[0m \u001b[0;34m=\u001b[0m \u001b[0;34m[\u001b[0m\u001b[0;34m]\u001b[0m\u001b[0;34m\u001b[0m\u001b[0;34m\u001b[0m\u001b[0m\n",
            "\u001b[0;32m/usr/local/lib/python3.6/dist-packages/lightgbm/basic.py\u001b[0m in \u001b[0;36mupdate\u001b[0;34m(self, train_set, fobj)\u001b[0m\n\u001b[1;32m   1800\u001b[0m             _safe_call(_LIB.LGBM_BoosterUpdateOneIter(\n\u001b[1;32m   1801\u001b[0m                 \u001b[0mself\u001b[0m\u001b[0;34m.\u001b[0m\u001b[0mhandle\u001b[0m\u001b[0;34m,\u001b[0m\u001b[0;34m\u001b[0m\u001b[0;34m\u001b[0m\u001b[0m\n\u001b[0;32m-> 1802\u001b[0;31m                 ctypes.byref(is_finished)))\n\u001b[0m\u001b[1;32m   1803\u001b[0m             \u001b[0mself\u001b[0m\u001b[0;34m.\u001b[0m\u001b[0m__is_predicted_cur_iter\u001b[0m \u001b[0;34m=\u001b[0m \u001b[0;34m[\u001b[0m\u001b[0;32mFalse\u001b[0m \u001b[0;32mfor\u001b[0m \u001b[0m_\u001b[0m \u001b[0;32min\u001b[0m \u001b[0mrange_\u001b[0m\u001b[0;34m(\u001b[0m\u001b[0mself\u001b[0m\u001b[0;34m.\u001b[0m\u001b[0m__num_dataset\u001b[0m\u001b[0;34m)\u001b[0m\u001b[0;34m]\u001b[0m\u001b[0;34m\u001b[0m\u001b[0;34m\u001b[0m\u001b[0m\n\u001b[1;32m   1804\u001b[0m             \u001b[0;32mreturn\u001b[0m \u001b[0mis_finished\u001b[0m\u001b[0;34m.\u001b[0m\u001b[0mvalue\u001b[0m \u001b[0;34m==\u001b[0m \u001b[0;36m1\u001b[0m\u001b[0;34m\u001b[0m\u001b[0;34m\u001b[0m\u001b[0m\n",
            "\u001b[0;31mKeyboardInterrupt\u001b[0m: "
          ]
        }
      ]
    },
    {
      "cell_type": "code",
      "metadata": {
        "id": "mMBPoZexN1Sc"
      },
      "source": [
        "df = df1.copy()"
      ],
      "execution_count": null,
      "outputs": []
    },
    {
      "cell_type": "code",
      "metadata": {
        "id": "_htJlMY0djjD"
      },
      "source": [
        ""
      ],
      "execution_count": null,
      "outputs": []
    },
    {
      "cell_type": "code",
      "metadata": {
        "id": "aHY29pFfDZkO",
        "outputId": "aa2a08ed-8488-47fe-b132-0c4f8251762e",
        "colab": {
          "base_uri": "https://localhost:8080/",
          "height": 1000
        }
      },
      "source": [
        "#without rank\n",
        "clf = XGBRegressor(n_estimators = 5000,\n",
        "                    max_depth = 6,\n",
        "                    learning_rate = 0.08,\n",
        "                    colsample_bytree = 0.65,\n",
        "                    random_state=1452,\n",
        "                    )\n",
        "\n",
        "fit_params = {'verbose': 200, 'early_stopping_rounds': 200}\n",
        "\n",
        "xgb_oofs1, xgb_preds1, fi = run_gradient_boosting(clf, fit_params, train_proc, test_proc, cat_num_cols)"
      ],
      "execution_count": 45,
      "outputs": [
        {
          "output_type": "stream",
          "text": [
            "\n",
            "------------- Fold 1 -------------\n",
            "[11:01:27] WARNING: /workspace/src/objective/regression_obj.cu:152: reg:linear is now deprecated in favor of reg:squarederror.\n",
            "[0]\tvalidation_0-rmse:6.91435\n",
            "Will train until validation_0-rmse hasn't improved in 200 rounds.\n",
            "[200]\tvalidation_0-rmse:0.523917\n",
            "[400]\tvalidation_0-rmse:0.503779\n",
            "[600]\tvalidation_0-rmse:0.493385\n",
            "[800]\tvalidation_0-rmse:0.487876\n",
            "[1000]\tvalidation_0-rmse:0.485182\n",
            "[1200]\tvalidation_0-rmse:0.483074\n",
            "[1400]\tvalidation_0-rmse:0.482307\n",
            "[1600]\tvalidation_0-rmse:0.481049\n",
            "[1800]\tvalidation_0-rmse:0.48029\n",
            "[2000]\tvalidation_0-rmse:0.479666\n",
            "[2200]\tvalidation_0-rmse:0.479483\n",
            "[2400]\tvalidation_0-rmse:0.479064\n",
            "[2600]\tvalidation_0-rmse:0.47897\n",
            "[2800]\tvalidation_0-rmse:0.478648\n",
            "[3000]\tvalidation_0-rmse:0.478533\n",
            "[3200]\tvalidation_0-rmse:0.478351\n",
            "[3400]\tvalidation_0-rmse:0.478197\n",
            "[3600]\tvalidation_0-rmse:0.478128\n",
            "[3800]\tvalidation_0-rmse:0.478091\n",
            "Stopping. Best iteration:\n",
            "[3624]\tvalidation_0-rmse:0.47806\n",
            "\n",
            "\n",
            "AV metric score for validation set is 478.0605458013369\n",
            "\n",
            "------------- Fold 2 -------------\n",
            "[11:06:13] WARNING: /workspace/src/objective/regression_obj.cu:152: reg:linear is now deprecated in favor of reg:squarederror.\n",
            "[0]\tvalidation_0-rmse:6.90256\n",
            "Will train until validation_0-rmse hasn't improved in 200 rounds.\n",
            "[200]\tvalidation_0-rmse:0.521968\n",
            "[400]\tvalidation_0-rmse:0.501302\n",
            "[600]\tvalidation_0-rmse:0.491705\n",
            "[800]\tvalidation_0-rmse:0.486324\n",
            "[1000]\tvalidation_0-rmse:0.482747\n",
            "[1200]\tvalidation_0-rmse:0.479998\n",
            "[1400]\tvalidation_0-rmse:0.478141\n",
            "[1600]\tvalidation_0-rmse:0.476781\n",
            "[1800]\tvalidation_0-rmse:0.476139\n",
            "[2000]\tvalidation_0-rmse:0.475657\n",
            "[2200]\tvalidation_0-rmse:0.475261\n",
            "[2400]\tvalidation_0-rmse:0.47457\n",
            "[2600]\tvalidation_0-rmse:0.474096\n",
            "[2800]\tvalidation_0-rmse:0.473947\n",
            "[3000]\tvalidation_0-rmse:0.473739\n",
            "[3200]\tvalidation_0-rmse:0.473533\n",
            "[3400]\tvalidation_0-rmse:0.473543\n",
            "Stopping. Best iteration:\n",
            "[3258]\tvalidation_0-rmse:0.473476\n",
            "\n",
            "\n",
            "AV metric score for validation set is 473.47574732058644\n",
            "\n",
            "------------- Fold 3 -------------\n",
            "[11:10:33] WARNING: /workspace/src/objective/regression_obj.cu:152: reg:linear is now deprecated in favor of reg:squarederror.\n",
            "[0]\tvalidation_0-rmse:6.89565\n",
            "Will train until validation_0-rmse hasn't improved in 200 rounds.\n",
            "[200]\tvalidation_0-rmse:0.506806\n",
            "[400]\tvalidation_0-rmse:0.488133\n",
            "[600]\tvalidation_0-rmse:0.477268\n",
            "[800]\tvalidation_0-rmse:0.47102\n",
            "[1000]\tvalidation_0-rmse:0.469072\n",
            "[1200]\tvalidation_0-rmse:0.467052\n",
            "[1400]\tvalidation_0-rmse:0.465812\n",
            "[1600]\tvalidation_0-rmse:0.464799\n",
            "[1800]\tvalidation_0-rmse:0.464171\n",
            "[2000]\tvalidation_0-rmse:0.464026\n",
            "[2200]\tvalidation_0-rmse:0.463696\n",
            "[2400]\tvalidation_0-rmse:0.463312\n",
            "[2600]\tvalidation_0-rmse:0.463088\n",
            "[2800]\tvalidation_0-rmse:0.463085\n",
            "Stopping. Best iteration:\n",
            "[2639]\tvalidation_0-rmse:0.462999\n",
            "\n",
            "\n",
            "AV metric score for validation set is 462.9991176587377\n",
            "\n",
            "------------- Fold 4 -------------\n",
            "[11:14:04] WARNING: /workspace/src/objective/regression_obj.cu:152: reg:linear is now deprecated in favor of reg:squarederror.\n",
            "[0]\tvalidation_0-rmse:6.89775\n",
            "Will train until validation_0-rmse hasn't improved in 200 rounds.\n",
            "[200]\tvalidation_0-rmse:0.50798\n",
            "[400]\tvalidation_0-rmse:0.486653\n",
            "[600]\tvalidation_0-rmse:0.477441\n",
            "[800]\tvalidation_0-rmse:0.471486\n",
            "[1000]\tvalidation_0-rmse:0.467751\n",
            "[1200]\tvalidation_0-rmse:0.465855\n",
            "[1400]\tvalidation_0-rmse:0.464464\n",
            "[1600]\tvalidation_0-rmse:0.463279\n",
            "[1800]\tvalidation_0-rmse:0.462474\n",
            "[2000]\tvalidation_0-rmse:0.461815\n",
            "[2200]\tvalidation_0-rmse:0.461228\n",
            "[2400]\tvalidation_0-rmse:0.461056\n",
            "[2600]\tvalidation_0-rmse:0.460672\n",
            "[2800]\tvalidation_0-rmse:0.460277\n",
            "[3000]\tvalidation_0-rmse:0.460121\n",
            "[3200]\tvalidation_0-rmse:0.459866\n",
            "[3400]\tvalidation_0-rmse:0.459769\n",
            "[3600]\tvalidation_0-rmse:0.459691\n",
            "[3800]\tvalidation_0-rmse:0.45966\n",
            "[4000]\tvalidation_0-rmse:0.45952\n",
            "[4200]\tvalidation_0-rmse:0.459489\n",
            "Stopping. Best iteration:\n",
            "[4085]\tvalidation_0-rmse:0.459461\n",
            "\n",
            "\n",
            "AV metric score for validation set is 459.460927144174\n",
            "\n",
            "------------- Fold 5 -------------\n",
            "[11:19:23] WARNING: /workspace/src/objective/regression_obj.cu:152: reg:linear is now deprecated in favor of reg:squarederror.\n",
            "[0]\tvalidation_0-rmse:6.89659\n",
            "Will train until validation_0-rmse hasn't improved in 200 rounds.\n",
            "[200]\tvalidation_0-rmse:0.518098\n",
            "[400]\tvalidation_0-rmse:0.498468\n",
            "[600]\tvalidation_0-rmse:0.490009\n",
            "[800]\tvalidation_0-rmse:0.485444\n",
            "[1000]\tvalidation_0-rmse:0.48298\n",
            "[1200]\tvalidation_0-rmse:0.481113\n",
            "[1400]\tvalidation_0-rmse:0.479793\n",
            "[1600]\tvalidation_0-rmse:0.4788\n",
            "[1800]\tvalidation_0-rmse:0.478656\n",
            "[2000]\tvalidation_0-rmse:0.477996\n",
            "[2200]\tvalidation_0-rmse:0.477453\n",
            "[2400]\tvalidation_0-rmse:0.477144\n",
            "[2600]\tvalidation_0-rmse:0.476718\n",
            "[2800]\tvalidation_0-rmse:0.476644\n",
            "[3000]\tvalidation_0-rmse:0.47638\n",
            "[3200]\tvalidation_0-rmse:0.476155\n",
            "[3400]\tvalidation_0-rmse:0.475987\n",
            "[3600]\tvalidation_0-rmse:0.475906\n",
            "[3800]\tvalidation_0-rmse:0.475746\n",
            "Stopping. Best iteration:\n",
            "[3792]\tvalidation_0-rmse:0.47574\n",
            "\n",
            "\n",
            "AV metric score for validation set is 475.73976873548753\n",
            "\n",
            "\n",
            "AV metric for oofs is 470.00499745057897\n"
          ],
          "name": "stdout"
        },
        {
          "output_type": "display_data",
          "data": {
            "image/png": "[encoded data removed]",
            "text/plain": [
              "<Figure size 864x432 with 1 Axes>"
            ]
          },
          "metadata": {
            "tags": [],
            "needs_background": "light"
          }
        }
      ]
    },
    {
      "cell_type": "markdown",
      "metadata": {
        "id": "G3_anuOyOp9I"
      },
      "source": [
        "xgb"
      ]
    },
    {
      "cell_type": "code",
      "metadata": {
        "id": "JYOU1ac-P0F1",
        "outputId": "1b56165e-22ed-4a6c-bf5c-034ffdc1c999",
        "colab": {
          "base_uri": "https://localhost:8080/",
          "height": 1000
        }
      },
      "source": [
        "#with rank\n",
        "clf = XGBRegressor(n_estimators = 5000,\n",
        "                    max_depth = 6,\n",
        "                    learning_rate = 0.08,\n",
        "                    colsample_bytree = 0.65,\n",
        "                    random_state=1452,\n",
        "                    )\n",
        "\n",
        "fit_params = {'verbose': 200, 'early_stopping_rounds': 200}\n",
        "\n",
        "xgb_oofs, xgb_preds, fi = run_gradient_boosting(clf, fit_params, train_proc1, test_proc1, cat_num_cols1)"
      ],
      "execution_count": 71,
      "outputs": [
        {
          "output_type": "stream",
          "text": [
            "\n",
            "------------- Fold 1 -------------\n",
            "[16:04:22] WARNING: /workspace/src/objective/regression_obj.cu:152: reg:linear is now deprecated in favor of reg:squarederror.\n",
            "[0]\tvalidation_0-rmse:6.91435\n",
            "Will train until validation_0-rmse hasn't improved in 200 rounds.\n",
            "[200]\tvalidation_0-rmse:0.526189\n",
            "[400]\tvalidation_0-rmse:0.504385\n",
            "[600]\tvalidation_0-rmse:0.495325\n",
            "[800]\tvalidation_0-rmse:0.490234\n",
            "[1000]\tvalidation_0-rmse:0.48582\n",
            "[1200]\tvalidation_0-rmse:0.483719\n",
            "[1400]\tvalidation_0-rmse:0.482024\n",
            "[1600]\tvalidation_0-rmse:0.480561\n",
            "[1800]\tvalidation_0-rmse:0.479412\n",
            "[2000]\tvalidation_0-rmse:0.47845\n",
            "[2200]\tvalidation_0-rmse:0.477905\n",
            "[2400]\tvalidation_0-rmse:0.47727\n",
            "[2600]\tvalidation_0-rmse:0.47696\n",
            "[2800]\tvalidation_0-rmse:0.476757\n",
            "[3000]\tvalidation_0-rmse:0.476782\n",
            "[3200]\tvalidation_0-rmse:0.476709\n",
            "Stopping. Best iteration:\n",
            "[3095]\tvalidation_0-rmse:0.476568\n",
            "\n",
            "\n",
            "AV metric score for validation set is 476.5683295343605\n",
            "\n",
            "------------- Fold 2 -------------\n",
            "[16:08:31] WARNING: /workspace/src/objective/regression_obj.cu:152: reg:linear is now deprecated in favor of reg:squarederror.\n",
            "[0]\tvalidation_0-rmse:6.90253\n",
            "Will train until validation_0-rmse hasn't improved in 200 rounds.\n",
            "[200]\tvalidation_0-rmse:0.525328\n",
            "[400]\tvalidation_0-rmse:0.502769\n",
            "[600]\tvalidation_0-rmse:0.493908\n",
            "[800]\tvalidation_0-rmse:0.489013\n",
            "[1000]\tvalidation_0-rmse:0.486445\n",
            "[1200]\tvalidation_0-rmse:0.48506\n",
            "[1400]\tvalidation_0-rmse:0.483784\n",
            "[1600]\tvalidation_0-rmse:0.483055\n",
            "[1800]\tvalidation_0-rmse:0.482155\n",
            "[2000]\tvalidation_0-rmse:0.481219\n",
            "[2200]\tvalidation_0-rmse:0.480697\n",
            "[2400]\tvalidation_0-rmse:0.480409\n",
            "[2600]\tvalidation_0-rmse:0.480259\n",
            "[2800]\tvalidation_0-rmse:0.479984\n",
            "[3000]\tvalidation_0-rmse:0.47988\n",
            "Stopping. Best iteration:\n",
            "[2979]\tvalidation_0-rmse:0.479861\n",
            "\n",
            "\n",
            "AV metric score for validation set is 479.86141749903237\n",
            "\n",
            "------------- Fold 3 -------------\n",
            "[16:12:27] WARNING: /workspace/src/objective/regression_obj.cu:152: reg:linear is now deprecated in favor of reg:squarederror.\n",
            "[0]\tvalidation_0-rmse:6.89565\n",
            "Will train until validation_0-rmse hasn't improved in 200 rounds.\n",
            "[200]\tvalidation_0-rmse:0.507079\n",
            "[400]\tvalidation_0-rmse:0.487115\n",
            "[600]\tvalidation_0-rmse:0.477272\n",
            "[800]\tvalidation_0-rmse:0.471381\n",
            "[1000]\tvalidation_0-rmse:0.468209\n",
            "[1200]\tvalidation_0-rmse:0.466448\n",
            "[1400]\tvalidation_0-rmse:0.465583\n",
            "[1600]\tvalidation_0-rmse:0.465007\n",
            "[1800]\tvalidation_0-rmse:0.464177\n",
            "[2000]\tvalidation_0-rmse:0.463249\n",
            "[2200]\tvalidation_0-rmse:0.462961\n",
            "[2400]\tvalidation_0-rmse:0.462887\n",
            "[2600]\tvalidation_0-rmse:0.462804\n",
            "Stopping. Best iteration:\n",
            "[2542]\tvalidation_0-rmse:0.462735\n",
            "\n",
            "\n",
            "AV metric score for validation set is 462.734751801681\n",
            "\n",
            "------------- Fold 4 -------------\n",
            "[16:15:50] WARNING: /workspace/src/objective/regression_obj.cu:152: reg:linear is now deprecated in favor of reg:squarederror.\n",
            "[0]\tvalidation_0-rmse:6.89775\n",
            "Will train until validation_0-rmse hasn't improved in 200 rounds.\n",
            "[200]\tvalidation_0-rmse:0.508159\n",
            "[400]\tvalidation_0-rmse:0.486489\n",
            "[600]\tvalidation_0-rmse:0.476249\n",
            "[800]\tvalidation_0-rmse:0.470865\n",
            "[1000]\tvalidation_0-rmse:0.467645\n",
            "[1200]\tvalidation_0-rmse:0.465166\n",
            "[1400]\tvalidation_0-rmse:0.464255\n",
            "[1600]\tvalidation_0-rmse:0.462947\n",
            "[1800]\tvalidation_0-rmse:0.462422\n",
            "[2000]\tvalidation_0-rmse:0.461543\n",
            "[2200]\tvalidation_0-rmse:0.460937\n",
            "[2400]\tvalidation_0-rmse:0.460639\n",
            "[2600]\tvalidation_0-rmse:0.460233\n",
            "[2800]\tvalidation_0-rmse:0.45976\n",
            "Stopping. Best iteration:\n",
            "[2795]\tvalidation_0-rmse:0.459748\n",
            "\n",
            "\n",
            "AV metric score for validation set is 459.74838980368463\n",
            "\n",
            "------------- Fold 5 -------------\n",
            "[16:19:35] WARNING: /workspace/src/objective/regression_obj.cu:152: reg:linear is now deprecated in favor of reg:squarederror.\n",
            "[0]\tvalidation_0-rmse:6.89656\n",
            "Will train until validation_0-rmse hasn't improved in 200 rounds.\n",
            "[200]\tvalidation_0-rmse:0.513611\n",
            "[400]\tvalidation_0-rmse:0.4987\n",
            "[600]\tvalidation_0-rmse:0.491433\n",
            "[800]\tvalidation_0-rmse:0.487451\n",
            "[1000]\tvalidation_0-rmse:0.483736\n",
            "[1200]\tvalidation_0-rmse:0.481393\n",
            "[1400]\tvalidation_0-rmse:0.479695\n",
            "[1600]\tvalidation_0-rmse:0.47804\n",
            "[1800]\tvalidation_0-rmse:0.47711\n",
            "[2000]\tvalidation_0-rmse:0.476812\n",
            "[2200]\tvalidation_0-rmse:0.476717\n",
            "[2400]\tvalidation_0-rmse:0.476104\n",
            "[2600]\tvalidation_0-rmse:0.475625\n",
            "[2800]\tvalidation_0-rmse:0.475515\n",
            "[3000]\tvalidation_0-rmse:0.47542\n",
            "[3200]\tvalidation_0-rmse:0.475381\n",
            "Stopping. Best iteration:\n",
            "[3089]\tvalidation_0-rmse:0.47523\n",
            "\n",
            "\n",
            "AV metric score for validation set is 475.23039057551614\n",
            "\n",
            "\n",
            "AV metric for oofs is 470.8973009496422\n"
          ],
          "name": "stdout"
        },
        {
          "output_type": "display_data",
          "data": {
            "image/png": "[encoded data removed]",
            "text/plain": [
              "<Figure size 864x432 with 1 Axes>"
            ]
          },
          "metadata": {
            "tags": [],
            "needs_background": "light"
          }
        }
      ]
    },
    {
      "cell_type": "code",
      "metadata": {
        "id": "Knf0WRFJbTuP"
      },
      "source": [
        "lr_train['xgb1'] = xgb_oofs\n",
        "lr_test['xgb1'] = xgb_preds"
      ],
      "execution_count": 72,
      "outputs": []
    },
    {
      "cell_type": "code",
      "metadata": {
        "id": "sOzIvMQEeawG"
      },
      "source": [
        "from xgboost import XGBRegressor"
      ],
      "execution_count": 69,
      "outputs": []
    },
    {
      "cell_type": "code",
      "metadata": {
        "id": "sskl03gnIY5L"
      },
      "source": [
        "df1 = df.copy()\n",
        "df1.drop(['RANK_channel_views', 'RANK_channel_cmnt'], axis=1, inplace=True)"
      ],
      "execution_count": 36,
      "outputs": []
    },
    {
      "cell_type": "code",
      "metadata": {
        "id": "Igz3JPyiefJ3",
        "outputId": "5953f93e-c2b5-423e-a7f2-4324fa0b490b",
        "colab": {
          "base_uri": "https://localhost:8080/",
          "height": 34
        }
      },
      "source": [
        "av_metric(train_proc['likes'], 0.31*lgb_oofs + 0.34*xgb_oofs + 0.35*cb_oofs1)"
      ],
      "execution_count": 50,
      "outputs": [
        {
          "output_type": "execute_result",
          "data": {
            "text/plain": [
              "459.05893355307444"
            ]
          },
          "metadata": {
            "tags": []
          },
          "execution_count": 50
        }
      ]
    },
    {
      "cell_type": "code",
      "metadata": {
        "id": "pBm7EongYNZN",
        "outputId": "5cfb7e77-f422-49a9-f7d2-120519856f2f",
        "colab": {
          "base_uri": "https://localhost:8080/",
          "height": 34
        }
      },
      "source": [
        "av_metric(train_proc['likes'], 0.32*lgb_oofs + 0.33*xgb_oofs1 + 0.35*cb_oofs1)"
      ],
      "execution_count": 52,
      "outputs": [
        {
          "output_type": "execute_result",
          "data": {
            "text/plain": [
              "458.8176686239211"
            ]
          },
          "metadata": {
            "tags": []
          },
          "execution_count": 52
        }
      ]
    },
    {
      "cell_type": "code",
      "metadata": {
        "id": "uM8phbtbcf9_",
        "outputId": "6772a170-545e-4f2d-bd71-782e24aba38f",
        "colab": {
          "base_uri": "https://localhost:8080/",
          "height": 34
        }
      },
      "source": [
        "av_metric(train_proc['likes'], 0.31*lgb_oofs + 0.34*xgb_oofs1 + 0.35*cb_oofs1)"
      ],
      "execution_count": 54,
      "outputs": [
        {
          "output_type": "execute_result",
          "data": {
            "text/plain": [
              "458.798896675314"
            ]
          },
          "metadata": {
            "tags": []
          },
          "execution_count": 54
        }
      ]
    },
    {
      "cell_type": "code",
      "metadata": {
        "id": "pVT4TsTDZ0cG"
      },
      "source": [
        "prens1 = np.expm1(0.33*lgb_preds + 0.33*xgb_preds1 + 0.34*cb_preds1)\n",
        "prens1_df = pd.DataFrame({'video_id':test.video_id})\n",
        "prens1_df['likes'] = prens1\n",
        "prens1_df.to_csv('/content/drive/My Drive/Colab Notebooks/prens1.csv', index=False)"
      ],
      "execution_count": 48,
      "outputs": []
    },
    {
      "cell_type": "code",
      "metadata": {
        "id": "5bWTLqM9cCaE"
      },
      "source": [
        "prens2 = np.expm1(0.31*lgb_preds + 0.34*xgb_preds1 + 0.35*cb_preds1)\n",
        "prens2_df = pd.DataFrame({'video_id':test.video_id})\n",
        "prens2_df['likes'] = prens2\n",
        "prens2_df.to_csv('/content/drive/My Drive/Colab Notebooks/prens2.csv', index=False)"
      ],
      "execution_count": 55,
      "outputs": []
    },
    {
      "cell_type": "markdown",
      "metadata": {
        "id": "ZjAa1jJ9r8VH"
      },
      "source": [
        "This gave highest till now; \"ens4tg1_nm_preds = np.expm1(0.31*lgb_preds + 0.34*xgb_preds1 + 0.35*cb_preds1)\"; 10/4/2020; 5:16 pm Saved in prens2_df or prens2.csv giving oof score 458.798896675314"
      ]
    },
    {
      "cell_type": "code",
      "metadata": {
        "id": "erXCxaKmdVjf",
        "outputId": "d87e5439-ab1d-4abf-f206-229c1de5013f",
        "colab": {
          "base_uri": "https://localhost:8080/",
          "height": 229
        }
      },
      "source": [
        "from sklearn.linear_model import LinearRegression\n",
        "\n",
        "#lr_ensdftr, lr_ensddftt = pd.DataFrame(), pd.DataFrame()\n",
        "#lr_ensdftr['lgb'] = lgb_oofs\n",
        "lr_ensdftr['cb'] = cb_oofs1\n",
        "#lr_ensdftr['xgb'] = xgb_oofs1\n",
        "\n",
        "#lr_ensddftt['lgb'] = lgb_preds\n",
        "lr_ensddftt['cb'] = cb_preds1\n",
        "#lr_ensddftt['xgb'] = xgb_preds1\n",
        "\n",
        "#lr_ensdftr['likes'] = train_proc['likes']"
      ],
      "execution_count": 35,
      "outputs": [
        {
          "output_type": "error",
          "ename": "NameError",
          "evalue": "ignored",
          "traceback": [
            "\u001b[0;31m---------------------------------------------------------------------------\u001b[0m",
            "\u001b[0;31mNameError\u001b[0m                                 Traceback (most recent call last)",
            "\u001b[0;32m<ipython-input-35-96ed4bb41195>\u001b[0m in \u001b[0;36m<module>\u001b[0;34m()\u001b[0m\n\u001b[1;32m      3\u001b[0m \u001b[0;31m#lr_ensdftr, lr_ensddftt = pd.DataFrame(), pd.DataFrame()\u001b[0m\u001b[0;34m\u001b[0m\u001b[0;34m\u001b[0m\u001b[0;34m\u001b[0m\u001b[0m\n\u001b[1;32m      4\u001b[0m \u001b[0;31m#lr_ensdftr['lgb'] = lgb_oofs\u001b[0m\u001b[0;34m\u001b[0m\u001b[0;34m\u001b[0m\u001b[0;34m\u001b[0m\u001b[0m\n\u001b[0;32m----> 5\u001b[0;31m \u001b[0mlr_ensdftr\u001b[0m\u001b[0;34m[\u001b[0m\u001b[0;34m'cb'\u001b[0m\u001b[0;34m]\u001b[0m \u001b[0;34m=\u001b[0m \u001b[0mcb_oofs1\u001b[0m\u001b[0;34m\u001b[0m\u001b[0;34m\u001b[0m\u001b[0m\n\u001b[0m\u001b[1;32m      6\u001b[0m \u001b[0;31m#lr_ensdftr['xgb'] = xgb_oofs1\u001b[0m\u001b[0;34m\u001b[0m\u001b[0;34m\u001b[0m\u001b[0;34m\u001b[0m\u001b[0m\n\u001b[1;32m      7\u001b[0m \u001b[0;34m\u001b[0m\u001b[0m\n",
            "\u001b[0;31mNameError\u001b[0m: name 'lr_ensdftr' is not defined"
          ]
        }
      ]
    },
    {
      "cell_type": "code",
      "metadata": {
        "id": "W4mcjiz6KAlm"
      },
      "source": [
        "lr_train['cb'] = cb_oofs1\n",
        "lr_test['cb'] = cb_preds1"
      ],
      "execution_count": 36,
      "outputs": []
    },
    {
      "cell_type": "code",
      "metadata": {
        "id": "FNxvMZiLKF-X",
        "outputId": "a6f6f2bc-8b39-440b-aecd-a2bbb65c9a04",
        "colab": {
          "base_uri": "https://localhost:8080/",
          "height": 195
        }
      },
      "source": [
        "lr_train.head()"
      ],
      "execution_count": 37,
      "outputs": [
        {
          "output_type": "execute_result",
          "data": {
            "text/html": [
              "<div>\n",
              "<style scoped>\n",
              "    .dataframe tbody tr th:only-of-type {\n",
              "        vertical-align: middle;\n",
              "    }\n",
              "\n",
              "    .dataframe tbody tr th {\n",
              "        vertical-align: top;\n",
              "    }\n",
              "\n",
              "    .dataframe thead th {\n",
              "        text-align: right;\n",
              "    }\n",
              "</style>\n",
              "<table border=\"1\" class=\"dataframe\">\n",
              "  <thead>\n",
              "    <tr style=\"text-align: right;\">\n",
              "      <th></th>\n",
              "      <th>lgb</th>\n",
              "      <th>cb</th>\n",
              "      <th>xgb</th>\n",
              "      <th>likes</th>\n",
              "    </tr>\n",
              "  </thead>\n",
              "  <tbody>\n",
              "    <tr>\n",
              "      <th>0</th>\n",
              "      <td>7.738653</td>\n",
              "      <td>7.787053</td>\n",
              "      <td>7.861619</td>\n",
              "      <td>7.763021</td>\n",
              "    </tr>\n",
              "    <tr>\n",
              "      <th>1</th>\n",
              "      <td>8.237565</td>\n",
              "      <td>8.431979</td>\n",
              "      <td>8.163631</td>\n",
              "      <td>8.091015</td>\n",
              "    </tr>\n",
              "    <tr>\n",
              "      <th>2</th>\n",
              "      <td>5.644939</td>\n",
              "      <td>5.131428</td>\n",
              "      <td>5.076780</td>\n",
              "      <td>6.364751</td>\n",
              "    </tr>\n",
              "    <tr>\n",
              "      <th>3</th>\n",
              "      <td>10.861363</td>\n",
              "      <td>10.893221</td>\n",
              "      <td>10.697611</td>\n",
              "      <td>11.323869</td>\n",
              "    </tr>\n",
              "    <tr>\n",
              "      <th>4</th>\n",
              "      <td>8.023879</td>\n",
              "      <td>8.212206</td>\n",
              "      <td>8.127529</td>\n",
              "      <td>8.176954</td>\n",
              "    </tr>\n",
              "  </tbody>\n",
              "</table>\n",
              "</div>"
            ],
            "text/plain": [
              "         lgb         cb        xgb      likes\n",
              "0   7.738653   7.787053   7.861619   7.763021\n",
              "1   8.237565   8.431979   8.163631   8.091015\n",
              "2   5.644939   5.131428   5.076780   6.364751\n",
              "3  10.861363  10.893221  10.697611  11.323869\n",
              "4   8.023879   8.212206   8.127529   8.176954"
            ]
          },
          "metadata": {
            "tags": []
          },
          "execution_count": 37
        }
      ]
    },
    {
      "cell_type": "code",
      "metadata": {
        "id": "xVZ0F2hueCmK",
        "outputId": "c46fefcd-e881-4bd8-f5c6-309c9b4c1a49",
        "colab": {
          "base_uri": "https://localhost:8080/",
          "height": 195
        }
      },
      "source": [
        "lr_ensdftr.head()"
      ],
      "execution_count": 59,
      "outputs": [
        {
          "output_type": "execute_result",
          "data": {
            "text/html": [
              "<div>\n",
              "<style scoped>\n",
              "    .dataframe tbody tr th:only-of-type {\n",
              "        vertical-align: middle;\n",
              "    }\n",
              "\n",
              "    .dataframe tbody tr th {\n",
              "        vertical-align: top;\n",
              "    }\n",
              "\n",
              "    .dataframe thead th {\n",
              "        text-align: right;\n",
              "    }\n",
              "</style>\n",
              "<table border=\"1\" class=\"dataframe\">\n",
              "  <thead>\n",
              "    <tr style=\"text-align: right;\">\n",
              "      <th></th>\n",
              "      <th>lgb</th>\n",
              "      <th>cb</th>\n",
              "      <th>xgb</th>\n",
              "      <th>likes</th>\n",
              "    </tr>\n",
              "  </thead>\n",
              "  <tbody>\n",
              "    <tr>\n",
              "      <th>0</th>\n",
              "      <td>7.738653</td>\n",
              "      <td>7.789298</td>\n",
              "      <td>7.861619</td>\n",
              "      <td>7.763021</td>\n",
              "    </tr>\n",
              "    <tr>\n",
              "      <th>1</th>\n",
              "      <td>8.237565</td>\n",
              "      <td>8.436295</td>\n",
              "      <td>8.163631</td>\n",
              "      <td>8.091015</td>\n",
              "    </tr>\n",
              "    <tr>\n",
              "      <th>2</th>\n",
              "      <td>5.644939</td>\n",
              "      <td>5.123500</td>\n",
              "      <td>5.076780</td>\n",
              "      <td>6.364751</td>\n",
              "    </tr>\n",
              "    <tr>\n",
              "      <th>3</th>\n",
              "      <td>10.861363</td>\n",
              "      <td>10.910193</td>\n",
              "      <td>10.697611</td>\n",
              "      <td>11.323869</td>\n",
              "    </tr>\n",
              "    <tr>\n",
              "      <th>4</th>\n",
              "      <td>8.023879</td>\n",
              "      <td>8.191556</td>\n",
              "      <td>8.127529</td>\n",
              "      <td>8.176954</td>\n",
              "    </tr>\n",
              "  </tbody>\n",
              "</table>\n",
              "</div>"
            ],
            "text/plain": [
              "         lgb         cb        xgb      likes\n",
              "0   7.738653   7.789298   7.861619   7.763021\n",
              "1   8.237565   8.436295   8.163631   8.091015\n",
              "2   5.644939   5.123500   5.076780   6.364751\n",
              "3  10.861363  10.910193  10.697611  11.323869\n",
              "4   8.023879   8.191556   8.127529   8.176954"
            ]
          },
          "metadata": {
            "tags": []
          },
          "execution_count": 59
        }
      ]
    },
    {
      "cell_type": "code",
      "metadata": {
        "id": "IGHb62VSeChm",
        "outputId": "34d93de7-9930-4b69-8548-15f49b003ff4",
        "colab": {
          "base_uri": "https://localhost:8080/",
          "height": 195
        }
      },
      "source": [
        "lr_ensddftt.head()"
      ],
      "execution_count": 60,
      "outputs": [
        {
          "output_type": "execute_result",
          "data": {
            "text/html": [
              "<div>\n",
              "<style scoped>\n",
              "    .dataframe tbody tr th:only-of-type {\n",
              "        vertical-align: middle;\n",
              "    }\n",
              "\n",
              "    .dataframe tbody tr th {\n",
              "        vertical-align: top;\n",
              "    }\n",
              "\n",
              "    .dataframe thead th {\n",
              "        text-align: right;\n",
              "    }\n",
              "</style>\n",
              "<table border=\"1\" class=\"dataframe\">\n",
              "  <thead>\n",
              "    <tr style=\"text-align: right;\">\n",
              "      <th></th>\n",
              "      <th>lgb</th>\n",
              "      <th>cb</th>\n",
              "      <th>xgb</th>\n",
              "    </tr>\n",
              "  </thead>\n",
              "  <tbody>\n",
              "    <tr>\n",
              "      <th>0</th>\n",
              "      <td>6.548453</td>\n",
              "      <td>6.612837</td>\n",
              "      <td>6.589077</td>\n",
              "    </tr>\n",
              "    <tr>\n",
              "      <th>1</th>\n",
              "      <td>8.038926</td>\n",
              "      <td>7.929099</td>\n",
              "      <td>7.917825</td>\n",
              "    </tr>\n",
              "    <tr>\n",
              "      <th>2</th>\n",
              "      <td>3.922116</td>\n",
              "      <td>3.806985</td>\n",
              "      <td>4.133798</td>\n",
              "    </tr>\n",
              "    <tr>\n",
              "      <th>3</th>\n",
              "      <td>7.876109</td>\n",
              "      <td>7.880276</td>\n",
              "      <td>7.948970</td>\n",
              "    </tr>\n",
              "    <tr>\n",
              "      <th>4</th>\n",
              "      <td>6.021736</td>\n",
              "      <td>6.134418</td>\n",
              "      <td>6.013078</td>\n",
              "    </tr>\n",
              "  </tbody>\n",
              "</table>\n",
              "</div>"
            ],
            "text/plain": [
              "        lgb        cb       xgb\n",
              "0  6.548453  6.612837  6.589077\n",
              "1  8.038926  7.929099  7.917825\n",
              "2  3.922116  3.806985  4.133798\n",
              "3  7.876109  7.880276  7.948970\n",
              "4  6.021736  6.134418  6.013078"
            ]
          },
          "metadata": {
            "tags": []
          },
          "execution_count": 60
        }
      ]
    },
    {
      "cell_type": "code",
      "metadata": {
        "id": "tZln-nxqb846"
      },
      "source": [
        "lr_train = pd.read_csv('/content/drive/My Drive/Colab Notebooks/lr_train6f1.csv')\n",
        "lr_test = pd.read_csv('/content/drive/My Drive/Colab Notebooks/lr_test6f1.csv')"
      ],
      "execution_count": null,
      "outputs": []
    },
    {
      "cell_type": "code",
      "metadata": {
        "id": "eANRvUi6eO7-"
      },
      "source": [
        "from sklearn.linear_model import LinearRegression\n",
        "from sklearn.model_selection import train_test_split\n",
        "lr =LinearRegression()\n",
        "X = lr_train[['lgb', 'cb', 'xgb', 'lgb1', 'cb1', 'xgb1']]\n",
        "y = lr_train['likes']\n",
        "X_train, X_test, y_train, y_test = train_test_split(X, y, test_size=0.2, random_state=1)\n"
      ],
      "execution_count": 89,
      "outputs": []
    },
    {
      "cell_type": "code",
      "metadata": {
        "id": "50ECQy-_g_y7",
        "outputId": "1000e8bd-9d83-4a93-a800-05245125c992",
        "colab": {
          "base_uri": "https://localhost:8080/",
          "height": 118
        }
      },
      "source": [
        "y.head()"
      ],
      "execution_count": 75,
      "outputs": [
        {
          "output_type": "execute_result",
          "data": {
            "text/plain": [
              "0     7.763021\n",
              "1     8.091015\n",
              "2     6.364751\n",
              "3    11.323869\n",
              "4     8.176954\n",
              "Name: likes, dtype: float64"
            ]
          },
          "metadata": {
            "tags": []
          },
          "execution_count": 75
        }
      ]
    },
    {
      "cell_type": "code",
      "metadata": {
        "id": "gx3smHHNg8_h",
        "outputId": "37459942-c7ee-4668-f313-0210ba8dd8fc",
        "colab": {
          "base_uri": "https://localhost:8080/",
          "height": 50
        }
      },
      "source": [
        "\n",
        "lr.fit(X_train, y_train)\n",
        "print('Train:',av_metric(y_train, lr.predict(X_train)))\n",
        "print('Test:',av_metric(y_test, lr.predict(X_test)))\n"
      ],
      "execution_count": 90,
      "outputs": [
        {
          "output_type": "stream",
          "text": [
            "Train: 456.87742260288036\n",
            "Test: 459.7368889732418\n"
          ],
          "name": "stdout"
        }
      ]
    },
    {
      "cell_type": "code",
      "metadata": {
        "id": "g0h7__GIhE54",
        "outputId": "2ca1f161-ea59-4baa-d661-ddda4243be2c",
        "colab": {
          "base_uri": "https://localhost:8080/",
          "height": 34
        }
      },
      "source": [
        "print(av_metric(lr_train['likes'], 0.29*lr_train['cb'] + 0.18*lr_train['xgb'] + 0.1675*lr_train['lgb'] + 0.1675*lr_train['cb1'] + 0.18*lr_train['xgb1'] + 0.015*lr_train['lgb1']))"
      ],
      "execution_count": 105,
      "outputs": [
        {
          "output_type": "stream",
          "text": [
            "457.51218146602014\n"
          ],
          "name": "stdout"
        }
      ]
    },
    {
      "cell_type": "code",
      "metadata": {
        "id": "Hgq3uFmqg6Wy",
        "outputId": "accefad9-7078-41b0-f45f-d21d2134ecec",
        "colab": {
          "base_uri": "https://localhost:8080/",
          "height": 178
        }
      },
      "source": [
        "for i in range(len(X)[1]):\n",
        "  print(X.columns[i],lr.coef_[i])"
      ],
      "execution_count": 126,
      "outputs": [
        {
          "output_type": "error",
          "ename": "TypeError",
          "evalue": "ignored",
          "traceback": [
            "\u001b[0;31m---------------------------------------------------------------------------\u001b[0m",
            "\u001b[0;31mTypeError\u001b[0m                                 Traceback (most recent call last)",
            "\u001b[0;32m<ipython-input-126-1a656c3433b9>\u001b[0m in \u001b[0;36m<module>\u001b[0;34m()\u001b[0m\n\u001b[0;32m----> 1\u001b[0;31m \u001b[0;32mfor\u001b[0m \u001b[0mi\u001b[0m \u001b[0;32min\u001b[0m \u001b[0mrange\u001b[0m\u001b[0;34m(\u001b[0m\u001b[0mlen\u001b[0m\u001b[0;34m(\u001b[0m\u001b[0mX\u001b[0m\u001b[0;34m)\u001b[0m\u001b[0;34m[\u001b[0m\u001b[0;36m1\u001b[0m\u001b[0;34m]\u001b[0m\u001b[0;34m)\u001b[0m\u001b[0;34m:\u001b[0m\u001b[0;34m\u001b[0m\u001b[0;34m\u001b[0m\u001b[0m\n\u001b[0m\u001b[1;32m      2\u001b[0m   \u001b[0mprint\u001b[0m\u001b[0;34m(\u001b[0m\u001b[0mX\u001b[0m\u001b[0;34m.\u001b[0m\u001b[0mcolumns\u001b[0m\u001b[0;34m[\u001b[0m\u001b[0mi\u001b[0m\u001b[0;34m]\u001b[0m\u001b[0;34m,\u001b[0m\u001b[0mlr\u001b[0m\u001b[0;34m.\u001b[0m\u001b[0mcoef_\u001b[0m\u001b[0;34m[\u001b[0m\u001b[0mi\u001b[0m\u001b[0;34m]\u001b[0m\u001b[0;34m)\u001b[0m\u001b[0;34m\u001b[0m\u001b[0;34m\u001b[0m\u001b[0m\n",
            "\u001b[0;31mTypeError\u001b[0m: 'int' object is not subscriptable"
          ]
        }
      ]
    },
    {
      "cell_type": "code",
      "metadata": {
        "id": "wjvykGFkfxxp"
      },
      "source": [
        "lr_ens_preds5 = lr.predict(lr_test[['lgb', 'cb', 'xgb', 'lgb1', 'cb1', 'xgb1']])\n",
        "lr_ens_predsex5 = np.expm1(lr_ens_preds5)\n",
        "lr_df5 = pd.DataFrame({'video_id':test.video_id})\n",
        "lr_df5['likes'] = lr_ens_predsex5\n",
        "lr_df5.to_csv('/content/drive/My Drive/Colab Notebooks/prens6.csv', index=False)"
      ],
      "execution_count": 78,
      "outputs": []
    },
    {
      "cell_type": "code",
      "metadata": {
        "id": "uRdc_TormHbi"
      },
      "source": [
        ""
      ],
      "execution_count": null,
      "outputs": []
    },
    {
      "cell_type": "code",
      "metadata": {
        "id": "UQRKPgbmKfI0",
        "outputId": "7ea53450-baac-4beb-ba65-ead2d5a034dc",
        "colab": {
          "base_uri": "https://localhost:8080/",
          "height": 118
        }
      },
      "source": [
        "lr_df3['likes'][:5]"
      ],
      "execution_count": 60,
      "outputs": [
        {
          "output_type": "execute_result",
          "data": {
            "text/plain": [
              "0     734.059935\n",
              "1    2841.488506\n",
              "2      49.144967\n",
              "3    2728.193955\n",
              "4     430.821474\n",
              "Name: likes, dtype: float64"
            ]
          },
          "metadata": {
            "tags": []
          },
          "execution_count": 60
        }
      ]
    },
    {
      "cell_type": "code",
      "metadata": {
        "id": "LdUxFoo8ImTw"
      },
      "source": [
        "def run_clf_kfold(clf, train, test, features):\n",
        "\n",
        "  N_SPLITS = 10\n",
        "\n",
        "  oofs = np.zeros(len(train))\n",
        "  preds = np.zeros((len(test)))\n",
        "\n",
        "  target = train[TARGET_COL]\n",
        "\n",
        "  folds = StratifiedKFold(n_splits = N_SPLITS)\n",
        "  stratified_target = pd.qcut(train[TARGET_COL], 3, labels = False)\n",
        "\n",
        "  for fold_, (trn_idx, val_idx) in enumerate(folds.split(train, stratified_target)):\n",
        "    print(f'\\n------------- Fold {fold_ + 1} -------------')\n",
        "\n",
        "    ############# Get train, validation and test sets along with targets ################\n",
        "  \n",
        "    ### Training Set\n",
        "    X_trn, y_trn = train[features].iloc[trn_idx], target.iloc[trn_idx]\n",
        "\n",
        "    ### Validation Set\n",
        "    X_val, y_val = train[features].iloc[val_idx], target.iloc[val_idx]\n",
        "\n",
        "    ### Test Set\n",
        "    X_test = test[features]\n",
        "\n",
        "    ############# Scaling Data ################\n",
        "    #scaler = StandardScaler()\n",
        "    #_ = scaler.fit(X_trn)\n",
        "\n",
        "    #X_trn = scaler.transform(X_trn)\n",
        "    #X_val = scaler.transform(X_val)\n",
        "    #X_test = scaler.transform(X_test)\n",
        "\n",
        "\n",
        "    ############# Fitting and Predicting ################\n",
        "\n",
        "    _ = clf.fit(X_trn, y_trn)\n",
        "\n",
        "    ### Instead of directly predicting the classes we will obtain the probability of positive class.\n",
        "    preds_val = clf.predict(X_val)\n",
        "    preds_test = clf.predict(X_test)\n",
        "\n",
        "    fold_score = av_metric(y_val, preds_val)\n",
        "    print(f'\\nAV metric score for validation set is {fold_score}')\n",
        "\n",
        "    oofs[val_idx] = preds_val\n",
        "    preds += preds_test / N_SPLITS\n",
        "\n",
        "\n",
        "  oofs_score = av_metric(target, oofs)\n",
        "  print(f'\\n\\nAV metric for oofs is {oofs_score}')\n",
        "\n",
        "  return oofs, preds"
      ],
      "execution_count": 140,
      "outputs": []
    },
    {
      "cell_type": "code",
      "metadata": {
        "id": "c8iHocVxMnQn",
        "outputId": "12fab034-f792-4eef-cbef-f02447dc83cd",
        "colab": {
          "base_uri": "https://localhost:8080/",
          "height": 330
        }
      },
      "source": [
        "feat = ['lgb', 'cb', 'xgb', 'cb1', 'xgb1']\n",
        "lr_oofs11, lr_preds11, fi = run_gradient_boosting(lr,feat, lr_train, lr_test, feat)"
      ],
      "execution_count": 154,
      "outputs": [
        {
          "output_type": "stream",
          "text": [
            "\n",
            "------------- Fold 1 -------------\n"
          ],
          "name": "stdout"
        },
        {
          "output_type": "error",
          "ename": "TypeError",
          "evalue": "ignored",
          "traceback": [
            "\u001b[0;31m---------------------------------------------------------------------------\u001b[0m",
            "\u001b[0;31mTypeError\u001b[0m                                 Traceback (most recent call last)",
            "\u001b[0;32m<ipython-input-154-7c13746c7552>\u001b[0m in \u001b[0;36m<module>\u001b[0;34m()\u001b[0m\n\u001b[1;32m      1\u001b[0m \u001b[0mfeat\u001b[0m \u001b[0;34m=\u001b[0m \u001b[0;34m[\u001b[0m\u001b[0;34m'lgb'\u001b[0m\u001b[0;34m,\u001b[0m \u001b[0;34m'cb'\u001b[0m\u001b[0;34m,\u001b[0m \u001b[0;34m'xgb'\u001b[0m\u001b[0;34m,\u001b[0m \u001b[0;34m'cb1'\u001b[0m\u001b[0;34m,\u001b[0m \u001b[0;34m'xgb1'\u001b[0m\u001b[0;34m]\u001b[0m\u001b[0;34m\u001b[0m\u001b[0;34m\u001b[0m\u001b[0m\n\u001b[0;32m----> 2\u001b[0;31m \u001b[0mlr_oofs11\u001b[0m\u001b[0;34m,\u001b[0m \u001b[0mlr_preds11\u001b[0m\u001b[0;34m,\u001b[0m \u001b[0mfi\u001b[0m \u001b[0;34m=\u001b[0m \u001b[0mrun_gradient_boosting\u001b[0m\u001b[0;34m(\u001b[0m\u001b[0mlr\u001b[0m\u001b[0;34m,\u001b[0m\u001b[0mfeat\u001b[0m\u001b[0;34m,\u001b[0m \u001b[0mlr_train\u001b[0m\u001b[0;34m,\u001b[0m \u001b[0mlr_test\u001b[0m\u001b[0;34m,\u001b[0m \u001b[0mfeat\u001b[0m\u001b[0;34m)\u001b[0m\u001b[0;34m\u001b[0m\u001b[0;34m\u001b[0m\u001b[0m\n\u001b[0m",
            "\u001b[0;32m<ipython-input-147-83cd8b1cf6b3>\u001b[0m in \u001b[0;36mrun_gradient_boosting\u001b[0;34m(clf, fit_params, train, test, features)\u001b[0m\n\u001b[1;32m     36\u001b[0m         \u001b[0mX_test\u001b[0m \u001b[0;34m=\u001b[0m \u001b[0mscaler\u001b[0m\u001b[0;34m.\u001b[0m\u001b[0mtransform\u001b[0m\u001b[0;34m(\u001b[0m\u001b[0mX_test\u001b[0m\u001b[0;34m)\u001b[0m\u001b[0;34m\u001b[0m\u001b[0;34m\u001b[0m\u001b[0m\n\u001b[1;32m     37\u001b[0m \u001b[0;34m\u001b[0m\u001b[0m\n\u001b[0;32m---> 38\u001b[0;31m         \u001b[0m_\u001b[0m \u001b[0;34m=\u001b[0m \u001b[0mclf\u001b[0m\u001b[0;34m.\u001b[0m\u001b[0mfit\u001b[0m\u001b[0;34m(\u001b[0m\u001b[0mX_trn\u001b[0m\u001b[0;34m,\u001b[0m \u001b[0my_trn\u001b[0m\u001b[0;34m,\u001b[0m \u001b[0meval_set\u001b[0m \u001b[0;34m=\u001b[0m \u001b[0;34m[\u001b[0m\u001b[0;34m(\u001b[0m\u001b[0mX_val\u001b[0m\u001b[0;34m,\u001b[0m \u001b[0my_val\u001b[0m\u001b[0;34m)\u001b[0m\u001b[0;34m]\u001b[0m\u001b[0;34m,\u001b[0m \u001b[0;34m**\u001b[0m\u001b[0mfit_params\u001b[0m\u001b[0;34m)\u001b[0m\u001b[0;34m\u001b[0m\u001b[0;34m\u001b[0m\u001b[0m\n\u001b[0m\u001b[1;32m     39\u001b[0m \u001b[0;34m\u001b[0m\u001b[0m\n\u001b[1;32m     40\u001b[0m         \u001b[0mfold_importance\u001b[0m \u001b[0;34m=\u001b[0m \u001b[0mpd\u001b[0m\u001b[0;34m.\u001b[0m\u001b[0mDataFrame\u001b[0m\u001b[0;34m(\u001b[0m\u001b[0;34m{\u001b[0m\u001b[0;34m'fold'\u001b[0m\u001b[0;34m:\u001b[0m \u001b[0mfold_\u001b[0m \u001b[0;34m+\u001b[0m \u001b[0;36m1\u001b[0m\u001b[0;34m,\u001b[0m \u001b[0;34m'feature'\u001b[0m\u001b[0;34m:\u001b[0m \u001b[0mfeatures\u001b[0m\u001b[0;34m,\u001b[0m \u001b[0;34m'importance'\u001b[0m\u001b[0;34m:\u001b[0m \u001b[0mclf\u001b[0m\u001b[0;34m.\u001b[0m\u001b[0mfeature_importances_\u001b[0m\u001b[0;34m}\u001b[0m\u001b[0;34m)\u001b[0m\u001b[0;34m\u001b[0m\u001b[0;34m\u001b[0m\u001b[0m\n",
            "\u001b[0;31mTypeError\u001b[0m: fit() argument after ** must be a mapping, not list"
          ]
        }
      ]
    },
    {
      "cell_type": "code",
      "metadata": {
        "id": "GAv2tH-3mD5R"
      },
      "source": [
        "lrpreds11ex6 = np.expm1(lr_preds11)\n",
        "lr_df6 = pd.DataFrame({'video_id':test.video_id})\n",
        "lr_df6['likes'] = lrpreds11ex6\n",
        "lr_df6.to_csv('/content/drive/My Drive/Colab Notebooks/prens9.csv', index=False)"
      ],
      "execution_count": 120,
      "outputs": []
    },
    {
      "cell_type": "code",
      "metadata": {
        "id": "a0TCu1Jzho2c"
      },
      "source": [
        "lr_ensdftr.to_csv('/content/drive/My Drive/Colab Notebooks/lr_ensdftr.csv', index=False)\n",
        "lr_ensddftt.to_csv('/content/drive/My Drive/Colab Notebooks/lr_ensddftt.csv', index=False)\n"
      ],
      "execution_count": 81,
      "outputs": []
    },
    {
      "cell_type": "code",
      "metadata": {
        "id": "wXUeRquRhpGk"
      },
      "source": [
        "df1.to_csv('/content/drive/My Drive/Colab Notebooks/dfnorank.csv', index=False)\n",
        "df.to_csv('/content/drive/My Drive/Colab Notebooks/dfrank.csv', index=False)\n"
      ],
      "execution_count": 83,
      "outputs": []
    },
    {
      "cell_type": "code",
      "metadata": {
        "id": "ESwwQzXxAgUT"
      },
      "source": [
        "df = pd.read_csv('/content/drive/My Drive/Colab Notebooks/dfrank.csv')\n",
        "df1 = pd.read_csv('/content/drive/My Drive/Colab Notebooks/dfnorank.csv')"
      ],
      "execution_count": 8,
      "outputs": []
    },
    {
      "cell_type": "code",
      "metadata": {
        "id": "zR_ZgKF6Ax6T"
      },
      "source": [
        "lr_train = pd.read_csv('/content/drive/My Drive/Colab Notebooks/lr_ensdftr.csv')\n",
        "lr_test = pd.read_csv('/content/drive/My Drive/Colab Notebooks/lr_ensddftt.csv')"
      ],
      "execution_count": 9,
      "outputs": []
    },
    {
      "cell_type": "code",
      "metadata": {
        "id": "uLAHL5FpbqCR",
        "outputId": "66239cec-6269-4bd2-9947-9ebd19f73a75",
        "colab": {
          "base_uri": "https://localhost:8080/",
          "height": 195
        }
      },
      "source": [
        "lr_train.head()"
      ],
      "execution_count": 74,
      "outputs": [
        {
          "output_type": "execute_result",
          "data": {
            "text/html": [
              "<div>\n",
              "<style scoped>\n",
              "    .dataframe tbody tr th:only-of-type {\n",
              "        vertical-align: middle;\n",
              "    }\n",
              "\n",
              "    .dataframe tbody tr th {\n",
              "        vertical-align: top;\n",
              "    }\n",
              "\n",
              "    .dataframe thead th {\n",
              "        text-align: right;\n",
              "    }\n",
              "</style>\n",
              "<table border=\"1\" class=\"dataframe\">\n",
              "  <thead>\n",
              "    <tr style=\"text-align: right;\">\n",
              "      <th></th>\n",
              "      <th>lgb</th>\n",
              "      <th>cb</th>\n",
              "      <th>xgb</th>\n",
              "      <th>likes</th>\n",
              "      <th>lgb1</th>\n",
              "      <th>cb1</th>\n",
              "      <th>xgb1</th>\n",
              "    </tr>\n",
              "  </thead>\n",
              "  <tbody>\n",
              "    <tr>\n",
              "      <th>0</th>\n",
              "      <td>7.738653</td>\n",
              "      <td>7.787053</td>\n",
              "      <td>7.861619</td>\n",
              "      <td>7.763021</td>\n",
              "      <td>7.727381</td>\n",
              "      <td>7.854191</td>\n",
              "      <td>7.840986</td>\n",
              "    </tr>\n",
              "    <tr>\n",
              "      <th>1</th>\n",
              "      <td>8.237565</td>\n",
              "      <td>8.431979</td>\n",
              "      <td>8.163631</td>\n",
              "      <td>8.091015</td>\n",
              "      <td>8.247914</td>\n",
              "      <td>8.357369</td>\n",
              "      <td>8.225670</td>\n",
              "    </tr>\n",
              "    <tr>\n",
              "      <th>2</th>\n",
              "      <td>5.644939</td>\n",
              "      <td>5.131428</td>\n",
              "      <td>5.076780</td>\n",
              "      <td>6.364751</td>\n",
              "      <td>5.413485</td>\n",
              "      <td>5.432454</td>\n",
              "      <td>4.838971</td>\n",
              "    </tr>\n",
              "    <tr>\n",
              "      <th>3</th>\n",
              "      <td>10.861363</td>\n",
              "      <td>10.893221</td>\n",
              "      <td>10.697611</td>\n",
              "      <td>11.323869</td>\n",
              "      <td>10.531990</td>\n",
              "      <td>10.939549</td>\n",
              "      <td>10.631687</td>\n",
              "    </tr>\n",
              "    <tr>\n",
              "      <th>4</th>\n",
              "      <td>8.023879</td>\n",
              "      <td>8.212206</td>\n",
              "      <td>8.127529</td>\n",
              "      <td>8.176954</td>\n",
              "      <td>7.934715</td>\n",
              "      <td>8.044502</td>\n",
              "      <td>8.158417</td>\n",
              "    </tr>\n",
              "  </tbody>\n",
              "</table>\n",
              "</div>"
            ],
            "text/plain": [
              "         lgb         cb        xgb      likes       lgb1        cb1       xgb1\n",
              "0   7.738653   7.787053   7.861619   7.763021   7.727381   7.854191   7.840986\n",
              "1   8.237565   8.431979   8.163631   8.091015   8.247914   8.357369   8.225670\n",
              "2   5.644939   5.131428   5.076780   6.364751   5.413485   5.432454   4.838971\n",
              "3  10.861363  10.893221  10.697611  11.323869  10.531990  10.939549  10.631687\n",
              "4   8.023879   8.212206   8.127529   8.176954   7.934715   8.044502   8.158417"
            ]
          },
          "metadata": {
            "tags": []
          },
          "execution_count": 74
        }
      ]
    },
    {
      "cell_type": "code",
      "metadata": {
        "id": "FBRtnBSzbffG"
      },
      "source": [
        "lr_train.to_csv('/content/drive/My Drive/Colab Notebooks/lr_train6f1.csv', index=False)\n",
        "lr_test.to_csv('/content/drive/My Drive/Colab Notebooks/lr_test6f1.csv', index=False)"
      ],
      "execution_count": 75,
      "outputs": []
    },
    {
      "cell_type": "code",
      "metadata": {
        "id": "7U4UWlhNBL5g",
        "outputId": "31cf17b9-18ed-4cfa-fd99-852b320100d4",
        "colab": {
          "base_uri": "https://localhost:8080/",
          "height": 34
        }
      },
      "source": [
        "from sklearn.ensemble import RandomForestRegressor\n",
        "!pip install -q catboost\n",
        "from catboost import CatBoostClassifier"
      ],
      "execution_count": 10,
      "outputs": [
        {
          "output_type": "stream",
          "text": [
            "\u001b[K     |████████████████████████████████| 66.1MB 65kB/s \n",
            "\u001b[?25h"
          ],
          "name": "stdout"
        }
      ]
    },
    {
      "cell_type": "code",
      "metadata": {
        "id": "zjIHJTFJBj6g",
        "outputId": "6710a11b-bd05-4226-a0c4-9f3c9cb83fb9",
        "colab": {
          "base_uri": "https://localhost:8080/",
          "height": 1000
        }
      },
      "source": [
        "#from catboost import CatBoostRegressor\n",
        "#rfc = RandomForestRegressor()\n",
        "cb_ens = CatBoostRegressor(random_state=2054,\n",
        "                        learning_rate=0.06,\n",
        "                        n_estimators=5000)\n",
        "\n",
        "fit_params = {'verbose': 200, 'early_stopping_rounds': 200}\n",
        "feat = ['lgb', 'cb', 'xgb', 'cb1', 'xgb1', 'lgb1']\n",
        "\n",
        "#rfc_oofs, rfc_preds = run_clf_kfold(rfc, lr_train, lr_test, feat)\n",
        "cb_ens_oofs, cb_ens_preds, fi = run_gradient_boosting(7,cb_ens, fit_params, lr_train, lr_test, feat)"
      ],
      "execution_count": 168,
      "outputs": [
        {
          "output_type": "stream",
          "text": [
            "\n",
            "------------- Fold 1 -------------\n",
            "0:\tlearn: 1.8239163\ttest: 1.8335152\tbest: 1.8335152 (0)\ttotal: 7.09ms\tremaining: 35.4s\n",
            "200:\tlearn: 0.4504928\ttest: 0.4615891\tbest: 0.4615891 (200)\ttotal: 1.45s\tremaining: 34.6s\n",
            "400:\tlearn: 0.4382628\ttest: 0.4612482\tbest: 0.4608586 (317)\ttotal: 2.85s\tremaining: 32.7s\n",
            "Stopped by overfitting detector  (200 iterations wait)\n",
            "\n",
            "bestTest = 0.4608585596\n",
            "bestIteration = 317\n",
            "\n",
            "Shrink model to first 318 iterations.\n",
            "\n",
            "AV metric score for validation set is 460.8585605632232\n",
            "\n",
            "------------- Fold 2 -------------\n",
            "0:\tlearn: 1.8257959\ttest: 1.8203523\tbest: 1.8203523 (0)\ttotal: 10ms\tremaining: 50.1s\n",
            "200:\tlearn: 0.4484672\ttest: 0.4649973\tbest: 0.4649795 (192)\ttotal: 1.33s\tremaining: 31.7s\n",
            "400:\tlearn: 0.4350614\ttest: 0.4660586\tbest: 0.4649367 (218)\ttotal: 2.53s\tremaining: 29s\n",
            "Stopped by overfitting detector  (200 iterations wait)\n",
            "\n",
            "bestTest = 0.4649366616\n",
            "bestIteration = 218\n",
            "\n",
            "Shrink model to first 219 iterations.\n",
            "\n",
            "AV metric score for validation set is 464.93666475443655\n",
            "\n",
            "------------- Fold 3 -------------\n",
            "0:\tlearn: 1.8242301\ttest: 1.8317725\tbest: 1.8317725 (0)\ttotal: 11.2ms\tremaining: 56s\n",
            "200:\tlearn: 0.4483213\ttest: 0.4611211\tbest: 0.4609705 (163)\ttotal: 1.17s\tremaining: 28s\n",
            "Stopped by overfitting detector  (200 iterations wait)\n",
            "\n",
            "bestTest = 0.4609704721\n",
            "bestIteration = 163\n",
            "\n",
            "Shrink model to first 164 iterations.\n",
            "\n",
            "AV metric score for validation set is 460.9704684198268\n",
            "\n",
            "------------- Fold 4 -------------\n",
            "0:\tlearn: 1.8266180\ttest: 1.8166875\tbest: 1.8166875 (0)\ttotal: 6.05ms\tremaining: 30.2s\n",
            "200:\tlearn: 0.4485574\ttest: 0.4568979\tbest: 0.4558828 (123)\ttotal: 1.19s\tremaining: 28.5s\n",
            "Stopped by overfitting detector  (200 iterations wait)\n",
            "\n",
            "bestTest = 0.4558828447\n",
            "bestIteration = 123\n",
            "\n",
            "Shrink model to first 124 iterations.\n",
            "\n",
            "AV metric score for validation set is 455.8828463462266\n",
            "\n",
            "------------- Fold 5 -------------\n",
            "0:\tlearn: 1.8273085\ttest: 1.8124563\tbest: 1.8124563 (0)\ttotal: 5.87ms\tremaining: 29.4s\n",
            "200:\tlearn: 0.4504698\ttest: 0.4493984\tbest: 0.4491570 (189)\ttotal: 1.2s\tremaining: 28.7s\n",
            "400:\tlearn: 0.4383291\ttest: 0.4499471\tbest: 0.4491305 (246)\ttotal: 2.36s\tremaining: 27.1s\n",
            "Stopped by overfitting detector  (200 iterations wait)\n",
            "\n",
            "bestTest = 0.4491304671\n",
            "bestIteration = 246\n",
            "\n",
            "Shrink model to first 247 iterations.\n",
            "\n",
            "AV metric score for validation set is 449.1304683579637\n",
            "\n",
            "------------- Fold 6 -------------\n",
            "0:\tlearn: 1.8217514\ttest: 1.8467101\tbest: 1.8467101 (0)\ttotal: 5.96ms\tremaining: 29.8s\n",
            "200:\tlearn: 0.4495186\ttest: 0.4588462\tbest: 0.4588462 (200)\ttotal: 1.17s\tremaining: 28s\n",
            "400:\tlearn: 0.4374265\ttest: 0.4596656\tbest: 0.4587031 (242)\ttotal: 2.34s\tremaining: 26.9s\n",
            "Stopped by overfitting detector  (200 iterations wait)\n",
            "\n",
            "bestTest = 0.4587031256\n",
            "bestIteration = 242\n",
            "\n",
            "Shrink model to first 243 iterations.\n",
            "\n",
            "AV metric score for validation set is 458.7031316639172\n",
            "\n",
            "------------- Fold 7 -------------\n",
            "0:\tlearn: 1.8267968\ttest: 1.8146707\tbest: 1.8146707 (0)\ttotal: 10.3ms\tremaining: 51.3s\n",
            "200:\tlearn: 0.4503080\ttest: 0.4527662\tbest: 0.4526796 (191)\ttotal: 1.19s\tremaining: 28.3s\n",
            "400:\tlearn: 0.4382459\ttest: 0.4531555\tbest: 0.4519003 (299)\ttotal: 2.37s\tremaining: 27.1s\n",
            "Stopped by overfitting detector  (200 iterations wait)\n",
            "\n",
            "bestTest = 0.4519002745\n",
            "bestIteration = 299\n",
            "\n",
            "Shrink model to first 300 iterations.\n",
            "\n",
            "AV metric score for validation set is 451.90027446056126\n",
            "\n",
            "\n",
            "AV metric for oofs is 457.51194458858146\n"
          ],
          "name": "stdout"
        },
        {
          "output_type": "display_data",
          "data": {
            "image/png": "[encoded data removed]",
            "text/plain": [
              "<Figure size 864x432 with 1 Axes>"
            ]
          },
          "metadata": {
            "tags": [],
            "needs_background": "light"
          }
        }
      ]
    },
    {
      "cell_type": "code",
      "metadata": {
        "id": "dLE1Vec0BkRF"
      },
      "source": [
        "cb_ens_predsex1 = np.expm1(cb_ens_preds)\n",
        "cb_ensdf5 = pd.DataFrame({'video_id':test.video_id})\n",
        "cb_ensdf5['likes'] = cb_ens_predsex1"
      ],
      "execution_count": 169,
      "outputs": []
    },
    {
      "cell_type": "code",
      "metadata": {
        "id": "onlZMNL2yzNb"
      },
      "source": [
        ""
      ],
      "execution_count": null,
      "outputs": []
    },
    {
      "cell_type": "code",
      "metadata": {
        "id": "Kz863g40Bkux",
        "outputId": "4f0831c0-eb0f-4e48-d920-170c4aceda9f",
        "colab": {
          "base_uri": "https://localhost:8080/",
          "height": 195
        }
      },
      "source": [
        "cb_ensdf5.head()"
      ],
      "execution_count": 170,
      "outputs": [
        {
          "output_type": "execute_result",
          "data": {
            "text/html": [
              "<div>\n",
              "<style scoped>\n",
              "    .dataframe tbody tr th:only-of-type {\n",
              "        vertical-align: middle;\n",
              "    }\n",
              "\n",
              "    .dataframe tbody tr th {\n",
              "        vertical-align: top;\n",
              "    }\n",
              "\n",
              "    .dataframe thead th {\n",
              "        text-align: right;\n",
              "    }\n",
              "</style>\n",
              "<table border=\"1\" class=\"dataframe\">\n",
              "  <thead>\n",
              "    <tr style=\"text-align: right;\">\n",
              "      <th></th>\n",
              "      <th>video_id</th>\n",
              "      <th>likes</th>\n",
              "    </tr>\n",
              "  </thead>\n",
              "  <tbody>\n",
              "    <tr>\n",
              "      <th>0</th>\n",
              "      <td>87185</td>\n",
              "      <td>753.496150</td>\n",
              "    </tr>\n",
              "    <tr>\n",
              "      <th>1</th>\n",
              "      <td>9431</td>\n",
              "      <td>2704.153317</td>\n",
              "    </tr>\n",
              "    <tr>\n",
              "      <th>2</th>\n",
              "      <td>40599</td>\n",
              "      <td>50.581317</td>\n",
              "    </tr>\n",
              "    <tr>\n",
              "      <th>3</th>\n",
              "      <td>494</td>\n",
              "      <td>2778.511130</td>\n",
              "    </tr>\n",
              "    <tr>\n",
              "      <th>4</th>\n",
              "      <td>73942</td>\n",
              "      <td>403.182970</td>\n",
              "    </tr>\n",
              "  </tbody>\n",
              "</table>\n",
              "</div>"
            ],
            "text/plain": [
              "   video_id        likes\n",
              "0     87185   753.496150\n",
              "1      9431  2704.153317\n",
              "2     40599    50.581317\n",
              "3       494  2778.511130\n",
              "4     73942   403.182970"
            ]
          },
          "metadata": {
            "tags": []
          },
          "execution_count": 170
        }
      ]
    },
    {
      "cell_type": "code",
      "metadata": {
        "id": "g4rOGgecBkdT"
      },
      "source": [
        "cb_ensdf5.to_csv('/content/drive/My Drive/Colab Notebooks/cbensdf7.csv', index=False)"
      ],
      "execution_count": 171,
      "outputs": []
    },
    {
      "cell_type": "markdown",
      "metadata": {
        "id": "kqrSCTH8BkJA"
      },
      "source": [
        "Till now prens 3; 8:48 pm"
      ]
    },
    {
      "cell_type": "code",
      "metadata": {
        "id": "qtJcgrpVgjUY",
        "outputId": "151a6220-f424-4eed-a3be-5c297a1feb80",
        "colab": {
          "base_uri": "https://localhost:8080/",
          "height": 195
        }
      },
      "source": [
        "lr_df1.head()"
      ],
      "execution_count": 80,
      "outputs": [
        {
          "output_type": "execute_result",
          "data": {
            "text/html": [
              "<div>\n",
              "<style scoped>\n",
              "    .dataframe tbody tr th:only-of-type {\n",
              "        vertical-align: middle;\n",
              "    }\n",
              "\n",
              "    .dataframe tbody tr th {\n",
              "        vertical-align: top;\n",
              "    }\n",
              "\n",
              "    .dataframe thead th {\n",
              "        text-align: right;\n",
              "    }\n",
              "</style>\n",
              "<table border=\"1\" class=\"dataframe\">\n",
              "  <thead>\n",
              "    <tr style=\"text-align: right;\">\n",
              "      <th></th>\n",
              "      <th>video_id</th>\n",
              "      <th>likes</th>\n",
              "    </tr>\n",
              "  </thead>\n",
              "  <tbody>\n",
              "    <tr>\n",
              "      <th>0</th>\n",
              "      <td>87185</td>\n",
              "      <td>727.564914</td>\n",
              "    </tr>\n",
              "    <tr>\n",
              "      <th>1</th>\n",
              "      <td>9431</td>\n",
              "      <td>2854.200010</td>\n",
              "    </tr>\n",
              "    <tr>\n",
              "      <th>2</th>\n",
              "      <td>40599</td>\n",
              "      <td>50.067040</td>\n",
              "    </tr>\n",
              "    <tr>\n",
              "      <th>3</th>\n",
              "      <td>494</td>\n",
              "      <td>2720.570902</td>\n",
              "    </tr>\n",
              "    <tr>\n",
              "      <th>4</th>\n",
              "      <td>73942</td>\n",
              "      <td>430.183244</td>\n",
              "    </tr>\n",
              "  </tbody>\n",
              "</table>\n",
              "</div>"
            ],
            "text/plain": [
              "   video_id        likes\n",
              "0     87185   727.564914\n",
              "1      9431  2854.200010\n",
              "2     40599    50.067040\n",
              "3       494  2720.570902\n",
              "4     73942   430.183244"
            ]
          },
          "metadata": {
            "tags": []
          },
          "execution_count": 80
        }
      ]
    },
    {
      "cell_type": "code",
      "metadata": {
        "id": "bJ_OA9FKfO1G",
        "outputId": "ad3da122-b28d-4dcf-930d-db0f057fda64",
        "colab": {
          "base_uri": "https://localhost:8080/",
          "height": 403
        }
      },
      "source": [
        "lr_oofs, lr_preds = run_clf_kfold(lr, lr_ensdftr, lr_ensddftt, ['lgb', 'cb', 'xgb'])"
      ],
      "execution_count": 65,
      "outputs": [
        {
          "output_type": "stream",
          "text": [
            "\n",
            "------------- Fold 1 -------------\n",
            "\n",
            "AV metric score for validation set is 464.71984777302737\n",
            "\n",
            "------------- Fold 2 -------------\n",
            "\n",
            "AV metric score for validation set is 464.7198809283552\n",
            "\n",
            "------------- Fold 3 -------------\n",
            "\n",
            "AV metric score for validation set is 452.9183470698232\n",
            "\n",
            "------------- Fold 4 -------------\n",
            "\n",
            "AV metric score for validation set is 447.5149972556832\n",
            "\n",
            "------------- Fold 5 -------------\n",
            "\n",
            "AV metric score for validation set is 463.82807262719564\n",
            "\n",
            "\n",
            "AV metric for oofs is 458.7965424968642\n"
          ],
          "name": "stdout"
        }
      ]
    },
    {
      "cell_type": "code",
      "metadata": {
        "id": "RYkAJV3xl4Iz",
        "outputId": "b620f777-d66c-4978-a3db-6ee1aae9f05a",
        "colab": {
          "base_uri": "https://localhost:8080/",
          "height": 118
        }
      },
      "source": [
        "train_proc['likes'].head()"
      ],
      "execution_count": null,
      "outputs": [
        {
          "output_type": "execute_result",
          "data": {
            "text/plain": [
              "0     7.763021\n",
              "1     8.091015\n",
              "2     6.364751\n",
              "3    11.323869\n",
              "4     8.176954\n",
              "Name: likes, dtype: float64"
            ]
          },
          "metadata": {
            "tags": []
          },
          "execution_count": 100
        }
      ]
    },
    {
      "cell_type": "code",
      "metadata": {
        "id": "TuJSOSvyl8Rw",
        "outputId": "d6f6afdd-d54f-46b8-97fe-8576ce6a61a8",
        "colab": {
          "base_uri": "https://localhost:8080/",
          "height": 195
        }
      },
      "source": [
        "ens4tg1_nmt1 = pd.DataFrame({'video_id':test.video_id})\n",
        "ens4tg1_nm_predst1 = np.expm1(0.32*lgb_preds + 0.35*xgb_preds + 0.33*cb_preds)\n",
        "ens4tg1_nmt1['likes'] = ens4tg1_nm_predst1"
      ],
      "execution_count": 4,
      "outputs": [
        {
          "output_type": "error",
          "ename": "NameError",
          "evalue": "ignored",
          "traceback": [
            "\u001b[0;31m---------------------------------------------------------------------------\u001b[0m",
            "\u001b[0;31mNameError\u001b[0m                                 Traceback (most recent call last)",
            "\u001b[0;32m<ipython-input-4-e3f5c8ece850>\u001b[0m in \u001b[0;36m<module>\u001b[0;34m()\u001b[0m\n\u001b[0;32m----> 1\u001b[0;31m \u001b[0mens4tg1_nmt1\u001b[0m \u001b[0;34m=\u001b[0m \u001b[0mpd\u001b[0m\u001b[0;34m.\u001b[0m\u001b[0mDataFrame\u001b[0m\u001b[0;34m(\u001b[0m\u001b[0;34m{\u001b[0m\u001b[0;34m'video_id'\u001b[0m\u001b[0;34m:\u001b[0m\u001b[0mtest\u001b[0m\u001b[0;34m.\u001b[0m\u001b[0mvideo_id\u001b[0m\u001b[0;34m}\u001b[0m\u001b[0;34m)\u001b[0m\u001b[0;34m\u001b[0m\u001b[0;34m\u001b[0m\u001b[0m\n\u001b[0m\u001b[1;32m      2\u001b[0m \u001b[0mens4tg1_nm_predst1\u001b[0m \u001b[0;34m=\u001b[0m \u001b[0mnp\u001b[0m\u001b[0;34m.\u001b[0m\u001b[0mexpm1\u001b[0m\u001b[0;34m(\u001b[0m\u001b[0;36m0.32\u001b[0m\u001b[0;34m*\u001b[0m\u001b[0mlgb_preds\u001b[0m \u001b[0;34m+\u001b[0m \u001b[0;36m0.35\u001b[0m\u001b[0;34m*\u001b[0m\u001b[0mxgb_preds\u001b[0m \u001b[0;34m+\u001b[0m \u001b[0;36m0.33\u001b[0m\u001b[0;34m*\u001b[0m\u001b[0mcb_preds\u001b[0m\u001b[0;34m)\u001b[0m\u001b[0;34m\u001b[0m\u001b[0;34m\u001b[0m\u001b[0m\n\u001b[1;32m      3\u001b[0m \u001b[0mens4tg1_nmt1\u001b[0m\u001b[0;34m[\u001b[0m\u001b[0;34m'likes'\u001b[0m\u001b[0;34m]\u001b[0m \u001b[0;34m=\u001b[0m \u001b[0mens4tg1_nm_predst1\u001b[0m\u001b[0;34m\u001b[0m\u001b[0;34m\u001b[0m\u001b[0m\n",
            "\u001b[0;31mNameError\u001b[0m: name 'test' is not defined"
          ]
        }
      ]
    },
    {
      "cell_type": "code",
      "metadata": {
        "id": "p4AfVznMnHw5"
      },
      "source": [
        "ens4tg1_nmt1.to_csv('/content/drive/My Drive/Colab Notebooks/ens4tg1_nmallt1.csv', index=False)"
      ],
      "execution_count": null,
      "outputs": []
    },
    {
      "cell_type": "code",
      "metadata": {
        "id": "QoS_07xBtzx2"
      },
      "source": [
        ""
      ],
      "execution_count": null,
      "outputs": []
    },
    {
      "cell_type": "code",
      "metadata": {
        "id": "wk9ZwPLmogHE"
      },
      "source": [
        "train_new = pd.DataFrame()\n",
        "test_new = pd.DataFrame()\n",
        "\n",
        "train_new['cb'] = cb_oofs\n",
        "train_new['lgb'] = lgb_oofs\n",
        "train_new['xgb'] = xgb_oofs\n",
        "train_new['likes'] = train_proc['likes']\n",
        "\n",
        "test_new['cb'] = cb_preds\n",
        "test_new['lgb'] = lgb_preds\n",
        "test_new['xgb'] = xgb_preds"
      ],
      "execution_count": null,
      "outputs": []
    },
    {
      "cell_type": "code",
      "metadata": {
        "id": "ogyhnrrVotEF",
        "outputId": "72552d3f-9ad7-4473-afcf-21716f18b2fb",
        "colab": {
          "base_uri": "https://localhost:8080/",
          "height": 195
        }
      },
      "source": [
        "test_new.head()"
      ],
      "execution_count": null,
      "outputs": [
        {
          "output_type": "execute_result",
          "data": {
            "text/html": [
              "<div>\n",
              "<style scoped>\n",
              "    .dataframe tbody tr th:only-of-type {\n",
              "        vertical-align: middle;\n",
              "    }\n",
              "\n",
              "    .dataframe tbody tr th {\n",
              "        vertical-align: top;\n",
              "    }\n",
              "\n",
              "    .dataframe thead th {\n",
              "        text-align: right;\n",
              "    }\n",
              "</style>\n",
              "<table border=\"1\" class=\"dataframe\">\n",
              "  <thead>\n",
              "    <tr style=\"text-align: right;\">\n",
              "      <th></th>\n",
              "      <th>cb</th>\n",
              "      <th>lgb</th>\n",
              "      <th>xgb</th>\n",
              "    </tr>\n",
              "  </thead>\n",
              "  <tbody>\n",
              "    <tr>\n",
              "      <th>0</th>\n",
              "      <td>6.657346</td>\n",
              "      <td>6.690943</td>\n",
              "      <td>6.538505</td>\n",
              "    </tr>\n",
              "    <tr>\n",
              "      <th>1</th>\n",
              "      <td>7.789561</td>\n",
              "      <td>7.748608</td>\n",
              "      <td>7.805331</td>\n",
              "    </tr>\n",
              "    <tr>\n",
              "      <th>2</th>\n",
              "      <td>3.905570</td>\n",
              "      <td>3.839414</td>\n",
              "      <td>4.258735</td>\n",
              "    </tr>\n",
              "    <tr>\n",
              "      <th>3</th>\n",
              "      <td>7.923671</td>\n",
              "      <td>8.142094</td>\n",
              "      <td>8.108187</td>\n",
              "    </tr>\n",
              "    <tr>\n",
              "      <th>4</th>\n",
              "      <td>6.316550</td>\n",
              "      <td>6.207576</td>\n",
              "      <td>6.170307</td>\n",
              "    </tr>\n",
              "  </tbody>\n",
              "</table>\n",
              "</div>"
            ],
            "text/plain": [
              "         cb       lgb       xgb\n",
              "0  6.657346  6.690943  6.538505\n",
              "1  7.789561  7.748608  7.805331\n",
              "2  3.905570  3.839414  4.258735\n",
              "3  7.923671  8.142094  8.108187\n",
              "4  6.316550  6.207576  6.170307"
            ]
          },
          "metadata": {
            "tags": []
          },
          "execution_count": 118
        }
      ]
    },
    {
      "cell_type": "code",
      "metadata": {
        "id": "cCj0mjZWovNx",
        "outputId": "db3aeb31-6454-408b-a98e-65c9c6ff51e3",
        "colab": {
          "base_uri": "https://localhost:8080/",
          "height": 1000
        }
      },
      "source": [
        "clf = LGBMRegressor(n_estimators = 200,\n",
        "                        learning_rate = 0.1,\n",
        "                        colsample_bytree = 0.90,\n",
        "                        metric = 'None',\n",
        "                        )\n",
        "fit_params = {'verbose': 300, 'early_stopping_rounds': 10, 'eval_metric': 'rmse'}\n",
        "feat = ['lgb', 'cb', 'xgb']\n",
        "lgb_oofs, lgb_preds, fi = run_gradient_boosting(clf, fit_params, train_new, test_new, feat)"
      ],
      "execution_count": null,
      "outputs": [
        {
          "output_type": "stream",
          "text": [
            "\n",
            "------------- Fold 1 -------------\n",
            "Training until validation scores don't improve for 10 rounds.\n",
            "Early stopping, best iteration is:\n",
            "[40]\tvalid_0's rmse: 0.468275\n",
            "\n",
            "AV metric score for validation set is 468.2754889723227\n",
            "\n",
            "------------- Fold 2 -------------\n",
            "Training until validation scores don't improve for 10 rounds.\n",
            "Early stopping, best iteration is:\n",
            "[47]\tvalid_0's rmse: 0.469862\n",
            "\n",
            "AV metric score for validation set is 469.8622646182841\n",
            "\n",
            "------------- Fold 3 -------------\n",
            "Training until validation scores don't improve for 10 rounds.\n",
            "Early stopping, best iteration is:\n",
            "[60]\tvalid_0's rmse: 0.46217\n",
            "\n",
            "AV metric score for validation set is 462.1701977017873\n",
            "\n",
            "------------- Fold 4 -------------\n",
            "Training until validation scores don't improve for 10 rounds.\n",
            "Early stopping, best iteration is:\n",
            "[59]\tvalid_0's rmse: 0.455145\n",
            "\n",
            "AV metric score for validation set is 455.14464920645895\n",
            "\n",
            "------------- Fold 5 -------------\n",
            "Training until validation scores don't improve for 10 rounds.\n",
            "Early stopping, best iteration is:\n",
            "[52]\tvalid_0's rmse: 0.46789\n",
            "\n",
            "AV metric score for validation set is 467.8897327624044\n",
            "\n",
            "\n",
            "AV metric for oofs is 464.7003048483974\n"
          ],
          "name": "stdout"
        },
        {
          "output_type": "display_data",
          "data": {
            "image/png": "[encoded data removed]",
            "text/plain": [
              "<Figure size 864x432 with 1 Axes>"
            ]
          },
          "metadata": {
            "tags": [],
            "needs_background": "light"
          }
        }
      ]
    },
    {
      "cell_type": "code",
      "metadata": {
        "id": "omNQszLio9UT"
      },
      "source": [
        "lgb_preds_t1 = np.expm1(lgb_preds)\n",
        "ens_meta_all = pd.DataFrame({'video_id':test.video_id})\n",
        "ens_meta_all['likes'] = lgb_preds_t1"
      ],
      "execution_count": null,
      "outputs": []
    },
    {
      "cell_type": "code",
      "metadata": {
        "id": "bojsrWxkq8Jq"
      },
      "source": [
        "ens_meta_all.to_csv('/content/drive/My Drive/Colab Notebooks/ens2_mall.csv', index=False)"
      ],
      "execution_count": null,
      "outputs": []
    },
    {
      "cell_type": "code",
      "metadata": {
        "id": "KZicc892rHVj"
      },
      "source": [
        "def thresh(lgbt, cbt, xgbt):\n",
        "  m = np.arange(0,100) / 100\n",
        "  n = np.arange(0,100) / 100\n",
        "  p = np.arange(0, 100) / 100\n",
        "  \n",
        "  print(av_metric(train_proc['likes'], m*lgbt + n*cbt + p*xgbt))"
      ],
      "execution_count": null,
      "outputs": []
    },
    {
      "cell_type": "code",
      "metadata": {
        "id": "92aUqIRcsN7o",
        "outputId": "629600f4-3100-4d7d-81b1-6262c6fdd09a",
        "colab": {
          "base_uri": "https://localhost:8080/",
          "height": 246
        }
      },
      "source": [
        "thresh(lgb_oofs, cb_oofs, xgb_oofs)"
      ],
      "execution_count": null,
      "outputs": [
        {
          "output_type": "error",
          "ename": "ValueError",
          "evalue": "ignored",
          "traceback": [
            "\u001b[0;31m---------------------------------------------------------------------------\u001b[0m",
            "\u001b[0;31mValueError\u001b[0m                                Traceback (most recent call last)",
            "\u001b[0;32m<ipython-input-156-a827e9e41621>\u001b[0m in \u001b[0;36m<module>\u001b[0;34m()\u001b[0m\n\u001b[0;32m----> 1\u001b[0;31m \u001b[0mthresh\u001b[0m\u001b[0;34m(\u001b[0m\u001b[0mlgb_oofs\u001b[0m\u001b[0;34m,\u001b[0m \u001b[0mcb_oofs\u001b[0m\u001b[0;34m,\u001b[0m \u001b[0mxgb_oofs\u001b[0m\u001b[0;34m)\u001b[0m\u001b[0;34m\u001b[0m\u001b[0;34m\u001b[0m\u001b[0m\n\u001b[0m",
            "\u001b[0;32m<ipython-input-155-903e26b14b82>\u001b[0m in \u001b[0;36mthresh\u001b[0;34m(lgbt, cbt, xgbt)\u001b[0m\n\u001b[1;32m      4\u001b[0m   \u001b[0mp\u001b[0m \u001b[0;34m=\u001b[0m \u001b[0mnp\u001b[0m\u001b[0;34m.\u001b[0m\u001b[0marange\u001b[0m\u001b[0;34m(\u001b[0m\u001b[0;36m0\u001b[0m\u001b[0;34m,\u001b[0m \u001b[0;36m100\u001b[0m\u001b[0;34m)\u001b[0m \u001b[0;34m/\u001b[0m \u001b[0;36m100\u001b[0m\u001b[0;34m\u001b[0m\u001b[0;34m\u001b[0m\u001b[0m\n\u001b[1;32m      5\u001b[0m \u001b[0;34m\u001b[0m\u001b[0m\n\u001b[0;32m----> 6\u001b[0;31m   \u001b[0mprint\u001b[0m\u001b[0;34m(\u001b[0m\u001b[0mav_metric\u001b[0m\u001b[0;34m(\u001b[0m\u001b[0mtrain_proc\u001b[0m\u001b[0;34m[\u001b[0m\u001b[0;34m'likes'\u001b[0m\u001b[0;34m]\u001b[0m\u001b[0;34m,\u001b[0m \u001b[0mm\u001b[0m\u001b[0;34m*\u001b[0m\u001b[0mlgbt\u001b[0m \u001b[0;34m+\u001b[0m \u001b[0mn\u001b[0m\u001b[0;34m*\u001b[0m\u001b[0mcbt\u001b[0m \u001b[0;34m+\u001b[0m \u001b[0mp\u001b[0m\u001b[0;34m*\u001b[0m\u001b[0mxgbt\u001b[0m\u001b[0;34m)\u001b[0m\u001b[0;34m)\u001b[0m\u001b[0;34m\u001b[0m\u001b[0;34m\u001b[0m\u001b[0m\n\u001b[0m",
            "\u001b[0;31mValueError\u001b[0m: operands could not be broadcast together with shapes (100,) (26061,) "
          ]
        }
      ]
    },
    {
      "cell_type": "code",
      "metadata": {
        "id": "QYpN5u3QsRmr",
        "outputId": "04e6185e-1180-400a-8a20-0f4381e2117e",
        "colab": {
          "base_uri": "https://localhost:8080/",
          "height": 34
        }
      },
      "source": [
        "av_metric(train_proc['likes'], lr.fit(train_new[feat], train_new['likes']).predict(train_new[feat]))"
      ],
      "execution_count": null,
      "outputs": [
        {
          "output_type": "execute_result",
          "data": {
            "text/plain": [
              "464.0597757365065"
            ]
          },
          "metadata": {
            "tags": []
          },
          "execution_count": 148
        }
      ]
    },
    {
      "cell_type": "code",
      "metadata": {
        "id": "K32J41Ztspll"
      },
      "source": [
        "lr = LinearRegression()"
      ],
      "execution_count": null,
      "outputs": []
    },
    {
      "cell_type": "code",
      "metadata": {
        "id": "qFng_783srxs"
      },
      "source": [
        "from sklearn.linear_model import LinearRegression"
      ],
      "execution_count": null,
      "outputs": []
    },
    {
      "cell_type": "code",
      "metadata": {
        "id": "8_FmvBPWtK9R"
      },
      "source": [
        "lr_preds = lr.predict(test_new[feat])"
      ],
      "execution_count": null,
      "outputs": []
    },
    {
      "cell_type": "code",
      "metadata": {
        "id": "DDj4hKogsw4n"
      },
      "source": [
        "lr_preds_t1 = np.expm1(lr_preds)\n",
        "ens_meta_alllr = pd.DataFrame({'video_id':test.video_id})\n",
        "ens_meta_alllr['likes'] = lr_preds_t1"
      ],
      "execution_count": null,
      "outputs": []
    },
    {
      "cell_type": "code",
      "metadata": {
        "id": "t5Bj4Ig6tUNN",
        "outputId": "7a96fee5-fc24-47a6-8223-8deb19e8b323",
        "colab": {
          "base_uri": "https://localhost:8080/",
          "height": 195
        }
      },
      "source": [
        "ens_meta_alllr.head()"
      ],
      "execution_count": null,
      "outputs": [
        {
          "output_type": "execute_result",
          "data": {
            "text/html": [
              "<div>\n",
              "<style scoped>\n",
              "    .dataframe tbody tr th:only-of-type {\n",
              "        vertical-align: middle;\n",
              "    }\n",
              "\n",
              "    .dataframe tbody tr th {\n",
              "        vertical-align: top;\n",
              "    }\n",
              "\n",
              "    .dataframe thead th {\n",
              "        text-align: right;\n",
              "    }\n",
              "</style>\n",
              "<table border=\"1\" class=\"dataframe\">\n",
              "  <thead>\n",
              "    <tr style=\"text-align: right;\">\n",
              "      <th></th>\n",
              "      <th>video_id</th>\n",
              "      <th>likes</th>\n",
              "    </tr>\n",
              "  </thead>\n",
              "  <tbody>\n",
              "    <tr>\n",
              "      <th>0</th>\n",
              "      <td>87185</td>\n",
              "      <td>752.519345</td>\n",
              "    </tr>\n",
              "    <tr>\n",
              "      <th>1</th>\n",
              "      <td>9431</td>\n",
              "      <td>2402.396988</td>\n",
              "    </tr>\n",
              "    <tr>\n",
              "      <th>2</th>\n",
              "      <td>40599</td>\n",
              "      <td>52.991777</td>\n",
              "    </tr>\n",
              "    <tr>\n",
              "      <th>3</th>\n",
              "      <td>494</td>\n",
              "      <td>3166.210638</td>\n",
              "    </tr>\n",
              "    <tr>\n",
              "      <th>4</th>\n",
              "      <td>73942</td>\n",
              "      <td>505.249709</td>\n",
              "    </tr>\n",
              "  </tbody>\n",
              "</table>\n",
              "</div>"
            ],
            "text/plain": [
              "   video_id        likes\n",
              "0     87185   752.519345\n",
              "1      9431  2402.396988\n",
              "2     40599    52.991777\n",
              "3       494  3166.210638\n",
              "4     73942   505.249709"
            ]
          },
          "metadata": {
            "tags": []
          },
          "execution_count": 152
        }
      ]
    },
    {
      "cell_type": "code",
      "metadata": {
        "id": "sM-ZrXdLtXzA"
      },
      "source": [
        "ens_meta_alllr.to_csv('/content/drive/My Drive/Colab Notebooks/ens_malllr.csv', index=False)"
      ],
      "execution_count": null,
      "outputs": []
    },
    {
      "cell_type": "code",
      "metadata": {
        "id": "X0GLDjtdtfG-",
        "outputId": "49893b1a-5799-4b0d-a1d2-19cbb4548be1",
        "colab": {
          "base_uri": "https://localhost:8080/",
          "height": 403
        }
      },
      "source": [
        "lr_oofs, lr_preds = run_clf_kfold(lr, train_new, test_new, feat)"
      ],
      "execution_count": null,
      "outputs": [
        {
          "output_type": "stream",
          "text": [
            "\n",
            "------------- Fold 1 -------------\n",
            "\n",
            "AV metric score for validation set is 468.62014512306973\n",
            "\n",
            "------------- Fold 2 -------------\n",
            "\n",
            "AV metric score for validation set is 468.7258074533949\n",
            "\n",
            "------------- Fold 3 -------------\n",
            "\n",
            "AV metric score for validation set is 462.28296088477566\n",
            "\n",
            "------------- Fold 4 -------------\n",
            "\n",
            "AV metric score for validation set is 453.33996138150326\n",
            "\n",
            "------------- Fold 5 -------------\n",
            "\n",
            "AV metric score for validation set is 467.9140993568646\n",
            "\n",
            "\n",
            "AV metric for oofs is 464.2145565100949\n"
          ],
          "name": "stdout"
        }
      ]
    },
    {
      "cell_type": "code",
      "metadata": {
        "id": "ZWT07e3vuXZn",
        "outputId": "0820bfb8-bff9-4126-a935-807815bba812",
        "colab": {
          "base_uri": "https://localhost:8080/",
          "height": 403
        }
      },
      "source": [
        "from sklearn.tree import DecisionTreeRegressor\n",
        "dt = DecisionTreeRegressor()\n",
        "fit_params = {'early_stopping':20, 'verbose':200}\n",
        "dt_oofs, dt_preds = run_clf_kfold(dt, train_new, test_new, feat)"
      ],
      "execution_count": null,
      "outputs": [
        {
          "output_type": "stream",
          "text": [
            "\n",
            "------------- Fold 1 -------------\n",
            "\n",
            "AV metric score for validation set is 676.3816006546527\n",
            "\n",
            "------------- Fold 2 -------------\n",
            "\n",
            "AV metric score for validation set is 659.7369971753166\n",
            "\n",
            "------------- Fold 3 -------------\n",
            "\n",
            "AV metric score for validation set is 656.5414893780772\n",
            "\n",
            "------------- Fold 4 -------------\n",
            "\n",
            "AV metric score for validation set is 672.0842215122705\n",
            "\n",
            "------------- Fold 5 -------------\n",
            "\n",
            "AV metric score for validation set is 672.0480372100265\n",
            "\n",
            "\n",
            "AV metric for oofs is 667.403893039987\n"
          ],
          "name": "stdout"
        }
      ]
    },
    {
      "cell_type": "code",
      "metadata": {
        "id": "LcelePZVvW_-",
        "outputId": "b7c3b8ab-5ba4-4c79-e95d-1a50bb8975e9",
        "colab": {
          "base_uri": "https://localhost:8080/",
          "height": 195
        }
      },
      "source": [
        "train_new.head()"
      ],
      "execution_count": null,
      "outputs": [
        {
          "output_type": "execute_result",
          "data": {
            "text/html": [
              "<div>\n",
              "<style scoped>\n",
              "    .dataframe tbody tr th:only-of-type {\n",
              "        vertical-align: middle;\n",
              "    }\n",
              "\n",
              "    .dataframe tbody tr th {\n",
              "        vertical-align: top;\n",
              "    }\n",
              "\n",
              "    .dataframe thead th {\n",
              "        text-align: right;\n",
              "    }\n",
              "</style>\n",
              "<table border=\"1\" class=\"dataframe\">\n",
              "  <thead>\n",
              "    <tr style=\"text-align: right;\">\n",
              "      <th></th>\n",
              "      <th>cb</th>\n",
              "      <th>lgb</th>\n",
              "      <th>xgb</th>\n",
              "      <th>likes</th>\n",
              "    </tr>\n",
              "  </thead>\n",
              "  <tbody>\n",
              "    <tr>\n",
              "      <th>0</th>\n",
              "      <td>7.774883</td>\n",
              "      <td>7.776117</td>\n",
              "      <td>7.858348</td>\n",
              "      <td>7.763021</td>\n",
              "    </tr>\n",
              "    <tr>\n",
              "      <th>1</th>\n",
              "      <td>8.327288</td>\n",
              "      <td>8.288283</td>\n",
              "      <td>8.386765</td>\n",
              "      <td>8.091015</td>\n",
              "    </tr>\n",
              "    <tr>\n",
              "      <th>2</th>\n",
              "      <td>5.638850</td>\n",
              "      <td>5.224750</td>\n",
              "      <td>5.263780</td>\n",
              "      <td>6.364751</td>\n",
              "    </tr>\n",
              "    <tr>\n",
              "      <th>3</th>\n",
              "      <td>10.952559</td>\n",
              "      <td>10.573499</td>\n",
              "      <td>10.735126</td>\n",
              "      <td>11.323869</td>\n",
              "    </tr>\n",
              "    <tr>\n",
              "      <th>4</th>\n",
              "      <td>8.293664</td>\n",
              "      <td>8.089736</td>\n",
              "      <td>8.207672</td>\n",
              "      <td>8.176954</td>\n",
              "    </tr>\n",
              "  </tbody>\n",
              "</table>\n",
              "</div>"
            ],
            "text/plain": [
              "          cb        lgb        xgb      likes\n",
              "0   7.774883   7.776117   7.858348   7.763021\n",
              "1   8.327288   8.288283   8.386765   8.091015\n",
              "2   5.638850   5.224750   5.263780   6.364751\n",
              "3  10.952559  10.573499  10.735126  11.323869\n",
              "4   8.293664   8.089736   8.207672   8.176954"
            ]
          },
          "metadata": {
            "tags": []
          },
          "execution_count": 159
        }
      ]
    },
    {
      "cell_type": "code",
      "metadata": {
        "id": "fK754jhgvjRj",
        "outputId": "c9fac910-7769-4e50-c01c-c8791be87c84",
        "colab": {
          "base_uri": "https://localhost:8080/",
          "height": 195
        }
      },
      "source": [
        "test_new.head()"
      ],
      "execution_count": null,
      "outputs": [
        {
          "output_type": "execute_result",
          "data": {
            "text/html": [
              "<div>\n",
              "<style scoped>\n",
              "    .dataframe tbody tr th:only-of-type {\n",
              "        vertical-align: middle;\n",
              "    }\n",
              "\n",
              "    .dataframe tbody tr th {\n",
              "        vertical-align: top;\n",
              "    }\n",
              "\n",
              "    .dataframe thead th {\n",
              "        text-align: right;\n",
              "    }\n",
              "</style>\n",
              "<table border=\"1\" class=\"dataframe\">\n",
              "  <thead>\n",
              "    <tr style=\"text-align: right;\">\n",
              "      <th></th>\n",
              "      <th>cb</th>\n",
              "      <th>lgb</th>\n",
              "      <th>xgb</th>\n",
              "    </tr>\n",
              "  </thead>\n",
              "  <tbody>\n",
              "    <tr>\n",
              "      <th>0</th>\n",
              "      <td>6.657346</td>\n",
              "      <td>6.690943</td>\n",
              "      <td>6.538505</td>\n",
              "    </tr>\n",
              "    <tr>\n",
              "      <th>1</th>\n",
              "      <td>7.789561</td>\n",
              "      <td>7.748608</td>\n",
              "      <td>7.805331</td>\n",
              "    </tr>\n",
              "    <tr>\n",
              "      <th>2</th>\n",
              "      <td>3.905570</td>\n",
              "      <td>3.839414</td>\n",
              "      <td>4.258735</td>\n",
              "    </tr>\n",
              "    <tr>\n",
              "      <th>3</th>\n",
              "      <td>7.923671</td>\n",
              "      <td>8.142094</td>\n",
              "      <td>8.108187</td>\n",
              "    </tr>\n",
              "    <tr>\n",
              "      <th>4</th>\n",
              "      <td>6.316550</td>\n",
              "      <td>6.207576</td>\n",
              "      <td>6.170307</td>\n",
              "    </tr>\n",
              "  </tbody>\n",
              "</table>\n",
              "</div>"
            ],
            "text/plain": [
              "         cb       lgb       xgb\n",
              "0  6.657346  6.690943  6.538505\n",
              "1  7.789561  7.748608  7.805331\n",
              "2  3.905570  3.839414  4.258735\n",
              "3  7.923671  8.142094  8.108187\n",
              "4  6.316550  6.207576  6.170307"
            ]
          },
          "metadata": {
            "tags": []
          },
          "execution_count": 160
        }
      ]
    },
    {
      "cell_type": "code",
      "metadata": {
        "id": "0q4d8pKyvlHe",
        "outputId": "d517b4a5-972d-436b-cfca-f370749ad29b",
        "colab": {
          "base_uri": "https://localhost:8080/",
          "height": 171
        }
      },
      "source": [
        "from tensorflow.keras.layers import Dense\n",
        "from tensorflow.keras.models import Sequential\n",
        "\n",
        "model = Sequential()\n",
        "model.add(Dense(3, activation='relu'))\n",
        "model.add(Dense(2, activation='relu'))\n",
        "model.add(Dense(1))\n",
        "\n",
        "model.compile(loss='mse', optimizer='adam')\n",
        "\n",
        "model.fit(train_new[feat], train_new['likes'], validation_split=0.1)"
      ],
      "execution_count": null,
      "outputs": [
        {
          "output_type": "stream",
          "text": [
            "WARNING:tensorflow:Layer dense_11 is casting an input tensor from dtype float64 to the layer's dtype of float32, which is new behavior in TensorFlow 2.  The layer has dtype float32 because its dtype defaults to floatx.\n",
            "\n",
            "If you intended to run this layer in float32, you can safely ignore this warning. If in doubt, this warning is likely only an issue if you are porting a TensorFlow 1.X model to TensorFlow 2.\n",
            "\n",
            "To change all layers to have dtype float64 by default, call `tf.keras.backend.set_floatx('float64')`. To change just this layer, pass dtype='float64' to the layer constructor. If you are the author of this layer, you can disable autocasting by passing autocast=False to the base Layer constructor.\n",
            "\n",
            "733/733 [==============================] - 1s 1ms/step - loss: 12.8053 - val_loss: 0.2463\n"
          ],
          "name": "stdout"
        },
        {
          "output_type": "execute_result",
          "data": {
            "text/plain": [
              "<tensorflow.python.keras.callbacks.History at 0x7fd64d710fd0>"
            ]
          },
          "metadata": {
            "tags": []
          },
          "execution_count": 174
        }
      ]
    },
    {
      "cell_type": "code",
      "metadata": {
        "id": "JSJuWNF9wvp8",
        "outputId": "c4a86b42-1729-4884-affe-8ff27f1ad39d",
        "colab": {
          "base_uri": "https://localhost:8080/",
          "height": 34
        }
      },
      "source": [
        "av_metric(train_new['likes'], model.predict(train_new[feat]))"
      ],
      "execution_count": null,
      "outputs": [
        {
          "output_type": "execute_result",
          "data": {
            "text/plain": [
              "493.3708513098664"
            ]
          },
          "metadata": {
            "tags": []
          },
          "execution_count": 175
        }
      ]
    },
    {
      "cell_type": "code",
      "metadata": {
        "id": "H_myzJHsw-53",
        "outputId": "a3873db8-5aaa-4d57-b23c-b069fea4580b",
        "colab": {
          "base_uri": "https://localhost:8080/",
          "height": 195
        }
      },
      "source": [
        "train_new.head()"
      ],
      "execution_count": null,
      "outputs": [
        {
          "output_type": "execute_result",
          "data": {
            "text/html": [
              "<div>\n",
              "<style scoped>\n",
              "    .dataframe tbody tr th:only-of-type {\n",
              "        vertical-align: middle;\n",
              "    }\n",
              "\n",
              "    .dataframe tbody tr th {\n",
              "        vertical-align: top;\n",
              "    }\n",
              "\n",
              "    .dataframe thead th {\n",
              "        text-align: right;\n",
              "    }\n",
              "</style>\n",
              "<table border=\"1\" class=\"dataframe\">\n",
              "  <thead>\n",
              "    <tr style=\"text-align: right;\">\n",
              "      <th></th>\n",
              "      <th>cb</th>\n",
              "      <th>lgb</th>\n",
              "      <th>xgb</th>\n",
              "      <th>likes</th>\n",
              "    </tr>\n",
              "  </thead>\n",
              "  <tbody>\n",
              "    <tr>\n",
              "      <th>0</th>\n",
              "      <td>7.774883</td>\n",
              "      <td>7.776117</td>\n",
              "      <td>7.858348</td>\n",
              "      <td>7.763021</td>\n",
              "    </tr>\n",
              "    <tr>\n",
              "      <th>1</th>\n",
              "      <td>8.327288</td>\n",
              "      <td>8.288283</td>\n",
              "      <td>8.386765</td>\n",
              "      <td>8.091015</td>\n",
              "    </tr>\n",
              "    <tr>\n",
              "      <th>2</th>\n",
              "      <td>5.638850</td>\n",
              "      <td>5.224750</td>\n",
              "      <td>5.263780</td>\n",
              "      <td>6.364751</td>\n",
              "    </tr>\n",
              "    <tr>\n",
              "      <th>3</th>\n",
              "      <td>10.952559</td>\n",
              "      <td>10.573499</td>\n",
              "      <td>10.735126</td>\n",
              "      <td>11.323869</td>\n",
              "    </tr>\n",
              "    <tr>\n",
              "      <th>4</th>\n",
              "      <td>8.293664</td>\n",
              "      <td>8.089736</td>\n",
              "      <td>8.207672</td>\n",
              "      <td>8.176954</td>\n",
              "    </tr>\n",
              "  </tbody>\n",
              "</table>\n",
              "</div>"
            ],
            "text/plain": [
              "          cb        lgb        xgb      likes\n",
              "0   7.774883   7.776117   7.858348   7.763021\n",
              "1   8.327288   8.288283   8.386765   8.091015\n",
              "2   5.638850   5.224750   5.263780   6.364751\n",
              "3  10.952559  10.573499  10.735126  11.323869\n",
              "4   8.293664   8.089736   8.207672   8.176954"
            ]
          },
          "metadata": {
            "tags": []
          },
          "execution_count": 173
        }
      ]
    },
    {
      "cell_type": "code",
      "metadata": {
        "id": "qhJZboecxPGc",
        "outputId": "93422d58-608f-4a2e-b8d8-2471fb35f5f4",
        "colab": {
          "base_uri": "https://localhost:8080/",
          "height": 195
        }
      },
      "source": [
        "ens3_nm.head()"
      ],
      "execution_count": null,
      "outputs": [
        {
          "output_type": "execute_result",
          "data": {
            "text/html": [
              "<div>\n",
              "<style scoped>\n",
              "    .dataframe tbody tr th:only-of-type {\n",
              "        vertical-align: middle;\n",
              "    }\n",
              "\n",
              "    .dataframe tbody tr th {\n",
              "        vertical-align: top;\n",
              "    }\n",
              "\n",
              "    .dataframe thead th {\n",
              "        text-align: right;\n",
              "    }\n",
              "</style>\n",
              "<table border=\"1\" class=\"dataframe\">\n",
              "  <thead>\n",
              "    <tr style=\"text-align: right;\">\n",
              "      <th></th>\n",
              "      <th>video_id</th>\n",
              "      <th>likes</th>\n",
              "    </tr>\n",
              "  </thead>\n",
              "  <tbody>\n",
              "    <tr>\n",
              "      <th>0</th>\n",
              "      <td>87185</td>\n",
              "      <td>756.142697</td>\n",
              "    </tr>\n",
              "    <tr>\n",
              "      <th>1</th>\n",
              "      <td>9431</td>\n",
              "      <td>2393.288122</td>\n",
              "    </tr>\n",
              "    <tr>\n",
              "      <th>2</th>\n",
              "      <td>40599</td>\n",
              "      <td>53.577497</td>\n",
              "    </tr>\n",
              "    <tr>\n",
              "      <th>3</th>\n",
              "      <td>494</td>\n",
              "      <td>3160.573513</td>\n",
              "    </tr>\n",
              "    <tr>\n",
              "      <th>4</th>\n",
              "      <td>73942</td>\n",
              "      <td>507.384945</td>\n",
              "    </tr>\n",
              "  </tbody>\n",
              "</table>\n",
              "</div>"
            ],
            "text/plain": [
              "   video_id        likes\n",
              "0     87185   756.142697\n",
              "1      9431  2393.288122\n",
              "2     40599    53.577497\n",
              "3       494  3160.573513\n",
              "4     73942   507.384945"
            ]
          },
          "metadata": {
            "tags": []
          },
          "execution_count": 176
        }
      ]
    },
    {
      "cell_type": "code",
      "metadata": {
        "id": "vGvGboJUEy0j",
        "outputId": "a6d104bd-88cb-4450-92cd-1dd3dc79961d",
        "colab": {
          "base_uri": "https://localhost:8080/",
          "height": 34
        }
      },
      "source": [
        "ens3_nm['likes'].min()"
      ],
      "execution_count": null,
      "outputs": [
        {
          "output_type": "execute_result",
          "data": {
            "text/plain": [
              "3.1514853620709093"
            ]
          },
          "metadata": {
            "tags": []
          },
          "execution_count": 177
        }
      ]
    },
    {
      "cell_type": "code",
      "metadata": {
        "id": "DxgiyOUPFL-J"
      },
      "source": [
        ""
      ],
      "execution_count": null,
      "outputs": []
    }
  ]
}