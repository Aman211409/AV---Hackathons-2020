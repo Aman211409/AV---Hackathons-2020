{
  "nbformat": 4,
  "nbformat_minor": 0,
  "metadata": {
    "colab": {
      "name": "groupbys FE.ipynb",
      "provenance": [],
      "collapsed_sections": []
    },
    "kernelspec": {
      "name": "python3",
      "display_name": "Python 3"
    },
    "accelerator": "GPU"
  },
  "cells": [
    {
      "cell_type": "markdown",
      "metadata": {
        "id": "OWMv3dXs605q",
        "colab_type": "text"
      },
      "source": [
        "## This code will be for lgbm"
      ]
    },
    {
      "cell_type": "code",
      "metadata": {
        "id": "KCQM61hL69IS",
        "colab_type": "code",
        "colab": {}
      },
      "source": [
        "import pandas as pd\n",
        "import numpy as np\n",
        "pd.set_option('display.max_columns', None)\n",
        "import lightgbm as lgb\n",
        "from lightgbm import LGBMClassifier\n",
        "from sklearn.model_selection import train_test_split, GridSearchCV, RandomizedSearchCV, KFold, StratifiedKFold\n",
        "from sklearn.metrics import accuracy_score, roc_auc_score"
      ],
      "execution_count": null,
      "outputs": []
    },
    {
      "cell_type": "code",
      "metadata": {
        "id": "Nh4DCQmq7xl-",
        "colab_type": "code",
        "colab": {}
      },
      "source": [
        "train = pd.read_csv('/content/drive/My Drive/Colab Notebooks/train.csv')\n",
        "test = pd.read_csv('/content/drive/My Drive/Colab Notebooks/test.csv')"
      ],
      "execution_count": null,
      "outputs": []
    },
    {
      "cell_type": "code",
      "metadata": {
        "id": "v01nAUjo8dP2",
        "colab_type": "code",
        "colab": {}
      },
      "source": [
        "train['Vehicle_Age']=train['Vehicle_Age'].replace({'< 1 Year':0,'1-2 Year':1,'> 2 Years':2})\n",
        "train['Gender']=train['Gender'].replace({'Male':1,'Female':0})\n",
        "train['Vehicle_Damage']=train['Vehicle_Damage'].replace({'Yes':1,'No':0})\n",
        "test['Vehicle_Age']=test['Vehicle_Age'].replace({'< 1 Year':0,'1-2 Year':1,'> 2 Years':2})\n",
        "test['Gender']=test['Gender'].replace({'Male':1,'Female':0})\n",
        "test['Vehicle_Damage']=test['Vehicle_Damage'].replace({'Yes':1,'No':0})"
      ],
      "execution_count": null,
      "outputs": []
    },
    {
      "cell_type": "code",
      "metadata": {
        "id": "zPqr1Vmq8ira",
        "colab_type": "code",
        "colab": {
          "base_uri": "https://localhost:8080/",
          "height": 235
        },
        "outputId": "6a7eb245-30f5-4582-c595-73a1d6e7025e"
      },
      "source": [
        "train.dtypes"
      ],
      "execution_count": null,
      "outputs": [
        {
          "output_type": "execute_result",
          "data": {
            "text/plain": [
              "id                        int64\n",
              "Gender                    int64\n",
              "Age                       int64\n",
              "Driving_License           int64\n",
              "Region_Code             float64\n",
              "Previously_Insured        int64\n",
              "Vehicle_Age               int64\n",
              "Vehicle_Damage            int64\n",
              "Annual_Premium          float64\n",
              "Policy_Sales_Channel    float64\n",
              "Vintage                   int64\n",
              "Response                  int64\n",
              "dtype: object"
            ]
          },
          "metadata": {
            "tags": []
          },
          "execution_count": 6
        }
      ]
    },
    {
      "cell_type": "code",
      "metadata": {
        "id": "UhwB_tin8lN3",
        "colab_type": "code",
        "colab": {}
      },
      "source": [
        "col_1=['id', 'Gender', 'Age', 'Driving_License', 'Region_Code', 'Previously_Insured', 'Vehicle_Age', 'Vehicle_Damage', 'Annual_Premium', 'Policy_Sales_Channel', 'Vintage']\n",
        "X=train[col_1]\n",
        "Y=train['Response']"
      ],
      "execution_count": null,
      "outputs": []
    },
    {
      "cell_type": "code",
      "metadata": {
        "id": "2-HJQtf88qud",
        "colab_type": "code",
        "colab": {}
      },
      "source": [
        "X_t, X_tt, y_t, y_tt = train_test_split(X, Y, test_size=.25, random_state=2)"
      ],
      "execution_count": null,
      "outputs": []
    },
    {
      "cell_type": "code",
      "metadata": {
        "id": "qOt6EX6c8uaL",
        "colab_type": "code",
        "colab": {
          "base_uri": "https://localhost:8080/",
          "height": 168
        },
        "outputId": "bde73590-7102-4b8d-b60b-efc082655905"
      },
      "source": [
        "#lgbcl = LGBMClassifier(n_estimators=53)\n",
        "lgbcl = LGBMClassifier(n_estimators=84, learning_rate=0.09, reg_alpha=0.0,reg_lambda=0.0)\n",
        "lgbcl= lgbcl.fit(X_t, y_t,eval_metric='auc',eval_set=(X_tt , y_tt),verbose=10)\n",
        "y_lgb = lgbcl.predict(X_tt)\n",
        "probs_tr = lgbcl.predict_proba(X_t)[:, 1]\n",
        "probs_te = lgbcl.predict_proba(X_tt)[:, 1]\n",
        "roc_auc_score(y_t, probs_tr)\n",
        "roc_auc_score(y_tt, probs_te)"
      ],
      "execution_count": null,
      "outputs": [
        {
          "output_type": "stream",
          "text": [
            "[10]\tvalid_0's binary_logloss: 0.29161\tvalid_0's auc: 0.85463\n",
            "[20]\tvalid_0's binary_logloss: 0.272517\tvalid_0's auc: 0.856261\n",
            "[30]\tvalid_0's binary_logloss: 0.265841\tvalid_0's auc: 0.857205\n",
            "[40]\tvalid_0's binary_logloss: 0.2631\tvalid_0's auc: 0.858041\n",
            "[50]\tvalid_0's binary_logloss: 0.262152\tvalid_0's auc: 0.858266\n",
            "[60]\tvalid_0's binary_logloss: 0.261764\tvalid_0's auc: 0.858493\n",
            "[70]\tvalid_0's binary_logloss: 0.261682\tvalid_0's auc: 0.858485\n",
            "[80]\tvalid_0's binary_logloss: 0.263953\tvalid_0's auc: 0.856952\n"
          ],
          "name": "stdout"
        },
        {
          "output_type": "execute_result",
          "data": {
            "text/plain": [
              "0.8572584933034935"
            ]
          },
          "metadata": {
            "tags": []
          },
          "execution_count": 27
        }
      ]
    },
    {
      "cell_type": "code",
      "metadata": {
        "id": "9Dq2Tp8U81qJ",
        "colab_type": "code",
        "colab": {}
      },
      "source": [
        "#lgbcl= lgbcl.fit(X, Y)\n",
        "lgb_pred= lgbcl.predict_proba(test)[:, 1]\n",
        "#lgb_pred = np.where(lgb_pred>0.5, 1, 0)\n",
        "sub1 = pd.DataFrame({'id':test.id, 'Response':lgb_pred})"
      ],
      "execution_count": null,
      "outputs": []
    },
    {
      "cell_type": "code",
      "metadata": {
        "id": "wAX95mCL9mLu",
        "colab_type": "code",
        "colab": {
          "base_uri": "https://localhost:8080/",
          "height": 195
        },
        "outputId": "68be7301-9189-4202-f37a-f86dc371b6c4"
      },
      "source": [
        "sub1.head()"
      ],
      "execution_count": null,
      "outputs": [
        {
          "output_type": "execute_result",
          "data": {
            "text/html": [
              "<div>\n",
              "<style scoped>\n",
              "    .dataframe tbody tr th:only-of-type {\n",
              "        vertical-align: middle;\n",
              "    }\n",
              "\n",
              "    .dataframe tbody tr th {\n",
              "        vertical-align: top;\n",
              "    }\n",
              "\n",
              "    .dataframe thead th {\n",
              "        text-align: right;\n",
              "    }\n",
              "</style>\n",
              "<table border=\"1\" class=\"dataframe\">\n",
              "  <thead>\n",
              "    <tr style=\"text-align: right;\">\n",
              "      <th></th>\n",
              "      <th>id</th>\n",
              "      <th>Response</th>\n",
              "    </tr>\n",
              "  </thead>\n",
              "  <tbody>\n",
              "    <tr>\n",
              "      <th>0</th>\n",
              "      <td>381110</td>\n",
              "      <td>0.000113</td>\n",
              "    </tr>\n",
              "    <tr>\n",
              "      <th>1</th>\n",
              "      <td>381111</td>\n",
              "      <td>0.291541</td>\n",
              "    </tr>\n",
              "    <tr>\n",
              "      <th>2</th>\n",
              "      <td>381112</td>\n",
              "      <td>0.274470</td>\n",
              "    </tr>\n",
              "    <tr>\n",
              "      <th>3</th>\n",
              "      <td>381113</td>\n",
              "      <td>0.008336</td>\n",
              "    </tr>\n",
              "    <tr>\n",
              "      <th>4</th>\n",
              "      <td>381114</td>\n",
              "      <td>0.000138</td>\n",
              "    </tr>\n",
              "  </tbody>\n",
              "</table>\n",
              "</div>"
            ],
            "text/plain": [
              "       id  Response\n",
              "0  381110  0.000113\n",
              "1  381111  0.291541\n",
              "2  381112  0.274470\n",
              "3  381113  0.008336\n",
              "4  381114  0.000138"
            ]
          },
          "metadata": {
            "tags": []
          },
          "execution_count": 31
        }
      ]
    },
    {
      "cell_type": "code",
      "metadata": {
        "id": "Zp91TDYU_B5s",
        "colab_type": "code",
        "colab": {}
      },
      "source": [
        "sub1.to_csv('/content/drive/My Drive/Colab Notebooks/lgbm_baseline_3.csv', index=False)"
      ],
      "execution_count": null,
      "outputs": []
    },
    {
      "cell_type": "code",
      "metadata": {
        "id": "Y8UvQaxx-mmH",
        "colab_type": "code",
        "colab": {
          "base_uri": "https://localhost:8080/",
          "height": 34
        },
        "outputId": "61107658-3a7e-4a58-cede-dcce6de517dc"
      },
      "source": [
        "sub1['Response'].unique()"
      ],
      "execution_count": null,
      "outputs": [
        {
          "output_type": "execute_result",
          "data": {
            "text/plain": [
              "array([0, 1])"
            ]
          },
          "metadata": {
            "tags": []
          },
          "execution_count": 26
        }
      ]
    },
    {
      "cell_type": "code",
      "metadata": {
        "id": "dZODfBD2_r-2",
        "colab_type": "code",
        "colab": {
          "base_uri": "https://localhost:8080/",
          "height": 34
        },
        "outputId": "2a5b9d7d-d5f6-4fbf-cf7a-5adf0db712a4"
      },
      "source": [
        "test.shape"
      ],
      "execution_count": null,
      "outputs": [
        {
          "output_type": "execute_result",
          "data": {
            "text/plain": [
              "(127037, 11)"
            ]
          },
          "metadata": {
            "tags": []
          },
          "execution_count": 20
        }
      ]
    },
    {
      "cell_type": "code",
      "metadata": {
        "id": "yv5PmoWD_tqH",
        "colab_type": "code",
        "colab": {
          "base_uri": "https://localhost:8080/",
          "height": 34
        },
        "outputId": "36bb8639-989a-4b64-bec5-b403a6aa6464"
      },
      "source": [
        "sub1.shape"
      ],
      "execution_count": null,
      "outputs": [
        {
          "output_type": "execute_result",
          "data": {
            "text/plain": [
              "(127037, 2)"
            ]
          },
          "metadata": {
            "tags": []
          },
          "execution_count": 21
        }
      ]
    },
    {
      "cell_type": "markdown",
      "metadata": {
        "id": "Gkcd6mnY_udn",
        "colab_type": "text"
      },
      "source": [
        "Without id column"
      ]
    },
    {
      "cell_type": "code",
      "metadata": {
        "id": "1rZveC02CKVv",
        "colab_type": "code",
        "colab": {}
      },
      "source": [
        "col1=['Gender', 'Age', 'Driving_License', 'Region_Code', 'Previously_Insured', 'Vehicle_Age', 'Vehicle_Damage', 'Annual_Premium', 'Policy_Sales_Channel', 'Vintage']\n",
        "X=train[col1]\n",
        "Y=train['Response']"
      ],
      "execution_count": null,
      "outputs": []
    },
    {
      "cell_type": "code",
      "metadata": {
        "id": "WUSO288bCPWq",
        "colab_type": "code",
        "colab": {}
      },
      "source": [
        "X_t, X_tt, y_t, y_tt = train_test_split(X, Y, test_size=.25, random_state=2)"
      ],
      "execution_count": null,
      "outputs": []
    },
    {
      "cell_type": "code",
      "metadata": {
        "id": "WG_niZLCCTF2",
        "colab_type": "code",
        "colab": {
          "base_uri": "https://localhost:8080/",
          "height": 168
        },
        "outputId": "e4fe7634-be40-4bf8-bb93-a8ee5ee57172"
      },
      "source": [
        "lgbcl = LGBMClassifier(n_estimators=84, learning_rate=0.09, reg_alpha=0.0,reg_lambda=0.0)\n",
        "lgbcl= lgbcl.fit(X_t, y_t,eval_metric='auc',eval_set=(X_tt , y_tt),verbose=10)\n",
        "y_lgb = lgbcl.predict(X_tt)\n",
        "probs_tr = lgbcl.predict_proba(X_t)[:, 1]\n",
        "probs_te = lgbcl.predict_proba(X_tt)[:, 1]\n",
        "roc_auc_score(y_t, probs_tr)\n",
        "roc_auc_score(y_tt, probs_te)"
      ],
      "execution_count": null,
      "outputs": [
        {
          "output_type": "stream",
          "text": [
            "[10]\tvalid_0's binary_logloss: 0.29161\tvalid_0's auc: 0.85463\n",
            "[20]\tvalid_0's binary_logloss: 0.27252\tvalid_0's auc: 0.856247\n",
            "[30]\tvalid_0's binary_logloss: 0.265858\tvalid_0's auc: 0.857116\n",
            "[40]\tvalid_0's binary_logloss: 0.263121\tvalid_0's auc: 0.85795\n",
            "[50]\tvalid_0's binary_logloss: 0.262069\tvalid_0's auc: 0.858253\n",
            "[60]\tvalid_0's binary_logloss: 0.261707\tvalid_0's auc: 0.858484\n",
            "[70]\tvalid_0's binary_logloss: 0.261996\tvalid_0's auc: 0.858104\n",
            "[80]\tvalid_0's binary_logloss: 0.262481\tvalid_0's auc: 0.857426\n"
          ],
          "name": "stdout"
        },
        {
          "output_type": "execute_result",
          "data": {
            "text/plain": [
              "0.8577210119741587"
            ]
          },
          "metadata": {
            "tags": []
          },
          "execution_count": 35
        }
      ]
    },
    {
      "cell_type": "code",
      "metadata": {
        "id": "e1rF_YxTCZq-",
        "colab_type": "code",
        "colab": {}
      },
      "source": [
        "#lgbcl= lgbcl.fit(X, Y)\n",
        "#lgb_pred= lgbcl.predict_proba(test)[:, 1]\n",
        "#lgb_pred = np.where(lgb_pred>0.5, 1, 0)\n",
        "sub1 = pd.DataFrame({'id':test1.id, 'Response':lgb_pred})"
      ],
      "execution_count": null,
      "outputs": []
    },
    {
      "cell_type": "code",
      "metadata": {
        "id": "WqaOQkmzCd8r",
        "colab_type": "code",
        "colab": {}
      },
      "source": [
        "test.drop(['id'], axis=1, inplace=True)"
      ],
      "execution_count": null,
      "outputs": []
    },
    {
      "cell_type": "code",
      "metadata": {
        "id": "8sSXA23SCm8N",
        "colab_type": "code",
        "colab": {}
      },
      "source": [
        "test1 = pd.read_csv('/content/drive/My Drive/Colab Notebooks/test.csv')"
      ],
      "execution_count": null,
      "outputs": []
    },
    {
      "cell_type": "code",
      "metadata": {
        "id": "e2D6Z01sCxkx",
        "colab_type": "code",
        "colab": {}
      },
      "source": [
        "sub1.to_csv('/content/drive/My Drive/Colab Notebooks/lgbm_baseline_nid_1.csv', index=False)"
      ],
      "execution_count": null,
      "outputs": []
    },
    {
      "cell_type": "code",
      "metadata": {
        "id": "YlBl_OBVC4tw",
        "colab_type": "code",
        "colab": {
          "base_uri": "https://localhost:8080/",
          "height": 235
        },
        "outputId": "6c46644d-7f47-4b19-c813-415d4f245f5f"
      },
      "source": [
        "train.dtypes"
      ],
      "execution_count": null,
      "outputs": [
        {
          "output_type": "execute_result",
          "data": {
            "text/plain": [
              "id                        int64\n",
              "Gender                    int64\n",
              "Age                       int64\n",
              "Driving_License           int64\n",
              "Region_Code             float64\n",
              "Previously_Insured        int64\n",
              "Vehicle_Age               int64\n",
              "Vehicle_Damage            int64\n",
              "Annual_Premium          float64\n",
              "Policy_Sales_Channel    float64\n",
              "Vintage                   int64\n",
              "Response                  int64\n",
              "dtype: object"
            ]
          },
          "metadata": {
            "tags": []
          },
          "execution_count": 5
        }
      ]
    },
    {
      "cell_type": "markdown",
      "metadata": {
        "id": "za3NRoWTZDNH",
        "colab_type": "text"
      },
      "source": [
        "Without id column, model performs better \"lgbm_baseline_nid_1\""
      ]
    },
    {
      "cell_type": "code",
      "metadata": {
        "id": "xzWb5f1BZuyu",
        "colab_type": "code",
        "colab": {
          "base_uri": "https://localhost:8080/",
          "height": 706
        },
        "outputId": "bd05cfe3-0ae0-4c1a-e275-58e31b476221"
      },
      "source": [
        "err = [] \n",
        "y_pred_tot_lgm = np.zeros((len(test), 2))\n",
        "\n",
        "\n",
        "fold = StratifiedKFold(n_splits=10, shuffle=True, random_state=2020)\n",
        "i = 1\n",
        "\n",
        "for train_index, test_index in fold.split(X, Y):\n",
        "    x_train, x_val = X.iloc[train_index], X.iloc[test_index]\n",
        "    y_train, y_val = Y.iloc[train_index], Y.iloc[test_index]\n",
        "    m = LGBMClassifier(n_estimators=100,\n",
        "                       random_state=2020,\n",
        "                       eval_metric='auc',\n",
        "                       learning_rate=0.09,\n",
        "                       depth=8,\n",
        "                       #bagging_temperature=0.3,\n",
        "                       #task_type='GPU',\n",
        "                       reg_lambda=0.0,\n",
        "                       reg_alpha=0.0\n",
        "                       #num_leaves=64\n",
        "                       )\n",
        "    m.fit(x_train, y_train, eval_set=[(x_val, y_val)], early_stopping_rounds=100,verbose=200)\n",
        "    pred_y = m.predict(x_val)\n",
        "    print(i, \" err_lgm: \", roc_auc_score(y_val,pred_y))\n",
        "    err.append(roc_auc_score(y_val,pred_y))\n",
        "    y_pred_tot_lgm += m.predict_proba(test)\n",
        "    i = i + 1\n",
        "#y_pred_tot_lgm=y_pred_tot_lgm/10\n",
        "sum(err)/10"
      ],
      "execution_count": null,
      "outputs": [
        {
          "output_type": "stream",
          "text": [
            "Training until validation scores don't improve for 100 rounds.\n",
            "Did not meet early stopping. Best iteration is:\n",
            "[67]\tvalid_0's binary_logloss: 0.263631\n",
            "1  err_lgm:  0.502021251968012\n",
            "Training until validation scores don't improve for 100 rounds.\n",
            "Did not meet early stopping. Best iteration is:\n",
            "[61]\tvalid_0's binary_logloss: 0.264519\n",
            "2  err_lgm:  0.50137661282227\n",
            "Training until validation scores don't improve for 100 rounds.\n",
            "Did not meet early stopping. Best iteration is:\n",
            "[59]\tvalid_0's binary_logloss: 0.263587\n",
            "3  err_lgm:  0.5005100697677515\n",
            "Training until validation scores don't improve for 100 rounds.\n",
            "Did not meet early stopping. Best iteration is:\n",
            "[63]\tvalid_0's binary_logloss: 0.265128\n",
            "4  err_lgm:  0.500980721677786\n",
            "Training until validation scores don't improve for 100 rounds.\n",
            "Did not meet early stopping. Best iteration is:\n",
            "[65]\tvalid_0's binary_logloss: 0.26588\n",
            "5  err_lgm:  0.501149952137745\n",
            "Training until validation scores don't improve for 100 rounds.\n",
            "Did not meet early stopping. Best iteration is:\n",
            "[64]\tvalid_0's binary_logloss: 0.266625\n",
            "6  err_lgm:  0.5007367304522765\n",
            "Training until validation scores don't improve for 100 rounds.\n",
            "Did not meet early stopping. Best iteration is:\n",
            "[73]\tvalid_0's binary_logloss: 0.26379\n",
            "7  err_lgm:  0.501164904290855\n",
            "Training until validation scores don't improve for 100 rounds.\n",
            "Did not meet early stopping. Best iteration is:\n",
            "[63]\tvalid_0's binary_logloss: 0.266021\n",
            "8  err_lgm:  0.501334134750814\n",
            "Training until validation scores don't improve for 100 rounds.\n",
            "Did not meet early stopping. Best iteration is:\n",
            "[61]\tvalid_0's binary_logloss: 0.26488\n",
            "9  err_lgm:  0.5013018520567196\n",
            "Training until validation scores don't improve for 100 rounds.\n",
            "Did not meet early stopping. Best iteration is:\n",
            "[64]\tvalid_0's binary_logloss: 0.26402\n",
            "10  err_lgm:  0.5013018493738369\n"
          ],
          "name": "stdout"
        },
        {
          "output_type": "execute_result",
          "data": {
            "text/plain": [
              "0.5011878079298067"
            ]
          },
          "metadata": {
            "tags": []
          },
          "execution_count": 23
        }
      ]
    },
    {
      "cell_type": "code",
      "metadata": {
        "id": "V4tgUa7gcWic",
        "colab_type": "code",
        "colab": {}
      },
      "source": [
        "sub = pd.DataFrame({'id':test1.id})\n",
        "sub['Response'] = [np.argmax(x) for x in y_pred_tot_lgm]\n",
        "#sub['Response']=sub['Stay'].map(stay_map)\n",
        "#sub['Response'].value_counts(normalize=True)\n",
        "#sub.to_csv('/content/drive/My Drive/Colab Notebooks/lgbm_kfold1.csv',index=False)"
      ],
      "execution_count": null,
      "outputs": []
    },
    {
      "cell_type": "code",
      "metadata": {
        "id": "DAH8fSbNcWT5",
        "colab_type": "code",
        "colab": {
          "base_uri": "https://localhost:8080/",
          "height": 195
        },
        "outputId": "8b3e009d-4aac-49a7-9e9a-6a146d0dc625"
      },
      "source": [
        "sub.head()"
      ],
      "execution_count": null,
      "outputs": [
        {
          "output_type": "execute_result",
          "data": {
            "text/html": [
              "<div>\n",
              "<style scoped>\n",
              "    .dataframe tbody tr th:only-of-type {\n",
              "        vertical-align: middle;\n",
              "    }\n",
              "\n",
              "    .dataframe tbody tr th {\n",
              "        vertical-align: top;\n",
              "    }\n",
              "\n",
              "    .dataframe thead th {\n",
              "        text-align: right;\n",
              "    }\n",
              "</style>\n",
              "<table border=\"1\" class=\"dataframe\">\n",
              "  <thead>\n",
              "    <tr style=\"text-align: right;\">\n",
              "      <th></th>\n",
              "      <th>id</th>\n",
              "      <th>Response</th>\n",
              "    </tr>\n",
              "  </thead>\n",
              "  <tbody>\n",
              "    <tr>\n",
              "      <th>0</th>\n",
              "      <td>381110</td>\n",
              "      <td>0</td>\n",
              "    </tr>\n",
              "    <tr>\n",
              "      <th>1</th>\n",
              "      <td>381111</td>\n",
              "      <td>0</td>\n",
              "    </tr>\n",
              "    <tr>\n",
              "      <th>2</th>\n",
              "      <td>381112</td>\n",
              "      <td>0</td>\n",
              "    </tr>\n",
              "    <tr>\n",
              "      <th>3</th>\n",
              "      <td>381113</td>\n",
              "      <td>0</td>\n",
              "    </tr>\n",
              "    <tr>\n",
              "      <th>4</th>\n",
              "      <td>381114</td>\n",
              "      <td>0</td>\n",
              "    </tr>\n",
              "  </tbody>\n",
              "</table>\n",
              "</div>"
            ],
            "text/plain": [
              "       id  Response\n",
              "0  381110         0\n",
              "1  381111         0\n",
              "2  381112         0\n",
              "3  381113         0\n",
              "4  381114         0"
            ]
          },
          "metadata": {
            "tags": []
          },
          "execution_count": 21
        }
      ]
    },
    {
      "cell_type": "code",
      "metadata": {
        "id": "YGaSgxyAcwIO",
        "colab_type": "code",
        "colab": {}
      },
      "source": [
        "sub.to_csv('/content/drive/My Drive/Colab Notebooks/lgbm_kfold1.csv',index=False)"
      ],
      "execution_count": null,
      "outputs": []
    },
    {
      "cell_type": "code",
      "metadata": {
        "id": "QcxDndPLblUf",
        "colab_type": "code",
        "colab": {
          "base_uri": "https://localhost:8080/",
          "height": 34
        },
        "outputId": "f48798b4-acf2-4460-cb05-2528e35fd362"
      },
      "source": [
        "len(test.columns)"
      ],
      "execution_count": null,
      "outputs": [
        {
          "output_type": "execute_result",
          "data": {
            "text/plain": [
              "10"
            ]
          },
          "metadata": {
            "tags": []
          },
          "execution_count": 12
        }
      ]
    },
    {
      "cell_type": "code",
      "metadata": {
        "id": "d4uPk7oJbuH1",
        "colab_type": "code",
        "colab": {
          "base_uri": "https://localhost:8080/",
          "height": 34
        },
        "outputId": "a638e887-8dec-4a07-ae80-908091aba5c3"
      },
      "source": [
        "len(X.columns)"
      ],
      "execution_count": null,
      "outputs": [
        {
          "output_type": "execute_result",
          "data": {
            "text/plain": [
              "11"
            ]
          },
          "metadata": {
            "tags": []
          },
          "execution_count": 15
        }
      ]
    },
    {
      "cell_type": "code",
      "metadata": {
        "id": "YQO8kDupbwtb",
        "colab_type": "code",
        "colab": {
          "base_uri": "https://localhost:8080/",
          "height": 84
        },
        "outputId": "57b12e61-0a00-48de-a059-1b4321fece12"
      },
      "source": [
        "X.columns"
      ],
      "execution_count": null,
      "outputs": [
        {
          "output_type": "execute_result",
          "data": {
            "text/plain": [
              "Index(['id', 'Gender', 'Age', 'Driving_License', 'Region_Code',\n",
              "       'Previously_Insured', 'Vehicle_Age', 'Vehicle_Damage', 'Annual_Premium',\n",
              "       'Policy_Sales_Channel', 'Vintage'],\n",
              "      dtype='object')"
            ]
          },
          "metadata": {
            "tags": []
          },
          "execution_count": 16
        }
      ]
    },
    {
      "cell_type": "markdown",
      "metadata": {
        "id": "17Mx1Uemb1pE",
        "colab_type": "text"
      },
      "source": [
        "Let's do some feature engineering on new baseline"
      ]
    },
    {
      "cell_type": "code",
      "metadata": {
        "id": "-BuygtLHeOEX",
        "colab_type": "code",
        "colab": {
          "base_uri": "https://localhost:8080/",
          "height": 34
        },
        "outputId": "a0f28ffb-c927-4932-8a6e-fc236bff2f6c"
      },
      "source": [
        "print(train.shape, test.shape)"
      ],
      "execution_count": null,
      "outputs": [
        {
          "output_type": "stream",
          "text": [
            "(381109, 12) (127037, 11)\n"
          ],
          "name": "stdout"
        }
      ]
    },
    {
      "cell_type": "code",
      "metadata": {
        "id": "ZBCxx-XnedZ9",
        "colab_type": "code",
        "colab": {}
      },
      "source": [
        "train['flag'] = 'train'\n",
        "test['flag'] = 'test'\n",
        "test['Response'] = None\n",
        "dfn = pd.concat([train, test])"
      ],
      "execution_count": null,
      "outputs": []
    },
    {
      "cell_type": "code",
      "metadata": {
        "id": "fDy-OqHSeqJn",
        "colab_type": "code",
        "colab": {
          "base_uri": "https://localhost:8080/",
          "height": 195
        },
        "outputId": "52a93801-e7c4-4bd9-b80d-3e8525c4f024"
      },
      "source": [
        "dfn.head()"
      ],
      "execution_count": null,
      "outputs": [
        {
          "output_type": "execute_result",
          "data": {
            "text/html": [
              "<div>\n",
              "<style scoped>\n",
              "    .dataframe tbody tr th:only-of-type {\n",
              "        vertical-align: middle;\n",
              "    }\n",
              "\n",
              "    .dataframe tbody tr th {\n",
              "        vertical-align: top;\n",
              "    }\n",
              "\n",
              "    .dataframe thead th {\n",
              "        text-align: right;\n",
              "    }\n",
              "</style>\n",
              "<table border=\"1\" class=\"dataframe\">\n",
              "  <thead>\n",
              "    <tr style=\"text-align: right;\">\n",
              "      <th></th>\n",
              "      <th>id</th>\n",
              "      <th>Gender</th>\n",
              "      <th>Age</th>\n",
              "      <th>Driving_License</th>\n",
              "      <th>Region_Code</th>\n",
              "      <th>Previously_Insured</th>\n",
              "      <th>Vehicle_Age</th>\n",
              "      <th>Vehicle_Damage</th>\n",
              "      <th>Annual_Premium</th>\n",
              "      <th>Policy_Sales_Channel</th>\n",
              "      <th>Vintage</th>\n",
              "      <th>Response</th>\n",
              "      <th>flag</th>\n",
              "    </tr>\n",
              "  </thead>\n",
              "  <tbody>\n",
              "    <tr>\n",
              "      <th>0</th>\n",
              "      <td>1</td>\n",
              "      <td>1</td>\n",
              "      <td>44</td>\n",
              "      <td>1</td>\n",
              "      <td>28.0</td>\n",
              "      <td>0</td>\n",
              "      <td>2</td>\n",
              "      <td>1</td>\n",
              "      <td>40454.0</td>\n",
              "      <td>26.0</td>\n",
              "      <td>217</td>\n",
              "      <td>1</td>\n",
              "      <td>train</td>\n",
              "    </tr>\n",
              "    <tr>\n",
              "      <th>1</th>\n",
              "      <td>2</td>\n",
              "      <td>1</td>\n",
              "      <td>76</td>\n",
              "      <td>1</td>\n",
              "      <td>3.0</td>\n",
              "      <td>0</td>\n",
              "      <td>1</td>\n",
              "      <td>0</td>\n",
              "      <td>33536.0</td>\n",
              "      <td>26.0</td>\n",
              "      <td>183</td>\n",
              "      <td>0</td>\n",
              "      <td>train</td>\n",
              "    </tr>\n",
              "    <tr>\n",
              "      <th>2</th>\n",
              "      <td>3</td>\n",
              "      <td>1</td>\n",
              "      <td>47</td>\n",
              "      <td>1</td>\n",
              "      <td>28.0</td>\n",
              "      <td>0</td>\n",
              "      <td>2</td>\n",
              "      <td>1</td>\n",
              "      <td>38294.0</td>\n",
              "      <td>26.0</td>\n",
              "      <td>27</td>\n",
              "      <td>1</td>\n",
              "      <td>train</td>\n",
              "    </tr>\n",
              "    <tr>\n",
              "      <th>3</th>\n",
              "      <td>4</td>\n",
              "      <td>1</td>\n",
              "      <td>21</td>\n",
              "      <td>1</td>\n",
              "      <td>11.0</td>\n",
              "      <td>1</td>\n",
              "      <td>0</td>\n",
              "      <td>0</td>\n",
              "      <td>28619.0</td>\n",
              "      <td>152.0</td>\n",
              "      <td>203</td>\n",
              "      <td>0</td>\n",
              "      <td>train</td>\n",
              "    </tr>\n",
              "    <tr>\n",
              "      <th>4</th>\n",
              "      <td>5</td>\n",
              "      <td>0</td>\n",
              "      <td>29</td>\n",
              "      <td>1</td>\n",
              "      <td>41.0</td>\n",
              "      <td>1</td>\n",
              "      <td>0</td>\n",
              "      <td>0</td>\n",
              "      <td>27496.0</td>\n",
              "      <td>152.0</td>\n",
              "      <td>39</td>\n",
              "      <td>0</td>\n",
              "      <td>train</td>\n",
              "    </tr>\n",
              "  </tbody>\n",
              "</table>\n",
              "</div>"
            ],
            "text/plain": [
              "   id  Gender  Age  Driving_License  Region_Code  Previously_Insured  \\\n",
              "0   1       1   44                1         28.0                   0   \n",
              "1   2       1   76                1          3.0                   0   \n",
              "2   3       1   47                1         28.0                   0   \n",
              "3   4       1   21                1         11.0                   1   \n",
              "4   5       0   29                1         41.0                   1   \n",
              "\n",
              "   Vehicle_Age  Vehicle_Damage  Annual_Premium  Policy_Sales_Channel  Vintage  \\\n",
              "0            2               1         40454.0                  26.0      217   \n",
              "1            1               0         33536.0                  26.0      183   \n",
              "2            2               1         38294.0                  26.0       27   \n",
              "3            0               0         28619.0                 152.0      203   \n",
              "4            0               0         27496.0                 152.0       39   \n",
              "\n",
              "  Response   flag  \n",
              "0        1  train  \n",
              "1        0  train  \n",
              "2        1  train  \n",
              "3        0  train  \n",
              "4        0  train  "
            ]
          },
          "metadata": {
            "tags": []
          },
          "execution_count": 5
        }
      ]
    },
    {
      "cell_type": "code",
      "metadata": {
        "id": "F6Dg_H1Ger6Z",
        "colab_type": "code",
        "colab": {}
      },
      "source": [
        "#Region Code with Premium\n",
        "dfn['min_Annual_premium_by_region'] = dfn.groupby('Region_Code')['Annual_Premium'].transform('min')\n",
        "dfn['mean_Annual_premium_by_region'] = dfn.groupby('Region_Code')['Annual_Premium'].transform('mean')\n",
        "dfn['sum_Annual_premium_by_region'] = dfn.groupby('Region_Code')['Annual_Premium'].transform('sum')\n",
        "dfn['max_Annual_premium_by_region'] = dfn.groupby('Region_Code')['Annual_Premium'].transform('max')\n",
        "\n",
        "#Region Code with Vintage\n",
        "dfn['min_vintage_by_region'] = dfn.groupby('Region_Code')['Vintage'].transform('min')\n",
        "dfn['mean_vintage_by_region'] = dfn.groupby('Region_Code')['Vintage'].transform('mean')\n",
        "dfn['sum_vintage_by_region'] = dfn.groupby('Region_Code')['Vintage'].transform('sum')\n",
        "dfn['max_vintage_by_region'] = dfn.groupby('Region_Code')['Vintage'].transform('max')\n",
        "\n",
        "#Region Code with Age\n",
        "dfn['min_Age_by_region'] = dfn.groupby('Region_Code')['Age'].transform('min')\n",
        "dfn['mean_Age_by_region'] = dfn.groupby('Region_Code')['Age'].transform('mean')\n",
        "dfn['max_Age_by_region'] = dfn.groupby('Region_Code')['Annual_Premium'].transform('max')\n",
        "\n",
        "#Policy Sales Channel with Annual Premium\n",
        "dfn['min_Annual_premium_by_channel'] = dfn.groupby('Policy_Sales_Channel')['Annual_Premium'].transform('min')\n",
        "dfn['mean_Annual_premium_by_channel'] = dfn.groupby('Policy_Sales_Channel')['Annual_Premium'].transform('mean')\n",
        "dfn['sum_Annual_premium_by_channel'] = dfn.groupby('Policy_Sales_Channel')['Annual_Premium'].transform('sum')\n",
        "dfn['max_Annual_premium_by_channel'] = dfn.groupby('Policy_Sales_Channel')['Annual_Premium'].transform('max')"
      ],
      "execution_count": null,
      "outputs": []
    },
    {
      "cell_type": "code",
      "metadata": {
        "id": "hxJVJyRs12pt",
        "colab_type": "code",
        "colab": {}
      },
      "source": [
        "#Region Code with previously insured\n",
        "dfn['count_insured_premium_by_region'] = dfn.groupby('Region_Code')['Previously_Insured'].transform('sum')\n",
        "dfn[\"RANK_region\"] = dfn.groupby(['Region_Code','Annual_Premium'])['Region_Code'].rank(method=\"first\", ascending=True)\n",
        "dfn[\"RANK_channel\"] = dfn.groupby([\"Policy_Sales_Channel\",\"Annual_Premium\"])['Policy_Sales_Channel'].rank(method=\"first\", ascending=True)"
      ],
      "execution_count": null,
      "outputs": []
    },
    {
      "cell_type": "code",
      "metadata": {
        "id": "BC0qZRy522yi",
        "colab_type": "code",
        "colab": {}
      },
      "source": [
        "dfn1 = dfn.copy()"
      ],
      "execution_count": null,
      "outputs": []
    },
    {
      "cell_type": "code",
      "metadata": {
        "id": "TKfsHlU128k2",
        "colab_type": "code",
        "colab": {
          "base_uri": "https://localhost:8080/",
          "height": 34
        },
        "outputId": "f0d4e609-c508-4680-d5ff-dfec0edc50a8"
      },
      "source": [
        "dfn.shape"
      ],
      "execution_count": null,
      "outputs": [
        {
          "output_type": "execute_result",
          "data": {
            "text/plain": [
              "(508146, 36)"
            ]
          },
          "metadata": {
            "tags": []
          },
          "execution_count": 10
        }
      ]
    },
    {
      "cell_type": "code",
      "metadata": {
        "id": "J0JC-3blPBww",
        "colab_type": "code",
        "colab": {}
      },
      "source": [
        "#Region Code and Policy Sales Channel\n",
        "dfn['min_Annual_premium_by_channel_region'] = dfn.groupby(['Region_Code','Policy_Sales_Channel'])['Annual_Premium'].transform('min')\n",
        "dfn['mean_Annual_premium_by_channel_region'] = dfn.groupby(['Region_Code','Policy_Sales_Channel'])['Annual_Premium'].transform('mean')\n",
        "dfn['sum_Annual_premium_by_channel_region'] = dfn.groupby(['Region_Code','Policy_Sales_Channel'])['Annual_Premium'].transform('sum')\n",
        "dfn['max_Annual_premium_by_channel_region'] = dfn.groupby(['Region_Code','Policy_Sales_Channel'])['Annual_Premium'].transform('max')\n",
        "\n",
        "dfn['count_channel_by_region'] = dfn.groupby('Region_Code')['Policy_Sales_Channel'].transform('nunique')"
      ],
      "execution_count": null,
      "outputs": []
    },
    {
      "cell_type": "code",
      "metadata": {
        "id": "IULb61J_1ULT",
        "colab_type": "code",
        "colab": {}
      },
      "source": [
        "dfn = pd.read_csv('/content/drive/My Drive/Colab Notebooks/train_test_combo_feature_engg.csv')"
      ],
      "execution_count": null,
      "outputs": []
    },
    {
      "cell_type": "code",
      "metadata": {
        "id": "9myRbXYiQs8u",
        "colab_type": "code",
        "colab": {
          "base_uri": "https://localhost:8080/",
          "height": 215
        },
        "outputId": "39fb5596-9315-4914-e1a2-f8a14fc45e14"
      },
      "source": [
        "dfn.head()"
      ],
      "execution_count": null,
      "outputs": [
        {
          "output_type": "execute_result",
          "data": {
            "text/html": [
              "<div>\n",
              "<style scoped>\n",
              "    .dataframe tbody tr th:only-of-type {\n",
              "        vertical-align: middle;\n",
              "    }\n",
              "\n",
              "    .dataframe tbody tr th {\n",
              "        vertical-align: top;\n",
              "    }\n",
              "\n",
              "    .dataframe thead th {\n",
              "        text-align: right;\n",
              "    }\n",
              "</style>\n",
              "<table border=\"1\" class=\"dataframe\">\n",
              "  <thead>\n",
              "    <tr style=\"text-align: right;\">\n",
              "      <th></th>\n",
              "      <th>id</th>\n",
              "      <th>Gender</th>\n",
              "      <th>Age</th>\n",
              "      <th>Driving_License</th>\n",
              "      <th>Region_Code</th>\n",
              "      <th>Previously_Insured</th>\n",
              "      <th>Vehicle_Age</th>\n",
              "      <th>Vehicle_Damage</th>\n",
              "      <th>Annual_Premium</th>\n",
              "      <th>Policy_Sales_Channel</th>\n",
              "      <th>Vintage</th>\n",
              "      <th>Response</th>\n",
              "      <th>flag</th>\n",
              "      <th>min_Annual_premium_by_region</th>\n",
              "      <th>mean_Annual_premium_by_region</th>\n",
              "      <th>sum_Annual_premium_by_region</th>\n",
              "      <th>max_Annual_premium_by_region</th>\n",
              "      <th>min_vintage_by_region</th>\n",
              "      <th>mean_vintage_by_region</th>\n",
              "      <th>sum_vintage_by_region</th>\n",
              "      <th>max_vintage_by_region</th>\n",
              "      <th>min_Age_by_region</th>\n",
              "      <th>mean_Age_by_region</th>\n",
              "      <th>max_Age_by_region</th>\n",
              "      <th>min_Annual_premium_by_channel</th>\n",
              "      <th>mean_Annual_premium_by_channel</th>\n",
              "      <th>sum_Annual_premium_by_channel</th>\n",
              "      <th>max_Annual_premium_by_channel</th>\n",
              "      <th>count_insured_premium_by_region</th>\n",
              "      <th>RANK_region</th>\n",
              "      <th>RANK_channel</th>\n",
              "      <th>min_Annual_premium_by_channel_region</th>\n",
              "      <th>mean_Annual_premium_by_channel_region</th>\n",
              "      <th>sum_Annual_premium_by_channel_region</th>\n",
              "      <th>max_Annual_premium_by_channel_region</th>\n",
              "      <th>count_channel_by_region</th>\n",
              "    </tr>\n",
              "  </thead>\n",
              "  <tbody>\n",
              "    <tr>\n",
              "      <th>0</th>\n",
              "      <td>1</td>\n",
              "      <td>1</td>\n",
              "      <td>44</td>\n",
              "      <td>1</td>\n",
              "      <td>28.0</td>\n",
              "      <td>0</td>\n",
              "      <td>2</td>\n",
              "      <td>1</td>\n",
              "      <td>40454.0</td>\n",
              "      <td>26.0</td>\n",
              "      <td>217</td>\n",
              "      <td>1</td>\n",
              "      <td>train</td>\n",
              "      <td>2630.0</td>\n",
              "      <td>38649.878763</td>\n",
              "      <td>5.485848e+09</td>\n",
              "      <td>540165.0</td>\n",
              "      <td>10</td>\n",
              "      <td>154.266618</td>\n",
              "      <td>21896141</td>\n",
              "      <td>299</td>\n",
              "      <td>20</td>\n",
              "      <td>46.223536</td>\n",
              "      <td>540165.0</td>\n",
              "      <td>2630.0</td>\n",
              "      <td>33639.830863</td>\n",
              "      <td>3.585804e+09</td>\n",
              "      <td>540165.0</td>\n",
              "      <td>44166</td>\n",
              "      <td>1.0</td>\n",
              "      <td>1.0</td>\n",
              "      <td>2630.0</td>\n",
              "      <td>40248.354171</td>\n",
              "      <td>2.017127e+09</td>\n",
              "      <td>540165.0</td>\n",
              "      <td>127.0</td>\n",
              "    </tr>\n",
              "    <tr>\n",
              "      <th>1</th>\n",
              "      <td>2</td>\n",
              "      <td>1</td>\n",
              "      <td>76</td>\n",
              "      <td>1</td>\n",
              "      <td>3.0</td>\n",
              "      <td>0</td>\n",
              "      <td>1</td>\n",
              "      <td>0</td>\n",
              "      <td>33536.0</td>\n",
              "      <td>26.0</td>\n",
              "      <td>183</td>\n",
              "      <td>0</td>\n",
              "      <td>train</td>\n",
              "      <td>2630.0</td>\n",
              "      <td>24465.445218</td>\n",
              "      <td>3.021238e+08</td>\n",
              "      <td>424578.0</td>\n",
              "      <td>10</td>\n",
              "      <td>154.864442</td>\n",
              "      <td>1912421</td>\n",
              "      <td>299</td>\n",
              "      <td>20</td>\n",
              "      <td>36.980970</td>\n",
              "      <td>424578.0</td>\n",
              "      <td>2630.0</td>\n",
              "      <td>33639.830863</td>\n",
              "      <td>3.585804e+09</td>\n",
              "      <td>540165.0</td>\n",
              "      <td>6000</td>\n",
              "      <td>1.0</td>\n",
              "      <td>1.0</td>\n",
              "      <td>2630.0</td>\n",
              "      <td>26173.362500</td>\n",
              "      <td>5.862833e+07</td>\n",
              "      <td>424578.0</td>\n",
              "      <td>64.0</td>\n",
              "    </tr>\n",
              "    <tr>\n",
              "      <th>2</th>\n",
              "      <td>3</td>\n",
              "      <td>1</td>\n",
              "      <td>47</td>\n",
              "      <td>1</td>\n",
              "      <td>28.0</td>\n",
              "      <td>0</td>\n",
              "      <td>2</td>\n",
              "      <td>1</td>\n",
              "      <td>38294.0</td>\n",
              "      <td>26.0</td>\n",
              "      <td>27</td>\n",
              "      <td>1</td>\n",
              "      <td>train</td>\n",
              "      <td>2630.0</td>\n",
              "      <td>38649.878763</td>\n",
              "      <td>5.485848e+09</td>\n",
              "      <td>540165.0</td>\n",
              "      <td>10</td>\n",
              "      <td>154.266618</td>\n",
              "      <td>21896141</td>\n",
              "      <td>299</td>\n",
              "      <td>20</td>\n",
              "      <td>46.223536</td>\n",
              "      <td>540165.0</td>\n",
              "      <td>2630.0</td>\n",
              "      <td>33639.830863</td>\n",
              "      <td>3.585804e+09</td>\n",
              "      <td>540165.0</td>\n",
              "      <td>44166</td>\n",
              "      <td>1.0</td>\n",
              "      <td>1.0</td>\n",
              "      <td>2630.0</td>\n",
              "      <td>40248.354171</td>\n",
              "      <td>2.017127e+09</td>\n",
              "      <td>540165.0</td>\n",
              "      <td>127.0</td>\n",
              "    </tr>\n",
              "    <tr>\n",
              "      <th>3</th>\n",
              "      <td>4</td>\n",
              "      <td>1</td>\n",
              "      <td>21</td>\n",
              "      <td>1</td>\n",
              "      <td>11.0</td>\n",
              "      <td>1</td>\n",
              "      <td>0</td>\n",
              "      <td>0</td>\n",
              "      <td>28619.0</td>\n",
              "      <td>152.0</td>\n",
              "      <td>203</td>\n",
              "      <td>0</td>\n",
              "      <td>train</td>\n",
              "      <td>2630.0</td>\n",
              "      <td>27655.183160</td>\n",
              "      <td>3.409331e+08</td>\n",
              "      <td>193637.0</td>\n",
              "      <td>10</td>\n",
              "      <td>154.520360</td>\n",
              "      <td>1904927</td>\n",
              "      <td>299</td>\n",
              "      <td>20</td>\n",
              "      <td>34.235480</td>\n",
              "      <td>193637.0</td>\n",
              "      <td>2630.0</td>\n",
              "      <td>30898.685511</td>\n",
              "      <td>5.547025e+09</td>\n",
              "      <td>495106.0</td>\n",
              "      <td>7662</td>\n",
              "      <td>1.0</td>\n",
              "      <td>1.0</td>\n",
              "      <td>2630.0</td>\n",
              "      <td>29769.406385</td>\n",
              "      <td>2.004970e+08</td>\n",
              "      <td>193637.0</td>\n",
              "      <td>53.0</td>\n",
              "    </tr>\n",
              "    <tr>\n",
              "      <th>4</th>\n",
              "      <td>5</td>\n",
              "      <td>0</td>\n",
              "      <td>29</td>\n",
              "      <td>1</td>\n",
              "      <td>41.0</td>\n",
              "      <td>1</td>\n",
              "      <td>0</td>\n",
              "      <td>0</td>\n",
              "      <td>27496.0</td>\n",
              "      <td>152.0</td>\n",
              "      <td>39</td>\n",
              "      <td>0</td>\n",
              "      <td>train</td>\n",
              "      <td>2630.0</td>\n",
              "      <td>30948.979918</td>\n",
              "      <td>7.551551e+08</td>\n",
              "      <td>339396.0</td>\n",
              "      <td>10</td>\n",
              "      <td>154.851189</td>\n",
              "      <td>3778369</td>\n",
              "      <td>299</td>\n",
              "      <td>20</td>\n",
              "      <td>36.404016</td>\n",
              "      <td>339396.0</td>\n",
              "      <td>2630.0</td>\n",
              "      <td>30898.685511</td>\n",
              "      <td>5.547025e+09</td>\n",
              "      <td>495106.0</td>\n",
              "      <td>13820</td>\n",
              "      <td>1.0</td>\n",
              "      <td>1.0</td>\n",
              "      <td>2630.0</td>\n",
              "      <td>32460.662175</td>\n",
              "      <td>3.733950e+08</td>\n",
              "      <td>339396.0</td>\n",
              "      <td>68.0</td>\n",
              "    </tr>\n",
              "  </tbody>\n",
              "</table>\n",
              "</div>"
            ],
            "text/plain": [
              "   id  Gender  Age  Driving_License  Region_Code  Previously_Insured  \\\n",
              "0   1       1   44                1         28.0                   0   \n",
              "1   2       1   76                1          3.0                   0   \n",
              "2   3       1   47                1         28.0                   0   \n",
              "3   4       1   21                1         11.0                   1   \n",
              "4   5       0   29                1         41.0                   1   \n",
              "\n",
              "   Vehicle_Age  Vehicle_Damage  Annual_Premium  Policy_Sales_Channel  Vintage  \\\n",
              "0            2               1         40454.0                  26.0      217   \n",
              "1            1               0         33536.0                  26.0      183   \n",
              "2            2               1         38294.0                  26.0       27   \n",
              "3            0               0         28619.0                 152.0      203   \n",
              "4            0               0         27496.0                 152.0       39   \n",
              "\n",
              "  Response   flag  min_Annual_premium_by_region  \\\n",
              "0        1  train                        2630.0   \n",
              "1        0  train                        2630.0   \n",
              "2        1  train                        2630.0   \n",
              "3        0  train                        2630.0   \n",
              "4        0  train                        2630.0   \n",
              "\n",
              "   mean_Annual_premium_by_region  sum_Annual_premium_by_region  \\\n",
              "0                   38649.878763                  5.485848e+09   \n",
              "1                   24465.445218                  3.021238e+08   \n",
              "2                   38649.878763                  5.485848e+09   \n",
              "3                   27655.183160                  3.409331e+08   \n",
              "4                   30948.979918                  7.551551e+08   \n",
              "\n",
              "   max_Annual_premium_by_region  min_vintage_by_region  \\\n",
              "0                      540165.0                     10   \n",
              "1                      424578.0                     10   \n",
              "2                      540165.0                     10   \n",
              "3                      193637.0                     10   \n",
              "4                      339396.0                     10   \n",
              "\n",
              "   mean_vintage_by_region  sum_vintage_by_region  max_vintage_by_region  \\\n",
              "0              154.266618               21896141                    299   \n",
              "1              154.864442                1912421                    299   \n",
              "2              154.266618               21896141                    299   \n",
              "3              154.520360                1904927                    299   \n",
              "4              154.851189                3778369                    299   \n",
              "\n",
              "   min_Age_by_region  mean_Age_by_region  max_Age_by_region  \\\n",
              "0                 20           46.223536           540165.0   \n",
              "1                 20           36.980970           424578.0   \n",
              "2                 20           46.223536           540165.0   \n",
              "3                 20           34.235480           193637.0   \n",
              "4                 20           36.404016           339396.0   \n",
              "\n",
              "   min_Annual_premium_by_channel  mean_Annual_premium_by_channel  \\\n",
              "0                         2630.0                    33639.830863   \n",
              "1                         2630.0                    33639.830863   \n",
              "2                         2630.0                    33639.830863   \n",
              "3                         2630.0                    30898.685511   \n",
              "4                         2630.0                    30898.685511   \n",
              "\n",
              "   sum_Annual_premium_by_channel  max_Annual_premium_by_channel  \\\n",
              "0                   3.585804e+09                       540165.0   \n",
              "1                   3.585804e+09                       540165.0   \n",
              "2                   3.585804e+09                       540165.0   \n",
              "3                   5.547025e+09                       495106.0   \n",
              "4                   5.547025e+09                       495106.0   \n",
              "\n",
              "   count_insured_premium_by_region  RANK_region  RANK_channel  \\\n",
              "0                            44166          1.0           1.0   \n",
              "1                             6000          1.0           1.0   \n",
              "2                            44166          1.0           1.0   \n",
              "3                             7662          1.0           1.0   \n",
              "4                            13820          1.0           1.0   \n",
              "\n",
              "   min_Annual_premium_by_channel_region  \\\n",
              "0                                2630.0   \n",
              "1                                2630.0   \n",
              "2                                2630.0   \n",
              "3                                2630.0   \n",
              "4                                2630.0   \n",
              "\n",
              "   mean_Annual_premium_by_channel_region  \\\n",
              "0                           40248.354171   \n",
              "1                           26173.362500   \n",
              "2                           40248.354171   \n",
              "3                           29769.406385   \n",
              "4                           32460.662175   \n",
              "\n",
              "   sum_Annual_premium_by_channel_region  max_Annual_premium_by_channel_region  \\\n",
              "0                          2.017127e+09                              540165.0   \n",
              "1                          5.862833e+07                              424578.0   \n",
              "2                          2.017127e+09                              540165.0   \n",
              "3                          2.004970e+08                              193637.0   \n",
              "4                          3.733950e+08                              339396.0   \n",
              "\n",
              "   count_channel_by_region  \n",
              "0                    127.0  \n",
              "1                     64.0  \n",
              "2                    127.0  \n",
              "3                     53.0  \n",
              "4                     68.0  "
            ]
          },
          "metadata": {
            "tags": []
          },
          "execution_count": 11
        }
      ]
    },
    {
      "cell_type": "code",
      "metadata": {
        "id": "Va1FK6moQuL4",
        "colab_type": "code",
        "colab": {
          "base_uri": "https://localhost:8080/",
          "height": 302
        },
        "outputId": "7724e730-25e3-46e2-bc39-76c904dfa671"
      },
      "source": [
        "dfn.columns.values"
      ],
      "execution_count": null,
      "outputs": [
        {
          "output_type": "execute_result",
          "data": {
            "text/plain": [
              "array(['id', 'Gender', 'Age', 'Driving_License', 'Region_Code',\n",
              "       'Previously_Insured', 'Vehicle_Age', 'Vehicle_Damage',\n",
              "       'Annual_Premium', 'Policy_Sales_Channel', 'Vintage', 'Response',\n",
              "       'flag', 'min_Annual_premium_by_region',\n",
              "       'mean_Annual_premium_by_region', 'sum_Annual_premium_by_region',\n",
              "       'max_Annual_premium_by_region', 'min_vintage_by_region',\n",
              "       'mean_vintage_by_region', 'sum_vintage_by_region',\n",
              "       'max_vintage_by_region', 'min_Age_by_region', 'mean_Age_by_region',\n",
              "       'max_Age_by_region', 'min_Annual_premium_by_channel',\n",
              "       'mean_Annual_premium_by_channel', 'sum_Annual_premium_by_channel',\n",
              "       'max_Annual_premium_by_channel', 'count_insured_premium_by_region',\n",
              "       'RANK_region', 'RANK_channel',\n",
              "       'min_Annual_premium_by_channel_region',\n",
              "       'mean_Annual_premium_by_channel_region',\n",
              "       'sum_Annual_premium_by_channel_region',\n",
              "       'max_Annual_premium_by_channel_region', 'count_channel_by_region'],\n",
              "      dtype=object)"
            ]
          },
          "metadata": {
            "tags": []
          },
          "execution_count": 14
        }
      ]
    },
    {
      "cell_type": "code",
      "metadata": {
        "id": "IskwslEIQ1Sc",
        "colab_type": "code",
        "colab": {}
      },
      "source": [
        "col_2 = ['Gender', 'Age', 'Driving_License', 'Region_Code',\n",
        "       'Previously_Insured', 'Vehicle_Age', 'Vehicle_Damage',\n",
        "       'Annual_Premium', 'Policy_Sales_Channel', 'Vintage', 'min_Annual_premium_by_region',\n",
        "       'mean_Annual_premium_by_region', 'sum_Annual_premium_by_region',\n",
        "       'max_Annual_premium_by_region', 'min_vintage_by_region',\n",
        "       'mean_vintage_by_region', 'sum_vintage_by_region',\n",
        "       'max_vintage_by_region', 'min_Age_by_region', 'mean_Age_by_region',\n",
        "       'max_Age_by_region', 'min_Annual_premium_by_channel',\n",
        "       'mean_Annual_premium_by_channel', 'sum_Annual_premium_by_channel',\n",
        "       'max_Annual_premium_by_channel', 'count_insured_premium_by_region',\n",
        "       'RANK_region', 'RANK_channel',\n",
        "       'min_Annual_premium_by_channel_region',\n",
        "       'mean_Annual_premium_by_channel_region',\n",
        "       'sum_Annual_premium_by_channel_region',\n",
        "       'max_Annual_premium_by_channel_region', 'count_channel_by_region']"
      ],
      "execution_count": null,
      "outputs": []
    },
    {
      "cell_type": "code",
      "metadata": {
        "id": "CphWjYXYkiq7",
        "colab_type": "code",
        "colab": {}
      },
      "source": [
        "col_3 = ['Gender', 'Age', 'Driving_License', 'Region_Code',\n",
        "       'Previously_Insured', 'Vehicle_Age', 'Vehicle_Damage', 'Annual_Premium',\n",
        "       'Policy_Sales_Channel', 'Vintage']"
      ],
      "execution_count": null,
      "outputs": []
    },
    {
      "cell_type": "code",
      "metadata": {
        "id": "dIgjVSAiRKPk",
        "colab_type": "code",
        "colab": {
          "base_uri": "https://localhost:8080/",
          "height": 101
        },
        "outputId": "db03b803-db9f-49be-c844-9568b000a92f"
      },
      "source": [
        "train=dfn.loc[dfn.flag.isin(['train'])]\n",
        "test=dfn.loc[dfn.flag.isin(['test'])]\n",
        "train.drop(columns={'flag'},axis=1,inplace=True)\n",
        "test.drop(columns={'id', 'flag', 'Response'},axis=1,inplace=True)"
      ],
      "execution_count": null,
      "outputs": [
        {
          "output_type": "stream",
          "text": [
            "/usr/local/lib/python3.6/dist-packages/pandas/core/frame.py:3997: SettingWithCopyWarning: \n",
            "A value is trying to be set on a copy of a slice from a DataFrame\n",
            "\n",
            "See the caveats in the documentation: https://pandas.pydata.org/pandas-docs/stable/user_guide/indexing.html#returning-a-view-versus-a-copy\n",
            "  errors=errors,\n"
          ],
          "name": "stderr"
        }
      ]
    },
    {
      "cell_type": "code",
      "metadata": {
        "id": "HwWMaWK1ZXPN",
        "colab_type": "code",
        "colab": {
          "base_uri": "https://localhost:8080/",
          "height": 118
        },
        "outputId": "7776a333-e89c-44ce-bbac-2b3d9a688a64"
      },
      "source": [
        "train['Response'] = train['Response'].astype('int')"
      ],
      "execution_count": null,
      "outputs": [
        {
          "output_type": "stream",
          "text": [
            "/usr/local/lib/python3.6/dist-packages/ipykernel_launcher.py:1: SettingWithCopyWarning: \n",
            "A value is trying to be set on a copy of a slice from a DataFrame.\n",
            "Try using .loc[row_indexer,col_indexer] = value instead\n",
            "\n",
            "See the caveats in the documentation: https://pandas.pydata.org/pandas-docs/stable/user_guide/indexing.html#returning-a-view-versus-a-copy\n",
            "  \"\"\"Entry point for launching an IPython kernel.\n"
          ],
          "name": "stderr"
        }
      ]
    },
    {
      "cell_type": "code",
      "metadata": {
        "id": "zoFSbHigRitz",
        "colab_type": "code",
        "colab": {}
      },
      "source": [
        "X = train[col_3]\n",
        "y = train['Response']"
      ],
      "execution_count": null,
      "outputs": []
    },
    {
      "cell_type": "markdown",
      "metadata": {
        "id": "U-jPJDehR1CX",
        "colab_type": "text"
      },
      "source": [
        "Now, we have to build model <br>\n",
        "1. LGBMClassifier\n",
        "2. CatBoost"
      ]
    },
    {
      "cell_type": "code",
      "metadata": {
        "id": "QWxQvOgiR-KX",
        "colab_type": "code",
        "colab": {
          "base_uri": "https://localhost:8080/",
          "height": 944
        },
        "outputId": "bd1cd087-7aa2-4dfe-f849-ec3dd6d3e0ca"
      },
      "source": [
        "!pip install catboost\n",
        "!pip install ipywidgets\n",
        "!jupyter nbextension enable --py widgetsnbextension"
      ],
      "execution_count": null,
      "outputs": [
        {
          "output_type": "stream",
          "text": [
            "Requirement already satisfied: catboost in /usr/local/lib/python3.6/dist-packages (0.24.1)\n",
            "Requirement already satisfied: scipy in /usr/local/lib/python3.6/dist-packages (from catboost) (1.4.1)\n",
            "Requirement already satisfied: plotly in /usr/local/lib/python3.6/dist-packages (from catboost) (4.4.1)\n",
            "Requirement already satisfied: six in /usr/local/lib/python3.6/dist-packages (from catboost) (1.15.0)\n",
            "Requirement already satisfied: matplotlib in /usr/local/lib/python3.6/dist-packages (from catboost) (3.2.2)\n",
            "Requirement already satisfied: pandas>=0.24.0 in /usr/local/lib/python3.6/dist-packages (from catboost) (1.0.5)\n",
            "Requirement already satisfied: graphviz in /usr/local/lib/python3.6/dist-packages (from catboost) (0.10.1)\n",
            "Requirement already satisfied: numpy>=1.16.0 in /usr/local/lib/python3.6/dist-packages (from catboost) (1.18.5)\n",
            "Requirement already satisfied: retrying>=1.3.3 in /usr/local/lib/python3.6/dist-packages (from plotly->catboost) (1.3.3)\n",
            "Requirement already satisfied: python-dateutil>=2.1 in /usr/local/lib/python3.6/dist-packages (from matplotlib->catboost) (2.8.1)\n",
            "Requirement already satisfied: cycler>=0.10 in /usr/local/lib/python3.6/dist-packages (from matplotlib->catboost) (0.10.0)\n",
            "Requirement already satisfied: pyparsing!=2.0.4,!=2.1.2,!=2.1.6,>=2.0.1 in /usr/local/lib/python3.6/dist-packages (from matplotlib->catboost) (2.4.7)\n",
            "Requirement already satisfied: kiwisolver>=1.0.1 in /usr/local/lib/python3.6/dist-packages (from matplotlib->catboost) (1.2.0)\n",
            "Requirement already satisfied: pytz>=2017.2 in /usr/local/lib/python3.6/dist-packages (from pandas>=0.24.0->catboost) (2018.9)\n",
            "Requirement already satisfied: ipywidgets in /usr/local/lib/python3.6/dist-packages (7.5.1)\n",
            "Requirement already satisfied: ipykernel>=4.5.1 in /usr/local/lib/python3.6/dist-packages (from ipywidgets) (4.10.1)\n",
            "Requirement already satisfied: ipython>=4.0.0; python_version >= \"3.3\" in /usr/local/lib/python3.6/dist-packages (from ipywidgets) (5.5.0)\n",
            "Requirement already satisfied: traitlets>=4.3.1 in /usr/local/lib/python3.6/dist-packages (from ipywidgets) (4.3.3)\n",
            "Requirement already satisfied: nbformat>=4.2.0 in /usr/local/lib/python3.6/dist-packages (from ipywidgets) (5.0.7)\n",
            "Requirement already satisfied: widgetsnbextension~=3.5.0 in /usr/local/lib/python3.6/dist-packages (from ipywidgets) (3.5.1)\n",
            "Requirement already satisfied: jupyter-client in /usr/local/lib/python3.6/dist-packages (from ipykernel>=4.5.1->ipywidgets) (5.3.5)\n",
            "Requirement already satisfied: tornado>=4.0 in /usr/local/lib/python3.6/dist-packages (from ipykernel>=4.5.1->ipywidgets) (5.1.1)\n",
            "Requirement already satisfied: simplegeneric>0.8 in /usr/local/lib/python3.6/dist-packages (from ipython>=4.0.0; python_version >= \"3.3\"->ipywidgets) (0.8.1)\n",
            "Requirement already satisfied: decorator in /usr/local/lib/python3.6/dist-packages (from ipython>=4.0.0; python_version >= \"3.3\"->ipywidgets) (4.4.2)\n",
            "Requirement already satisfied: pickleshare in /usr/local/lib/python3.6/dist-packages (from ipython>=4.0.0; python_version >= \"3.3\"->ipywidgets) (0.7.5)\n",
            "Requirement already satisfied: setuptools>=18.5 in /usr/local/lib/python3.6/dist-packages (from ipython>=4.0.0; python_version >= \"3.3\"->ipywidgets) (49.6.0)\n",
            "Requirement already satisfied: pexpect; sys_platform != \"win32\" in /usr/local/lib/python3.6/dist-packages (from ipython>=4.0.0; python_version >= \"3.3\"->ipywidgets) (4.8.0)\n",
            "Requirement already satisfied: prompt-toolkit<2.0.0,>=1.0.4 in /usr/local/lib/python3.6/dist-packages (from ipython>=4.0.0; python_version >= \"3.3\"->ipywidgets) (1.0.18)\n",
            "Requirement already satisfied: pygments in /usr/local/lib/python3.6/dist-packages (from ipython>=4.0.0; python_version >= \"3.3\"->ipywidgets) (2.1.3)\n",
            "Requirement already satisfied: six in /usr/local/lib/python3.6/dist-packages (from traitlets>=4.3.1->ipywidgets) (1.15.0)\n",
            "Requirement already satisfied: ipython-genutils in /usr/local/lib/python3.6/dist-packages (from traitlets>=4.3.1->ipywidgets) (0.2.0)\n",
            "Requirement already satisfied: jsonschema!=2.5.0,>=2.4 in /usr/local/lib/python3.6/dist-packages (from nbformat>=4.2.0->ipywidgets) (2.6.0)\n",
            "Requirement already satisfied: jupyter-core in /usr/local/lib/python3.6/dist-packages (from nbformat>=4.2.0->ipywidgets) (4.6.3)\n",
            "Requirement already satisfied: notebook>=4.4.1 in /usr/local/lib/python3.6/dist-packages (from widgetsnbextension~=3.5.0->ipywidgets) (5.3.1)\n",
            "Requirement already satisfied: pyzmq>=13 in /usr/local/lib/python3.6/dist-packages (from jupyter-client->ipykernel>=4.5.1->ipywidgets) (19.0.2)\n",
            "Requirement already satisfied: python-dateutil>=2.1 in /usr/local/lib/python3.6/dist-packages (from jupyter-client->ipykernel>=4.5.1->ipywidgets) (2.8.1)\n",
            "Requirement already satisfied: ptyprocess>=0.5 in /usr/local/lib/python3.6/dist-packages (from pexpect; sys_platform != \"win32\"->ipython>=4.0.0; python_version >= \"3.3\"->ipywidgets) (0.6.0)\n",
            "Requirement already satisfied: wcwidth in /usr/local/lib/python3.6/dist-packages (from prompt-toolkit<2.0.0,>=1.0.4->ipython>=4.0.0; python_version >= \"3.3\"->ipywidgets) (0.2.5)\n",
            "Requirement already satisfied: Send2Trash in /usr/local/lib/python3.6/dist-packages (from notebook>=4.4.1->widgetsnbextension~=3.5.0->ipywidgets) (1.5.0)\n",
            "Requirement already satisfied: jinja2 in /usr/local/lib/python3.6/dist-packages (from notebook>=4.4.1->widgetsnbextension~=3.5.0->ipywidgets) (2.11.2)\n",
            "Requirement already satisfied: terminado>=0.8.1 in /usr/local/lib/python3.6/dist-packages (from notebook>=4.4.1->widgetsnbextension~=3.5.0->ipywidgets) (0.8.3)\n",
            "Requirement already satisfied: nbconvert in /usr/local/lib/python3.6/dist-packages (from notebook>=4.4.1->widgetsnbextension~=3.5.0->ipywidgets) (5.6.1)\n",
            "Requirement already satisfied: MarkupSafe>=0.23 in /usr/local/lib/python3.6/dist-packages (from jinja2->notebook>=4.4.1->widgetsnbextension~=3.5.0->ipywidgets) (1.1.1)\n",
            "Requirement already satisfied: testpath in /usr/local/lib/python3.6/dist-packages (from nbconvert->notebook>=4.4.1->widgetsnbextension~=3.5.0->ipywidgets) (0.4.4)\n",
            "Requirement already satisfied: mistune<2,>=0.8.1 in /usr/local/lib/python3.6/dist-packages (from nbconvert->notebook>=4.4.1->widgetsnbextension~=3.5.0->ipywidgets) (0.8.4)\n",
            "Requirement already satisfied: bleach in /usr/local/lib/python3.6/dist-packages (from nbconvert->notebook>=4.4.1->widgetsnbextension~=3.5.0->ipywidgets) (3.1.5)\n",
            "Requirement already satisfied: pandocfilters>=1.4.1 in /usr/local/lib/python3.6/dist-packages (from nbconvert->notebook>=4.4.1->widgetsnbextension~=3.5.0->ipywidgets) (1.4.2)\n",
            "Requirement already satisfied: entrypoints>=0.2.2 in /usr/local/lib/python3.6/dist-packages (from nbconvert->notebook>=4.4.1->widgetsnbextension~=3.5.0->ipywidgets) (0.3)\n",
            "Requirement already satisfied: defusedxml in /usr/local/lib/python3.6/dist-packages (from nbconvert->notebook>=4.4.1->widgetsnbextension~=3.5.0->ipywidgets) (0.6.0)\n",
            "Requirement already satisfied: webencodings in /usr/local/lib/python3.6/dist-packages (from bleach->nbconvert->notebook>=4.4.1->widgetsnbextension~=3.5.0->ipywidgets) (0.5.1)\n",
            "Requirement already satisfied: packaging in /usr/local/lib/python3.6/dist-packages (from bleach->nbconvert->notebook>=4.4.1->widgetsnbextension~=3.5.0->ipywidgets) (20.4)\n",
            "Requirement already satisfied: pyparsing>=2.0.2 in /usr/local/lib/python3.6/dist-packages (from packaging->bleach->nbconvert->notebook>=4.4.1->widgetsnbextension~=3.5.0->ipywidgets) (2.4.7)\n",
            "Enabling notebook extension jupyter-js-widgets/extension...\n",
            "      - Validating: \u001b[32mOK\u001b[0m\n"
          ],
          "name": "stdout"
        }
      ]
    },
    {
      "cell_type": "markdown",
      "metadata": {
        "id": "rQSWovPLWi5s",
        "colab_type": "text"
      },
      "source": [
        "Building models with default parameters"
      ]
    },
    {
      "cell_type": "code",
      "metadata": {
        "id": "eoNbgydhWn9R",
        "colab_type": "code",
        "colab": {}
      },
      "source": [
        "X_train, X_test, y_train, y_test = train_test_split(X, y, test_size=0.15, random_state=200)"
      ],
      "execution_count": null,
      "outputs": []
    },
    {
      "cell_type": "code",
      "metadata": {
        "id": "XeyMsqXsXTAH",
        "colab_type": "code",
        "colab": {
          "base_uri": "https://localhost:8080/",
          "height": 118
        },
        "outputId": "62126697-3cb4-458d-fecd-189b7e868b69"
      },
      "source": [
        "clf = CatBoostClassifier(n_estimators=1000, eval_metric='Accuracy', \n",
        "                         task_type='GPU', depth=10, bagging_temperature=0.1, learning_rate=0.05)\n",
        "#clf = LGBMClassifier(n_estimators=1000, learning_rate=0.09, reg_alpha=0.05,reg_lambda=0.0)\n",
        "clf = clf.fit(X_train, y_train, eval_set=(X_test, y_test),verbose=200, early_stopping_rounds=100)\n",
        "y_lgb = clf.predict(X_test)\n",
        "probs_tr = clf.predict_proba(X_train)[:, 1]\n",
        "probs_te = clf.predict_proba(X_test)[:, 1]\n",
        "roc_auc_score(y_train, probs_tr)\n",
        "roc_auc_score(y_test, probs_te)"
      ],
      "execution_count": null,
      "outputs": [
        {
          "output_type": "stream",
          "text": [
            "0:\tlearn: 0.8769577\ttest: 0.8795361\tbest: 0.8795361 (0)\ttotal: 22.8ms\tremaining: 22.7s\n",
            "200:\tlearn: 0.8785714\ttest: 0.8798247\tbest: 0.8798247 (135)\ttotal: 7.84s\tremaining: 31.2s\n",
            "bestTest = 0.8798378421\n",
            "bestIteration = 204\n",
            "Shrink model to first 205 iterations.\n"
          ],
          "name": "stdout"
        },
        {
          "output_type": "execute_result",
          "data": {
            "text/plain": [
              "0.8597882329180819"
            ]
          },
          "metadata": {
            "tags": []
          },
          "execution_count": 44
        }
      ]
    },
    {
      "cell_type": "code",
      "metadata": {
        "id": "9mNsHrGyCdTe",
        "colab_type": "code",
        "colab": {}
      },
      "source": [
        "lgb_pred= clf.predict_proba(test)[:, 1]\n",
        "sub2 = pd.DataFrame({'id':test1.id, 'Response':lgb_pred})\n",
        "sub2.to_csv('/content/drive/My Drive/Colab Notebooks/fe_cb_self_0.20_2.csv',index=False)"
      ],
      "execution_count": null,
      "outputs": []
    },
    {
      "cell_type": "code",
      "metadata": {
        "id": "ZoUP1SNyXpgE",
        "colab_type": "code",
        "colab": {
          "base_uri": "https://localhost:8080/",
          "height": 34
        },
        "outputId": "1fbb13de-051e-4e1f-bdd8-170a9da63fb9"
      },
      "source": [
        "sum(train['Response'].isnull())"
      ],
      "execution_count": null,
      "outputs": [
        {
          "output_type": "execute_result",
          "data": {
            "text/plain": [
              "0"
            ]
          },
          "metadata": {
            "tags": []
          },
          "execution_count": 29
        }
      ]
    },
    {
      "cell_type": "code",
      "metadata": {
        "id": "FTsY1ORAZ-n-",
        "colab_type": "code",
        "colab": {
          "base_uri": "https://localhost:8080/",
          "height": 337
        },
        "outputId": "50d3935b-669e-43ef-dec7-5a10a9937eb8"
      },
      "source": [
        "test.drop(['id'], axis=1, inplace=True)\n",
        "#lgb_pred= lgbcl.predict_proba(test)[:, 1]\n",
        "#sub1 = pd.DataFrame({'id':test1.id, 'Response':lgb_pred})"
      ],
      "execution_count": null,
      "outputs": [
        {
          "output_type": "error",
          "ename": "KeyError",
          "evalue": "ignored",
          "traceback": [
            "\u001b[0;31m---------------------------------------------------------------------------\u001b[0m",
            "\u001b[0;31mKeyError\u001b[0m                                  Traceback (most recent call last)",
            "\u001b[0;32m<ipython-input-40-b2224b854bcf>\u001b[0m in \u001b[0;36m<module>\u001b[0;34m()\u001b[0m\n\u001b[0;32m----> 1\u001b[0;31m \u001b[0mtest\u001b[0m\u001b[0;34m.\u001b[0m\u001b[0mdrop\u001b[0m\u001b[0;34m(\u001b[0m\u001b[0;34m[\u001b[0m\u001b[0;34m'id'\u001b[0m\u001b[0;34m]\u001b[0m\u001b[0;34m,\u001b[0m \u001b[0maxis\u001b[0m\u001b[0;34m=\u001b[0m\u001b[0;36m1\u001b[0m\u001b[0;34m,\u001b[0m \u001b[0minplace\u001b[0m\u001b[0;34m=\u001b[0m\u001b[0;32mTrue\u001b[0m\u001b[0;34m)\u001b[0m\u001b[0;34m\u001b[0m\u001b[0;34m\u001b[0m\u001b[0m\n\u001b[0m\u001b[1;32m      2\u001b[0m \u001b[0;31m#lgb_pred= lgbcl.predict_proba(test)[:, 1]\u001b[0m\u001b[0;34m\u001b[0m\u001b[0;34m\u001b[0m\u001b[0;34m\u001b[0m\u001b[0m\n\u001b[1;32m      3\u001b[0m \u001b[0;31m#sub1 = pd.DataFrame({'id':test1.id, 'Response':lgb_pred})\u001b[0m\u001b[0;34m\u001b[0m\u001b[0;34m\u001b[0m\u001b[0;34m\u001b[0m\u001b[0m\n",
            "\u001b[0;32m/usr/local/lib/python3.6/dist-packages/pandas/core/frame.py\u001b[0m in \u001b[0;36mdrop\u001b[0;34m(self, labels, axis, index, columns, level, inplace, errors)\u001b[0m\n\u001b[1;32m   3995\u001b[0m             \u001b[0mlevel\u001b[0m\u001b[0;34m=\u001b[0m\u001b[0mlevel\u001b[0m\u001b[0;34m,\u001b[0m\u001b[0;34m\u001b[0m\u001b[0;34m\u001b[0m\u001b[0m\n\u001b[1;32m   3996\u001b[0m             \u001b[0minplace\u001b[0m\u001b[0;34m=\u001b[0m\u001b[0minplace\u001b[0m\u001b[0;34m,\u001b[0m\u001b[0;34m\u001b[0m\u001b[0;34m\u001b[0m\u001b[0m\n\u001b[0;32m-> 3997\u001b[0;31m             \u001b[0merrors\u001b[0m\u001b[0;34m=\u001b[0m\u001b[0merrors\u001b[0m\u001b[0;34m,\u001b[0m\u001b[0;34m\u001b[0m\u001b[0;34m\u001b[0m\u001b[0m\n\u001b[0m\u001b[1;32m   3998\u001b[0m         )\n\u001b[1;32m   3999\u001b[0m \u001b[0;34m\u001b[0m\u001b[0m\n",
            "\u001b[0;32m/usr/local/lib/python3.6/dist-packages/pandas/core/generic.py\u001b[0m in \u001b[0;36mdrop\u001b[0;34m(self, labels, axis, index, columns, level, inplace, errors)\u001b[0m\n\u001b[1;32m   3934\u001b[0m         \u001b[0;32mfor\u001b[0m \u001b[0maxis\u001b[0m\u001b[0;34m,\u001b[0m \u001b[0mlabels\u001b[0m \u001b[0;32min\u001b[0m \u001b[0maxes\u001b[0m\u001b[0;34m.\u001b[0m\u001b[0mitems\u001b[0m\u001b[0;34m(\u001b[0m\u001b[0;34m)\u001b[0m\u001b[0;34m:\u001b[0m\u001b[0;34m\u001b[0m\u001b[0;34m\u001b[0m\u001b[0m\n\u001b[1;32m   3935\u001b[0m             \u001b[0;32mif\u001b[0m \u001b[0mlabels\u001b[0m \u001b[0;32mis\u001b[0m \u001b[0;32mnot\u001b[0m \u001b[0;32mNone\u001b[0m\u001b[0;34m:\u001b[0m\u001b[0;34m\u001b[0m\u001b[0;34m\u001b[0m\u001b[0m\n\u001b[0;32m-> 3936\u001b[0;31m                 \u001b[0mobj\u001b[0m \u001b[0;34m=\u001b[0m \u001b[0mobj\u001b[0m\u001b[0;34m.\u001b[0m\u001b[0m_drop_axis\u001b[0m\u001b[0;34m(\u001b[0m\u001b[0mlabels\u001b[0m\u001b[0;34m,\u001b[0m \u001b[0maxis\u001b[0m\u001b[0;34m,\u001b[0m \u001b[0mlevel\u001b[0m\u001b[0;34m=\u001b[0m\u001b[0mlevel\u001b[0m\u001b[0;34m,\u001b[0m \u001b[0merrors\u001b[0m\u001b[0;34m=\u001b[0m\u001b[0merrors\u001b[0m\u001b[0;34m)\u001b[0m\u001b[0;34m\u001b[0m\u001b[0;34m\u001b[0m\u001b[0m\n\u001b[0m\u001b[1;32m   3937\u001b[0m \u001b[0;34m\u001b[0m\u001b[0m\n\u001b[1;32m   3938\u001b[0m         \u001b[0;32mif\u001b[0m \u001b[0minplace\u001b[0m\u001b[0;34m:\u001b[0m\u001b[0;34m\u001b[0m\u001b[0;34m\u001b[0m\u001b[0m\n",
            "\u001b[0;32m/usr/local/lib/python3.6/dist-packages/pandas/core/generic.py\u001b[0m in \u001b[0;36m_drop_axis\u001b[0;34m(self, labels, axis, level, errors)\u001b[0m\n\u001b[1;32m   3968\u001b[0m                 \u001b[0mnew_axis\u001b[0m \u001b[0;34m=\u001b[0m \u001b[0maxis\u001b[0m\u001b[0;34m.\u001b[0m\u001b[0mdrop\u001b[0m\u001b[0;34m(\u001b[0m\u001b[0mlabels\u001b[0m\u001b[0;34m,\u001b[0m \u001b[0mlevel\u001b[0m\u001b[0;34m=\u001b[0m\u001b[0mlevel\u001b[0m\u001b[0;34m,\u001b[0m \u001b[0merrors\u001b[0m\u001b[0;34m=\u001b[0m\u001b[0merrors\u001b[0m\u001b[0;34m)\u001b[0m\u001b[0;34m\u001b[0m\u001b[0;34m\u001b[0m\u001b[0m\n\u001b[1;32m   3969\u001b[0m             \u001b[0;32melse\u001b[0m\u001b[0;34m:\u001b[0m\u001b[0;34m\u001b[0m\u001b[0;34m\u001b[0m\u001b[0m\n\u001b[0;32m-> 3970\u001b[0;31m                 \u001b[0mnew_axis\u001b[0m \u001b[0;34m=\u001b[0m \u001b[0maxis\u001b[0m\u001b[0;34m.\u001b[0m\u001b[0mdrop\u001b[0m\u001b[0;34m(\u001b[0m\u001b[0mlabels\u001b[0m\u001b[0;34m,\u001b[0m \u001b[0merrors\u001b[0m\u001b[0;34m=\u001b[0m\u001b[0merrors\u001b[0m\u001b[0;34m)\u001b[0m\u001b[0;34m\u001b[0m\u001b[0;34m\u001b[0m\u001b[0m\n\u001b[0m\u001b[1;32m   3971\u001b[0m             \u001b[0mresult\u001b[0m \u001b[0;34m=\u001b[0m \u001b[0mself\u001b[0m\u001b[0;34m.\u001b[0m\u001b[0mreindex\u001b[0m\u001b[0;34m(\u001b[0m\u001b[0;34m**\u001b[0m\u001b[0;34m{\u001b[0m\u001b[0maxis_name\u001b[0m\u001b[0;34m:\u001b[0m \u001b[0mnew_axis\u001b[0m\u001b[0;34m}\u001b[0m\u001b[0;34m)\u001b[0m\u001b[0;34m\u001b[0m\u001b[0;34m\u001b[0m\u001b[0m\n\u001b[1;32m   3972\u001b[0m \u001b[0;34m\u001b[0m\u001b[0m\n",
            "\u001b[0;32m/usr/local/lib/python3.6/dist-packages/pandas/core/indexes/base.py\u001b[0m in \u001b[0;36mdrop\u001b[0;34m(self, labels, errors)\u001b[0m\n\u001b[1;32m   5016\u001b[0m         \u001b[0;32mif\u001b[0m \u001b[0mmask\u001b[0m\u001b[0;34m.\u001b[0m\u001b[0many\u001b[0m\u001b[0;34m(\u001b[0m\u001b[0;34m)\u001b[0m\u001b[0;34m:\u001b[0m\u001b[0;34m\u001b[0m\u001b[0;34m\u001b[0m\u001b[0m\n\u001b[1;32m   5017\u001b[0m             \u001b[0;32mif\u001b[0m \u001b[0merrors\u001b[0m \u001b[0;34m!=\u001b[0m \u001b[0;34m\"ignore\"\u001b[0m\u001b[0;34m:\u001b[0m\u001b[0;34m\u001b[0m\u001b[0;34m\u001b[0m\u001b[0m\n\u001b[0;32m-> 5018\u001b[0;31m                 \u001b[0;32mraise\u001b[0m \u001b[0mKeyError\u001b[0m\u001b[0;34m(\u001b[0m\u001b[0;34mf\"{labels[mask]} not found in axis\"\u001b[0m\u001b[0;34m)\u001b[0m\u001b[0;34m\u001b[0m\u001b[0;34m\u001b[0m\u001b[0m\n\u001b[0m\u001b[1;32m   5019\u001b[0m             \u001b[0mindexer\u001b[0m \u001b[0;34m=\u001b[0m \u001b[0mindexer\u001b[0m\u001b[0;34m[\u001b[0m\u001b[0;34m~\u001b[0m\u001b[0mmask\u001b[0m\u001b[0;34m]\u001b[0m\u001b[0;34m\u001b[0m\u001b[0;34m\u001b[0m\u001b[0m\n\u001b[1;32m   5020\u001b[0m         \u001b[0;32mreturn\u001b[0m \u001b[0mself\u001b[0m\u001b[0;34m.\u001b[0m\u001b[0mdelete\u001b[0m\u001b[0;34m(\u001b[0m\u001b[0mindexer\u001b[0m\u001b[0;34m)\u001b[0m\u001b[0;34m\u001b[0m\u001b[0;34m\u001b[0m\u001b[0m\n",
            "\u001b[0;31mKeyError\u001b[0m: \"['id'] not found in axis\""
          ]
        }
      ]
    },
    {
      "cell_type": "code",
      "metadata": {
        "id": "Nanma_SBac33",
        "colab_type": "code",
        "colab": {}
      },
      "source": [
        "sub1.to_csv('/content/drive/My Drive/Colab Notebooks/fe_lgbm_default.csv',index=False)"
      ],
      "execution_count": null,
      "outputs": []
    },
    {
      "cell_type": "code",
      "metadata": {
        "id": "gEHTWWVNcHCT",
        "colab_type": "code",
        "colab": {}
      },
      "source": [
        "from catboost import CatBoostClassifier"
      ],
      "execution_count": null,
      "outputs": []
    },
    {
      "cell_type": "code",
      "metadata": {
        "id": "455dIpKRX5fy",
        "colab_type": "code",
        "colab": {
          "base_uri": "https://localhost:8080/",
          "height": 84
        },
        "outputId": "3d726dfc-6934-4a12-9a64-7377464690b7"
      },
      "source": [
        "#clf = CatBoostClassifier(n_estimators=1000, eval_metric='Accuracy')\n",
        "clf = LGBMClassifier(n_estimators=1000, learning_rate=0.09, reg_alpha=0.05,reg_lambda=0.0)\n",
        "clf = clf.fit(X_train, y_train, eval_set=(X_test, y_test),verbose=200, early_stopping_rounds=100)\n",
        "y_lgb = clf.predict(X_test)\n",
        "probs_tr = clf.predict_proba(X_train)[:, 1]\n",
        "probs_te = clf.predict_proba(X_test)[:, 1]\n",
        "roc_auc_score(y_train, probs_tr)\n",
        "roc_auc_score(y_test, probs_te)"
      ],
      "execution_count": null,
      "outputs": [
        {
          "output_type": "stream",
          "text": [
            "Training until validation scores don't improve for 100 rounds.\n",
            "Early stopping, best iteration is:\n",
            "[68]\tvalid_0's binary_logloss: 0.261397\n"
          ],
          "name": "stdout"
        },
        {
          "output_type": "execute_result",
          "data": {
            "text/plain": [
              "0.8582848983578714"
            ]
          },
          "metadata": {
            "tags": []
          },
          "execution_count": 15
        }
      ]
    },
    {
      "cell_type": "code",
      "metadata": {
        "id": "U3z66TUocSvL",
        "colab_type": "code",
        "colab": {}
      },
      "source": [
        "lgb_pred= clf.predict_proba(test)[:, 1]\n",
        "sub2 = pd.DataFrame({'id':test1.id, 'Response':lgb_pred})"
      ],
      "execution_count": null,
      "outputs": []
    },
    {
      "cell_type": "code",
      "metadata": {
        "id": "M_LKzd5ic-Ly",
        "colab_type": "code",
        "colab": {}
      },
      "source": [
        "sub2.to_csv('/content/drive/My Drive/Colab Notebooks/fe_cb_default_ranks_correct.csv',index=False)"
      ],
      "execution_count": null,
      "outputs": []
    },
    {
      "cell_type": "markdown",
      "metadata": {
        "id": "G5hCUE_XdCty",
        "colab_type": "text"
      },
      "source": [
        "## Time for hyperparameter tuning for *catboost* and lgbm"
      ]
    },
    {
      "cell_type": "markdown",
      "metadata": {
        "id": "5CeXOBx0DObo",
        "colab_type": "text"
      },
      "source": [
        "### Catboost"
      ]
    },
    {
      "cell_type": "code",
      "metadata": {
        "id": "fanecPmVDlOP",
        "colab_type": "code",
        "colab": {
          "base_uri": "https://localhost:8080/",
          "height": 1000
        },
        "outputId": "9578ded0-73d4-4f58-e7d3-e17560c3339f"
      },
      "source": [
        "params = {'bagging_temperature':[0.1,0.2,0.3],\n",
        "          'depth':[10,12], 'learning_rate':[0.05,0.01,0.08,0.1]}\n",
        "model = CatBoostClassifier(task_type='GPU', eval_metric='BalancedAccuracy', n_estimators=1000, random_state=200)\n",
        "grid = GridSearchCV(model, param_grid=params, scoring='balanced_accuracy', cv=5)\n",
        "grid.fit(X_train, y_train)\n",
        "print('Best Score: ', grid.best_score_)\n",
        "print('Best Params:', grid.best_params_)"
      ],
      "execution_count": null,
      "outputs": [
        {
          "output_type": "stream",
          "text": [
            "Metric BalancedAccuracy is not implemented on GPU. Will use CPU for metric computation, this could significantly affect learning time\n"
          ],
          "name": "stderr"
        },
        {
          "output_type": "stream",
          "text": [
            "0:\tlearn: 0.5000000\ttotal: 26.6ms\tremaining: 26.5s\n",
            "1:\tlearn: 0.5003571\ttotal: 78.2ms\tremaining: 39s\n",
            "2:\tlearn: 0.5002118\ttotal: 104ms\tremaining: 34.5s\n",
            "3:\tlearn: 0.5001499\ttotal: 137ms\tremaining: 34s\n",
            "4:\tlearn: 0.5000833\ttotal: 193ms\tremaining: 38.3s\n",
            "5:\tlearn: 0.5000333\ttotal: 249ms\tremaining: 41.2s\n",
            "6:\tlearn: 0.5000000\ttotal: 282ms\tremaining: 39.9s\n",
            "7:\tlearn: 0.5000000\ttotal: 341ms\tremaining: 42.3s\n",
            "8:\tlearn: 0.5000000\ttotal: 363ms\tremaining: 40s\n",
            "9:\tlearn: 0.5000000\ttotal: 391ms\tremaining: 38.7s\n",
            "10:\tlearn: 0.5000000\ttotal: 408ms\tremaining: 36.7s\n",
            "11:\tlearn: 0.5000000\ttotal: 441ms\tremaining: 36.3s\n",
            "12:\tlearn: 0.5000000\ttotal: 493ms\tremaining: 37.4s\n",
            "13:\tlearn: 0.5000000\ttotal: 517ms\tremaining: 36.4s\n",
            "14:\tlearn: 0.5000000\ttotal: 567ms\tremaining: 37.2s\n",
            "15:\tlearn: 0.5000000\ttotal: 616ms\tremaining: 37.9s\n",
            "16:\tlearn: 0.5000000\ttotal: 666ms\tremaining: 38.5s\n",
            "17:\tlearn: 0.5000000\ttotal: 685ms\tremaining: 37.4s\n",
            "18:\tlearn: 0.5000000\ttotal: 739ms\tremaining: 38.2s\n",
            "19:\tlearn: 0.5000000\ttotal: 778ms\tremaining: 38.1s\n",
            "20:\tlearn: 0.5000167\ttotal: 825ms\tremaining: 38.5s\n",
            "21:\tlearn: 0.5000500\ttotal: 872ms\tremaining: 38.7s\n",
            "22:\tlearn: 0.5000999\ttotal: 918ms\tremaining: 39s\n",
            "23:\tlearn: 0.5000999\ttotal: 935ms\tremaining: 38s\n",
            "24:\tlearn: 0.5000833\ttotal: 982ms\tremaining: 38.3s\n",
            "25:\tlearn: 0.5000666\ttotal: 1.03s\tremaining: 38.5s\n",
            "26:\tlearn: 0.5001166\ttotal: 1.07s\tremaining: 38.5s\n",
            "27:\tlearn: 0.5001666\ttotal: 1.11s\tremaining: 38.5s\n",
            "28:\tlearn: 0.5002475\ttotal: 1.15s\tremaining: 38.5s\n",
            "29:\tlearn: 0.5002142\ttotal: 1.2s\tremaining: 38.7s\n",
            "30:\tlearn: 0.5002142\ttotal: 1.24s\tremaining: 38.8s\n",
            "31:\tlearn: 0.5001476\ttotal: 1.29s\tremaining: 39.2s\n",
            "32:\tlearn: 0.5001476\ttotal: 1.35s\tremaining: 39.5s\n",
            "33:\tlearn: 0.5001975\ttotal: 1.39s\tremaining: 39.4s\n",
            "34:\tlearn: 0.5001809\ttotal: 1.43s\tremaining: 39.4s\n",
            "35:\tlearn: 0.5001809\ttotal: 1.47s\tremaining: 39.4s\n",
            "36:\tlearn: 0.5002262\ttotal: 1.51s\tremaining: 39.3s\n",
            "37:\tlearn: 0.5002095\ttotal: 1.53s\tremaining: 38.7s\n",
            "38:\tlearn: 0.5002761\ttotal: 1.57s\tremaining: 38.6s\n",
            "39:\tlearn: 0.5002928\ttotal: 1.61s\tremaining: 38.7s\n",
            "40:\tlearn: 0.5002928\ttotal: 1.66s\tremaining: 38.8s\n",
            "41:\tlearn: 0.5002928\ttotal: 1.7s\tremaining: 38.7s\n",
            "42:\tlearn: 0.5002928\ttotal: 1.74s\tremaining: 38.7s\n",
            "43:\tlearn: 0.5002928\ttotal: 1.78s\tremaining: 38.6s\n",
            "44:\tlearn: 0.5002595\ttotal: 1.82s\tremaining: 38.6s\n",
            "45:\tlearn: 0.5002928\ttotal: 1.86s\tremaining: 38.6s\n",
            "46:\tlearn: 0.5002928\ttotal: 1.9s\tremaining: 38.6s\n",
            "47:\tlearn: 0.5002761\ttotal: 1.94s\tremaining: 38.5s\n",
            "48:\tlearn: 0.5002761\ttotal: 1.98s\tremaining: 38.5s\n",
            "49:\tlearn: 0.5002595\ttotal: 2.02s\tremaining: 38.4s\n",
            "50:\tlearn: 0.5003904\ttotal: 2.06s\tremaining: 38.4s\n",
            "51:\tlearn: 0.5003571\ttotal: 2.1s\tremaining: 38.4s\n",
            "52:\tlearn: 0.5003571\ttotal: 2.12s\tremaining: 37.9s\n",
            "53:\tlearn: 0.5004380\ttotal: 2.16s\tremaining: 37.9s\n",
            "54:\tlearn: 0.5004213\ttotal: 2.21s\tremaining: 37.9s\n",
            "55:\tlearn: 0.5004380\ttotal: 2.25s\tremaining: 37.9s\n",
            "56:\tlearn: 0.5005689\ttotal: 2.3s\tremaining: 38.1s\n",
            "57:\tlearn: 0.5005356\ttotal: 2.35s\tremaining: 38.2s\n",
            "58:\tlearn: 0.5005189\ttotal: 2.39s\tremaining: 38.2s\n",
            "59:\tlearn: 0.5005499\ttotal: 2.43s\tremaining: 38.1s\n",
            "60:\tlearn: 0.5005666\ttotal: 2.47s\tremaining: 38s\n",
            "61:\tlearn: 0.5006475\ttotal: 2.51s\tremaining: 38s\n",
            "62:\tlearn: 0.5006308\ttotal: 2.55s\tremaining: 38s\n",
            "63:\tlearn: 0.5006308\ttotal: 2.59s\tremaining: 37.9s\n",
            "64:\tlearn: 0.5006308\ttotal: 2.63s\tremaining: 37.9s\n",
            "65:\tlearn: 0.5006142\ttotal: 2.67s\tremaining: 37.9s\n",
            "66:\tlearn: 0.5006262\ttotal: 2.72s\tremaining: 37.9s\n",
            "67:\tlearn: 0.5006119\ttotal: 2.76s\tremaining: 37.8s\n",
            "68:\tlearn: 0.5006119\ttotal: 2.8s\tremaining: 37.7s\n",
            "69:\tlearn: 0.5006332\ttotal: 2.84s\tremaining: 37.7s\n",
            "70:\tlearn: 0.5006332\ttotal: 2.88s\tremaining: 37.7s\n",
            "71:\tlearn: 0.5006332\ttotal: 2.92s\tremaining: 37.7s\n",
            "72:\tlearn: 0.5006498\ttotal: 2.96s\tremaining: 37.6s\n",
            "73:\tlearn: 0.5007284\ttotal: 3.01s\tremaining: 37.6s\n",
            "74:\tlearn: 0.5007571\ttotal: 3.05s\tremaining: 37.6s\n",
            "75:\tlearn: 0.5007904\ttotal: 3.09s\tremaining: 37.5s\n",
            "76:\tlearn: 0.5008237\ttotal: 3.13s\tremaining: 37.5s\n",
            "77:\tlearn: 0.5008903\ttotal: 3.17s\tremaining: 37.5s\n",
            "78:\tlearn: 0.5009236\ttotal: 3.21s\tremaining: 37.4s\n",
            "79:\tlearn: 0.5010236\ttotal: 3.25s\tremaining: 37.4s\n",
            "80:\tlearn: 0.5009902\ttotal: 3.3s\tremaining: 37.5s\n",
            "81:\tlearn: 0.5010069\ttotal: 3.35s\tremaining: 37.5s\n",
            "82:\tlearn: 0.5010402\ttotal: 3.39s\tremaining: 37.5s\n",
            "83:\tlearn: 0.5010212\ttotal: 3.43s\tremaining: 37.4s\n",
            "84:\tlearn: 0.5010712\ttotal: 3.47s\tremaining: 37.4s\n",
            "85:\tlearn: 0.5011498\ttotal: 3.51s\tremaining: 37.3s\n",
            "86:\tlearn: 0.5012830\ttotal: 3.55s\tremaining: 37.3s\n",
            "87:\tlearn: 0.5014092\ttotal: 3.59s\tremaining: 37.2s\n",
            "88:\tlearn: 0.5015688\ttotal: 3.63s\tremaining: 37.2s\n",
            "89:\tlearn: 0.5015618\ttotal: 3.67s\tremaining: 37.1s\n",
            "90:\tlearn: 0.5014832\ttotal: 3.71s\tremaining: 37.1s\n",
            "91:\tlearn: 0.5016117\ttotal: 3.75s\tremaining: 37s\n",
            "92:\tlearn: 0.5016617\ttotal: 3.79s\tremaining: 37s\n",
            "93:\tlearn: 0.5016880\ttotal: 3.83s\tremaining: 36.9s\n",
            "94:\tlearn: 0.5018619\ttotal: 3.86s\tremaining: 36.8s\n",
            "95:\tlearn: 0.5019738\ttotal: 3.91s\tremaining: 36.8s\n",
            "96:\tlearn: 0.5019738\ttotal: 3.94s\tremaining: 36.7s\n",
            "97:\tlearn: 0.5020930\ttotal: 3.98s\tremaining: 36.7s\n",
            "98:\tlearn: 0.5022741\ttotal: 4.03s\tremaining: 36.6s\n",
            "99:\tlearn: 0.5023074\ttotal: 4.07s\tremaining: 36.6s\n",
            "100:\tlearn: 0.5023931\ttotal: 4.11s\tremaining: 36.5s\n",
            "101:\tlearn: 0.5024787\ttotal: 4.14s\tremaining: 36.5s\n",
            "102:\tlearn: 0.5026002\ttotal: 4.18s\tremaining: 36.4s\n",
            "103:\tlearn: 0.5027121\ttotal: 4.22s\tremaining: 36.3s\n",
            "104:\tlearn: 0.5030739\ttotal: 4.26s\tremaining: 36.3s\n",
            "105:\tlearn: 0.5031215\ttotal: 4.3s\tremaining: 36.3s\n",
            "106:\tlearn: 0.5031215\ttotal: 4.34s\tremaining: 36.2s\n",
            "107:\tlearn: 0.5032956\ttotal: 4.39s\tremaining: 36.3s\n",
            "108:\tlearn: 0.5034005\ttotal: 4.43s\tremaining: 36.2s\n",
            "109:\tlearn: 0.5034791\ttotal: 4.47s\tremaining: 36.2s\n",
            "110:\tlearn: 0.5035434\ttotal: 4.51s\tremaining: 36.1s\n",
            "111:\tlearn: 0.5036553\ttotal: 4.55s\tremaining: 36.1s\n",
            "112:\tlearn: 0.5037363\ttotal: 4.59s\tremaining: 36s\n",
            "113:\tlearn: 0.5037935\ttotal: 4.63s\tremaining: 36s\n",
            "114:\tlearn: 0.5039700\ttotal: 4.68s\tremaining: 36s\n",
            "115:\tlearn: 0.5040033\ttotal: 4.72s\tremaining: 36s\n",
            "116:\tlearn: 0.5040390\ttotal: 4.76s\tremaining: 35.9s\n",
            "117:\tlearn: 0.5041009\ttotal: 4.8s\tremaining: 35.9s\n",
            "118:\tlearn: 0.5041462\ttotal: 4.84s\tremaining: 35.8s\n",
            "119:\tlearn: 0.5041748\ttotal: 4.88s\tremaining: 35.8s\n",
            "120:\tlearn: 0.5042274\ttotal: 4.92s\tremaining: 35.8s\n",
            "121:\tlearn: 0.5042584\ttotal: 4.96s\tremaining: 35.7s\n",
            "122:\tlearn: 0.5042774\ttotal: 4.98s\tremaining: 35.5s\n",
            "123:\tlearn: 0.5043204\ttotal: 5.02s\tremaining: 35.5s\n",
            "124:\tlearn: 0.5044559\ttotal: 5.06s\tremaining: 35.4s\n",
            "125:\tlearn: 0.5044536\ttotal: 5.1s\tremaining: 35.4s\n",
            "126:\tlearn: 0.5045132\ttotal: 5.14s\tremaining: 35.3s\n",
            "127:\tlearn: 0.5046537\ttotal: 5.18s\tremaining: 35.3s\n",
            "128:\tlearn: 0.5048036\ttotal: 5.22s\tremaining: 35.2s\n",
            "129:\tlearn: 0.5048516\ttotal: 5.26s\tremaining: 35.2s\n",
            "130:\tlearn: 0.5048825\ttotal: 5.29s\tremaining: 35.1s\n",
            "131:\tlearn: 0.5050491\ttotal: 5.34s\tremaining: 35.2s\n",
            "132:\tlearn: 0.5050824\ttotal: 5.39s\tremaining: 35.2s\n",
            "133:\tlearn: 0.5052443\ttotal: 5.43s\tremaining: 35.1s\n",
            "134:\tlearn: 0.5052896\ttotal: 5.46s\tremaining: 35s\n",
            "135:\tlearn: 0.5053395\ttotal: 5.51s\tremaining: 35s\n",
            "136:\tlearn: 0.5053871\ttotal: 5.54s\tremaining: 34.9s\n",
            "137:\tlearn: 0.5054205\ttotal: 5.58s\tremaining: 34.9s\n",
            "138:\tlearn: 0.5055943\ttotal: 5.62s\tremaining: 34.8s\n",
            "139:\tlearn: 0.5056609\ttotal: 5.65s\tremaining: 34.7s\n",
            "140:\tlearn: 0.5057205\ttotal: 5.69s\tremaining: 34.7s\n",
            "141:\tlearn: 0.5057705\ttotal: 5.73s\tremaining: 34.6s\n",
            "142:\tlearn: 0.5059680\ttotal: 5.77s\tremaining: 34.6s\n",
            "143:\tlearn: 0.5060513\ttotal: 5.81s\tremaining: 34.5s\n",
            "144:\tlearn: 0.5061132\ttotal: 5.86s\tremaining: 34.6s\n",
            "145:\tlearn: 0.5061562\ttotal: 5.9s\tremaining: 34.5s\n",
            "146:\tlearn: 0.5063590\ttotal: 5.94s\tremaining: 34.5s\n",
            "147:\tlearn: 0.5064756\ttotal: 5.97s\tremaining: 34.4s\n",
            "148:\tlearn: 0.5064756\ttotal: 6.01s\tremaining: 34.4s\n",
            "149:\tlearn: 0.5066684\ttotal: 6.05s\tremaining: 34.3s\n",
            "150:\tlearn: 0.5066874\ttotal: 6.09s\tremaining: 34.2s\n",
            "151:\tlearn: 0.5068303\ttotal: 6.13s\tremaining: 34.2s\n",
            "152:\tlearn: 0.5068399\ttotal: 6.16s\tremaining: 34.1s\n",
            "153:\tlearn: 0.5068233\ttotal: 6.2s\tremaining: 34.1s\n",
            "154:\tlearn: 0.5069898\ttotal: 6.24s\tremaining: 34s\n",
            "155:\tlearn: 0.5070494\ttotal: 6.28s\tremaining: 34s\n",
            "156:\tlearn: 0.5071494\ttotal: 6.33s\tremaining: 34s\n",
            "157:\tlearn: 0.5073399\ttotal: 6.37s\tremaining: 33.9s\n",
            "158:\tlearn: 0.5074328\ttotal: 6.42s\tremaining: 33.9s\n",
            "159:\tlearn: 0.5074518\ttotal: 6.46s\tremaining: 33.9s\n",
            "160:\tlearn: 0.5074684\ttotal: 6.49s\tremaining: 33.8s\n",
            "161:\tlearn: 0.5076613\ttotal: 6.53s\tremaining: 33.8s\n",
            "162:\tlearn: 0.5077326\ttotal: 6.57s\tremaining: 33.7s\n",
            "163:\tlearn: 0.5078232\ttotal: 6.61s\tremaining: 33.7s\n",
            "164:\tlearn: 0.5079541\ttotal: 6.64s\tremaining: 33.6s\n",
            "165:\tlearn: 0.5079733\ttotal: 6.68s\tremaining: 33.6s\n",
            "166:\tlearn: 0.5082138\ttotal: 6.72s\tremaining: 33.5s\n",
            "167:\tlearn: 0.5083234\ttotal: 6.76s\tremaining: 33.5s\n",
            "168:\tlearn: 0.5085376\ttotal: 6.79s\tremaining: 33.4s\n",
            "169:\tlearn: 0.5085685\ttotal: 6.83s\tremaining: 33.3s\n",
            "170:\tlearn: 0.5087184\ttotal: 6.86s\tremaining: 33.3s\n",
            "171:\tlearn: 0.5089116\ttotal: 6.91s\tremaining: 33.2s\n",
            "172:\tlearn: 0.5090258\ttotal: 6.94s\tremaining: 33.2s\n",
            "173:\tlearn: 0.5092210\ttotal: 6.98s\tremaining: 33.1s\n",
            "174:\tlearn: 0.5092710\ttotal: 7.02s\tremaining: 33.1s\n",
            "175:\tlearn: 0.5093662\ttotal: 7.06s\tremaining: 33s\n",
            "176:\tlearn: 0.5093805\ttotal: 7.09s\tremaining: 33s\n",
            "177:\tlearn: 0.5094115\ttotal: 7.13s\tremaining: 32.9s\n",
            "178:\tlearn: 0.5094831\ttotal: 7.17s\tremaining: 32.9s\n",
            "179:\tlearn: 0.5095141\ttotal: 7.19s\tremaining: 32.8s\n",
            "180:\tlearn: 0.5096450\ttotal: 7.23s\tremaining: 32.7s\n",
            "181:\tlearn: 0.5097332\ttotal: 7.27s\tremaining: 32.7s\n",
            "182:\tlearn: 0.5098831\ttotal: 7.31s\tremaining: 32.6s\n",
            "183:\tlearn: 0.5099188\ttotal: 7.36s\tremaining: 32.6s\n",
            "184:\tlearn: 0.5101186\ttotal: 7.4s\tremaining: 32.6s\n",
            "185:\tlearn: 0.5102282\ttotal: 7.45s\tremaining: 32.6s\n",
            "186:\tlearn: 0.5103424\ttotal: 7.48s\tremaining: 32.5s\n",
            "187:\tlearn: 0.5104447\ttotal: 7.52s\tremaining: 32.5s\n",
            "188:\tlearn: 0.5105899\ttotal: 7.55s\tremaining: 32.4s\n",
            "189:\tlearn: 0.5107398\ttotal: 7.59s\tremaining: 32.4s\n",
            "190:\tlearn: 0.5108064\ttotal: 7.63s\tremaining: 32.3s\n",
            "191:\tlearn: 0.5110779\ttotal: 7.67s\tremaining: 32.3s\n",
            "192:\tlearn: 0.5110636\ttotal: 7.7s\tremaining: 32.2s\n",
            "193:\tlearn: 0.5112468\ttotal: 7.74s\tremaining: 32.2s\n"
          ],
          "name": "stdout"
        }
      ]
    },
    {
      "cell_type": "code",
      "metadata": {
        "id": "aPsFS_j4Gmjx",
        "colab_type": "code",
        "colab": {
          "base_uri": "https://localhost:8080/",
          "height": 101
        },
        "outputId": "bc0d88e1-eaa1-4ec5-a364-128f0579f129"
      },
      "source": [
        "clf = CatBoostClassifier(n_estimators=1000, eval_metric='Accuracy', \n",
        "                         task_type='GPU', depth=12, bagging_temperature=0.2, random_state=2000, learning_rate=0.1)\n",
        "clf = clf.fit(X_train, y_train, eval_set=(X_test, y_test),verbose=200, early_stopping_rounds=100)\n",
        "y_lgb = clf.predict(X_test)\n",
        "probs_tr = clf.predict_proba(X_train)[:, 1]\n",
        "probs_te = clf.predict_proba(X_test)[:, 1]\n",
        "roc_auc_score(y_train, probs_tr)\n",
        "roc_auc_score(y_test, probs_te)"
      ],
      "execution_count": null,
      "outputs": [
        {
          "output_type": "stream",
          "text": [
            "0:\tlearn: 0.8769216\ttest: 0.8794967\tbest: 0.8794967 (0)\ttotal: 29.3ms\tremaining: 29.3s\n",
            "bestTest = 0.8801395922\n",
            "bestIteration = 63\n",
            "Shrink model to first 64 iterations.\n"
          ],
          "name": "stdout"
        },
        {
          "output_type": "execute_result",
          "data": {
            "text/plain": [
              "0.8589384553451042"
            ]
          },
          "metadata": {
            "tags": []
          },
          "execution_count": 19
        }
      ]
    },
    {
      "cell_type": "code",
      "metadata": {
        "id": "hsf6Tc_f4Tmr",
        "colab_type": "code",
        "colab": {
          "base_uri": "https://localhost:8080/",
          "height": 303
        },
        "outputId": "2da2a663-b568-4120-8089-a4065c4c8786"
      },
      "source": [
        "test.drop(['id'], axis=1, inplace=True)"
      ],
      "execution_count": null,
      "outputs": [
        {
          "output_type": "error",
          "ename": "KeyError",
          "evalue": "ignored",
          "traceback": [
            "\u001b[0;31m---------------------------------------------------------------------------\u001b[0m",
            "\u001b[0;31mKeyError\u001b[0m                                  Traceback (most recent call last)",
            "\u001b[0;32m<ipython-input-19-ef8a9a496f4e>\u001b[0m in \u001b[0;36m<module>\u001b[0;34m()\u001b[0m\n\u001b[0;32m----> 1\u001b[0;31m \u001b[0mtest\u001b[0m\u001b[0;34m.\u001b[0m\u001b[0mdrop\u001b[0m\u001b[0;34m(\u001b[0m\u001b[0;34m[\u001b[0m\u001b[0;34m'id'\u001b[0m\u001b[0;34m]\u001b[0m\u001b[0;34m,\u001b[0m \u001b[0maxis\u001b[0m\u001b[0;34m=\u001b[0m\u001b[0;36m1\u001b[0m\u001b[0;34m,\u001b[0m \u001b[0minplace\u001b[0m\u001b[0;34m=\u001b[0m\u001b[0;32mTrue\u001b[0m\u001b[0;34m)\u001b[0m\u001b[0;34m\u001b[0m\u001b[0;34m\u001b[0m\u001b[0m\n\u001b[0m",
            "\u001b[0;32m/usr/local/lib/python3.6/dist-packages/pandas/core/frame.py\u001b[0m in \u001b[0;36mdrop\u001b[0;34m(self, labels, axis, index, columns, level, inplace, errors)\u001b[0m\n\u001b[1;32m   3995\u001b[0m             \u001b[0mlevel\u001b[0m\u001b[0;34m=\u001b[0m\u001b[0mlevel\u001b[0m\u001b[0;34m,\u001b[0m\u001b[0;34m\u001b[0m\u001b[0;34m\u001b[0m\u001b[0m\n\u001b[1;32m   3996\u001b[0m             \u001b[0minplace\u001b[0m\u001b[0;34m=\u001b[0m\u001b[0minplace\u001b[0m\u001b[0;34m,\u001b[0m\u001b[0;34m\u001b[0m\u001b[0;34m\u001b[0m\u001b[0m\n\u001b[0;32m-> 3997\u001b[0;31m             \u001b[0merrors\u001b[0m\u001b[0;34m=\u001b[0m\u001b[0merrors\u001b[0m\u001b[0;34m,\u001b[0m\u001b[0;34m\u001b[0m\u001b[0;34m\u001b[0m\u001b[0m\n\u001b[0m\u001b[1;32m   3998\u001b[0m         )\n\u001b[1;32m   3999\u001b[0m \u001b[0;34m\u001b[0m\u001b[0m\n",
            "\u001b[0;32m/usr/local/lib/python3.6/dist-packages/pandas/core/generic.py\u001b[0m in \u001b[0;36mdrop\u001b[0;34m(self, labels, axis, index, columns, level, inplace, errors)\u001b[0m\n\u001b[1;32m   3934\u001b[0m         \u001b[0;32mfor\u001b[0m \u001b[0maxis\u001b[0m\u001b[0;34m,\u001b[0m \u001b[0mlabels\u001b[0m \u001b[0;32min\u001b[0m \u001b[0maxes\u001b[0m\u001b[0;34m.\u001b[0m\u001b[0mitems\u001b[0m\u001b[0;34m(\u001b[0m\u001b[0;34m)\u001b[0m\u001b[0;34m:\u001b[0m\u001b[0;34m\u001b[0m\u001b[0;34m\u001b[0m\u001b[0m\n\u001b[1;32m   3935\u001b[0m             \u001b[0;32mif\u001b[0m \u001b[0mlabels\u001b[0m \u001b[0;32mis\u001b[0m \u001b[0;32mnot\u001b[0m \u001b[0;32mNone\u001b[0m\u001b[0;34m:\u001b[0m\u001b[0;34m\u001b[0m\u001b[0;34m\u001b[0m\u001b[0m\n\u001b[0;32m-> 3936\u001b[0;31m                 \u001b[0mobj\u001b[0m \u001b[0;34m=\u001b[0m \u001b[0mobj\u001b[0m\u001b[0;34m.\u001b[0m\u001b[0m_drop_axis\u001b[0m\u001b[0;34m(\u001b[0m\u001b[0mlabels\u001b[0m\u001b[0;34m,\u001b[0m \u001b[0maxis\u001b[0m\u001b[0;34m,\u001b[0m \u001b[0mlevel\u001b[0m\u001b[0;34m=\u001b[0m\u001b[0mlevel\u001b[0m\u001b[0;34m,\u001b[0m \u001b[0merrors\u001b[0m\u001b[0;34m=\u001b[0m\u001b[0merrors\u001b[0m\u001b[0;34m)\u001b[0m\u001b[0;34m\u001b[0m\u001b[0;34m\u001b[0m\u001b[0m\n\u001b[0m\u001b[1;32m   3937\u001b[0m \u001b[0;34m\u001b[0m\u001b[0m\n\u001b[1;32m   3938\u001b[0m         \u001b[0;32mif\u001b[0m \u001b[0minplace\u001b[0m\u001b[0;34m:\u001b[0m\u001b[0;34m\u001b[0m\u001b[0;34m\u001b[0m\u001b[0m\n",
            "\u001b[0;32m/usr/local/lib/python3.6/dist-packages/pandas/core/generic.py\u001b[0m in \u001b[0;36m_drop_axis\u001b[0;34m(self, labels, axis, level, errors)\u001b[0m\n\u001b[1;32m   3968\u001b[0m                 \u001b[0mnew_axis\u001b[0m \u001b[0;34m=\u001b[0m \u001b[0maxis\u001b[0m\u001b[0;34m.\u001b[0m\u001b[0mdrop\u001b[0m\u001b[0;34m(\u001b[0m\u001b[0mlabels\u001b[0m\u001b[0;34m,\u001b[0m \u001b[0mlevel\u001b[0m\u001b[0;34m=\u001b[0m\u001b[0mlevel\u001b[0m\u001b[0;34m,\u001b[0m \u001b[0merrors\u001b[0m\u001b[0;34m=\u001b[0m\u001b[0merrors\u001b[0m\u001b[0;34m)\u001b[0m\u001b[0;34m\u001b[0m\u001b[0;34m\u001b[0m\u001b[0m\n\u001b[1;32m   3969\u001b[0m             \u001b[0;32melse\u001b[0m\u001b[0;34m:\u001b[0m\u001b[0;34m\u001b[0m\u001b[0;34m\u001b[0m\u001b[0m\n\u001b[0;32m-> 3970\u001b[0;31m                 \u001b[0mnew_axis\u001b[0m \u001b[0;34m=\u001b[0m \u001b[0maxis\u001b[0m\u001b[0;34m.\u001b[0m\u001b[0mdrop\u001b[0m\u001b[0;34m(\u001b[0m\u001b[0mlabels\u001b[0m\u001b[0;34m,\u001b[0m \u001b[0merrors\u001b[0m\u001b[0;34m=\u001b[0m\u001b[0merrors\u001b[0m\u001b[0;34m)\u001b[0m\u001b[0;34m\u001b[0m\u001b[0;34m\u001b[0m\u001b[0m\n\u001b[0m\u001b[1;32m   3971\u001b[0m             \u001b[0mresult\u001b[0m \u001b[0;34m=\u001b[0m \u001b[0mself\u001b[0m\u001b[0;34m.\u001b[0m\u001b[0mreindex\u001b[0m\u001b[0;34m(\u001b[0m\u001b[0;34m**\u001b[0m\u001b[0;34m{\u001b[0m\u001b[0maxis_name\u001b[0m\u001b[0;34m:\u001b[0m \u001b[0mnew_axis\u001b[0m\u001b[0;34m}\u001b[0m\u001b[0;34m)\u001b[0m\u001b[0;34m\u001b[0m\u001b[0;34m\u001b[0m\u001b[0m\n\u001b[1;32m   3972\u001b[0m \u001b[0;34m\u001b[0m\u001b[0m\n",
            "\u001b[0;32m/usr/local/lib/python3.6/dist-packages/pandas/core/indexes/base.py\u001b[0m in \u001b[0;36mdrop\u001b[0;34m(self, labels, errors)\u001b[0m\n\u001b[1;32m   5016\u001b[0m         \u001b[0;32mif\u001b[0m \u001b[0mmask\u001b[0m\u001b[0;34m.\u001b[0m\u001b[0many\u001b[0m\u001b[0;34m(\u001b[0m\u001b[0;34m)\u001b[0m\u001b[0;34m:\u001b[0m\u001b[0;34m\u001b[0m\u001b[0;34m\u001b[0m\u001b[0m\n\u001b[1;32m   5017\u001b[0m             \u001b[0;32mif\u001b[0m \u001b[0merrors\u001b[0m \u001b[0;34m!=\u001b[0m \u001b[0;34m\"ignore\"\u001b[0m\u001b[0;34m:\u001b[0m\u001b[0;34m\u001b[0m\u001b[0;34m\u001b[0m\u001b[0m\n\u001b[0;32m-> 5018\u001b[0;31m                 \u001b[0;32mraise\u001b[0m \u001b[0mKeyError\u001b[0m\u001b[0;34m(\u001b[0m\u001b[0;34mf\"{labels[mask]} not found in axis\"\u001b[0m\u001b[0;34m)\u001b[0m\u001b[0;34m\u001b[0m\u001b[0;34m\u001b[0m\u001b[0m\n\u001b[0m\u001b[1;32m   5019\u001b[0m             \u001b[0mindexer\u001b[0m \u001b[0;34m=\u001b[0m \u001b[0mindexer\u001b[0m\u001b[0;34m[\u001b[0m\u001b[0;34m~\u001b[0m\u001b[0mmask\u001b[0m\u001b[0;34m]\u001b[0m\u001b[0;34m\u001b[0m\u001b[0;34m\u001b[0m\u001b[0m\n\u001b[1;32m   5020\u001b[0m         \u001b[0;32mreturn\u001b[0m \u001b[0mself\u001b[0m\u001b[0;34m.\u001b[0m\u001b[0mdelete\u001b[0m\u001b[0;34m(\u001b[0m\u001b[0mindexer\u001b[0m\u001b[0;34m)\u001b[0m\u001b[0;34m\u001b[0m\u001b[0;34m\u001b[0m\u001b[0m\n",
            "\u001b[0;31mKeyError\u001b[0m: \"['id'] not found in axis\""
          ]
        }
      ]
    },
    {
      "cell_type": "code",
      "metadata": {
        "id": "Q6UhTCqS4LhT",
        "colab_type": "code",
        "colab": {}
      },
      "source": [
        "lgb_pred= clf.predict_proba(test)[:, 1]\n",
        "sub2 = pd.DataFrame({'id':test1.id, 'Response':lgb_pred})\n",
        "sub2.to_csv('/content/drive/My Drive/Colab Notebooks/fe_cblr_20.csv',index=False)"
      ],
      "execution_count": null,
      "outputs": []
    },
    {
      "cell_type": "code",
      "metadata": {
        "id": "FZ9gcKii-X45",
        "colab_type": "code",
        "colab": {
          "base_uri": "https://localhost:8080/",
          "height": 1000
        },
        "outputId": "4f66e9ad-6bd1-4087-bf4f-b141a7e46354"
      },
      "source": [
        "err = [] \n",
        "y_pred_tot_lgm = np.zeros((len(test), 2))\n",
        "\n",
        "\n",
        "fold = StratifiedKFold(n_splits=10, shuffle=True, random_state=2020)\n",
        "i = 1\n",
        "\n",
        "for train_index, test_index in fold.split(X, y):\n",
        "    x_train, x_val = X.iloc[train_index], X.iloc[test_index]\n",
        "    y_train, y_val = y.iloc[train_index], y.iloc[test_index]\n",
        "    m = CatBoostClassifier(n_estimators=10000,\n",
        "                       random_state=2020,\n",
        "                       eval_metric='Accuracy',\n",
        "                       learning_rate=0.05,\n",
        "                       depth=10,\n",
        "                       bagging_temperature=0.3,\n",
        "                       task_type='GPU'\n",
        "                       #num_leaves=64\n",
        "                       \n",
        "                       )\n",
        "    m.fit(x_train, y_train, eval_set=[(x_val, y_val)], early_stopping_rounds=100,verbose=200)\n",
        "    pred_y = m.predict(x_val)\n",
        "    print(i, \" err_lgm: \", accuracy_score(y_val,pred_y))\n",
        "    err.append(accuracy_score(y_val,pred_y))\n",
        "    y_pred_tot_lgm += m.predict_proba(test)\n",
        "    i = i + 1\n",
        "y_pred_tot_lgm=y_pred_tot_lgm/10\n",
        "sum(err)/10"
      ],
      "execution_count": null,
      "outputs": [
        {
          "output_type": "stream",
          "text": [
            "0:\tlearn: 0.8774366\ttest: 0.8774370\tbest: 0.8774370 (0)\ttotal: 32ms\tremaining: 5m 19s\n",
            "bestTest = 0.8776731127\n",
            "bestIteration = 87\n",
            "Shrink model to first 88 iterations.\n",
            "1  err_lgm:  0.8776731127495998\n",
            "0:\tlearn: 0.8774366\ttest: 0.8774370\tbest: 0.8774370 (0)\ttotal: 15.2ms\tremaining: 2m 32s\n",
            "200:\tlearn: 0.8789147\ttest: 0.8775419\tbest: 0.8777781 (155)\ttotal: 5.88s\tremaining: 4m 46s\n",
            "bestTest = 0.8777780693\n",
            "bestIteration = 155\n",
            "Shrink model to first 156 iterations.\n",
            "2  err_lgm:  0.8777780693238173\n",
            "0:\tlearn: 0.8774366\ttest: 0.8774370\tbest: 0.8774370 (0)\ttotal: 15.2ms\tremaining: 2m 31s\n",
            "200:\tlearn: 0.8789206\ttest: 0.8775682\tbest: 0.8776206 (199)\ttotal: 5.81s\tremaining: 4m 43s\n",
            "bestTest = 0.8776468736\n",
            "bestIteration = 234\n",
            "Shrink model to first 235 iterations.\n",
            "3  err_lgm:  0.8776468736060455\n",
            "0:\tlearn: 0.8774366\ttest: 0.8774370\tbest: 0.8774370 (0)\ttotal: 15.2ms\tremaining: 2m 32s\n",
            "200:\tlearn: 0.8790314\ttest: 0.8773845\tbest: 0.8775419 (126)\ttotal: 5.79s\tremaining: 4m 42s\n",
            "bestTest = 0.877541917\n",
            "bestIteration = 126\n",
            "Shrink model to first 127 iterations.\n",
            "4  err_lgm:  0.877541917031828\n",
            "0:\tlearn: 0.8774366\ttest: 0.8774370\tbest: 0.8774370 (0)\ttotal: 14.6ms\tremaining: 2m 26s\n",
            "200:\tlearn: 0.8788623\ttest: 0.8776731\tbest: 0.8779617 (189)\ttotal: 5.79s\tremaining: 4m 42s\n",
            "bestTest = 0.8779617433\n",
            "bestIteration = 189\n",
            "Shrink model to first 190 iterations.\n",
            "5  err_lgm:  0.8779617433286977\n",
            "0:\tlearn: 0.8774366\ttest: 0.8774370\tbest: 0.8774370 (0)\ttotal: 14.4ms\tremaining: 2m 24s\n",
            "200:\tlearn: 0.8789905\ttest: 0.8775157\tbest: 0.8776206 (150)\ttotal: 5.72s\tremaining: 4m 38s\n",
            "bestTest = 0.8776206345\n",
            "bestIteration = 150\n",
            "Shrink model to first 151 iterations.\n",
            "6  err_lgm:  0.8776206344624912\n",
            "0:\tlearn: 0.8774366\ttest: 0.8774370\tbest: 0.8774370 (0)\ttotal: 14.3ms\tremaining: 2m 23s\n",
            "200:\tlearn: 0.8787107\ttest: 0.8777518\tbest: 0.8778305 (191)\ttotal: 5.68s\tremaining: 4m 37s\n",
            "bestTest = 0.8779879825\n",
            "bestIteration = 224\n",
            "Shrink model to first 225 iterations.\n",
            "7  err_lgm:  0.8779879824722521\n",
            "0:\tlearn: 0.8774366\ttest: 0.8774370\tbest: 0.8774370 (0)\ttotal: 15.4ms\tremaining: 2m 33s\n",
            "200:\tlearn: 0.8789322\ttest: 0.8770434\tbest: 0.8776994 (134)\ttotal: 5.77s\tremaining: 4m 41s\n",
            "bestTest = 0.8776993519\n",
            "bestIteration = 134\n",
            "Shrink model to first 135 iterations.\n",
            "8  err_lgm:  0.8776993518931542\n",
            "0:\tlearn: 0.8774366\ttest: 0.8774370\tbest: 0.8774370 (0)\ttotal: 15.3ms\tremaining: 2m 33s\n",
            "200:\tlearn: 0.8789206\ttest: 0.8776731\tbest: 0.8778568 (179)\ttotal: 5.66s\tremaining: 4m 35s\n",
            "bestTest = 0.8779617433\n",
            "bestIteration = 228\n",
            "Shrink model to first 229 iterations.\n",
            "9  err_lgm:  0.8779617433286977\n",
            "0:\tlearn: 0.8774370\ttest: 0.8774337\tbest: 0.8774337 (0)\ttotal: 14.4ms\tremaining: 2m 23s\n",
            "200:\tlearn: 0.8789501\ttest: 0.8778536\tbest: 0.8779061 (194)\ttotal: 5.75s\tremaining: 4m 40s\n",
            "bestTest = 0.8780635004\n",
            "bestIteration = 273\n",
            "Shrink model to first 274 iterations.\n",
            "10  err_lgm:  0.8780635003935975\n"
          ],
          "name": "stdout"
        },
        {
          "output_type": "execute_result",
          "data": {
            "text/plain": [
              "0.8777934928590181"
            ]
          },
          "metadata": {
            "tags": []
          },
          "execution_count": 37
        }
      ]
    },
    {
      "cell_type": "code",
      "metadata": {
        "id": "Wf1_JpQDFj97",
        "colab_type": "code",
        "colab": {
          "base_uri": "https://localhost:8080/",
          "height": 34
        },
        "outputId": "2df36252-a47e-431e-a803-ee421cce8baa"
      },
      "source": [
        "X.shape"
      ],
      "execution_count": null,
      "outputs": [
        {
          "output_type": "execute_result",
          "data": {
            "text/plain": [
              "(381109, 33)"
            ]
          },
          "metadata": {
            "tags": []
          },
          "execution_count": 36
        }
      ]
    },
    {
      "cell_type": "code",
      "metadata": {
        "id": "Lr9JcOzRFqjE",
        "colab_type": "code",
        "colab": {}
      },
      "source": [
        "sub2 = pd.DataFrame({'id':test1.id})\n",
        "sub2['Response'] = [np.argmax(x) for x in y_pred_tot_lgm]\n",
        "\n",
        "sub2.to_csv('/content/drive/My Drive/Colab Notebooks/fe_cb_gs_ranks_stratified.csv',index=False)"
      ],
      "execution_count": null,
      "outputs": []
    },
    {
      "cell_type": "code",
      "metadata": {
        "id": "1gB8rv7bGeWf",
        "colab_type": "code",
        "colab": {
          "base_uri": "https://localhost:8080/",
          "height": 101
        },
        "outputId": "c9d156d9-ce3c-4b9c-ff1f-050d13eb4eb2"
      },
      "source": [
        "y_pred_tot_lgm[:5]"
      ],
      "execution_count": null,
      "outputs": [
        {
          "output_type": "execute_result",
          "data": {
            "text/plain": [
              "array([[9.99373230e-01, 6.26769887e-04],\n",
              "       [6.83529824e-01, 3.16470176e-01],\n",
              "       [7.03344125e-01, 2.96655875e-01],\n",
              "       [9.88344271e-01, 1.16557293e-02],\n",
              "       [9.99713671e-01, 2.86328680e-04]])"
            ]
          },
          "metadata": {
            "tags": []
          },
          "execution_count": 39
        }
      ]
    },
    {
      "cell_type": "markdown",
      "metadata": {
        "id": "wQKl2TFmGhPF",
        "colab_type": "text"
      },
      "source": [
        "LGBM"
      ]
    },
    {
      "cell_type": "code",
      "metadata": {
        "id": "fAZR9unuIAoN",
        "colab_type": "code",
        "colab": {
          "base_uri": "https://localhost:8080/",
          "height": 134
        },
        "outputId": "0980b329-43f3-43e6-b6e8-4bdc746b11fb"
      },
      "source": [
        "clf = LGBMClassifier(n_estimators=1225, learning_rate=0.01, reg_lambda=3, max_depth=34, boosting_type='gbdt', reg_alpha=2)\n",
        "clf = clf.fit(X_train, y_train, eval_set=(X_test, y_test),verbose=200)\n",
        "y_lgb = clf.predict(X_test)\n",
        "probs_tr = clf.predict_proba(X_train)[:, 1]\n",
        "probs_te = clf.predict_proba(X_test)[:, 1]\n",
        "roc_auc_score(y_train, probs_tr)\n",
        "roc_auc_score(y_test, probs_te)"
      ],
      "execution_count": null,
      "outputs": [
        {
          "output_type": "stream",
          "text": [
            "[200]\tvalid_0's binary_logloss: 0.269956\n",
            "[400]\tvalid_0's binary_logloss: 0.261953\n",
            "[600]\tvalid_0's binary_logloss: 0.260891\n",
            "[800]\tvalid_0's binary_logloss: 0.260731\n",
            "[1000]\tvalid_0's binary_logloss: 0.260713\n",
            "[1200]\tvalid_0's binary_logloss: 0.260717\n"
          ],
          "name": "stdout"
        },
        {
          "output_type": "execute_result",
          "data": {
            "text/plain": [
              "0.8601617384216035"
            ]
          },
          "metadata": {
            "tags": []
          },
          "execution_count": 47
        }
      ]
    },
    {
      "cell_type": "code",
      "metadata": {
        "id": "DhUAsp8Y-qLy",
        "colab_type": "code",
        "colab": {
          "base_uri": "https://localhost:8080/",
          "height": 67
        },
        "outputId": "f0e013e1-c034-4447-ab90-505bd5fed6c8"
      },
      "source": [
        "clf = LGBMClassifier(n_estimators=590, learning_rate=0.01, reg_lambda=3, max_depth=34, boosting_type='gbdt', reg_alpha=2)\n",
        "clf = clf.fit(X_train, y_train, eval_set=(X_test, y_test),verbose=200)\n",
        "y_lgb = clf.predict(X_test)\n",
        "probs_tr = clf.predict_proba(X_train)[:, 1]\n",
        "probs_te = clf.predict_proba(X_test)[:, 1]\n",
        "roc_auc_score(y_train, probs_tr)\n",
        "roc_auc_score(y_test, probs_te)"
      ],
      "execution_count": null,
      "outputs": [
        {
          "output_type": "stream",
          "text": [
            "[200]\tvalid_0's binary_logloss: 0.27052\n",
            "[400]\tvalid_0's binary_logloss: 0.26236\n"
          ],
          "name": "stdout"
        },
        {
          "output_type": "execute_result",
          "data": {
            "text/plain": [
              "0.8596696613357193"
            ]
          },
          "metadata": {
            "tags": []
          },
          "execution_count": 45
        }
      ]
    },
    {
      "cell_type": "markdown",
      "metadata": {
        "id": "wbEajwy8-qwr",
        "colab_type": "text"
      },
      "source": [
        "Tweaking only depth - no difference <br>\n",
        "changing lr to 0.008 increases accuracy but gives less score on public lb <br>\n",
        "lr with 0.01 and n_estimators 1250 give better accuracy but less on public lb"
      ]
    },
    {
      "cell_type": "code",
      "metadata": {
        "id": "SrCLbYBV-rOF",
        "colab_type": "code",
        "colab": {}
      },
      "source": [
        ""
      ],
      "execution_count": null,
      "outputs": []
    },
    {
      "cell_type": "code",
      "metadata": {
        "id": "KPqle4Gy-rrg",
        "colab_type": "code",
        "colab": {}
      },
      "source": [
        ""
      ],
      "execution_count": null,
      "outputs": []
    },
    {
      "cell_type": "code",
      "metadata": {
        "id": "8qSbD_rooUmi",
        "colab_type": "code",
        "colab": {}
      },
      "source": [
        "lgb_pred= clf.predict_proba(test)[:, 1]\n",
        "sub2 = pd.DataFrame({'id':test1.id, 'Response':lgb_pred})\n",
        "sub2.to_csv('/content/drive/My Drive/Colab Notebooks/fe_try5.csv',index=False)"
      ],
      "execution_count": null,
      "outputs": []
    },
    {
      "cell_type": "markdown",
      "metadata": {
        "id": "_KwAU375IP0J",
        "colab_type": "text"
      },
      "source": [
        "lets see lgbm now"
      ]
    },
    {
      "cell_type": "code",
      "metadata": {
        "id": "Chp0hUHH3RHs",
        "colab_type": "code",
        "colab": {
          "base_uri": "https://localhost:8080/",
          "height": 370
        },
        "outputId": "2f2b1662-1dd9-47e7-9aec-4c64c0777085"
      },
      "source": [
        "grids = {'learning_rate':[0.05, 0.01, 0.1, 0.08], \n",
        "         'max_depth':[34, 40, 50], \n",
        "         'n_edtimators':[1225, 1500]}\n",
        "mdl = LGBMClassifier(boosting_type='gbdt', reg_alpha=2, reg_lambda=3)\n",
        "grid = GridSearchCV(mdl, param_grid=grids, scoring='accuracy', cv=3)\n",
        "grid.fit(X_train, y_train)\n",
        "print('Best Score: ', grid.best_score_)\n",
        "print('Best Params:', grid.best_params_)"
      ],
      "execution_count": null,
      "outputs": [
        {
          "output_type": "error",
          "ename": "KeyboardInterrupt",
          "evalue": "ignored",
          "traceback": [
            "\u001b[0;31m---------------------------------------------------------------------------\u001b[0m",
            "\u001b[0;31mKeyboardInterrupt\u001b[0m                         Traceback (most recent call last)",
            "\u001b[0;32m<ipython-input-10-3575fb921dc6>\u001b[0m in \u001b[0;36m<module>\u001b[0;34m()\u001b[0m\n\u001b[1;32m      4\u001b[0m \u001b[0mmdl\u001b[0m \u001b[0;34m=\u001b[0m \u001b[0mLGBMClassifier\u001b[0m\u001b[0;34m(\u001b[0m\u001b[0mboosting_type\u001b[0m\u001b[0;34m=\u001b[0m\u001b[0;34m'gbdt'\u001b[0m\u001b[0;34m,\u001b[0m \u001b[0mreg_alpha\u001b[0m\u001b[0;34m=\u001b[0m\u001b[0;36m2\u001b[0m\u001b[0;34m,\u001b[0m \u001b[0mreg_lambda\u001b[0m\u001b[0;34m=\u001b[0m\u001b[0;36m3\u001b[0m\u001b[0;34m)\u001b[0m\u001b[0;34m\u001b[0m\u001b[0;34m\u001b[0m\u001b[0m\n\u001b[1;32m      5\u001b[0m \u001b[0mgrid\u001b[0m \u001b[0;34m=\u001b[0m \u001b[0mGridSearchCV\u001b[0m\u001b[0;34m(\u001b[0m\u001b[0mmdl\u001b[0m\u001b[0;34m,\u001b[0m \u001b[0mparam_grid\u001b[0m\u001b[0;34m=\u001b[0m\u001b[0mgrids\u001b[0m\u001b[0;34m,\u001b[0m \u001b[0mscoring\u001b[0m\u001b[0;34m=\u001b[0m\u001b[0;34m'accuracy'\u001b[0m\u001b[0;34m,\u001b[0m \u001b[0mcv\u001b[0m\u001b[0;34m=\u001b[0m\u001b[0;36m3\u001b[0m\u001b[0;34m)\u001b[0m\u001b[0;34m\u001b[0m\u001b[0;34m\u001b[0m\u001b[0m\n\u001b[0;32m----> 6\u001b[0;31m \u001b[0mgrid\u001b[0m\u001b[0;34m.\u001b[0m\u001b[0mfit\u001b[0m\u001b[0;34m(\u001b[0m\u001b[0mX_train\u001b[0m\u001b[0;34m,\u001b[0m \u001b[0my_train\u001b[0m\u001b[0;34m)\u001b[0m\u001b[0;34m\u001b[0m\u001b[0;34m\u001b[0m\u001b[0m\n\u001b[0m\u001b[1;32m      7\u001b[0m \u001b[0mprint\u001b[0m\u001b[0;34m(\u001b[0m\u001b[0;34m'Best Score: '\u001b[0m\u001b[0;34m,\u001b[0m \u001b[0mgrid\u001b[0m\u001b[0;34m.\u001b[0m\u001b[0mbest_score_\u001b[0m\u001b[0;34m)\u001b[0m\u001b[0;34m\u001b[0m\u001b[0;34m\u001b[0m\u001b[0m\n\u001b[1;32m      8\u001b[0m \u001b[0mprint\u001b[0m\u001b[0;34m(\u001b[0m\u001b[0;34m'Best Params:'\u001b[0m\u001b[0;34m,\u001b[0m \u001b[0mgrid\u001b[0m\u001b[0;34m.\u001b[0m\u001b[0mbest_params_\u001b[0m\u001b[0;34m)\u001b[0m\u001b[0;34m\u001b[0m\u001b[0;34m\u001b[0m\u001b[0m\n",
            "\u001b[0;32m/usr/local/lib/python3.6/dist-packages/sklearn/model_selection/_search.py\u001b[0m in \u001b[0;36mfit\u001b[0;34m(self, X, y, groups, **fit_params)\u001b[0m\n\u001b[1;32m    737\u001b[0m             \u001b[0mrefit_start_time\u001b[0m \u001b[0;34m=\u001b[0m \u001b[0mtime\u001b[0m\u001b[0;34m.\u001b[0m\u001b[0mtime\u001b[0m\u001b[0;34m(\u001b[0m\u001b[0;34m)\u001b[0m\u001b[0;34m\u001b[0m\u001b[0;34m\u001b[0m\u001b[0m\n\u001b[1;32m    738\u001b[0m             \u001b[0;32mif\u001b[0m \u001b[0my\u001b[0m \u001b[0;32mis\u001b[0m \u001b[0;32mnot\u001b[0m \u001b[0;32mNone\u001b[0m\u001b[0;34m:\u001b[0m\u001b[0;34m\u001b[0m\u001b[0;34m\u001b[0m\u001b[0m\n\u001b[0;32m--> 739\u001b[0;31m                 \u001b[0mself\u001b[0m\u001b[0;34m.\u001b[0m\u001b[0mbest_estimator_\u001b[0m\u001b[0;34m.\u001b[0m\u001b[0mfit\u001b[0m\u001b[0;34m(\u001b[0m\u001b[0mX\u001b[0m\u001b[0;34m,\u001b[0m \u001b[0my\u001b[0m\u001b[0;34m,\u001b[0m \u001b[0;34m**\u001b[0m\u001b[0mfit_params\u001b[0m\u001b[0;34m)\u001b[0m\u001b[0;34m\u001b[0m\u001b[0;34m\u001b[0m\u001b[0m\n\u001b[0m\u001b[1;32m    740\u001b[0m             \u001b[0;32melse\u001b[0m\u001b[0;34m:\u001b[0m\u001b[0;34m\u001b[0m\u001b[0;34m\u001b[0m\u001b[0m\n\u001b[1;32m    741\u001b[0m                 \u001b[0mself\u001b[0m\u001b[0;34m.\u001b[0m\u001b[0mbest_estimator_\u001b[0m\u001b[0;34m.\u001b[0m\u001b[0mfit\u001b[0m\u001b[0;34m(\u001b[0m\u001b[0mX\u001b[0m\u001b[0;34m,\u001b[0m \u001b[0;34m**\u001b[0m\u001b[0mfit_params\u001b[0m\u001b[0;34m)\u001b[0m\u001b[0;34m\u001b[0m\u001b[0;34m\u001b[0m\u001b[0m\n",
            "\u001b[0;32m/usr/local/lib/python3.6/dist-packages/lightgbm/sklearn.py\u001b[0m in \u001b[0;36mfit\u001b[0;34m(self, X, y, sample_weight, init_score, eval_set, eval_names, eval_sample_weight, eval_class_weight, eval_init_score, eval_metric, early_stopping_rounds, verbose, feature_name, categorical_feature, callbacks)\u001b[0m\n\u001b[1;32m    742\u001b[0m                                         \u001b[0mverbose\u001b[0m\u001b[0;34m=\u001b[0m\u001b[0mverbose\u001b[0m\u001b[0;34m,\u001b[0m \u001b[0mfeature_name\u001b[0m\u001b[0;34m=\u001b[0m\u001b[0mfeature_name\u001b[0m\u001b[0;34m,\u001b[0m\u001b[0;34m\u001b[0m\u001b[0;34m\u001b[0m\u001b[0m\n\u001b[1;32m    743\u001b[0m                                         \u001b[0mcategorical_feature\u001b[0m\u001b[0;34m=\u001b[0m\u001b[0mcategorical_feature\u001b[0m\u001b[0;34m,\u001b[0m\u001b[0;34m\u001b[0m\u001b[0;34m\u001b[0m\u001b[0m\n\u001b[0;32m--> 744\u001b[0;31m                                         callbacks=callbacks)\n\u001b[0m\u001b[1;32m    745\u001b[0m         \u001b[0;32mreturn\u001b[0m \u001b[0mself\u001b[0m\u001b[0;34m\u001b[0m\u001b[0;34m\u001b[0m\u001b[0m\n\u001b[1;32m    746\u001b[0m \u001b[0;34m\u001b[0m\u001b[0m\n",
            "\u001b[0;32m/usr/local/lib/python3.6/dist-packages/lightgbm/sklearn.py\u001b[0m in \u001b[0;36mfit\u001b[0;34m(self, X, y, sample_weight, init_score, group, eval_set, eval_names, eval_sample_weight, eval_class_weight, eval_init_score, eval_group, eval_metric, early_stopping_rounds, verbose, feature_name, categorical_feature, callbacks)\u001b[0m\n\u001b[1;32m    542\u001b[0m                               \u001b[0mverbose_eval\u001b[0m\u001b[0;34m=\u001b[0m\u001b[0mverbose\u001b[0m\u001b[0;34m,\u001b[0m \u001b[0mfeature_name\u001b[0m\u001b[0;34m=\u001b[0m\u001b[0mfeature_name\u001b[0m\u001b[0;34m,\u001b[0m\u001b[0;34m\u001b[0m\u001b[0;34m\u001b[0m\u001b[0m\n\u001b[1;32m    543\u001b[0m                               \u001b[0mcategorical_feature\u001b[0m\u001b[0;34m=\u001b[0m\u001b[0mcategorical_feature\u001b[0m\u001b[0;34m,\u001b[0m\u001b[0;34m\u001b[0m\u001b[0;34m\u001b[0m\u001b[0m\n\u001b[0;32m--> 544\u001b[0;31m                               callbacks=callbacks)\n\u001b[0m\u001b[1;32m    545\u001b[0m \u001b[0;34m\u001b[0m\u001b[0m\n\u001b[1;32m    546\u001b[0m         \u001b[0;32mif\u001b[0m \u001b[0mevals_result\u001b[0m\u001b[0;34m:\u001b[0m\u001b[0;34m\u001b[0m\u001b[0;34m\u001b[0m\u001b[0m\n",
            "\u001b[0;32m/usr/local/lib/python3.6/dist-packages/lightgbm/engine.py\u001b[0m in \u001b[0;36mtrain\u001b[0;34m(params, train_set, num_boost_round, valid_sets, valid_names, fobj, feval, init_model, feature_name, categorical_feature, early_stopping_rounds, evals_result, verbose_eval, learning_rates, keep_training_booster, callbacks)\u001b[0m\n\u001b[1;32m    216\u001b[0m                                     evaluation_result_list=None))\n\u001b[1;32m    217\u001b[0m \u001b[0;34m\u001b[0m\u001b[0m\n\u001b[0;32m--> 218\u001b[0;31m         \u001b[0mbooster\u001b[0m\u001b[0;34m.\u001b[0m\u001b[0mupdate\u001b[0m\u001b[0;34m(\u001b[0m\u001b[0mfobj\u001b[0m\u001b[0;34m=\u001b[0m\u001b[0mfobj\u001b[0m\u001b[0;34m)\u001b[0m\u001b[0;34m\u001b[0m\u001b[0;34m\u001b[0m\u001b[0m\n\u001b[0m\u001b[1;32m    219\u001b[0m \u001b[0;34m\u001b[0m\u001b[0m\n\u001b[1;32m    220\u001b[0m         \u001b[0mevaluation_result_list\u001b[0m \u001b[0;34m=\u001b[0m \u001b[0;34m[\u001b[0m\u001b[0;34m]\u001b[0m\u001b[0;34m\u001b[0m\u001b[0;34m\u001b[0m\u001b[0m\n",
            "\u001b[0;32m/usr/local/lib/python3.6/dist-packages/lightgbm/basic.py\u001b[0m in \u001b[0;36mupdate\u001b[0;34m(self, train_set, fobj)\u001b[0m\n\u001b[1;32m   1800\u001b[0m             _safe_call(_LIB.LGBM_BoosterUpdateOneIter(\n\u001b[1;32m   1801\u001b[0m                 \u001b[0mself\u001b[0m\u001b[0;34m.\u001b[0m\u001b[0mhandle\u001b[0m\u001b[0;34m,\u001b[0m\u001b[0;34m\u001b[0m\u001b[0;34m\u001b[0m\u001b[0m\n\u001b[0;32m-> 1802\u001b[0;31m                 ctypes.byref(is_finished)))\n\u001b[0m\u001b[1;32m   1803\u001b[0m             \u001b[0mself\u001b[0m\u001b[0;34m.\u001b[0m\u001b[0m__is_predicted_cur_iter\u001b[0m \u001b[0;34m=\u001b[0m \u001b[0;34m[\u001b[0m\u001b[0;32mFalse\u001b[0m \u001b[0;32mfor\u001b[0m \u001b[0m_\u001b[0m \u001b[0;32min\u001b[0m \u001b[0mrange_\u001b[0m\u001b[0;34m(\u001b[0m\u001b[0mself\u001b[0m\u001b[0;34m.\u001b[0m\u001b[0m__num_dataset\u001b[0m\u001b[0;34m)\u001b[0m\u001b[0;34m]\u001b[0m\u001b[0;34m\u001b[0m\u001b[0;34m\u001b[0m\u001b[0m\n\u001b[1;32m   1804\u001b[0m             \u001b[0;32mreturn\u001b[0m \u001b[0mis_finished\u001b[0m\u001b[0;34m.\u001b[0m\u001b[0mvalue\u001b[0m \u001b[0;34m==\u001b[0m \u001b[0;36m1\u001b[0m\u001b[0;34m\u001b[0m\u001b[0;34m\u001b[0m\u001b[0m\n",
            "\u001b[0;31mKeyboardInterrupt\u001b[0m: "
          ]
        }
      ]
    },
    {
      "cell_type": "code",
      "metadata": {
        "id": "KJ6fW5_dlKdS",
        "colab_type": "code",
        "colab": {}
      },
      "source": [
        ""
      ],
      "execution_count": null,
      "outputs": []
    }
  ]
}