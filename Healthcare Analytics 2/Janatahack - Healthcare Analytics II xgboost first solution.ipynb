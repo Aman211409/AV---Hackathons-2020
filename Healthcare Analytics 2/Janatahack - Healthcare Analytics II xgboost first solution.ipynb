{
 "cells": [
  {
   "cell_type": "code",
   "execution_count": 1,
   "metadata": {},
   "outputs": [],
   "source": [
    "import pandas as pd\n",
    "import numpy as np\n",
    "pd.set_option('display.max_rows', None)\n",
    "pd.set_option('display.max_columns', None)\n",
    "import warnings\n",
    "warnings.filterwarnings('ignore')"
   ]
  },
  {
   "cell_type": "code",
   "execution_count": 272,
   "metadata": {},
   "outputs": [],
   "source": [
    "train = pd.read_csv('C:/Users/LENOVO/Downloads/Train_hMYJ020/train.csv')\n",
    "test = pd.read_csv('C:/Users/LENOVO/Downloads/Test_ND2Q3bm/test.csv')"
   ]
  },
  {
   "cell_type": "code",
   "execution_count": 273,
   "metadata": {},
   "outputs": [],
   "source": [
    "from sklearn.preprocessing import LabelEncoder\n",
    "\n",
    "le = LabelEncoder()\n",
    "train['Stay'] = le.fit_transform(train['Stay'])"
   ]
  },
  {
   "cell_type": "code",
   "execution_count": 159,
   "metadata": {},
   "outputs": [
    {
     "data": {
      "text/plain": [
       "2     87491\n",
       "1     78139\n",
       "3     55159\n",
       "5     35018\n",
       "0     23604\n",
       "4     11743\n",
       "7     10254\n",
       "10     6683\n",
       "8      4838\n",
       "9      2765\n",
       "6      2744\n",
       "Name: Stay, dtype: int64"
      ]
     },
     "execution_count": 159,
     "metadata": {},
     "output_type": "execute_result"
    }
   ],
   "source": [
    "train['Stay'].value_counts()"
   ]
  },
  {
   "cell_type": "code",
   "execution_count": 274,
   "metadata": {},
   "outputs": [
    {
     "name": "stdout",
     "output_type": "stream",
     "text": [
      "(455495, 19)\n"
     ]
    }
   ],
   "source": [
    "train['flag'] = 1\n",
    "test['flag'] = 0\n",
    "test['Stay'] = None\n",
    "\n",
    "data = pd.concat((train, test))\n",
    "print(data.shape)"
   ]
  },
  {
   "cell_type": "code",
   "execution_count": 161,
   "metadata": {},
   "outputs": [],
   "source": [
    "df = data.copy()"
   ]
  },
  {
   "cell_type": "code",
   "execution_count": 186,
   "metadata": {},
   "outputs": [],
   "source": [
    "data=df.copy()"
   ]
  },
  {
   "cell_type": "code",
   "execution_count": 275,
   "metadata": {},
   "outputs": [],
   "source": [
    "data.drop(['case_id'], axis=1, inplace=True)"
   ]
  },
  {
   "cell_type": "code",
   "execution_count": 188,
   "metadata": {},
   "outputs": [],
   "source": [
    "data.loc[data['Department'].eq('gynecology') & data['Bed Grade'].isnull(), 'Bed Grade'] = 2.0\n",
    "data.loc[data['Department'].eq('radiotherapy') & data['Bed Grade'].isnull(), 'Bed Grade'] = 2.0\n",
    "data.loc[data['Department'].eq('TB & Chest disease') & data['Bed Grade'].isnull(), 'Bed Grade'] = 3.0\n",
    "data.loc[data['Department'].eq('anesthesia') & data['Bed Grade'].isnull(), 'Bed Grade'] = 3.0"
   ]
  },
  {
   "cell_type": "code",
   "execution_count": 61,
   "metadata": {},
   "outputs": [
    {
     "data": {
      "text/plain": [
       "dtype('int64')"
      ]
     },
     "execution_count": 61,
     "metadata": {},
     "output_type": "execute_result"
    }
   ],
   "source": [
    "data['patientid'].dtypes"
   ]
  },
  {
   "cell_type": "code",
   "execution_count": 62,
   "metadata": {},
   "outputs": [
    {
     "data": {
      "text/plain": [
       "Index(['case_id', 'Hospital_code', 'Hospital_type_code', 'City_Code_Hospital',\n",
       "       'Hospital_region_code', 'Available Extra Rooms in Hospital',\n",
       "       'Department', 'Ward_Type', 'Ward_Facility_Code', 'Bed Grade',\n",
       "       'patientid', 'City_Code_Patient', 'Type of Admission',\n",
       "       'Severity of Illness', 'Visitors with Patient', 'Age',\n",
       "       'Admission_Deposit', 'Stay', 'flag'],\n",
       "      dtype='object')"
      ]
     },
     "execution_count": 62,
     "metadata": {},
     "output_type": "execute_result"
    }
   ],
   "source": [
    "train.columns"
   ]
  },
  {
   "cell_type": "code",
   "execution_count": 66,
   "metadata": {},
   "outputs": [],
   "source": [
    "x = data.loc[data['Hospital_region_code']=='X', :]"
   ]
  },
  {
   "cell_type": "code",
   "execution_count": 67,
   "metadata": {},
   "outputs": [],
   "source": [
    "y = data.loc[data['Hospital_region_code']=='Y', :]\n",
    "z = data.loc[data['Hospital_region_code']=='Z', :]"
   ]
  },
  {
   "cell_type": "code",
   "execution_count": 68,
   "metadata": {},
   "outputs": [
    {
     "name": "stdout",
     "output_type": "stream",
     "text": [
      "mode for X:0    8.0\n",
      "dtype: float64\n",
      "mode for Z:0    8.0\n",
      "dtype: float64\n",
      "mode for Y:0    8.0\n",
      "dtype: float64\n"
     ]
    }
   ],
   "source": [
    "print('mode for X:{}'.format(x['City_Code_Patient'].mode()))\n",
    "print('mode for Z:{}'.format(z['City_Code_Patient'].mode()))\n",
    "print('mode for Y:{}'.format(y['City_Code_Patient'].mode()))\n"
   ]
  },
  {
   "cell_type": "code",
   "execution_count": 189,
   "metadata": {},
   "outputs": [],
   "source": [
    "data['City_Code_Patient'] = np.where(data['City_Code_Patient'].isna(), 8.0, data['City_Code_Patient'])"
   ]
  },
  {
   "cell_type": "code",
   "execution_count": 190,
   "metadata": {},
   "outputs": [],
   "source": [
    "data['Bed Grade'] = data['Bed Grade'].astype(int)\n",
    "data['City_Code_Patient'] = data['City_Code_Patient'].astype(int)\n",
    "data['Admission_Deposit'] = data['Admission_Deposit'].astype(int)"
   ]
  },
  {
   "cell_type": "code",
   "execution_count": 191,
   "metadata": {},
   "outputs": [
    {
     "data": {
      "text/plain": [
       "Index(['Age', 'Department', 'Hospital_region_code', 'Hospital_type_code',\n",
       "       'Severity of Illness', 'Stay', 'Type of Admission',\n",
       "       'Ward_Facility_Code', 'Ward_Type'],\n",
       "      dtype='object')"
      ]
     },
     "execution_count": 191,
     "metadata": {},
     "output_type": "execute_result"
    }
   ],
   "source": [
    "cat = data.select_dtypes(['object']).columns\n",
    "cat"
   ]
  },
  {
   "cell_type": "code",
   "execution_count": 192,
   "metadata": {},
   "outputs": [],
   "source": [
    "cat = ['Age', 'Department', 'Hospital_region_code', 'Hospital_type_code',\n",
    "       'Severity of Illness', 'Type of Admission',\n",
    "       'Ward_Facility_Code', 'Ward_Type']"
   ]
  },
  {
   "cell_type": "code",
   "execution_count": 193,
   "metadata": {},
   "outputs": [],
   "source": [
    "data = pd.get_dummies(data, columns=cat, drop_first=False)"
   ]
  },
  {
   "cell_type": "code",
   "execution_count": 194,
   "metadata": {},
   "outputs": [
    {
     "data": {
      "text/plain": [
       "(455495, 53)"
      ]
     },
     "execution_count": 194,
     "metadata": {},
     "output_type": "execute_result"
    }
   ],
   "source": [
    "data.shape"
   ]
  },
  {
   "cell_type": "code",
   "execution_count": 195,
   "metadata": {},
   "outputs": [],
   "source": [
    "train, test = data[data.flag==1], data[data.flag==0]"
   ]
  },
  {
   "cell_type": "code",
   "execution_count": 196,
   "metadata": {},
   "outputs": [],
   "source": [
    "train.drop(['flag'],axis=1, inplace=True)\n",
    "test = test.drop(['flag', 'Stay'], axis=1)"
   ]
  },
  {
   "cell_type": "code",
   "execution_count": 197,
   "metadata": {},
   "outputs": [
    {
     "name": "stdout",
     "output_type": "stream",
     "text": [
      "(318438, 52) (137057, 51)\n"
     ]
    }
   ],
   "source": [
    "print(train.shape, test.shape)"
   ]
  },
  {
   "cell_type": "code",
   "execution_count": 198,
   "metadata": {},
   "outputs": [
    {
     "data": {
      "text/plain": [
       "dtype('O')"
      ]
     },
     "execution_count": 198,
     "metadata": {},
     "output_type": "execute_result"
    }
   ],
   "source": [
    "train['Stay'].dtypes"
   ]
  },
  {
   "cell_type": "code",
   "execution_count": 199,
   "metadata": {},
   "outputs": [],
   "source": [
    "train['Stay'] = train['Stay'].astype(int)"
   ]
  },
  {
   "cell_type": "code",
   "execution_count": 200,
   "metadata": {},
   "outputs": [],
   "source": [
    "#from sklearn.model_selection import train_test_split\n",
    "df_train, df_eval = train_test_split(train, test_size=0.2, shuffle=True, stratify=train['Stay'], random_state=500)"
   ]
  },
  {
   "cell_type": "code",
   "execution_count": 81,
   "metadata": {},
   "outputs": [
    {
     "data": {
      "text/plain": [
       "Admission_Deposit                    int32\n",
       "Available Extra Rooms in Hospital    int64\n",
       "Bed Grade                            int32\n",
       "City_Code_Hospital                   int64\n",
       "City_Code_Patient                    int32\n",
       "Hospital_code                        int64\n",
       "Stay                                 int32\n",
       "Visitors with Patient                int64\n",
       "patientid                            int64\n",
       "Age_0-10                             uint8\n",
       "Age_11-20                            uint8\n",
       "Age_21-30                            uint8\n",
       "Age_31-40                            uint8\n",
       "Age_41-50                            uint8\n",
       "Age_51-60                            uint8\n",
       "Age_61-70                            uint8\n",
       "Age_71-80                            uint8\n",
       "Age_81-90                            uint8\n",
       "Age_91-100                           uint8\n",
       "Department_TB & Chest disease        uint8\n",
       "Department_anesthesia                uint8\n",
       "Department_gynecology                uint8\n",
       "Department_radiotherapy              uint8\n",
       "Department_surgery                   uint8\n",
       "Hospital_region_code_X               uint8\n",
       "Hospital_region_code_Y               uint8\n",
       "Hospital_region_code_Z               uint8\n",
       "Hospital_type_code_a                 uint8\n",
       "Hospital_type_code_b                 uint8\n",
       "Hospital_type_code_c                 uint8\n",
       "Hospital_type_code_d                 uint8\n",
       "Hospital_type_code_e                 uint8\n",
       "Hospital_type_code_f                 uint8\n",
       "Hospital_type_code_g                 uint8\n",
       "Severity of Illness_Extreme          uint8\n",
       "Severity of Illness_Minor            uint8\n",
       "Severity of Illness_Moderate         uint8\n",
       "Type of Admission_Emergency          uint8\n",
       "Type of Admission_Trauma             uint8\n",
       "Type of Admission_Urgent             uint8\n",
       "Ward_Facility_Code_A                 uint8\n",
       "Ward_Facility_Code_B                 uint8\n",
       "Ward_Facility_Code_C                 uint8\n",
       "Ward_Facility_Code_D                 uint8\n",
       "Ward_Facility_Code_E                 uint8\n",
       "Ward_Facility_Code_F                 uint8\n",
       "Ward_Type_P                          uint8\n",
       "Ward_Type_Q                          uint8\n",
       "Ward_Type_R                          uint8\n",
       "Ward_Type_S                          uint8\n",
       "Ward_Type_T                          uint8\n",
       "Ward_Type_U                          uint8\n",
       "dtype: object"
      ]
     },
     "execution_count": 81,
     "metadata": {},
     "output_type": "execute_result"
    }
   ],
   "source": [
    "train.dtypes"
   ]
  },
  {
   "cell_type": "code",
   "execution_count": 201,
   "metadata": {},
   "outputs": [],
   "source": [
    "feature_cols = df_train.columns.tolist()"
   ]
  },
  {
   "cell_type": "code",
   "execution_count": 202,
   "metadata": {},
   "outputs": [
    {
     "data": {
      "text/plain": [
       "52"
      ]
     },
     "execution_count": 202,
     "metadata": {},
     "output_type": "execute_result"
    }
   ],
   "source": [
    "len(feature_cols)"
   ]
  },
  {
   "cell_type": "code",
   "execution_count": 203,
   "metadata": {},
   "outputs": [
    {
     "name": "stdout",
     "output_type": "stream",
     "text": [
      "['Admission_Deposit', 'Available Extra Rooms in Hospital', 'Bed Grade', 'City_Code_Hospital', 'City_Code_Patient', 'Hospital_code', 'Visitors with Patient', 'patientid', 'Age_0-10', 'Age_11-20', 'Age_21-30', 'Age_31-40', 'Age_41-50', 'Age_51-60', 'Age_61-70', 'Age_71-80', 'Age_81-90', 'Age_91-100', 'Department_TB & Chest disease', 'Department_anesthesia', 'Department_gynecology', 'Department_radiotherapy', 'Department_surgery', 'Hospital_region_code_X', 'Hospital_region_code_Y', 'Hospital_region_code_Z', 'Hospital_type_code_a', 'Hospital_type_code_b', 'Hospital_type_code_c', 'Hospital_type_code_d', 'Hospital_type_code_e', 'Hospital_type_code_f', 'Hospital_type_code_g', 'Severity of Illness_Extreme', 'Severity of Illness_Minor', 'Severity of Illness_Moderate', 'Type of Admission_Emergency', 'Type of Admission_Trauma', 'Type of Admission_Urgent', 'Ward_Facility_Code_A', 'Ward_Facility_Code_B', 'Ward_Facility_Code_C', 'Ward_Facility_Code_D', 'Ward_Facility_Code_E', 'Ward_Facility_Code_F', 'Ward_Type_P', 'Ward_Type_Q', 'Ward_Type_R', 'Ward_Type_S', 'Ward_Type_T', 'Ward_Type_U']\n"
     ]
    }
   ],
   "source": [
    "feature_cols.remove('Stay')\n",
    "label_col = 'Stay'\n",
    "print(feature_cols)"
   ]
  },
  {
   "cell_type": "code",
   "execution_count": 204,
   "metadata": {},
   "outputs": [],
   "source": [
    "cat_cols = feature_cols\n",
    "cat_cols.remove('Admission_Deposit')"
   ]
  },
  {
   "cell_type": "code",
   "execution_count": 205,
   "metadata": {},
   "outputs": [],
   "source": [
    "params = {}\n",
    "params['learning_rate'] = 0.06\n",
    "params['max_depth'] = 50\n",
    "params['n_estimators'] = 500\n",
    "params['objective'] = 'multiclass'\n",
    "params['boosting_type'] = 'gbdt'\n",
    "params['subsample'] = 0.8\n",
    "params['random_state'] = 500\n",
    "params['colsample_bytree'] = 0.7\n",
    "params['min_data_in_leaf'] = 55\n",
    "params['reg_alpha'] = 1.6\n",
    "params['reg_lambda'] = 1.1"
   ]
  },
  {
   "cell_type": "code",
   "execution_count": 206,
   "metadata": {},
   "outputs": [],
   "source": [
    "import lightgbm as lgb"
   ]
  },
  {
   "cell_type": "code",
   "execution_count": 207,
   "metadata": {},
   "outputs": [],
   "source": [
    "from sklearn.metrics import accuracy_score"
   ]
  },
  {
   "cell_type": "code",
   "execution_count": 208,
   "metadata": {},
   "outputs": [
    {
     "name": "stdout",
     "output_type": "stream",
     "text": [
      "[1]\tvalid_0's multi_error: 0.725248\tvalid_0's multi_logloss: 1.87249\tvalid_1's multi_error: 0.725254\tvalid_1's multi_logloss: 1.87315\n",
      "Training until validation scores don't improve for 100 rounds\n",
      "[2]\tvalid_0's multi_error: 0.725248\tvalid_0's multi_logloss: 1.85041\tvalid_1's multi_error: 0.725254\tvalid_1's multi_logloss: 1.8517\n",
      "[3]\tvalid_0's multi_error: 0.717535\tvalid_0's multi_logloss: 1.83209\tvalid_1's multi_error: 0.717529\tvalid_1's multi_logloss: 1.83372\n",
      "[4]\tvalid_0's multi_error: 0.702006\tvalid_0's multi_logloss: 1.8214\tvalid_1's multi_error: 0.701105\tvalid_1's multi_logloss: 1.82342\n",
      "[5]\tvalid_0's multi_error: 0.692428\tvalid_0's multi_logloss: 1.80634\tvalid_1's multi_error: 0.690083\tvalid_1's multi_logloss: 1.80871\n",
      "[6]\tvalid_0's multi_error: 0.690049\tvalid_0's multi_logloss: 1.78968\tvalid_1's multi_error: 0.688481\tvalid_1's multi_logloss: 1.79235\n",
      "[7]\tvalid_0's multi_error: 0.684754\tvalid_0's multi_logloss: 1.77643\tvalid_1's multi_error: 0.683802\tvalid_1's multi_logloss: 1.77944\n",
      "[8]\tvalid_0's multi_error: 0.680824\tvalid_0's multi_logloss: 1.76309\tvalid_1's multi_error: 0.679563\tvalid_1's multi_logloss: 1.76637\n",
      "[9]\tvalid_0's multi_error: 0.669904\tvalid_0's multi_logloss: 1.75141\tvalid_1's multi_error: 0.670205\tvalid_1's multi_logloss: 1.75505\n",
      "[10]\tvalid_0's multi_error: 0.664031\tvalid_0's multi_logloss: 1.74501\tvalid_1's multi_error: 0.664411\tvalid_1's multi_logloss: 1.74883\n",
      "[11]\tvalid_0's multi_error: 0.656871\tvalid_0's multi_logloss: 1.73626\tvalid_1's multi_error: 0.657738\tvalid_1's multi_logloss: 1.74034\n",
      "[12]\tvalid_0's multi_error: 0.645649\tvalid_0's multi_logloss: 1.72712\tvalid_1's multi_error: 0.645899\tvalid_1's multi_logloss: 1.73159\n",
      "[13]\tvalid_0's multi_error: 0.634983\tvalid_0's multi_logloss: 1.71998\tvalid_1's multi_error: 0.635285\tvalid_1's multi_logloss: 1.72491\n",
      "[14]\tvalid_0's multi_error: 0.625751\tvalid_0's multi_logloss: 1.71423\tvalid_1's multi_error: 0.627308\tvalid_1's multi_logloss: 1.7195\n",
      "[15]\tvalid_0's multi_error: 0.616298\tvalid_0's multi_logloss: 1.707\tvalid_1's multi_error: 0.617008\tvalid_1's multi_logloss: 1.71264\n",
      "[16]\tvalid_0's multi_error: 0.607796\tvalid_0's multi_logloss: 1.69927\tvalid_1's multi_error: 0.608466\tvalid_1's multi_logloss: 1.70521\n",
      "[17]\tvalid_0's multi_error: 0.602402\tvalid_0's multi_logloss: 1.69252\tvalid_1's multi_error: 0.603175\tvalid_1's multi_logloss: 1.6987\n",
      "[18]\tvalid_0's multi_error: 0.595604\tvalid_0's multi_logloss: 1.68424\tvalid_1's multi_error: 0.596926\tvalid_1's multi_logloss: 1.69071\n",
      "[19]\tvalid_0's multi_error: 0.592762\tvalid_0's multi_logloss: 1.67635\tvalid_1's multi_error: 0.594241\tvalid_1's multi_logloss: 1.68306\n",
      "[20]\tvalid_0's multi_error: 0.592071\tvalid_0's multi_logloss: 1.67217\tvalid_1's multi_error: 0.59355\tvalid_1's multi_logloss: 1.6791\n",
      "[21]\tvalid_0's multi_error: 0.590869\tvalid_0's multi_logloss: 1.66744\tvalid_1's multi_error: 0.592388\tvalid_1's multi_logloss: 1.67458\n",
      "[22]\tvalid_0's multi_error: 0.590312\tvalid_0's multi_logloss: 1.6615\tvalid_1's multi_error: 0.591352\tvalid_1's multi_logloss: 1.66889\n",
      "[23]\tvalid_0's multi_error: 0.589865\tvalid_0's multi_logloss: 1.65606\tvalid_1's multi_error: 0.590881\tvalid_1's multi_logloss: 1.66367\n",
      "[24]\tvalid_0's multi_error: 0.58853\tvalid_0's multi_logloss: 1.65115\tvalid_1's multi_error: 0.590095\tvalid_1's multi_logloss: 1.65902\n",
      "[25]\tvalid_0's multi_error: 0.586991\tvalid_0's multi_logloss: 1.64606\tvalid_1's multi_error: 0.589483\tvalid_1's multi_logloss: 1.65417\n",
      "[26]\tvalid_0's multi_error: 0.586096\tvalid_0's multi_logloss: 1.64093\tvalid_1's multi_error: 0.588635\tvalid_1's multi_logloss: 1.64929\n",
      "[27]\tvalid_0's multi_error: 0.58517\tvalid_0's multi_logloss: 1.63609\tvalid_1's multi_error: 0.587536\tvalid_1's multi_logloss: 1.64477\n",
      "[28]\tvalid_0's multi_error: 0.584546\tvalid_0's multi_logloss: 1.63045\tvalid_1's multi_error: 0.587395\tvalid_1's multi_logloss: 1.63937\n",
      "[29]\tvalid_0's multi_error: 0.584094\tvalid_0's multi_logloss: 1.62714\tvalid_1's multi_error: 0.586908\tvalid_1's multi_logloss: 1.63632\n",
      "[30]\tvalid_0's multi_error: 0.583953\tvalid_0's multi_logloss: 1.6238\tvalid_1's multi_error: 0.586782\tvalid_1's multi_logloss: 1.63323\n",
      "[31]\tvalid_0's multi_error: 0.583517\tvalid_0's multi_logloss: 1.62008\tvalid_1's multi_error: 0.58639\tvalid_1's multi_logloss: 1.62979\n",
      "[32]\tvalid_0's multi_error: 0.583329\tvalid_0's multi_logloss: 1.61565\tvalid_1's multi_error: 0.586516\tvalid_1's multi_logloss: 1.62559\n",
      "[33]\tvalid_0's multi_error: 0.583007\tvalid_0's multi_logloss: 1.61195\tvalid_1's multi_error: 0.586531\tvalid_1's multi_logloss: 1.62214\n",
      "[34]\tvalid_0's multi_error: 0.58318\tvalid_0's multi_logloss: 1.60907\tvalid_1's multi_error: 0.586484\tvalid_1's multi_logloss: 1.61952\n",
      "[35]\tvalid_0's multi_error: 0.582622\tvalid_0's multi_logloss: 1.60583\tvalid_1's multi_error: 0.586092\tvalid_1's multi_logloss: 1.61654\n",
      "[36]\tvalid_0's multi_error: 0.582069\tvalid_0's multi_logloss: 1.60196\tvalid_1's multi_error: 0.585856\tvalid_1's multi_logloss: 1.61288\n",
      "[37]\tvalid_0's multi_error: 0.581837\tvalid_0's multi_logloss: 1.59935\tvalid_1's multi_error: 0.585872\tvalid_1's multi_logloss: 1.61058\n",
      "[38]\tvalid_0's multi_error: 0.581558\tvalid_0's multi_logloss: 1.59596\tvalid_1's multi_error: 0.585652\tvalid_1's multi_logloss: 1.60743\n",
      "[39]\tvalid_0's multi_error: 0.581386\tvalid_0's multi_logloss: 1.59254\tvalid_1's multi_error: 0.585228\tvalid_1's multi_logloss: 1.60428\n",
      "[40]\tvalid_0's multi_error: 0.581217\tvalid_0's multi_logloss: 1.58944\tvalid_1's multi_error: 0.584898\tvalid_1's multi_logloss: 1.60144\n",
      "[41]\tvalid_0's multi_error: 0.580632\tvalid_0's multi_logloss: 1.58641\tvalid_1's multi_error: 0.584914\tvalid_1's multi_logloss: 1.5987\n",
      "[42]\tvalid_0's multi_error: 0.580373\tvalid_0's multi_logloss: 1.58363\tvalid_1's multi_error: 0.584804\tvalid_1's multi_logloss: 1.59618\n",
      "[43]\tvalid_0's multi_error: 0.580243\tvalid_0's multi_logloss: 1.58051\tvalid_1's multi_error: 0.584898\tvalid_1's multi_logloss: 1.59332\n",
      "[44]\tvalid_0's multi_error: 0.580047\tvalid_0's multi_logloss: 1.57813\tvalid_1's multi_error: 0.584396\tvalid_1's multi_logloss: 1.5913\n",
      "[45]\tvalid_0's multi_error: 0.579812\tvalid_0's multi_logloss: 1.57549\tvalid_1's multi_error: 0.584364\tvalid_1's multi_logloss: 1.58891\n",
      "[46]\tvalid_0's multi_error: 0.579788\tvalid_0's multi_logloss: 1.57313\tvalid_1's multi_error: 0.584192\tvalid_1's multi_logloss: 1.58681\n",
      "[47]\tvalid_0's multi_error: 0.579572\tvalid_0's multi_logloss: 1.57094\tvalid_1's multi_error: 0.584035\tvalid_1's multi_logloss: 1.58483\n",
      "[48]\tvalid_0's multi_error: 0.579403\tvalid_0's multi_logloss: 1.56857\tvalid_1's multi_error: 0.583768\tvalid_1's multi_logloss: 1.58266\n",
      "[49]\tvalid_0's multi_error: 0.579125\tvalid_0's multi_logloss: 1.56626\tvalid_1's multi_error: 0.583187\tvalid_1's multi_logloss: 1.5806\n",
      "[50]\tvalid_0's multi_error: 0.579054\tvalid_0's multi_logloss: 1.56409\tvalid_1's multi_error: 0.583171\tvalid_1's multi_logloss: 1.57868\n",
      "[51]\tvalid_0's multi_error: 0.57874\tvalid_0's multi_logloss: 1.56223\tvalid_1's multi_error: 0.582936\tvalid_1's multi_logloss: 1.57713\n",
      "[52]\tvalid_0's multi_error: 0.578658\tvalid_0's multi_logloss: 1.56043\tvalid_1's multi_error: 0.583297\tvalid_1's multi_logloss: 1.57564\n",
      "[53]\tvalid_0's multi_error: 0.578336\tvalid_0's multi_logloss: 1.55865\tvalid_1's multi_error: 0.58281\tvalid_1's multi_logloss: 1.57417\n",
      "[54]\tvalid_0's multi_error: 0.578045\tvalid_0's multi_logloss: 1.55704\tvalid_1's multi_error: 0.583014\tvalid_1's multi_logloss: 1.57278\n",
      "[55]\tvalid_0's multi_error: 0.577931\tvalid_0's multi_logloss: 1.55511\tvalid_1's multi_error: 0.583061\tvalid_1's multi_logloss: 1.57113\n",
      "[56]\tvalid_0's multi_error: 0.577833\tvalid_0's multi_logloss: 1.55357\tvalid_1's multi_error: 0.582998\tvalid_1's multi_logloss: 1.56986\n",
      "[57]\tvalid_0's multi_error: 0.577747\tvalid_0's multi_logloss: 1.55191\tvalid_1's multi_error: 0.58303\tvalid_1's multi_logloss: 1.56848\n",
      "[58]\tvalid_0's multi_error: 0.57746\tvalid_0's multi_logloss: 1.55011\tvalid_1's multi_error: 0.58281\tvalid_1's multi_logloss: 1.56694\n",
      "[59]\tvalid_0's multi_error: 0.577268\tvalid_0's multi_logloss: 1.5483\tvalid_1's multi_error: 0.58259\tvalid_1's multi_logloss: 1.56537\n",
      "[60]\tvalid_0's multi_error: 0.577205\tvalid_0's multi_logloss: 1.5466\tvalid_1's multi_error: 0.582574\tvalid_1's multi_logloss: 1.56386\n",
      "[61]\tvalid_0's multi_error: 0.577131\tvalid_0's multi_logloss: 1.54513\tvalid_1's multi_error: 0.582449\tvalid_1's multi_logloss: 1.56268\n",
      "[62]\tvalid_0's multi_error: 0.576801\tvalid_0's multi_logloss: 1.54346\tvalid_1's multi_error: 0.582182\tvalid_1's multi_logloss: 1.56125\n",
      "[63]\tvalid_0's multi_error: 0.576585\tvalid_0's multi_logloss: 1.54244\tvalid_1's multi_error: 0.582198\tvalid_1's multi_logloss: 1.56049\n",
      "[64]\tvalid_0's multi_error: 0.576581\tvalid_0's multi_logloss: 1.54119\tvalid_1's multi_error: 0.582213\tvalid_1's multi_logloss: 1.55956\n",
      "[65]\tvalid_0's multi_error: 0.576239\tvalid_0's multi_logloss: 1.53996\tvalid_1's multi_error: 0.581962\tvalid_1's multi_logloss: 1.55866\n",
      "[66]\tvalid_0's multi_error: 0.576\tvalid_0's multi_logloss: 1.53888\tvalid_1's multi_error: 0.581946\tvalid_1's multi_logloss: 1.55788\n",
      "[67]\tvalid_0's multi_error: 0.57578\tvalid_0's multi_logloss: 1.53757\tvalid_1's multi_error: 0.581805\tvalid_1's multi_logloss: 1.55686\n",
      "[68]\tvalid_0's multi_error: 0.575509\tvalid_0's multi_logloss: 1.53627\tvalid_1's multi_error: 0.581836\tvalid_1's multi_logloss: 1.55584\n",
      "[69]\tvalid_0's multi_error: 0.575289\tvalid_0's multi_logloss: 1.53488\tvalid_1's multi_error: 0.581727\tvalid_1's multi_logloss: 1.5547\n",
      "[70]\tvalid_0's multi_error: 0.575105\tvalid_0's multi_logloss: 1.5336\tvalid_1's multi_error: 0.581617\tvalid_1's multi_logloss: 1.55368\n",
      "[71]\tvalid_0's multi_error: 0.574932\tvalid_0's multi_logloss: 1.53241\tvalid_1's multi_error: 0.581727\tvalid_1's multi_logloss: 1.55276\n",
      "[72]\tvalid_0's multi_error: 0.574697\tvalid_0's multi_logloss: 1.53126\tvalid_1's multi_error: 0.581554\tvalid_1's multi_logloss: 1.55188\n",
      "[73]\tvalid_0's multi_error: 0.574504\tvalid_0's multi_logloss: 1.53001\tvalid_1's multi_error: 0.581554\tvalid_1's multi_logloss: 1.55087\n",
      "[74]\tvalid_0's multi_error: 0.574422\tvalid_0's multi_logloss: 1.5289\tvalid_1's multi_error: 0.58146\tvalid_1's multi_logloss: 1.55001\n",
      "[75]\tvalid_0's multi_error: 0.574402\tvalid_0's multi_logloss: 1.52772\tvalid_1's multi_error: 0.581036\tvalid_1's multi_logloss: 1.54907\n",
      "[76]\tvalid_0's multi_error: 0.5743\tvalid_0's multi_logloss: 1.52669\tvalid_1's multi_error: 0.580941\tvalid_1's multi_logloss: 1.54825\n",
      "[77]\tvalid_0's multi_error: 0.57412\tvalid_0's multi_logloss: 1.52575\tvalid_1's multi_error: 0.581083\tvalid_1's multi_logloss: 1.54753\n",
      "[78]\tvalid_0's multi_error: 0.574002\tvalid_0's multi_logloss: 1.52478\tvalid_1's multi_error: 0.580941\tvalid_1's multi_logloss: 1.54681\n",
      "[79]\tvalid_0's multi_error: 0.573806\tvalid_0's multi_logloss: 1.52374\tvalid_1's multi_error: 0.580957\tvalid_1's multi_logloss: 1.54604\n",
      "[80]\tvalid_0's multi_error: 0.573684\tvalid_0's multi_logloss: 1.52264\tvalid_1's multi_error: 0.580816\tvalid_1's multi_logloss: 1.54516\n",
      "[81]\tvalid_0's multi_error: 0.57357\tvalid_0's multi_logloss: 1.52174\tvalid_1's multi_error: 0.580847\tvalid_1's multi_logloss: 1.54455\n",
      "[82]\tvalid_0's multi_error: 0.573335\tvalid_0's multi_logloss: 1.52077\tvalid_1's multi_error: 0.580722\tvalid_1's multi_logloss: 1.54384\n",
      "[83]\tvalid_0's multi_error: 0.573107\tvalid_0's multi_logloss: 1.5198\tvalid_1's multi_error: 0.580832\tvalid_1's multi_logloss: 1.5431\n",
      "[84]\tvalid_0's multi_error: 0.572966\tvalid_0's multi_logloss: 1.51881\tvalid_1's multi_error: 0.5808\tvalid_1's multi_logloss: 1.54233\n",
      "[85]\tvalid_0's multi_error: 0.572962\tvalid_0's multi_logloss: 1.51803\tvalid_1's multi_error: 0.580518\tvalid_1's multi_logloss: 1.54183\n",
      "[86]\tvalid_0's multi_error: 0.572871\tvalid_0's multi_logloss: 1.51712\tvalid_1's multi_error: 0.580737\tvalid_1's multi_logloss: 1.54121\n",
      "[87]\tvalid_0's multi_error: 0.572632\tvalid_0's multi_logloss: 1.5162\tvalid_1's multi_error: 0.580832\tvalid_1's multi_logloss: 1.54052\n",
      "[88]\tvalid_0's multi_error: 0.572491\tvalid_0's multi_logloss: 1.5154\tvalid_1's multi_error: 0.5808\tvalid_1's multi_logloss: 1.53996\n",
      "[89]\tvalid_0's multi_error: 0.572451\tvalid_0's multi_logloss: 1.51454\tvalid_1's multi_error: 0.58069\tvalid_1's multi_logloss: 1.53937\n",
      "[90]\tvalid_0's multi_error: 0.57229\tvalid_0's multi_logloss: 1.51374\tvalid_1's multi_error: 0.58058\tvalid_1's multi_logloss: 1.53883\n",
      "[91]\tvalid_0's multi_error: 0.572228\tvalid_0's multi_logloss: 1.51287\tvalid_1's multi_error: 0.58047\tvalid_1's multi_logloss: 1.53819\n",
      "[92]\tvalid_0's multi_error: 0.572035\tvalid_0's multi_logloss: 1.51207\tvalid_1's multi_error: 0.580251\tvalid_1's multi_logloss: 1.53767\n",
      "[93]\tvalid_0's multi_error: 0.572008\tvalid_0's multi_logloss: 1.51131\tvalid_1's multi_error: 0.580141\tvalid_1's multi_logloss: 1.53714\n",
      "[94]\tvalid_0's multi_error: 0.571741\tvalid_0's multi_logloss: 1.51058\tvalid_1's multi_error: 0.579937\tvalid_1's multi_logloss: 1.53669\n",
      "[95]\tvalid_0's multi_error: 0.571525\tvalid_0's multi_logloss: 1.50977\tvalid_1's multi_error: 0.579607\tvalid_1's multi_logloss: 1.53612\n",
      "[96]\tvalid_0's multi_error: 0.571498\tvalid_0's multi_logloss: 1.50906\tvalid_1's multi_error: 0.57967\tvalid_1's multi_logloss: 1.53566\n",
      "[97]\tvalid_0's multi_error: 0.571333\tvalid_0's multi_logloss: 1.50833\tvalid_1's multi_error: 0.57956\tvalid_1's multi_logloss: 1.5352\n",
      "[98]\tvalid_0's multi_error: 0.571058\tvalid_0's multi_logloss: 1.50773\tvalid_1's multi_error: 0.57956\tvalid_1's multi_logloss: 1.53492\n",
      "[99]\tvalid_0's multi_error: 0.57094\tvalid_0's multi_logloss: 1.50705\tvalid_1's multi_error: 0.579497\tvalid_1's multi_logloss: 1.53451\n",
      "[100]\tvalid_0's multi_error: 0.57085\tvalid_0's multi_logloss: 1.50643\tvalid_1's multi_error: 0.579434\tvalid_1's multi_logloss: 1.53416\n",
      "[101]\tvalid_0's multi_error: 0.570783\tvalid_0's multi_logloss: 1.50578\tvalid_1's multi_error: 0.579309\tvalid_1's multi_logloss: 1.53384\n",
      "[102]\tvalid_0's multi_error: 0.570614\tvalid_0's multi_logloss: 1.50502\tvalid_1's multi_error: 0.579136\tvalid_1's multi_logloss: 1.53337\n",
      "[103]\tvalid_0's multi_error: 0.570406\tvalid_0's multi_logloss: 1.50429\tvalid_1's multi_error: 0.579403\tvalid_1's multi_logloss: 1.53292\n",
      "[104]\tvalid_0's multi_error: 0.570426\tvalid_0's multi_logloss: 1.50373\tvalid_1's multi_error: 0.579466\tvalid_1's multi_logloss: 1.53266\n",
      "[105]\tvalid_0's multi_error: 0.570261\tvalid_0's multi_logloss: 1.50315\tvalid_1's multi_error: 0.57923\tvalid_1's multi_logloss: 1.53236\n",
      "[106]\tvalid_0's multi_error: 0.5701\tvalid_0's multi_logloss: 1.5025\tvalid_1's multi_error: 0.57934\tvalid_1's multi_logloss: 1.53194\n",
      "[107]\tvalid_0's multi_error: 0.570057\tvalid_0's multi_logloss: 1.50182\tvalid_1's multi_error: 0.579403\tvalid_1's multi_logloss: 1.5315\n",
      "[108]\tvalid_0's multi_error: 0.569857\tvalid_0's multi_logloss: 1.50119\tvalid_1's multi_error: 0.579481\tvalid_1's multi_logloss: 1.53115\n",
      "[109]\tvalid_0's multi_error: 0.569782\tvalid_0's multi_logloss: 1.50056\tvalid_1's multi_error: 0.579309\tvalid_1's multi_logloss: 1.53075\n",
      "[110]\tvalid_0's multi_error: 0.56977\tvalid_0's multi_logloss: 1.5\tvalid_1's multi_error: 0.579104\tvalid_1's multi_logloss: 1.53045\n",
      "[111]\tvalid_0's multi_error: 0.569629\tvalid_0's multi_logloss: 1.4994\tvalid_1's multi_error: 0.579073\tvalid_1's multi_logloss: 1.53012\n",
      "[112]\tvalid_0's multi_error: 0.569543\tvalid_0's multi_logloss: 1.4988\tvalid_1's multi_error: 0.579026\tvalid_1's multi_logloss: 1.5298\n",
      "[113]\tvalid_0's multi_error: 0.569342\tvalid_0's multi_logloss: 1.49822\tvalid_1's multi_error: 0.57923\tvalid_1's multi_logloss: 1.52949\n",
      "[114]\tvalid_0's multi_error: 0.56935\tvalid_0's multi_logloss: 1.49768\tvalid_1's multi_error: 0.579293\tvalid_1's multi_logloss: 1.5292\n",
      "[115]\tvalid_0's multi_error: 0.569182\tvalid_0's multi_logloss: 1.49709\tvalid_1's multi_error: 0.579214\tvalid_1's multi_logloss: 1.52886\n",
      "[116]\tvalid_0's multi_error: 0.569076\tvalid_0's multi_logloss: 1.49651\tvalid_1's multi_error: 0.579246\tvalid_1's multi_logloss: 1.5285\n",
      "[117]\tvalid_0's multi_error: 0.568832\tvalid_0's multi_logloss: 1.49601\tvalid_1's multi_error: 0.579183\tvalid_1's multi_logloss: 1.52828\n",
      "[118]\tvalid_0's multi_error: 0.568742\tvalid_0's multi_logloss: 1.49554\tvalid_1's multi_error: 0.579277\tvalid_1's multi_logloss: 1.52808\n",
      "[119]\tvalid_0's multi_error: 0.568663\tvalid_0's multi_logloss: 1.49505\tvalid_1's multi_error: 0.578994\tvalid_1's multi_logloss: 1.52786\n",
      "[120]\tvalid_0's multi_error: 0.568502\tvalid_0's multi_logloss: 1.49459\tvalid_1's multi_error: 0.578853\tvalid_1's multi_logloss: 1.52765\n",
      "[121]\tvalid_0's multi_error: 0.568393\tvalid_0's multi_logloss: 1.49408\tvalid_1's multi_error: 0.578696\tvalid_1's multi_logloss: 1.52742\n",
      "[122]\tvalid_0's multi_error: 0.568263\tvalid_0's multi_logloss: 1.49357\tvalid_1's multi_error: 0.578853\tvalid_1's multi_logloss: 1.52716\n",
      "[123]\tvalid_0's multi_error: 0.56809\tvalid_0's multi_logloss: 1.4931\tvalid_1's multi_error: 0.578665\tvalid_1's multi_logloss: 1.52695\n",
      "[124]\tvalid_0's multi_error: 0.567902\tvalid_0's multi_logloss: 1.49258\tvalid_1's multi_error: 0.578555\tvalid_1's multi_logloss: 1.52668\n",
      "[125]\tvalid_0's multi_error: 0.567788\tvalid_0's multi_logloss: 1.49208\tvalid_1's multi_error: 0.578429\tvalid_1's multi_logloss: 1.52643\n",
      "[126]\tvalid_0's multi_error: 0.567627\tvalid_0's multi_logloss: 1.49156\tvalid_1's multi_error: 0.578131\tvalid_1's multi_logloss: 1.52617\n",
      "[127]\tvalid_0's multi_error: 0.567435\tvalid_0's multi_logloss: 1.49108\tvalid_1's multi_error: 0.577974\tvalid_1's multi_logloss: 1.52596\n",
      "[128]\tvalid_0's multi_error: 0.567337\tvalid_0's multi_logloss: 1.49059\tvalid_1's multi_error: 0.577927\tvalid_1's multi_logloss: 1.52572\n",
      "[129]\tvalid_0's multi_error: 0.56725\tvalid_0's multi_logloss: 1.49014\tvalid_1's multi_error: 0.577691\tvalid_1's multi_logloss: 1.52553\n",
      "[130]\tvalid_0's multi_error: 0.567129\tvalid_0's multi_logloss: 1.48973\tvalid_1's multi_error: 0.577597\tvalid_1's multi_logloss: 1.52532\n",
      "[131]\tvalid_0's multi_error: 0.567046\tvalid_0's multi_logloss: 1.48933\tvalid_1's multi_error: 0.577566\tvalid_1's multi_logloss: 1.52515\n",
      "[132]\tvalid_0's multi_error: 0.566838\tvalid_0's multi_logloss: 1.48887\tvalid_1's multi_error: 0.577283\tvalid_1's multi_logloss: 1.52492\n",
      "[133]\tvalid_0's multi_error: 0.566716\tvalid_0's multi_logloss: 1.48847\tvalid_1's multi_error: 0.577283\tvalid_1's multi_logloss: 1.52478\n",
      "[134]\tvalid_0's multi_error: 0.566634\tvalid_0's multi_logloss: 1.488\tvalid_1's multi_error: 0.577032\tvalid_1's multi_logloss: 1.52458\n",
      "[135]\tvalid_0's multi_error: 0.566571\tvalid_0's multi_logloss: 1.48758\tvalid_1's multi_error: 0.57722\tvalid_1's multi_logloss: 1.52441\n",
      "[136]\tvalid_0's multi_error: 0.566402\tvalid_0's multi_logloss: 1.48714\tvalid_1's multi_error: 0.577063\tvalid_1's multi_logloss: 1.52423\n",
      "[137]\tvalid_0's multi_error: 0.566328\tvalid_0's multi_logloss: 1.48671\tvalid_1's multi_error: 0.57711\tvalid_1's multi_logloss: 1.52401\n",
      "[138]\tvalid_0's multi_error: 0.566132\tvalid_0's multi_logloss: 1.48632\tvalid_1's multi_error: 0.576796\tvalid_1's multi_logloss: 1.52384\n",
      "[139]\tvalid_0's multi_error: 0.56612\tvalid_0's multi_logloss: 1.48591\tvalid_1's multi_error: 0.576938\tvalid_1's multi_logloss: 1.52367\n",
      "[140]\tvalid_0's multi_error: 0.56592\tvalid_0's multi_logloss: 1.4855\tvalid_1's multi_error: 0.576812\tvalid_1's multi_logloss: 1.52349\n",
      "[141]\tvalid_0's multi_error: 0.565833\tvalid_0's multi_logloss: 1.48507\tvalid_1's multi_error: 0.57711\tvalid_1's multi_logloss: 1.52328\n",
      "[142]\tvalid_0's multi_error: 0.565735\tvalid_0's multi_logloss: 1.48467\tvalid_1's multi_error: 0.576828\tvalid_1's multi_logloss: 1.52312\n",
      "[143]\tvalid_0's multi_error: 0.565629\tvalid_0's multi_logloss: 1.48425\tvalid_1's multi_error: 0.576922\tvalid_1's multi_logloss: 1.52294\n",
      "[144]\tvalid_0's multi_error: 0.56566\tvalid_0's multi_logloss: 1.48387\tvalid_1's multi_error: 0.576875\tvalid_1's multi_logloss: 1.52276\n",
      "[145]\tvalid_0's multi_error: 0.565452\tvalid_0's multi_logloss: 1.48349\tvalid_1's multi_error: 0.576765\tvalid_1's multi_logloss: 1.52259\n",
      "[146]\tvalid_0's multi_error: 0.565366\tvalid_0's multi_logloss: 1.48311\tvalid_1's multi_error: 0.576922\tvalid_1's multi_logloss: 1.52247\n",
      "[147]\tvalid_0's multi_error: 0.565233\tvalid_0's multi_logloss: 1.48275\tvalid_1's multi_error: 0.576875\tvalid_1's multi_logloss: 1.52233\n",
      "[148]\tvalid_0's multi_error: 0.565107\tvalid_0's multi_logloss: 1.48235\tvalid_1's multi_error: 0.576828\tvalid_1's multi_logloss: 1.52218\n",
      "[149]\tvalid_0's multi_error: 0.56497\tvalid_0's multi_logloss: 1.48196\tvalid_1's multi_error: 0.577047\tvalid_1's multi_logloss: 1.52202\n",
      "[150]\tvalid_0's multi_error: 0.564754\tvalid_0's multi_logloss: 1.48156\tvalid_1's multi_error: 0.577047\tvalid_1's multi_logloss: 1.52187\n",
      "[151]\tvalid_0's multi_error: 0.564683\tvalid_0's multi_logloss: 1.48117\tvalid_1's multi_error: 0.576938\tvalid_1's multi_logloss: 1.52172\n",
      "[152]\tvalid_0's multi_error: 0.564601\tvalid_0's multi_logloss: 1.4808\tvalid_1's multi_error: 0.576922\tvalid_1's multi_logloss: 1.52161\n",
      "[153]\tvalid_0's multi_error: 0.564573\tvalid_0's multi_logloss: 1.48047\tvalid_1's multi_error: 0.576843\tvalid_1's multi_logloss: 1.52152\n",
      "[154]\tvalid_0's multi_error: 0.56453\tvalid_0's multi_logloss: 1.4801\tvalid_1's multi_error: 0.576796\tvalid_1's multi_logloss: 1.52139\n",
      "[155]\tvalid_0's multi_error: 0.564408\tvalid_0's multi_logloss: 1.47975\tvalid_1's multi_error: 0.57689\tvalid_1's multi_logloss: 1.52123\n",
      "[156]\tvalid_0's multi_error: 0.564369\tvalid_0's multi_logloss: 1.47941\tvalid_1's multi_error: 0.576953\tvalid_1's multi_logloss: 1.52112\n",
      "[157]\tvalid_0's multi_error: 0.564369\tvalid_0's multi_logloss: 1.47907\tvalid_1's multi_error: 0.577173\tvalid_1's multi_logloss: 1.52104\n",
      "[158]\tvalid_0's multi_error: 0.564283\tvalid_0's multi_logloss: 1.47873\tvalid_1's multi_error: 0.577032\tvalid_1's multi_logloss: 1.5209\n",
      "[159]\tvalid_0's multi_error: 0.564181\tvalid_0's multi_logloss: 1.47836\tvalid_1's multi_error: 0.576906\tvalid_1's multi_logloss: 1.52077\n",
      "[160]\tvalid_0's multi_error: 0.564016\tvalid_0's multi_logloss: 1.47803\tvalid_1's multi_error: 0.577063\tvalid_1's multi_logloss: 1.52067\n",
      "[161]\tvalid_0's multi_error: 0.56391\tvalid_0's multi_logloss: 1.47766\tvalid_1's multi_error: 0.577\tvalid_1's multi_logloss: 1.52049\n",
      "[162]\tvalid_0's multi_error: 0.563823\tvalid_0's multi_logloss: 1.4773\tvalid_1's multi_error: 0.577142\tvalid_1's multi_logloss: 1.52038\n",
      "[163]\tvalid_0's multi_error: 0.563666\tvalid_0's multi_logloss: 1.47695\tvalid_1's multi_error: 0.576985\tvalid_1's multi_logloss: 1.52024\n",
      "[164]\tvalid_0's multi_error: 0.563443\tvalid_0's multi_logloss: 1.47661\tvalid_1's multi_error: 0.576812\tvalid_1's multi_logloss: 1.52014\n",
      "[165]\tvalid_0's multi_error: 0.563384\tvalid_0's multi_logloss: 1.47631\tvalid_1's multi_error: 0.576686\tvalid_1's multi_logloss: 1.52003\n",
      "[166]\tvalid_0's multi_error: 0.563227\tvalid_0's multi_logloss: 1.47595\tvalid_1's multi_error: 0.576733\tvalid_1's multi_logloss: 1.51989\n",
      "[167]\tvalid_0's multi_error: 0.563266\tvalid_0's multi_logloss: 1.47564\tvalid_1's multi_error: 0.576733\tvalid_1's multi_logloss: 1.51981\n",
      "[168]\tvalid_0's multi_error: 0.563274\tvalid_0's multi_logloss: 1.47532\tvalid_1's multi_error: 0.576765\tvalid_1's multi_logloss: 1.51972\n",
      "[169]\tvalid_0's multi_error: 0.563101\tvalid_0's multi_logloss: 1.47503\tvalid_1's multi_error: 0.576812\tvalid_1's multi_logloss: 1.51962\n",
      "[170]\tvalid_0's multi_error: 0.563081\tvalid_0's multi_logloss: 1.47472\tvalid_1's multi_error: 0.576576\tvalid_1's multi_logloss: 1.51952\n",
      "[171]\tvalid_0's multi_error: 0.562975\tvalid_0's multi_logloss: 1.4744\tvalid_1's multi_error: 0.576576\tvalid_1's multi_logloss: 1.51939\n",
      "[172]\tvalid_0's multi_error: 0.562956\tvalid_0's multi_logloss: 1.47406\tvalid_1's multi_error: 0.576325\tvalid_1's multi_logloss: 1.51924\n",
      "[173]\tvalid_0's multi_error: 0.562909\tvalid_0's multi_logloss: 1.47375\tvalid_1's multi_error: 0.576325\tvalid_1's multi_logloss: 1.51915\n",
      "[174]\tvalid_0's multi_error: 0.562846\tvalid_0's multi_logloss: 1.47345\tvalid_1's multi_error: 0.576357\tvalid_1's multi_logloss: 1.51905\n",
      "[175]\tvalid_0's multi_error: 0.562697\tvalid_0's multi_logloss: 1.47315\tvalid_1's multi_error: 0.576262\tvalid_1's multi_logloss: 1.51896\n",
      "[176]\tvalid_0's multi_error: 0.562669\tvalid_0's multi_logloss: 1.47287\tvalid_1's multi_error: 0.57631\tvalid_1's multi_logloss: 1.51887\n",
      "[177]\tvalid_0's multi_error: 0.562642\tvalid_0's multi_logloss: 1.47258\tvalid_1's multi_error: 0.576325\tvalid_1's multi_logloss: 1.5188\n",
      "[178]\tvalid_0's multi_error: 0.562622\tvalid_0's multi_logloss: 1.47226\tvalid_1's multi_error: 0.57631\tvalid_1's multi_logloss: 1.51868\n",
      "[179]\tvalid_0's multi_error: 0.5625\tvalid_0's multi_logloss: 1.47198\tvalid_1's multi_error: 0.576278\tvalid_1's multi_logloss: 1.51863\n",
      "[180]\tvalid_0's multi_error: 0.562446\tvalid_0's multi_logloss: 1.47168\tvalid_1's multi_error: 0.576404\tvalid_1's multi_logloss: 1.51854\n",
      "[181]\tvalid_0's multi_error: 0.562332\tvalid_0's multi_logloss: 1.47139\tvalid_1's multi_error: 0.576435\tvalid_1's multi_logloss: 1.51845\n",
      "[182]\tvalid_0's multi_error: 0.562269\tvalid_0's multi_logloss: 1.47112\tvalid_1's multi_error: 0.576498\tvalid_1's multi_logloss: 1.51837\n",
      "[183]\tvalid_0's multi_error: 0.562218\tvalid_0's multi_logloss: 1.4708\tvalid_1's multi_error: 0.576404\tvalid_1's multi_logloss: 1.51825\n",
      "[184]\tvalid_0's multi_error: 0.562241\tvalid_0's multi_logloss: 1.47054\tvalid_1's multi_error: 0.576341\tvalid_1's multi_logloss: 1.51817\n",
      "[185]\tvalid_0's multi_error: 0.562159\tvalid_0's multi_logloss: 1.47027\tvalid_1's multi_error: 0.576419\tvalid_1's multi_logloss: 1.51811\n",
      "[186]\tvalid_0's multi_error: 0.562124\tvalid_0's multi_logloss: 1.46996\tvalid_1's multi_error: 0.5762\tvalid_1's multi_logloss: 1.51802\n",
      "[187]\tvalid_0's multi_error: 0.5621\tvalid_0's multi_logloss: 1.46969\tvalid_1's multi_error: 0.57631\tvalid_1's multi_logloss: 1.51797\n",
      "[188]\tvalid_0's multi_error: 0.5619\tvalid_0's multi_logloss: 1.46942\tvalid_1's multi_error: 0.576498\tvalid_1's multi_logloss: 1.51791\n",
      "[189]\tvalid_0's multi_error: 0.561849\tvalid_0's multi_logloss: 1.46917\tvalid_1's multi_error: 0.576498\tvalid_1's multi_logloss: 1.51784\n",
      "[190]\tvalid_0's multi_error: 0.561774\tvalid_0's multi_logloss: 1.46889\tvalid_1's multi_error: 0.576467\tvalid_1's multi_logloss: 1.51779\n",
      "[191]\tvalid_0's multi_error: 0.561711\tvalid_0's multi_logloss: 1.4686\tvalid_1's multi_error: 0.576529\tvalid_1's multi_logloss: 1.51769\n",
      "[192]\tvalid_0's multi_error: 0.5617\tvalid_0's multi_logloss: 1.46834\tvalid_1's multi_error: 0.576325\tvalid_1's multi_logloss: 1.51761\n",
      "[193]\tvalid_0's multi_error: 0.561645\tvalid_0's multi_logloss: 1.46806\tvalid_1's multi_error: 0.576451\tvalid_1's multi_logloss: 1.51753\n",
      "[194]\tvalid_0's multi_error: 0.561598\tvalid_0's multi_logloss: 1.4678\tvalid_1's multi_error: 0.576388\tvalid_1's multi_logloss: 1.51746\n",
      "[195]\tvalid_0's multi_error: 0.561605\tvalid_0's multi_logloss: 1.46755\tvalid_1's multi_error: 0.576388\tvalid_1's multi_logloss: 1.51741\n",
      "[196]\tvalid_0's multi_error: 0.561484\tvalid_0's multi_logloss: 1.46728\tvalid_1's multi_error: 0.576262\tvalid_1's multi_logloss: 1.51736\n",
      "[197]\tvalid_0's multi_error: 0.561523\tvalid_0's multi_logloss: 1.46701\tvalid_1's multi_error: 0.576388\tvalid_1's multi_logloss: 1.51728\n",
      "[198]\tvalid_0's multi_error: 0.5615\tvalid_0's multi_logloss: 1.46674\tvalid_1's multi_error: 0.576498\tvalid_1's multi_logloss: 1.5172\n",
      "[199]\tvalid_0's multi_error: 0.561452\tvalid_0's multi_logloss: 1.46647\tvalid_1's multi_error: 0.576372\tvalid_1's multi_logloss: 1.51712\n",
      "[200]\tvalid_0's multi_error: 0.561397\tvalid_0's multi_logloss: 1.46623\tvalid_1's multi_error: 0.576451\tvalid_1's multi_logloss: 1.51707\n",
      "[201]\tvalid_0's multi_error: 0.561264\tvalid_0's multi_logloss: 1.46596\tvalid_1's multi_error: 0.576435\tvalid_1's multi_logloss: 1.51699\n",
      "[202]\tvalid_0's multi_error: 0.561178\tvalid_0's multi_logloss: 1.46569\tvalid_1's multi_error: 0.57631\tvalid_1's multi_logloss: 1.51693\n",
      "[203]\tvalid_0's multi_error: 0.561052\tvalid_0's multi_logloss: 1.46545\tvalid_1's multi_error: 0.576294\tvalid_1's multi_logloss: 1.51685\n",
      "[204]\tvalid_0's multi_error: 0.56106\tvalid_0's multi_logloss: 1.46521\tvalid_1's multi_error: 0.576121\tvalid_1's multi_logloss: 1.51682\n",
      "[205]\tvalid_0's multi_error: 0.560954\tvalid_0's multi_logloss: 1.46493\tvalid_1's multi_error: 0.576074\tvalid_1's multi_logloss: 1.51676\n",
      "[206]\tvalid_0's multi_error: 0.560852\tvalid_0's multi_logloss: 1.46468\tvalid_1's multi_error: 0.576121\tvalid_1's multi_logloss: 1.5167\n",
      "[207]\tvalid_0's multi_error: 0.560809\tvalid_0's multi_logloss: 1.4644\tvalid_1's multi_error: 0.575901\tvalid_1's multi_logloss: 1.51661\n",
      "[208]\tvalid_0's multi_error: 0.560758\tvalid_0's multi_logloss: 1.46415\tvalid_1's multi_error: 0.575995\tvalid_1's multi_logloss: 1.51655\n",
      "[209]\tvalid_0's multi_error: 0.560667\tvalid_0's multi_logloss: 1.46392\tvalid_1's multi_error: 0.57609\tvalid_1's multi_logloss: 1.51651\n",
      "[210]\tvalid_0's multi_error: 0.560601\tvalid_0's multi_logloss: 1.46367\tvalid_1's multi_error: 0.57598\tvalid_1's multi_logloss: 1.51645\n",
      "[211]\tvalid_0's multi_error: 0.56051\tvalid_0's multi_logloss: 1.46343\tvalid_1's multi_error: 0.575917\tvalid_1's multi_logloss: 1.51639\n",
      "[212]\tvalid_0's multi_error: 0.560365\tvalid_0's multi_logloss: 1.46317\tvalid_1's multi_error: 0.575854\tvalid_1's multi_logloss: 1.5163\n",
      "[213]\tvalid_0's multi_error: 0.56029\tvalid_0's multi_logloss: 1.46294\tvalid_1's multi_error: 0.575901\tvalid_1's multi_logloss: 1.51623\n",
      "[214]\tvalid_0's multi_error: 0.560149\tvalid_0's multi_logloss: 1.46271\tvalid_1's multi_error: 0.575791\tvalid_1's multi_logloss: 1.5162\n",
      "[215]\tvalid_0's multi_error: 0.560137\tvalid_0's multi_logloss: 1.46245\tvalid_1's multi_error: 0.57576\tvalid_1's multi_logloss: 1.51613\n",
      "[216]\tvalid_0's multi_error: 0.560024\tvalid_0's multi_logloss: 1.4622\tvalid_1's multi_error: 0.575964\tvalid_1's multi_logloss: 1.51606\n",
      "[217]\tvalid_0's multi_error: 0.559949\tvalid_0's multi_logloss: 1.46197\tvalid_1's multi_error: 0.575886\tvalid_1's multi_logloss: 1.51602\n",
      "[218]\tvalid_0's multi_error: 0.559898\tvalid_0's multi_logloss: 1.46174\tvalid_1's multi_error: 0.575823\tvalid_1's multi_logloss: 1.51598\n",
      "[219]\tvalid_0's multi_error: 0.559776\tvalid_0's multi_logloss: 1.46151\tvalid_1's multi_error: 0.575886\tvalid_1's multi_logloss: 1.51594\n",
      "[220]\tvalid_0's multi_error: 0.559741\tvalid_0's multi_logloss: 1.4613\tvalid_1's multi_error: 0.575917\tvalid_1's multi_logloss: 1.51592\n",
      "[221]\tvalid_0's multi_error: 0.559627\tvalid_0's multi_logloss: 1.46107\tvalid_1's multi_error: 0.57598\tvalid_1's multi_logloss: 1.51589\n",
      "[222]\tvalid_0's multi_error: 0.559501\tvalid_0's multi_logloss: 1.46083\tvalid_1's multi_error: 0.575854\tvalid_1's multi_logloss: 1.51583\n",
      "[223]\tvalid_0's multi_error: 0.559427\tvalid_0's multi_logloss: 1.46061\tvalid_1's multi_error: 0.575995\tvalid_1's multi_logloss: 1.51578\n",
      "[224]\tvalid_0's multi_error: 0.559344\tvalid_0's multi_logloss: 1.46039\tvalid_1's multi_error: 0.575948\tvalid_1's multi_logloss: 1.51572\n",
      "[225]\tvalid_0's multi_error: 0.559195\tvalid_0's multi_logloss: 1.46015\tvalid_1's multi_error: 0.575807\tvalid_1's multi_logloss: 1.51567\n",
      "[226]\tvalid_0's multi_error: 0.559172\tvalid_0's multi_logloss: 1.45993\tvalid_1's multi_error: 0.575838\tvalid_1's multi_logloss: 1.51564\n",
      "[227]\tvalid_0's multi_error: 0.559176\tvalid_0's multi_logloss: 1.45971\tvalid_1's multi_error: 0.57587\tvalid_1's multi_logloss: 1.51559\n",
      "[228]\tvalid_0's multi_error: 0.559195\tvalid_0's multi_logloss: 1.4595\tvalid_1's multi_error: 0.575854\tvalid_1's multi_logloss: 1.51556\n",
      "[229]\tvalid_0's multi_error: 0.559117\tvalid_0's multi_logloss: 1.45927\tvalid_1's multi_error: 0.576027\tvalid_1's multi_logloss: 1.51551\n",
      "[230]\tvalid_0's multi_error: 0.558999\tvalid_0's multi_logloss: 1.45904\tvalid_1's multi_error: 0.575901\tvalid_1's multi_logloss: 1.51546\n",
      "[231]\tvalid_0's multi_error: 0.559015\tvalid_0's multi_logloss: 1.45882\tvalid_1's multi_error: 0.575901\tvalid_1's multi_logloss: 1.51541\n",
      "[232]\tvalid_0's multi_error: 0.558979\tvalid_0's multi_logloss: 1.45859\tvalid_1's multi_error: 0.575776\tvalid_1's multi_logloss: 1.51536\n",
      "[233]\tvalid_0's multi_error: 0.558948\tvalid_0's multi_logloss: 1.45837\tvalid_1's multi_error: 0.575886\tvalid_1's multi_logloss: 1.51533\n",
      "[234]\tvalid_0's multi_error: 0.558779\tvalid_0's multi_logloss: 1.45814\tvalid_1's multi_error: 0.575901\tvalid_1's multi_logloss: 1.51528\n",
      "[235]\tvalid_0's multi_error: 0.55874\tvalid_0's multi_logloss: 1.45793\tvalid_1's multi_error: 0.575886\tvalid_1's multi_logloss: 1.51525\n",
      "[236]\tvalid_0's multi_error: 0.55876\tvalid_0's multi_logloss: 1.4577\tvalid_1's multi_error: 0.575886\tvalid_1's multi_logloss: 1.51519\n",
      "[237]\tvalid_0's multi_error: 0.558634\tvalid_0's multi_logloss: 1.4575\tvalid_1's multi_error: 0.575854\tvalid_1's multi_logloss: 1.51515\n",
      "[238]\tvalid_0's multi_error: 0.558606\tvalid_0's multi_logloss: 1.45731\tvalid_1's multi_error: 0.575917\tvalid_1's multi_logloss: 1.51513\n",
      "[239]\tvalid_0's multi_error: 0.558532\tvalid_0's multi_logloss: 1.45711\tvalid_1's multi_error: 0.576043\tvalid_1's multi_logloss: 1.51511\n",
      "[240]\tvalid_0's multi_error: 0.558469\tvalid_0's multi_logloss: 1.45687\tvalid_1's multi_error: 0.57609\tvalid_1's multi_logloss: 1.51508\n",
      "[241]\tvalid_0's multi_error: 0.558465\tvalid_0's multi_logloss: 1.45664\tvalid_1's multi_error: 0.57598\tvalid_1's multi_logloss: 1.51501\n",
      "[242]\tvalid_0's multi_error: 0.558465\tvalid_0's multi_logloss: 1.45643\tvalid_1's multi_error: 0.576027\tvalid_1's multi_logloss: 1.51496\n",
      "[243]\tvalid_0's multi_error: 0.558355\tvalid_0's multi_logloss: 1.45623\tvalid_1's multi_error: 0.575838\tvalid_1's multi_logloss: 1.51491\n",
      "[244]\tvalid_0's multi_error: 0.55823\tvalid_0's multi_logloss: 1.45602\tvalid_1's multi_error: 0.575917\tvalid_1's multi_logloss: 1.51489\n",
      "[245]\tvalid_0's multi_error: 0.558257\tvalid_0's multi_logloss: 1.45582\tvalid_1's multi_error: 0.575823\tvalid_1's multi_logloss: 1.51487\n",
      "[246]\tvalid_0's multi_error: 0.558163\tvalid_0's multi_logloss: 1.45562\tvalid_1's multi_error: 0.575823\tvalid_1's multi_logloss: 1.51485\n",
      "[247]\tvalid_0's multi_error: 0.558069\tvalid_0's multi_logloss: 1.45542\tvalid_1's multi_error: 0.575791\tvalid_1's multi_logloss: 1.51481\n",
      "[248]\tvalid_0's multi_error: 0.558045\tvalid_0's multi_logloss: 1.45521\tvalid_1's multi_error: 0.575964\tvalid_1's multi_logloss: 1.51478\n",
      "[249]\tvalid_0's multi_error: 0.558073\tvalid_0's multi_logloss: 1.45501\tvalid_1's multi_error: 0.575964\tvalid_1's multi_logloss: 1.51476\n",
      "[250]\tvalid_0's multi_error: 0.557923\tvalid_0's multi_logloss: 1.45481\tvalid_1's multi_error: 0.57598\tvalid_1's multi_logloss: 1.51472\n",
      "[251]\tvalid_0's multi_error: 0.557876\tvalid_0's multi_logloss: 1.45463\tvalid_1's multi_error: 0.57598\tvalid_1's multi_logloss: 1.51471\n",
      "[252]\tvalid_0's multi_error: 0.557857\tvalid_0's multi_logloss: 1.45443\tvalid_1's multi_error: 0.575964\tvalid_1's multi_logloss: 1.51467\n",
      "[253]\tvalid_0's multi_error: 0.557676\tvalid_0's multi_logloss: 1.45424\tvalid_1's multi_error: 0.576011\tvalid_1's multi_logloss: 1.51465\n",
      "[254]\tvalid_0's multi_error: 0.557692\tvalid_0's multi_logloss: 1.45406\tvalid_1's multi_error: 0.575964\tvalid_1's multi_logloss: 1.51464\n",
      "[255]\tvalid_0's multi_error: 0.55757\tvalid_0's multi_logloss: 1.45387\tvalid_1's multi_error: 0.575697\tvalid_1's multi_logloss: 1.51464\n",
      "[256]\tvalid_0's multi_error: 0.557602\tvalid_0's multi_logloss: 1.45368\tvalid_1's multi_error: 0.575634\tvalid_1's multi_logloss: 1.51461\n",
      "[257]\tvalid_0's multi_error: 0.557476\tvalid_0's multi_logloss: 1.45346\tvalid_1's multi_error: 0.575729\tvalid_1's multi_logloss: 1.51456\n",
      "[258]\tvalid_0's multi_error: 0.557346\tvalid_0's multi_logloss: 1.45325\tvalid_1's multi_error: 0.575681\tvalid_1's multi_logloss: 1.51452\n",
      "[259]\tvalid_0's multi_error: 0.557327\tvalid_0's multi_logloss: 1.45305\tvalid_1's multi_error: 0.575776\tvalid_1's multi_logloss: 1.51448\n",
      "[260]\tvalid_0's multi_error: 0.557244\tvalid_0's multi_logloss: 1.45287\tvalid_1's multi_error: 0.575791\tvalid_1's multi_logloss: 1.51445\n",
      "[261]\tvalid_0's multi_error: 0.557201\tvalid_0's multi_logloss: 1.4527\tvalid_1's multi_error: 0.575729\tvalid_1's multi_logloss: 1.51442\n",
      "[262]\tvalid_0's multi_error: 0.557197\tvalid_0's multi_logloss: 1.45253\tvalid_1's multi_error: 0.575823\tvalid_1's multi_logloss: 1.51439\n",
      "[263]\tvalid_0's multi_error: 0.557131\tvalid_0's multi_logloss: 1.45234\tvalid_1's multi_error: 0.575713\tvalid_1's multi_logloss: 1.51438\n",
      "[264]\tvalid_0's multi_error: 0.557076\tvalid_0's multi_logloss: 1.45218\tvalid_1's multi_error: 0.575838\tvalid_1's multi_logloss: 1.51437\n",
      "[265]\tvalid_0's multi_error: 0.557013\tvalid_0's multi_logloss: 1.45201\tvalid_1's multi_error: 0.57587\tvalid_1's multi_logloss: 1.51436\n",
      "[266]\tvalid_0's multi_error: 0.557013\tvalid_0's multi_logloss: 1.45182\tvalid_1's multi_error: 0.575776\tvalid_1's multi_logloss: 1.51431\n",
      "[267]\tvalid_0's multi_error: 0.556981\tvalid_0's multi_logloss: 1.45166\tvalid_1's multi_error: 0.575823\tvalid_1's multi_logloss: 1.51433\n",
      "[268]\tvalid_0's multi_error: 0.556907\tvalid_0's multi_logloss: 1.45149\tvalid_1's multi_error: 0.575776\tvalid_1's multi_logloss: 1.5143\n",
      "[269]\tvalid_0's multi_error: 0.556875\tvalid_0's multi_logloss: 1.45131\tvalid_1's multi_error: 0.575713\tvalid_1's multi_logloss: 1.51428\n",
      "[270]\tvalid_0's multi_error: 0.556875\tvalid_0's multi_logloss: 1.45113\tvalid_1's multi_error: 0.575744\tvalid_1's multi_logloss: 1.51426\n",
      "[271]\tvalid_0's multi_error: 0.556871\tvalid_0's multi_logloss: 1.45093\tvalid_1's multi_error: 0.57576\tvalid_1's multi_logloss: 1.51426\n",
      "[272]\tvalid_0's multi_error: 0.556793\tvalid_0's multi_logloss: 1.45071\tvalid_1's multi_error: 0.575838\tvalid_1's multi_logloss: 1.51421\n",
      "[273]\tvalid_0's multi_error: 0.556773\tvalid_0's multi_logloss: 1.45053\tvalid_1's multi_error: 0.575697\tvalid_1's multi_logloss: 1.51419\n",
      "[274]\tvalid_0's multi_error: 0.556679\tvalid_0's multi_logloss: 1.45035\tvalid_1's multi_error: 0.575697\tvalid_1's multi_logloss: 1.51418\n",
      "[275]\tvalid_0's multi_error: 0.556538\tvalid_0's multi_logloss: 1.45015\tvalid_1's multi_error: 0.575681\tvalid_1's multi_logloss: 1.51413\n",
      "[276]\tvalid_0's multi_error: 0.556542\tvalid_0's multi_logloss: 1.44998\tvalid_1's multi_error: 0.575619\tvalid_1's multi_logloss: 1.5141\n",
      "[277]\tvalid_0's multi_error: 0.556451\tvalid_0's multi_logloss: 1.44977\tvalid_1's multi_error: 0.575556\tvalid_1's multi_logloss: 1.51407\n",
      "[278]\tvalid_0's multi_error: 0.556467\tvalid_0's multi_logloss: 1.44959\tvalid_1's multi_error: 0.575587\tvalid_1's multi_logloss: 1.51404\n",
      "[279]\tvalid_0's multi_error: 0.55633\tvalid_0's multi_logloss: 1.4494\tvalid_1's multi_error: 0.575697\tvalid_1's multi_logloss: 1.51401\n",
      "[280]\tvalid_0's multi_error: 0.556251\tvalid_0's multi_logloss: 1.44924\tvalid_1's multi_error: 0.575807\tvalid_1's multi_logloss: 1.51399\n",
      "[281]\tvalid_0's multi_error: 0.556192\tvalid_0's multi_logloss: 1.44909\tvalid_1's multi_error: 0.575933\tvalid_1's multi_logloss: 1.51398\n",
      "[282]\tvalid_0's multi_error: 0.556137\tvalid_0's multi_logloss: 1.44892\tvalid_1's multi_error: 0.57587\tvalid_1's multi_logloss: 1.51397\n",
      "[283]\tvalid_0's multi_error: 0.556079\tvalid_0's multi_logloss: 1.44874\tvalid_1's multi_error: 0.575744\tvalid_1's multi_logloss: 1.51394\n",
      "[284]\tvalid_0's multi_error: 0.556024\tvalid_0's multi_logloss: 1.44858\tvalid_1's multi_error: 0.575681\tvalid_1's multi_logloss: 1.51392\n",
      "[285]\tvalid_0's multi_error: 0.555965\tvalid_0's multi_logloss: 1.44841\tvalid_1's multi_error: 0.575791\tvalid_1's multi_logloss: 1.5139\n",
      "[286]\tvalid_0's multi_error: 0.555929\tvalid_0's multi_logloss: 1.44821\tvalid_1's multi_error: 0.57565\tvalid_1's multi_logloss: 1.51388\n",
      "[287]\tvalid_0's multi_error: 0.555925\tvalid_0's multi_logloss: 1.44804\tvalid_1's multi_error: 0.575524\tvalid_1's multi_logloss: 1.51386\n",
      "[288]\tvalid_0's multi_error: 0.555835\tvalid_0's multi_logloss: 1.44786\tvalid_1's multi_error: 0.57576\tvalid_1's multi_logloss: 1.51384\n",
      "[289]\tvalid_0's multi_error: 0.555788\tvalid_0's multi_logloss: 1.44769\tvalid_1's multi_error: 0.575776\tvalid_1's multi_logloss: 1.51381\n",
      "[290]\tvalid_0's multi_error: 0.555702\tvalid_0's multi_logloss: 1.44753\tvalid_1's multi_error: 0.575713\tvalid_1's multi_logloss: 1.51378\n",
      "[291]\tvalid_0's multi_error: 0.555713\tvalid_0's multi_logloss: 1.44734\tvalid_1's multi_error: 0.575791\tvalid_1's multi_logloss: 1.51375\n",
      "[292]\tvalid_0's multi_error: 0.555655\tvalid_0's multi_logloss: 1.44719\tvalid_1's multi_error: 0.575776\tvalid_1's multi_logloss: 1.51374\n",
      "[293]\tvalid_0's multi_error: 0.555553\tvalid_0's multi_logloss: 1.44699\tvalid_1's multi_error: 0.575634\tvalid_1's multi_logloss: 1.51371\n",
      "[294]\tvalid_0's multi_error: 0.555584\tvalid_0's multi_logloss: 1.44679\tvalid_1's multi_error: 0.575697\tvalid_1's multi_logloss: 1.51366\n",
      "[295]\tvalid_0's multi_error: 0.555505\tvalid_0's multi_logloss: 1.44663\tvalid_1's multi_error: 0.575791\tvalid_1's multi_logloss: 1.51364\n",
      "[296]\tvalid_0's multi_error: 0.555486\tvalid_0's multi_logloss: 1.44645\tvalid_1's multi_error: 0.575713\tvalid_1's multi_logloss: 1.51362\n",
      "[297]\tvalid_0's multi_error: 0.555384\tvalid_0's multi_logloss: 1.44628\tvalid_1's multi_error: 0.575791\tvalid_1's multi_logloss: 1.51361\n",
      "[298]\tvalid_0's multi_error: 0.555368\tvalid_0's multi_logloss: 1.44609\tvalid_1's multi_error: 0.575729\tvalid_1's multi_logloss: 1.51356\n",
      "[299]\tvalid_0's multi_error: 0.555321\tvalid_0's multi_logloss: 1.44592\tvalid_1's multi_error: 0.575807\tvalid_1's multi_logloss: 1.51353\n",
      "[300]\tvalid_0's multi_error: 0.555278\tvalid_0's multi_logloss: 1.44575\tvalid_1's multi_error: 0.57587\tvalid_1's multi_logloss: 1.51354\n",
      "[301]\tvalid_0's multi_error: 0.555207\tvalid_0's multi_logloss: 1.44557\tvalid_1's multi_error: 0.575838\tvalid_1's multi_logloss: 1.51352\n",
      "[302]\tvalid_0's multi_error: 0.555168\tvalid_0's multi_logloss: 1.4454\tvalid_1's multi_error: 0.575823\tvalid_1's multi_logloss: 1.5135\n",
      "[303]\tvalid_0's multi_error: 0.555101\tvalid_0's multi_logloss: 1.44523\tvalid_1's multi_error: 0.575838\tvalid_1's multi_logloss: 1.51347\n",
      "[304]\tvalid_0's multi_error: 0.554999\tvalid_0's multi_logloss: 1.44506\tvalid_1's multi_error: 0.575886\tvalid_1's multi_logloss: 1.51346\n",
      "[305]\tvalid_0's multi_error: 0.554905\tvalid_0's multi_logloss: 1.44488\tvalid_1's multi_error: 0.575901\tvalid_1's multi_logloss: 1.51343\n",
      "[306]\tvalid_0's multi_error: 0.554826\tvalid_0's multi_logloss: 1.4447\tvalid_1's multi_error: 0.575729\tvalid_1's multi_logloss: 1.51341\n",
      "[307]\tvalid_0's multi_error: 0.554811\tvalid_0's multi_logloss: 1.44454\tvalid_1's multi_error: 0.575791\tvalid_1's multi_logloss: 1.5134\n",
      "[308]\tvalid_0's multi_error: 0.554697\tvalid_0's multi_logloss: 1.44437\tvalid_1's multi_error: 0.57587\tvalid_1's multi_logloss: 1.51338\n",
      "[309]\tvalid_0's multi_error: 0.554638\tvalid_0's multi_logloss: 1.44421\tvalid_1's multi_error: 0.575854\tvalid_1's multi_logloss: 1.51337\n",
      "[310]\tvalid_0's multi_error: 0.554579\tvalid_0's multi_logloss: 1.44404\tvalid_1's multi_error: 0.575729\tvalid_1's multi_logloss: 1.51336\n",
      "[311]\tvalid_0's multi_error: 0.554465\tvalid_0's multi_logloss: 1.44387\tvalid_1's multi_error: 0.575776\tvalid_1's multi_logloss: 1.51335\n",
      "[312]\tvalid_0's multi_error: 0.55441\tvalid_0's multi_logloss: 1.44371\tvalid_1's multi_error: 0.575619\tvalid_1's multi_logloss: 1.51333\n",
      "[313]\tvalid_0's multi_error: 0.554253\tvalid_0's multi_logloss: 1.44354\tvalid_1's multi_error: 0.57554\tvalid_1's multi_logloss: 1.5133\n",
      "[314]\tvalid_0's multi_error: 0.554226\tvalid_0's multi_logloss: 1.44338\tvalid_1's multi_error: 0.575493\tvalid_1's multi_logloss: 1.51329\n",
      "[315]\tvalid_0's multi_error: 0.554132\tvalid_0's multi_logloss: 1.44323\tvalid_1's multi_error: 0.575509\tvalid_1's multi_logloss: 1.51327\n",
      "[316]\tvalid_0's multi_error: 0.554155\tvalid_0's multi_logloss: 1.44308\tvalid_1's multi_error: 0.575634\tvalid_1's multi_logloss: 1.51327\n",
      "[317]\tvalid_0's multi_error: 0.55401\tvalid_0's multi_logloss: 1.44292\tvalid_1's multi_error: 0.57565\tvalid_1's multi_logloss: 1.51328\n",
      "[318]\tvalid_0's multi_error: 0.553939\tvalid_0's multi_logloss: 1.44276\tvalid_1's multi_error: 0.575666\tvalid_1's multi_logloss: 1.51326\n",
      "[319]\tvalid_0's multi_error: 0.553967\tvalid_0's multi_logloss: 1.44259\tvalid_1's multi_error: 0.57565\tvalid_1's multi_logloss: 1.51325\n",
      "[320]\tvalid_0's multi_error: 0.5539\tvalid_0's multi_logloss: 1.44244\tvalid_1's multi_error: 0.575619\tvalid_1's multi_logloss: 1.51323\n",
      "[321]\tvalid_0's multi_error: 0.553798\tvalid_0's multi_logloss: 1.44228\tvalid_1's multi_error: 0.575587\tvalid_1's multi_logloss: 1.51322\n",
      "[322]\tvalid_0's multi_error: 0.553778\tvalid_0's multi_logloss: 1.44209\tvalid_1's multi_error: 0.575493\tvalid_1's multi_logloss: 1.5132\n",
      "[323]\tvalid_0's multi_error: 0.553696\tvalid_0's multi_logloss: 1.44193\tvalid_1's multi_error: 0.575509\tvalid_1's multi_logloss: 1.51319\n",
      "[324]\tvalid_0's multi_error: 0.553657\tvalid_0's multi_logloss: 1.44179\tvalid_1's multi_error: 0.57554\tvalid_1's multi_logloss: 1.51319\n",
      "[325]\tvalid_0's multi_error: 0.553645\tvalid_0's multi_logloss: 1.44162\tvalid_1's multi_error: 0.575572\tvalid_1's multi_logloss: 1.51317\n",
      "[326]\tvalid_0's multi_error: 0.553617\tvalid_0's multi_logloss: 1.44146\tvalid_1's multi_error: 0.575603\tvalid_1's multi_logloss: 1.51315\n",
      "[327]\tvalid_0's multi_error: 0.553554\tvalid_0's multi_logloss: 1.4413\tvalid_1's multi_error: 0.57554\tvalid_1's multi_logloss: 1.51312\n",
      "[328]\tvalid_0's multi_error: 0.553543\tvalid_0's multi_logloss: 1.44115\tvalid_1's multi_error: 0.57554\tvalid_1's multi_logloss: 1.5131\n",
      "[329]\tvalid_0's multi_error: 0.553476\tvalid_0's multi_logloss: 1.44101\tvalid_1's multi_error: 0.575524\tvalid_1's multi_logloss: 1.51308\n",
      "[330]\tvalid_0's multi_error: 0.553448\tvalid_0's multi_logloss: 1.44085\tvalid_1's multi_error: 0.575666\tvalid_1's multi_logloss: 1.51306\n",
      "[331]\tvalid_0's multi_error: 0.55346\tvalid_0's multi_logloss: 1.4407\tvalid_1's multi_error: 0.575713\tvalid_1's multi_logloss: 1.51304\n",
      "[332]\tvalid_0's multi_error: 0.55335\tvalid_0's multi_logloss: 1.44054\tvalid_1's multi_error: 0.575791\tvalid_1's multi_logloss: 1.51302\n",
      "[333]\tvalid_0's multi_error: 0.553307\tvalid_0's multi_logloss: 1.44039\tvalid_1's multi_error: 0.575776\tvalid_1's multi_logloss: 1.51301\n",
      "[334]\tvalid_0's multi_error: 0.553225\tvalid_0's multi_logloss: 1.44023\tvalid_1's multi_error: 0.575713\tvalid_1's multi_logloss: 1.513\n",
      "[335]\tvalid_0's multi_error: 0.553162\tvalid_0's multi_logloss: 1.44008\tvalid_1's multi_error: 0.575697\tvalid_1's multi_logloss: 1.51299\n",
      "[336]\tvalid_0's multi_error: 0.553052\tvalid_0's multi_logloss: 1.43991\tvalid_1's multi_error: 0.575619\tvalid_1's multi_logloss: 1.51297\n",
      "[337]\tvalid_0's multi_error: 0.553056\tvalid_0's multi_logloss: 1.43975\tvalid_1's multi_error: 0.575603\tvalid_1's multi_logloss: 1.51295\n",
      "[338]\tvalid_0's multi_error: 0.552989\tvalid_0's multi_logloss: 1.43958\tvalid_1's multi_error: 0.575556\tvalid_1's multi_logloss: 1.51292\n",
      "[339]\tvalid_0's multi_error: 0.552824\tvalid_0's multi_logloss: 1.43942\tvalid_1's multi_error: 0.575493\tvalid_1's multi_logloss: 1.5129\n",
      "[340]\tvalid_0's multi_error: 0.552742\tvalid_0's multi_logloss: 1.43925\tvalid_1's multi_error: 0.575477\tvalid_1's multi_logloss: 1.51288\n",
      "[341]\tvalid_0's multi_error: 0.552656\tvalid_0's multi_logloss: 1.43909\tvalid_1's multi_error: 0.575556\tvalid_1's multi_logloss: 1.51286\n",
      "[342]\tvalid_0's multi_error: 0.552534\tvalid_0's multi_logloss: 1.43894\tvalid_1's multi_error: 0.575493\tvalid_1's multi_logloss: 1.51284\n",
      "[343]\tvalid_0's multi_error: 0.552487\tvalid_0's multi_logloss: 1.43879\tvalid_1's multi_error: 0.575524\tvalid_1's multi_logloss: 1.51283\n",
      "[344]\tvalid_0's multi_error: 0.552396\tvalid_0's multi_logloss: 1.43863\tvalid_1's multi_error: 0.57554\tvalid_1's multi_logloss: 1.51281\n",
      "[345]\tvalid_0's multi_error: 0.552349\tvalid_0's multi_logloss: 1.43848\tvalid_1's multi_error: 0.575666\tvalid_1's multi_logloss: 1.51281\n",
      "[346]\tvalid_0's multi_error: 0.552334\tvalid_0's multi_logloss: 1.43833\tvalid_1's multi_error: 0.575572\tvalid_1's multi_logloss: 1.5128\n",
      "[347]\tvalid_0's multi_error: 0.552287\tvalid_0's multi_logloss: 1.43818\tvalid_1's multi_error: 0.575666\tvalid_1's multi_logloss: 1.51279\n",
      "[348]\tvalid_0's multi_error: 0.552232\tvalid_0's multi_logloss: 1.43803\tvalid_1's multi_error: 0.575477\tvalid_1's multi_logloss: 1.51277\n",
      "[349]\tvalid_0's multi_error: 0.552173\tvalid_0's multi_logloss: 1.43788\tvalid_1's multi_error: 0.575556\tvalid_1's multi_logloss: 1.51277\n",
      "[350]\tvalid_0's multi_error: 0.552118\tvalid_0's multi_logloss: 1.43773\tvalid_1's multi_error: 0.575493\tvalid_1's multi_logloss: 1.51274\n",
      "[351]\tvalid_0's multi_error: 0.552079\tvalid_0's multi_logloss: 1.43755\tvalid_1's multi_error: 0.575493\tvalid_1's multi_logloss: 1.51275\n",
      "[352]\tvalid_0's multi_error: 0.552071\tvalid_0's multi_logloss: 1.43737\tvalid_1's multi_error: 0.57554\tvalid_1's multi_logloss: 1.51271\n",
      "[353]\tvalid_0's multi_error: 0.552008\tvalid_0's multi_logloss: 1.43721\tvalid_1's multi_error: 0.575477\tvalid_1's multi_logloss: 1.51268\n",
      "[354]\tvalid_0's multi_error: 0.552039\tvalid_0's multi_logloss: 1.43707\tvalid_1's multi_error: 0.575446\tvalid_1's multi_logloss: 1.51268\n",
      "[355]\tvalid_0's multi_error: 0.551914\tvalid_0's multi_logloss: 1.43693\tvalid_1's multi_error: 0.575399\tvalid_1's multi_logloss: 1.51268\n",
      "[356]\tvalid_0's multi_error: 0.551933\tvalid_0's multi_logloss: 1.43677\tvalid_1's multi_error: 0.575415\tvalid_1's multi_logloss: 1.51267\n",
      "[357]\tvalid_0's multi_error: 0.551898\tvalid_0's multi_logloss: 1.43664\tvalid_1's multi_error: 0.575383\tvalid_1's multi_logloss: 1.51266\n",
      "[358]\tvalid_0's multi_error: 0.551772\tvalid_0's multi_logloss: 1.43648\tvalid_1's multi_error: 0.57543\tvalid_1's multi_logloss: 1.51265\n",
      "[359]\tvalid_0's multi_error: 0.55169\tvalid_0's multi_logloss: 1.43634\tvalid_1's multi_error: 0.575446\tvalid_1's multi_logloss: 1.51265\n",
      "[360]\tvalid_0's multi_error: 0.551682\tvalid_0's multi_logloss: 1.4362\tvalid_1's multi_error: 0.575367\tvalid_1's multi_logloss: 1.51264\n",
      "[361]\tvalid_0's multi_error: 0.551639\tvalid_0's multi_logloss: 1.43604\tvalid_1's multi_error: 0.575399\tvalid_1's multi_logloss: 1.51265\n",
      "[362]\tvalid_0's multi_error: 0.551549\tvalid_0's multi_logloss: 1.4359\tvalid_1's multi_error: 0.57532\tvalid_1's multi_logloss: 1.51264\n",
      "[363]\tvalid_0's multi_error: 0.551537\tvalid_0's multi_logloss: 1.43577\tvalid_1's multi_error: 0.575383\tvalid_1's multi_logloss: 1.51262\n",
      "[364]\tvalid_0's multi_error: 0.551435\tvalid_0's multi_logloss: 1.43563\tvalid_1's multi_error: 0.575415\tvalid_1's multi_logloss: 1.51261\n",
      "[365]\tvalid_0's multi_error: 0.551474\tvalid_0's multi_logloss: 1.4355\tvalid_1's multi_error: 0.57543\tvalid_1's multi_logloss: 1.5126\n",
      "[366]\tvalid_0's multi_error: 0.551415\tvalid_0's multi_logloss: 1.43536\tvalid_1's multi_error: 0.575399\tvalid_1's multi_logloss: 1.5126\n",
      "[367]\tvalid_0's multi_error: 0.551329\tvalid_0's multi_logloss: 1.4352\tvalid_1's multi_error: 0.57543\tvalid_1's multi_logloss: 1.51258\n",
      "[368]\tvalid_0's multi_error: 0.551337\tvalid_0's multi_logloss: 1.43505\tvalid_1's multi_error: 0.575383\tvalid_1's multi_logloss: 1.51255\n",
      "[369]\tvalid_0's multi_error: 0.551215\tvalid_0's multi_logloss: 1.4349\tvalid_1's multi_error: 0.575273\tvalid_1's multi_logloss: 1.51251\n",
      "[370]\tvalid_0's multi_error: 0.551168\tvalid_0's multi_logloss: 1.43475\tvalid_1's multi_error: 0.57532\tvalid_1's multi_logloss: 1.5125\n",
      "[371]\tvalid_0's multi_error: 0.551078\tvalid_0's multi_logloss: 1.43459\tvalid_1's multi_error: 0.575399\tvalid_1's multi_logloss: 1.51249\n",
      "[372]\tvalid_0's multi_error: 0.551046\tvalid_0's multi_logloss: 1.43445\tvalid_1's multi_error: 0.575352\tvalid_1's multi_logloss: 1.51248\n",
      "[373]\tvalid_0's multi_error: 0.551023\tvalid_0's multi_logloss: 1.43431\tvalid_1's multi_error: 0.575305\tvalid_1's multi_logloss: 1.51247\n",
      "[374]\tvalid_0's multi_error: 0.550948\tvalid_0's multi_logloss: 1.43415\tvalid_1's multi_error: 0.575367\tvalid_1's multi_logloss: 1.51246\n",
      "[375]\tvalid_0's multi_error: 0.550964\tvalid_0's multi_logloss: 1.43402\tvalid_1's multi_error: 0.575383\tvalid_1's multi_logloss: 1.51244\n",
      "[376]\tvalid_0's multi_error: 0.550917\tvalid_0's multi_logloss: 1.43388\tvalid_1's multi_error: 0.575336\tvalid_1's multi_logloss: 1.51244\n",
      "[377]\tvalid_0's multi_error: 0.550913\tvalid_0's multi_logloss: 1.43375\tvalid_1's multi_error: 0.575399\tvalid_1's multi_logloss: 1.51244\n",
      "[378]\tvalid_0's multi_error: 0.550873\tvalid_0's multi_logloss: 1.43359\tvalid_1's multi_error: 0.57543\tvalid_1's multi_logloss: 1.51243\n",
      "[379]\tvalid_0's multi_error: 0.550795\tvalid_0's multi_logloss: 1.43347\tvalid_1's multi_error: 0.575352\tvalid_1's multi_logloss: 1.51243\n",
      "[380]\tvalid_0's multi_error: 0.550779\tvalid_0's multi_logloss: 1.43333\tvalid_1's multi_error: 0.575367\tvalid_1's multi_logloss: 1.51242\n",
      "[381]\tvalid_0's multi_error: 0.550791\tvalid_0's multi_logloss: 1.4332\tvalid_1's multi_error: 0.575446\tvalid_1's multi_logloss: 1.51241\n",
      "[382]\tvalid_0's multi_error: 0.550728\tvalid_0's multi_logloss: 1.43306\tvalid_1's multi_error: 0.575587\tvalid_1's multi_logloss: 1.51241\n",
      "[383]\tvalid_0's multi_error: 0.550665\tvalid_0's multi_logloss: 1.43291\tvalid_1's multi_error: 0.575587\tvalid_1's multi_logloss: 1.51241\n",
      "[384]\tvalid_0's multi_error: 0.550599\tvalid_0's multi_logloss: 1.43278\tvalid_1's multi_error: 0.575524\tvalid_1's multi_logloss: 1.51239\n",
      "[385]\tvalid_0's multi_error: 0.550559\tvalid_0's multi_logloss: 1.43264\tvalid_1's multi_error: 0.575446\tvalid_1's multi_logloss: 1.51237\n",
      "[386]\tvalid_0's multi_error: 0.550469\tvalid_0's multi_logloss: 1.43251\tvalid_1's multi_error: 0.575415\tvalid_1's multi_logloss: 1.51237\n",
      "[387]\tvalid_0's multi_error: 0.550371\tvalid_0's multi_logloss: 1.43238\tvalid_1's multi_error: 0.575383\tvalid_1's multi_logloss: 1.51238\n",
      "[388]\tvalid_0's multi_error: 0.550328\tvalid_0's multi_logloss: 1.43224\tvalid_1's multi_error: 0.57543\tvalid_1's multi_logloss: 1.51237\n",
      "[389]\tvalid_0's multi_error: 0.550273\tvalid_0's multi_logloss: 1.43209\tvalid_1's multi_error: 0.575446\tvalid_1's multi_logloss: 1.51236\n",
      "[390]\tvalid_0's multi_error: 0.550234\tvalid_0's multi_logloss: 1.43197\tvalid_1's multi_error: 0.575415\tvalid_1's multi_logloss: 1.51237\n",
      "[391]\tvalid_0's multi_error: 0.550124\tvalid_0's multi_logloss: 1.43181\tvalid_1's multi_error: 0.575446\tvalid_1's multi_logloss: 1.51236\n",
      "[392]\tvalid_0's multi_error: 0.550049\tvalid_0's multi_logloss: 1.43169\tvalid_1's multi_error: 0.575415\tvalid_1's multi_logloss: 1.51237\n",
      "[393]\tvalid_0's multi_error: 0.549971\tvalid_0's multi_logloss: 1.43155\tvalid_1's multi_error: 0.57543\tvalid_1's multi_logloss: 1.51236\n",
      "[394]\tvalid_0's multi_error: 0.549994\tvalid_0's multi_logloss: 1.4314\tvalid_1's multi_error: 0.575399\tvalid_1's multi_logloss: 1.51236\n",
      "[395]\tvalid_0's multi_error: 0.549916\tvalid_0's multi_logloss: 1.43126\tvalid_1's multi_error: 0.575336\tvalid_1's multi_logloss: 1.51235\n",
      "[396]\tvalid_0's multi_error: 0.549892\tvalid_0's multi_logloss: 1.43113\tvalid_1's multi_error: 0.57532\tvalid_1's multi_logloss: 1.51236\n",
      "[397]\tvalid_0's multi_error: 0.549833\tvalid_0's multi_logloss: 1.43099\tvalid_1's multi_error: 0.575415\tvalid_1's multi_logloss: 1.51236\n",
      "[398]\tvalid_0's multi_error: 0.549821\tvalid_0's multi_logloss: 1.43085\tvalid_1's multi_error: 0.575383\tvalid_1's multi_logloss: 1.51235\n",
      "[399]\tvalid_0's multi_error: 0.549727\tvalid_0's multi_logloss: 1.4307\tvalid_1's multi_error: 0.575383\tvalid_1's multi_logloss: 1.51234\n",
      "[400]\tvalid_0's multi_error: 0.549629\tvalid_0's multi_logloss: 1.43056\tvalid_1's multi_error: 0.575509\tvalid_1's multi_logloss: 1.51233\n",
      "[401]\tvalid_0's multi_error: 0.549602\tvalid_0's multi_logloss: 1.43043\tvalid_1's multi_error: 0.575462\tvalid_1's multi_logloss: 1.51233\n",
      "[402]\tvalid_0's multi_error: 0.549507\tvalid_0's multi_logloss: 1.43028\tvalid_1's multi_error: 0.575462\tvalid_1's multi_logloss: 1.51232\n",
      "[403]\tvalid_0's multi_error: 0.54948\tvalid_0's multi_logloss: 1.43016\tvalid_1's multi_error: 0.57543\tvalid_1's multi_logloss: 1.5123\n",
      "[404]\tvalid_0's multi_error: 0.549476\tvalid_0's multi_logloss: 1.43003\tvalid_1's multi_error: 0.575383\tvalid_1's multi_logloss: 1.51231\n",
      "[405]\tvalid_0's multi_error: 0.549476\tvalid_0's multi_logloss: 1.42989\tvalid_1's multi_error: 0.575462\tvalid_1's multi_logloss: 1.5123\n",
      "[406]\tvalid_0's multi_error: 0.549425\tvalid_0's multi_logloss: 1.42975\tvalid_1's multi_error: 0.57543\tvalid_1's multi_logloss: 1.51228\n",
      "[407]\tvalid_0's multi_error: 0.549405\tvalid_0's multi_logloss: 1.42962\tvalid_1's multi_error: 0.575415\tvalid_1's multi_logloss: 1.51229\n",
      "[408]\tvalid_0's multi_error: 0.549331\tvalid_0's multi_logloss: 1.42948\tvalid_1's multi_error: 0.575336\tvalid_1's multi_logloss: 1.51227\n",
      "[409]\tvalid_0's multi_error: 0.549252\tvalid_0's multi_logloss: 1.42933\tvalid_1's multi_error: 0.575367\tvalid_1's multi_logloss: 1.51226\n",
      "[410]\tvalid_0's multi_error: 0.549197\tvalid_0's multi_logloss: 1.4292\tvalid_1's multi_error: 0.575289\tvalid_1's multi_logloss: 1.51226\n",
      "[411]\tvalid_0's multi_error: 0.549229\tvalid_0's multi_logloss: 1.42908\tvalid_1's multi_error: 0.575305\tvalid_1's multi_logloss: 1.51226\n",
      "[412]\tvalid_0's multi_error: 0.549189\tvalid_0's multi_logloss: 1.42895\tvalid_1's multi_error: 0.575273\tvalid_1's multi_logloss: 1.51227\n",
      "[413]\tvalid_0's multi_error: 0.549107\tvalid_0's multi_logloss: 1.42882\tvalid_1's multi_error: 0.575258\tvalid_1's multi_logloss: 1.51225\n",
      "[414]\tvalid_0's multi_error: 0.549083\tvalid_0's multi_logloss: 1.42868\tvalid_1's multi_error: 0.575226\tvalid_1's multi_logloss: 1.51224\n",
      "[415]\tvalid_0's multi_error: 0.549025\tvalid_0's multi_logloss: 1.42855\tvalid_1's multi_error: 0.575148\tvalid_1's multi_logloss: 1.51224\n",
      "[416]\tvalid_0's multi_error: 0.548985\tvalid_0's multi_logloss: 1.42844\tvalid_1's multi_error: 0.575195\tvalid_1's multi_logloss: 1.51224\n",
      "[417]\tvalid_0's multi_error: 0.548883\tvalid_0's multi_logloss: 1.42829\tvalid_1's multi_error: 0.575132\tvalid_1's multi_logloss: 1.51223\n",
      "[418]\tvalid_0's multi_error: 0.548805\tvalid_0's multi_logloss: 1.42815\tvalid_1's multi_error: 0.575163\tvalid_1's multi_logloss: 1.51223\n",
      "[419]\tvalid_0's multi_error: 0.548769\tvalid_0's multi_logloss: 1.42803\tvalid_1's multi_error: 0.575148\tvalid_1's multi_logloss: 1.51223\n",
      "[420]\tvalid_0's multi_error: 0.548628\tvalid_0's multi_logloss: 1.4279\tvalid_1's multi_error: 0.575132\tvalid_1's multi_logloss: 1.51223\n",
      "[421]\tvalid_0's multi_error: 0.548597\tvalid_0's multi_logloss: 1.42776\tvalid_1's multi_error: 0.575148\tvalid_1's multi_logloss: 1.51222\n",
      "[422]\tvalid_0's multi_error: 0.548546\tvalid_0's multi_logloss: 1.42762\tvalid_1's multi_error: 0.575069\tvalid_1's multi_logloss: 1.51222\n",
      "[423]\tvalid_0's multi_error: 0.54851\tvalid_0's multi_logloss: 1.42748\tvalid_1's multi_error: 0.575132\tvalid_1's multi_logloss: 1.51223\n",
      "[424]\tvalid_0's multi_error: 0.548514\tvalid_0's multi_logloss: 1.42736\tvalid_1's multi_error: 0.575069\tvalid_1's multi_logloss: 1.51224\n",
      "[425]\tvalid_0's multi_error: 0.548475\tvalid_0's multi_logloss: 1.42724\tvalid_1's multi_error: 0.575148\tvalid_1's multi_logloss: 1.51223\n",
      "[426]\tvalid_0's multi_error: 0.548361\tvalid_0's multi_logloss: 1.4271\tvalid_1's multi_error: 0.575053\tvalid_1's multi_logloss: 1.5122\n",
      "[427]\tvalid_0's multi_error: 0.548338\tvalid_0's multi_logloss: 1.42695\tvalid_1's multi_error: 0.575038\tvalid_1's multi_logloss: 1.51219\n",
      "[428]\tvalid_0's multi_error: 0.548283\tvalid_0's multi_logloss: 1.42683\tvalid_1's multi_error: 0.575132\tvalid_1's multi_logloss: 1.51218\n",
      "[429]\tvalid_0's multi_error: 0.548208\tvalid_0's multi_logloss: 1.42673\tvalid_1's multi_error: 0.575195\tvalid_1's multi_logloss: 1.51219\n",
      "[430]\tvalid_0's multi_error: 0.54822\tvalid_0's multi_logloss: 1.4266\tvalid_1's multi_error: 0.575289\tvalid_1's multi_logloss: 1.51218\n",
      "[431]\tvalid_0's multi_error: 0.548157\tvalid_0's multi_logloss: 1.42647\tvalid_1's multi_error: 0.575289\tvalid_1's multi_logloss: 1.51217\n",
      "[432]\tvalid_0's multi_error: 0.54809\tvalid_0's multi_logloss: 1.42635\tvalid_1's multi_error: 0.57532\tvalid_1's multi_logloss: 1.51215\n",
      "[433]\tvalid_0's multi_error: 0.548004\tvalid_0's multi_logloss: 1.42621\tvalid_1's multi_error: 0.575195\tvalid_1's multi_logloss: 1.51215\n",
      "[434]\tvalid_0's multi_error: 0.547949\tvalid_0's multi_logloss: 1.42606\tvalid_1's multi_error: 0.575132\tvalid_1's multi_logloss: 1.51213\n",
      "[435]\tvalid_0's multi_error: 0.547973\tvalid_0's multi_logloss: 1.42594\tvalid_1's multi_error: 0.575163\tvalid_1's multi_logloss: 1.51212\n",
      "[436]\tvalid_0's multi_error: 0.547914\tvalid_0's multi_logloss: 1.42581\tvalid_1's multi_error: 0.575053\tvalid_1's multi_logloss: 1.5121\n",
      "[437]\tvalid_0's multi_error: 0.547843\tvalid_0's multi_logloss: 1.42566\tvalid_1's multi_error: 0.575148\tvalid_1's multi_logloss: 1.5121\n",
      "[438]\tvalid_0's multi_error: 0.547788\tvalid_0's multi_logloss: 1.42552\tvalid_1's multi_error: 0.575179\tvalid_1's multi_logloss: 1.51209\n",
      "[439]\tvalid_0's multi_error: 0.547729\tvalid_0's multi_logloss: 1.42539\tvalid_1's multi_error: 0.575132\tvalid_1's multi_logloss: 1.51207\n",
      "[440]\tvalid_0's multi_error: 0.547619\tvalid_0's multi_logloss: 1.42526\tvalid_1's multi_error: 0.575289\tvalid_1's multi_logloss: 1.51205\n",
      "[441]\tvalid_0's multi_error: 0.547553\tvalid_0's multi_logloss: 1.42512\tvalid_1's multi_error: 0.575226\tvalid_1's multi_logloss: 1.51204\n",
      "[442]\tvalid_0's multi_error: 0.547517\tvalid_0's multi_logloss: 1.425\tvalid_1's multi_error: 0.575148\tvalid_1's multi_logloss: 1.51204\n",
      "[443]\tvalid_0's multi_error: 0.547435\tvalid_0's multi_logloss: 1.42487\tvalid_1's multi_error: 0.575352\tvalid_1's multi_logloss: 1.51203\n",
      "[444]\tvalid_0's multi_error: 0.547458\tvalid_0's multi_logloss: 1.42474\tvalid_1's multi_error: 0.575289\tvalid_1's multi_logloss: 1.51202\n",
      "[445]\tvalid_0's multi_error: 0.547372\tvalid_0's multi_logloss: 1.4246\tvalid_1's multi_error: 0.575116\tvalid_1's multi_logloss: 1.512\n",
      "[446]\tvalid_0's multi_error: 0.547333\tvalid_0's multi_logloss: 1.42447\tvalid_1's multi_error: 0.575148\tvalid_1's multi_logloss: 1.512\n",
      "[447]\tvalid_0's multi_error: 0.547289\tvalid_0's multi_logloss: 1.42435\tvalid_1's multi_error: 0.575069\tvalid_1's multi_logloss: 1.51198\n",
      "[448]\tvalid_0's multi_error: 0.547301\tvalid_0's multi_logloss: 1.42421\tvalid_1's multi_error: 0.575132\tvalid_1's multi_logloss: 1.51198\n",
      "[449]\tvalid_0's multi_error: 0.547187\tvalid_0's multi_logloss: 1.42406\tvalid_1's multi_error: 0.575132\tvalid_1's multi_logloss: 1.51197\n",
      "[450]\tvalid_0's multi_error: 0.547144\tvalid_0's multi_logloss: 1.42395\tvalid_1's multi_error: 0.575163\tvalid_1's multi_logloss: 1.51197\n",
      "[451]\tvalid_0's multi_error: 0.547042\tvalid_0's multi_logloss: 1.42381\tvalid_1's multi_error: 0.575069\tvalid_1's multi_logloss: 1.51198\n",
      "[452]\tvalid_0's multi_error: 0.546921\tvalid_0's multi_logloss: 1.42367\tvalid_1's multi_error: 0.574943\tvalid_1's multi_logloss: 1.51196\n",
      "[453]\tvalid_0's multi_error: 0.546815\tvalid_0's multi_logloss: 1.42354\tvalid_1's multi_error: 0.574849\tvalid_1's multi_logloss: 1.51195\n",
      "[454]\tvalid_0's multi_error: 0.546732\tvalid_0's multi_logloss: 1.4234\tvalid_1's multi_error: 0.574771\tvalid_1's multi_logloss: 1.51194\n",
      "[455]\tvalid_0's multi_error: 0.546689\tvalid_0's multi_logloss: 1.42328\tvalid_1's multi_error: 0.574739\tvalid_1's multi_logloss: 1.51193\n",
      "[456]\tvalid_0's multi_error: 0.546575\tvalid_0's multi_logloss: 1.42314\tvalid_1's multi_error: 0.574692\tvalid_1's multi_logloss: 1.51192\n",
      "[457]\tvalid_0's multi_error: 0.546524\tvalid_0's multi_logloss: 1.42302\tvalid_1's multi_error: 0.574692\tvalid_1's multi_logloss: 1.51193\n",
      "[458]\tvalid_0's multi_error: 0.546524\tvalid_0's multi_logloss: 1.42288\tvalid_1's multi_error: 0.574802\tvalid_1's multi_logloss: 1.51192\n",
      "[459]\tvalid_0's multi_error: 0.54652\tvalid_0's multi_logloss: 1.42276\tvalid_1's multi_error: 0.574724\tvalid_1's multi_logloss: 1.51193\n",
      "[460]\tvalid_0's multi_error: 0.546497\tvalid_0's multi_logloss: 1.42262\tvalid_1's multi_error: 0.574771\tvalid_1's multi_logloss: 1.51193\n",
      "[461]\tvalid_0's multi_error: 0.546536\tvalid_0's multi_logloss: 1.42248\tvalid_1's multi_error: 0.574771\tvalid_1's multi_logloss: 1.5119\n",
      "[462]\tvalid_0's multi_error: 0.546359\tvalid_0's multi_logloss: 1.42235\tvalid_1's multi_error: 0.574849\tvalid_1's multi_logloss: 1.5119\n",
      "[463]\tvalid_0's multi_error: 0.546328\tvalid_0's multi_logloss: 1.42223\tvalid_1's multi_error: 0.574865\tvalid_1's multi_logloss: 1.51189\n",
      "[464]\tvalid_0's multi_error: 0.546289\tvalid_0's multi_logloss: 1.4221\tvalid_1's multi_error: 0.574755\tvalid_1's multi_logloss: 1.51188\n",
      "[465]\tvalid_0's multi_error: 0.546234\tvalid_0's multi_logloss: 1.42195\tvalid_1's multi_error: 0.574802\tvalid_1's multi_logloss: 1.51188\n",
      "[466]\tvalid_0's multi_error: 0.546183\tvalid_0's multi_logloss: 1.42182\tvalid_1's multi_error: 0.574865\tvalid_1's multi_logloss: 1.51188\n",
      "[467]\tvalid_0's multi_error: 0.5461\tvalid_0's multi_logloss: 1.42169\tvalid_1's multi_error: 0.574834\tvalid_1's multi_logloss: 1.51187\n",
      "[468]\tvalid_0's multi_error: 0.545974\tvalid_0's multi_logloss: 1.42156\tvalid_1's multi_error: 0.574896\tvalid_1's multi_logloss: 1.51186\n",
      "[469]\tvalid_0's multi_error: 0.545939\tvalid_0's multi_logloss: 1.42144\tvalid_1's multi_error: 0.574928\tvalid_1's multi_logloss: 1.51186\n",
      "[470]\tvalid_0's multi_error: 0.545849\tvalid_0's multi_logloss: 1.42128\tvalid_1's multi_error: 0.574849\tvalid_1's multi_logloss: 1.51185\n",
      "[471]\tvalid_0's multi_error: 0.545747\tvalid_0's multi_logloss: 1.42114\tvalid_1's multi_error: 0.574928\tvalid_1's multi_logloss: 1.51185\n",
      "[472]\tvalid_0's multi_error: 0.545692\tvalid_0's multi_logloss: 1.42101\tvalid_1's multi_error: 0.574896\tvalid_1's multi_logloss: 1.51183\n",
      "[473]\tvalid_0's multi_error: 0.545664\tvalid_0's multi_logloss: 1.42088\tvalid_1's multi_error: 0.574865\tvalid_1's multi_logloss: 1.51183\n",
      "[474]\tvalid_0's multi_error: 0.545602\tvalid_0's multi_logloss: 1.42076\tvalid_1's multi_error: 0.574881\tvalid_1's multi_logloss: 1.51183\n",
      "[475]\tvalid_0's multi_error: 0.545574\tvalid_0's multi_logloss: 1.42065\tvalid_1's multi_error: 0.574849\tvalid_1's multi_logloss: 1.51182\n",
      "[476]\tvalid_0's multi_error: 0.545472\tvalid_0's multi_logloss: 1.42051\tvalid_1's multi_error: 0.574802\tvalid_1's multi_logloss: 1.51183\n",
      "[477]\tvalid_0's multi_error: 0.545484\tvalid_0's multi_logloss: 1.42038\tvalid_1's multi_error: 0.574849\tvalid_1's multi_logloss: 1.51183\n",
      "[478]\tvalid_0's multi_error: 0.545448\tvalid_0's multi_logloss: 1.42027\tvalid_1's multi_error: 0.574834\tvalid_1's multi_logloss: 1.51182\n",
      "[479]\tvalid_0's multi_error: 0.545378\tvalid_0's multi_logloss: 1.42015\tvalid_1's multi_error: 0.574865\tvalid_1's multi_logloss: 1.51183\n",
      "[480]\tvalid_0's multi_error: 0.545319\tvalid_0's multi_logloss: 1.42002\tvalid_1's multi_error: 0.574755\tvalid_1's multi_logloss: 1.51181\n",
      "[481]\tvalid_0's multi_error: 0.545272\tvalid_0's multi_logloss: 1.41991\tvalid_1's multi_error: 0.574818\tvalid_1's multi_logloss: 1.51181\n",
      "[482]\tvalid_0's multi_error: 0.545205\tvalid_0's multi_logloss: 1.41979\tvalid_1's multi_error: 0.574849\tvalid_1's multi_logloss: 1.5118\n",
      "[483]\tvalid_0's multi_error: 0.545182\tvalid_0's multi_logloss: 1.41963\tvalid_1's multi_error: 0.574755\tvalid_1's multi_logloss: 1.51176\n",
      "[484]\tvalid_0's multi_error: 0.545134\tvalid_0's multi_logloss: 1.4195\tvalid_1's multi_error: 0.574849\tvalid_1's multi_logloss: 1.51177\n",
      "[485]\tvalid_0's multi_error: 0.545127\tvalid_0's multi_logloss: 1.41939\tvalid_1's multi_error: 0.574818\tvalid_1's multi_logloss: 1.51178\n",
      "[486]\tvalid_0's multi_error: 0.545095\tvalid_0's multi_logloss: 1.41929\tvalid_1's multi_error: 0.574912\tvalid_1's multi_logloss: 1.51177\n",
      "[487]\tvalid_0's multi_error: 0.545052\tvalid_0's multi_logloss: 1.41917\tvalid_1's multi_error: 0.574881\tvalid_1's multi_logloss: 1.51176\n",
      "[488]\tvalid_0's multi_error: 0.54504\tvalid_0's multi_logloss: 1.41904\tvalid_1's multi_error: 0.574849\tvalid_1's multi_logloss: 1.51176\n",
      "[489]\tvalid_0's multi_error: 0.545021\tvalid_0's multi_logloss: 1.41893\tvalid_1's multi_error: 0.574865\tvalid_1's multi_logloss: 1.51176\n",
      "[490]\tvalid_0's multi_error: 0.544954\tvalid_0's multi_logloss: 1.41883\tvalid_1's multi_error: 0.574881\tvalid_1's multi_logloss: 1.51175\n",
      "[491]\tvalid_0's multi_error: 0.544907\tvalid_0's multi_logloss: 1.41871\tvalid_1's multi_error: 0.574912\tvalid_1's multi_logloss: 1.51174\n",
      "[492]\tvalid_0's multi_error: 0.544816\tvalid_0's multi_logloss: 1.41858\tvalid_1's multi_error: 0.574834\tvalid_1's multi_logloss: 1.51173\n",
      "[493]\tvalid_0's multi_error: 0.544765\tvalid_0's multi_logloss: 1.41844\tvalid_1's multi_error: 0.574943\tvalid_1's multi_logloss: 1.51174\n",
      "[494]\tvalid_0's multi_error: 0.544781\tvalid_0's multi_logloss: 1.41832\tvalid_1's multi_error: 0.574818\tvalid_1's multi_logloss: 1.51174\n",
      "[495]\tvalid_0's multi_error: 0.544659\tvalid_0's multi_logloss: 1.41818\tvalid_1's multi_error: 0.574677\tvalid_1's multi_logloss: 1.51174\n",
      "[496]\tvalid_0's multi_error: 0.544659\tvalid_0's multi_logloss: 1.41803\tvalid_1's multi_error: 0.574692\tvalid_1's multi_logloss: 1.51171\n",
      "[497]\tvalid_0's multi_error: 0.544628\tvalid_0's multi_logloss: 1.41791\tvalid_1's multi_error: 0.574645\tvalid_1's multi_logloss: 1.5117\n",
      "[498]\tvalid_0's multi_error: 0.544597\tvalid_0's multi_logloss: 1.41779\tvalid_1's multi_error: 0.574771\tvalid_1's multi_logloss: 1.5117\n",
      "[499]\tvalid_0's multi_error: 0.544573\tvalid_0's multi_logloss: 1.41765\tvalid_1's multi_error: 0.574881\tvalid_1's multi_logloss: 1.51169\n",
      "[500]\tvalid_0's multi_error: 0.544553\tvalid_0's multi_logloss: 1.41751\tvalid_1's multi_error: 0.574991\tvalid_1's multi_logloss: 1.51169\n",
      "Did not meet early stopping. Best iteration is:\n",
      "[500]\tvalid_0's multi_error: 0.544553\tvalid_0's multi_logloss: 1.41751\tvalid_1's multi_error: 0.574991\tvalid_1's multi_logloss: 1.51169\n"
     ]
    }
   ],
   "source": [
    "clf = lgb.LGBMClassifier(**params)\n",
    "\n",
    "clf.fit(df_train[feature_cols], df_train[label_col], \n",
    "       early_stopping_rounds=100, \n",
    "       eval_set=[(df_train[feature_cols], df_train[label_col]), (df_eval[feature_cols], df_eval[label_col])], \n",
    "       eval_metric='multi_error', verbose=True, categorical_feature=cat_cols)\n",
    "\n",
    "eval_score = accuracy_score(df_eval[label_col], clf.predict(df_eval[feature_cols]))\n"
   ]
  },
  {
   "cell_type": "code",
   "execution_count": 209,
   "metadata": {},
   "outputs": [
    {
     "name": "stdout",
     "output_type": "stream",
     "text": [
      "Eval Accuracy :0.4250094209270192\n"
     ]
    }
   ],
   "source": [
    "print('Eval Accuracy :{}'.format(eval_score))"
   ]
  },
  {
   "cell_type": "code",
   "execution_count": 210,
   "metadata": {},
   "outputs": [
    {
     "name": "stdout",
     "output_type": "stream",
     "text": [
      "{'learning_rate': 0.06, 'max_depth': 50, 'n_estimators': 500, 'objective': 'multiclass', 'boosting_type': 'gbdt', 'subsample': 0.8, 'random_state': 500, 'colsample_bytree': 0.7, 'min_data_in_leaf': 55, 'reg_alpha': 1.6, 'reg_lambda': 1.1}\n"
     ]
    }
   ],
   "source": [
    "best_iter = clf.best_iteration_\n",
    "params['n_estimators'] = best_iter\n",
    "print(params)"
   ]
  },
  {
   "cell_type": "code",
   "execution_count": 211,
   "metadata": {},
   "outputs": [
    {
     "data": {
      "text/plain": [
       "500"
      ]
     },
     "execution_count": 211,
     "metadata": {},
     "output_type": "execute_result"
    }
   ],
   "source": [
    "best_iter"
   ]
  },
  {
   "cell_type": "code",
   "execution_count": 212,
   "metadata": {},
   "outputs": [],
   "source": [
    "df_train1 = pd.concat((df_train, df_eval))"
   ]
  },
  {
   "cell_type": "code",
   "execution_count": 213,
   "metadata": {},
   "outputs": [
    {
     "name": "stdout",
     "output_type": "stream",
     "text": [
      "Acc score: 0.45569310195391255\n"
     ]
    }
   ],
   "source": [
    "clf = lgb.LGBMClassifier(**params)\n",
    "clf.fit(df_train1[feature_cols], df_train1[label_col], eval_metric='multi_error', \n",
    "       verbose=True, categorical_feature=cat_cols)\n",
    "\n",
    "eval_Score_Acc = accuracy_score(df_train1[label_col], clf.predict(df_train1[feature_cols]))\n",
    "\n",
    "print('Acc score: {}'.format(eval_Score_Acc))"
   ]
  },
  {
   "cell_type": "code",
   "execution_count": 214,
   "metadata": {},
   "outputs": [],
   "source": [
    "preds = clf.predict(test[feature_cols])"
   ]
  },
  {
   "cell_type": "code",
   "execution_count": 42,
   "metadata": {},
   "outputs": [],
   "source": [
    "import matplotlib.pyplot as plt"
   ]
  },
  {
   "cell_type": "code",
   "execution_count": 215,
   "metadata": {},
   "outputs": [
    {
     "data": {
      "image/png": "[encoded data removed]",
      "text/plain": [
       "<Figure size 864x3600 with 1 Axes>"
      ]
     },
     "metadata": {
      "needs_background": "light"
     },
     "output_type": "display_data"
    }
   ],
   "source": [
    "plt.rcParams['figure.figsize'] = (12,50)\n",
    "lgb.plot_importance(clf)\n",
    "plt.show()"
   ]
  },
  {
   "cell_type": "code",
   "execution_count": 216,
   "metadata": {},
   "outputs": [],
   "source": [
    "preds = le.inverse_transform(preds)"
   ]
  },
  {
   "cell_type": "code",
   "execution_count": 217,
   "metadata": {},
   "outputs": [
    {
     "data": {
      "text/plain": [
       "array(['21-30', '51-60', '21-30', ..., '11-20', '11-20', '51-60'],\n",
       "      dtype=object)"
      ]
     },
     "execution_count": 217,
     "metadata": {},
     "output_type": "execute_result"
    }
   ],
   "source": [
    "preds"
   ]
  },
  {
   "cell_type": "code",
   "execution_count": 46,
   "metadata": {},
   "outputs": [],
   "source": [
    "test1 = pd.read_csv('C:/Users/LENOVO/Downloads/Test_ND2Q3bm/test.csv')"
   ]
  },
  {
   "cell_type": "code",
   "execution_count": 218,
   "metadata": {},
   "outputs": [],
   "source": [
    "sub5 = pd.DataFrame({'case_id':test1.case_id, 'Stay':preds})"
   ]
  },
  {
   "cell_type": "code",
   "execution_count": 219,
   "metadata": {},
   "outputs": [
    {
     "data": {
      "text/html": [
       "<div>\n",
       "<style scoped>\n",
       "    .dataframe tbody tr th:only-of-type {\n",
       "        vertical-align: middle;\n",
       "    }\n",
       "\n",
       "    .dataframe tbody tr th {\n",
       "        vertical-align: top;\n",
       "    }\n",
       "\n",
       "    .dataframe thead th {\n",
       "        text-align: right;\n",
       "    }\n",
       "</style>\n",
       "<table border=\"1\" class=\"dataframe\">\n",
       "  <thead>\n",
       "    <tr style=\"text-align: right;\">\n",
       "      <th></th>\n",
       "      <th>case_id</th>\n",
       "      <th>Stay</th>\n",
       "    </tr>\n",
       "  </thead>\n",
       "  <tbody>\n",
       "    <tr>\n",
       "      <td>0</td>\n",
       "      <td>318439</td>\n",
       "      <td>21-30</td>\n",
       "    </tr>\n",
       "    <tr>\n",
       "      <td>1</td>\n",
       "      <td>318440</td>\n",
       "      <td>51-60</td>\n",
       "    </tr>\n",
       "    <tr>\n",
       "      <td>2</td>\n",
       "      <td>318441</td>\n",
       "      <td>21-30</td>\n",
       "    </tr>\n",
       "    <tr>\n",
       "      <td>3</td>\n",
       "      <td>318442</td>\n",
       "      <td>21-30</td>\n",
       "    </tr>\n",
       "    <tr>\n",
       "      <td>4</td>\n",
       "      <td>318443</td>\n",
       "      <td>51-60</td>\n",
       "    </tr>\n",
       "  </tbody>\n",
       "</table>\n",
       "</div>"
      ],
      "text/plain": [
       "   case_id   Stay\n",
       "0   318439  21-30\n",
       "1   318440  51-60\n",
       "2   318441  21-30\n",
       "3   318442  21-30\n",
       "4   318443  51-60"
      ]
     },
     "execution_count": 219,
     "metadata": {},
     "output_type": "execute_result"
    }
   ],
   "source": [
    "sub2.head()"
   ]
  },
  {
   "cell_type": "code",
   "execution_count": 220,
   "metadata": {},
   "outputs": [],
   "source": [
    "sub5.to_csv('sub5.csv', index=False)"
   ]
  },
  {
   "cell_type": "code",
   "execution_count": 124,
   "metadata": {},
   "outputs": [],
   "source": [
    "sub2.to_csv('sub2.csv', index=False)"
   ]
  },
  {
   "cell_type": "code",
   "execution_count": 125,
   "metadata": {},
   "outputs": [],
   "source": [
    "from sklearn.model_selection import RandomizedSearchCV"
   ]
  },
  {
   "cell_type": "code",
   "execution_count": 225,
   "metadata": {},
   "outputs": [
    {
     "data": {
      "text/plain": [
       "{'learning_rate': 0.06,\n",
       " 'max_depth': 50,\n",
       " 'n_estimators': 500,\n",
       " 'objective': 'multiclass',\n",
       " 'boosting_type': 'gbdt',\n",
       " 'subsample': 0.8,\n",
       " 'random_state': 500,\n",
       " 'colsample_bytree': 0.7,\n",
       " 'min_data_in_leaf': 55,\n",
       " 'reg_alpha': 1.6,\n",
       " 'reg_lambda': 1.1}"
      ]
     },
     "execution_count": 225,
     "metadata": {},
     "output_type": "execute_result"
    }
   ],
   "source": [
    "params"
   ]
  },
  {
   "cell_type": "code",
   "execution_count": 233,
   "metadata": {},
   "outputs": [],
   "source": [
    "params1 = params.copy()"
   ]
  },
  {
   "cell_type": "code",
   "execution_count": 235,
   "metadata": {},
   "outputs": [],
   "source": [
    "param_test = {'learning_rate':[0.05,0.06,0.08,0.1], \n",
    "             'max_depth':[30,50,70,100,150], \n",
    "             'n_estimators':[400, 500, 300], \n",
    "             'colsample_bytree':[0.7,0.8,0.9], \n",
    "             'reg_alpha':[1.6, 1.4, 1.8, 2.0], \n",
    "             'reg_lambda':[1.0, 1.1, 1.2, 1.5, 1.8], \n",
    "             'subsample':[0.7, 0.8, 0.9]}\n",
    "\n",
    "gs = RandomizedSearchCV(\n",
    "    estimator=clf1, param_distributions=param_test, \n",
    "    n_iter=100,\n",
    "    scoring='accuracy',\n",
    "    cv=3,\n",
    "    refit=True,\n",
    "    random_state=500,\n",
    "    verbose=True)"
   ]
  },
  {
   "cell_type": "code",
   "execution_count": 234,
   "metadata": {},
   "outputs": [],
   "source": [
    "clf1 = lgb.LGBMClassifier(randon_state=500, metric='multi_error')"
   ]
  },
  {
   "cell_type": "code",
   "execution_count": null,
   "metadata": {},
   "outputs": [],
   "source": []
  },
  {
   "cell_type": "code",
   "execution_count": null,
   "metadata": {},
   "outputs": [],
   "source": []
  },
  {
   "cell_type": "code",
   "execution_count": 236,
   "metadata": {},
   "outputs": [
    {
     "name": "stdout",
     "output_type": "stream",
     "text": [
      "Fitting 3 folds for each of 100 candidates, totalling 300 fits\n"
     ]
    },
    {
     "name": "stderr",
     "output_type": "stream",
     "text": [
      "[Parallel(n_jobs=1)]: Using backend SequentialBackend with 1 concurrent workers.\n"
     ]
    },
    {
     "ename": "TypeError",
     "evalue": "fit() got an unexpected keyword argument 'learning_rate'",
     "output_type": "error",
     "traceback": [
      "\u001b[1;31m---------------------------------------------------------------------------\u001b[0m",
      "\u001b[1;31mTypeError\u001b[0m                                 Traceback (most recent call last)",
      "\u001b[1;32m<ipython-input-236-2182ad7280ed>\u001b[0m in \u001b[0;36m<module>\u001b[1;34m\u001b[0m\n\u001b[1;32m----> 1\u001b[1;33m \u001b[0mgs\u001b[0m\u001b[1;33m.\u001b[0m\u001b[0mfit\u001b[0m\u001b[1;33m(\u001b[0m\u001b[0mdf_train\u001b[0m\u001b[1;33m[\u001b[0m\u001b[0mfeature_cols\u001b[0m\u001b[1;33m]\u001b[0m\u001b[1;33m,\u001b[0m \u001b[0mdf_train\u001b[0m\u001b[1;33m[\u001b[0m\u001b[0mlabel_col\u001b[0m\u001b[1;33m]\u001b[0m\u001b[1;33m,\u001b[0m \u001b[1;33m**\u001b[0m\u001b[0mparams1\u001b[0m\u001b[1;33m)\u001b[0m\u001b[1;33m\u001b[0m\u001b[1;33m\u001b[0m\u001b[0m\n\u001b[0m",
      "\u001b[1;32m~\\Anaconda3\\lib\\site-packages\\sklearn\\model_selection\\_search.py\u001b[0m in \u001b[0;36mfit\u001b[1;34m(self, X, y, groups, **fit_params)\u001b[0m\n\u001b[0;32m    686\u001b[0m                 \u001b[1;32mreturn\u001b[0m \u001b[0mresults\u001b[0m\u001b[1;33m\u001b[0m\u001b[1;33m\u001b[0m\u001b[0m\n\u001b[0;32m    687\u001b[0m \u001b[1;33m\u001b[0m\u001b[0m\n\u001b[1;32m--> 688\u001b[1;33m             \u001b[0mself\u001b[0m\u001b[1;33m.\u001b[0m\u001b[0m_run_search\u001b[0m\u001b[1;33m(\u001b[0m\u001b[0mevaluate_candidates\u001b[0m\u001b[1;33m)\u001b[0m\u001b[1;33m\u001b[0m\u001b[1;33m\u001b[0m\u001b[0m\n\u001b[0m\u001b[0;32m    689\u001b[0m \u001b[1;33m\u001b[0m\u001b[0m\n\u001b[0;32m    690\u001b[0m         \u001b[1;31m# For multi-metric evaluation, store the best_index_, best_params_ and\u001b[0m\u001b[1;33m\u001b[0m\u001b[1;33m\u001b[0m\u001b[1;33m\u001b[0m\u001b[0m\n",
      "\u001b[1;32m~\\Anaconda3\\lib\\site-packages\\sklearn\\model_selection\\_search.py\u001b[0m in \u001b[0;36m_run_search\u001b[1;34m(self, evaluate_candidates)\u001b[0m\n\u001b[0;32m   1467\u001b[0m         evaluate_candidates(ParameterSampler(\n\u001b[0;32m   1468\u001b[0m             \u001b[0mself\u001b[0m\u001b[1;33m.\u001b[0m\u001b[0mparam_distributions\u001b[0m\u001b[1;33m,\u001b[0m \u001b[0mself\u001b[0m\u001b[1;33m.\u001b[0m\u001b[0mn_iter\u001b[0m\u001b[1;33m,\u001b[0m\u001b[1;33m\u001b[0m\u001b[1;33m\u001b[0m\u001b[0m\n\u001b[1;32m-> 1469\u001b[1;33m             random_state=self.random_state))\n\u001b[0m",
      "\u001b[1;32m~\\Anaconda3\\lib\\site-packages\\sklearn\\model_selection\\_search.py\u001b[0m in \u001b[0;36mevaluate_candidates\u001b[1;34m(candidate_params)\u001b[0m\n\u001b[0;32m    665\u001b[0m                                \u001b[1;32mfor\u001b[0m \u001b[0mparameters\u001b[0m\u001b[1;33m,\u001b[0m \u001b[1;33m(\u001b[0m\u001b[0mtrain\u001b[0m\u001b[1;33m,\u001b[0m \u001b[0mtest\u001b[0m\u001b[1;33m)\u001b[0m\u001b[1;33m\u001b[0m\u001b[1;33m\u001b[0m\u001b[0m\n\u001b[0;32m    666\u001b[0m                                in product(candidate_params,\n\u001b[1;32m--> 667\u001b[1;33m                                           cv.split(X, y, groups)))\n\u001b[0m\u001b[0;32m    668\u001b[0m \u001b[1;33m\u001b[0m\u001b[0m\n\u001b[0;32m    669\u001b[0m                 \u001b[1;32mif\u001b[0m \u001b[0mlen\u001b[0m\u001b[1;33m(\u001b[0m\u001b[0mout\u001b[0m\u001b[1;33m)\u001b[0m \u001b[1;33m<\u001b[0m \u001b[1;36m1\u001b[0m\u001b[1;33m:\u001b[0m\u001b[1;33m\u001b[0m\u001b[1;33m\u001b[0m\u001b[0m\n",
      "\u001b[1;32m~\\Anaconda3\\lib\\site-packages\\joblib\\parallel.py\u001b[0m in \u001b[0;36m__call__\u001b[1;34m(self, iterable)\u001b[0m\n\u001b[0;32m    919\u001b[0m             \u001b[1;31m# remaining jobs.\u001b[0m\u001b[1;33m\u001b[0m\u001b[1;33m\u001b[0m\u001b[1;33m\u001b[0m\u001b[0m\n\u001b[0;32m    920\u001b[0m             \u001b[0mself\u001b[0m\u001b[1;33m.\u001b[0m\u001b[0m_iterating\u001b[0m \u001b[1;33m=\u001b[0m \u001b[1;32mFalse\u001b[0m\u001b[1;33m\u001b[0m\u001b[1;33m\u001b[0m\u001b[0m\n\u001b[1;32m--> 921\u001b[1;33m             \u001b[1;32mif\u001b[0m \u001b[0mself\u001b[0m\u001b[1;33m.\u001b[0m\u001b[0mdispatch_one_batch\u001b[0m\u001b[1;33m(\u001b[0m\u001b[0miterator\u001b[0m\u001b[1;33m)\u001b[0m\u001b[1;33m:\u001b[0m\u001b[1;33m\u001b[0m\u001b[1;33m\u001b[0m\u001b[0m\n\u001b[0m\u001b[0;32m    922\u001b[0m                 \u001b[0mself\u001b[0m\u001b[1;33m.\u001b[0m\u001b[0m_iterating\u001b[0m \u001b[1;33m=\u001b[0m \u001b[0mself\u001b[0m\u001b[1;33m.\u001b[0m\u001b[0m_original_iterator\u001b[0m \u001b[1;32mis\u001b[0m \u001b[1;32mnot\u001b[0m \u001b[1;32mNone\u001b[0m\u001b[1;33m\u001b[0m\u001b[1;33m\u001b[0m\u001b[0m\n\u001b[0;32m    923\u001b[0m \u001b[1;33m\u001b[0m\u001b[0m\n",
      "\u001b[1;32m~\\Anaconda3\\lib\\site-packages\\joblib\\parallel.py\u001b[0m in \u001b[0;36mdispatch_one_batch\u001b[1;34m(self, iterator)\u001b[0m\n\u001b[0;32m    757\u001b[0m                 \u001b[1;32mreturn\u001b[0m \u001b[1;32mFalse\u001b[0m\u001b[1;33m\u001b[0m\u001b[1;33m\u001b[0m\u001b[0m\n\u001b[0;32m    758\u001b[0m             \u001b[1;32melse\u001b[0m\u001b[1;33m:\u001b[0m\u001b[1;33m\u001b[0m\u001b[1;33m\u001b[0m\u001b[0m\n\u001b[1;32m--> 759\u001b[1;33m                 \u001b[0mself\u001b[0m\u001b[1;33m.\u001b[0m\u001b[0m_dispatch\u001b[0m\u001b[1;33m(\u001b[0m\u001b[0mtasks\u001b[0m\u001b[1;33m)\u001b[0m\u001b[1;33m\u001b[0m\u001b[1;33m\u001b[0m\u001b[0m\n\u001b[0m\u001b[0;32m    760\u001b[0m                 \u001b[1;32mreturn\u001b[0m \u001b[1;32mTrue\u001b[0m\u001b[1;33m\u001b[0m\u001b[1;33m\u001b[0m\u001b[0m\n\u001b[0;32m    761\u001b[0m \u001b[1;33m\u001b[0m\u001b[0m\n",
      "\u001b[1;32m~\\Anaconda3\\lib\\site-packages\\joblib\\parallel.py\u001b[0m in \u001b[0;36m_dispatch\u001b[1;34m(self, batch)\u001b[0m\n\u001b[0;32m    714\u001b[0m         \u001b[1;32mwith\u001b[0m \u001b[0mself\u001b[0m\u001b[1;33m.\u001b[0m\u001b[0m_lock\u001b[0m\u001b[1;33m:\u001b[0m\u001b[1;33m\u001b[0m\u001b[1;33m\u001b[0m\u001b[0m\n\u001b[0;32m    715\u001b[0m             \u001b[0mjob_idx\u001b[0m \u001b[1;33m=\u001b[0m \u001b[0mlen\u001b[0m\u001b[1;33m(\u001b[0m\u001b[0mself\u001b[0m\u001b[1;33m.\u001b[0m\u001b[0m_jobs\u001b[0m\u001b[1;33m)\u001b[0m\u001b[1;33m\u001b[0m\u001b[1;33m\u001b[0m\u001b[0m\n\u001b[1;32m--> 716\u001b[1;33m             \u001b[0mjob\u001b[0m \u001b[1;33m=\u001b[0m \u001b[0mself\u001b[0m\u001b[1;33m.\u001b[0m\u001b[0m_backend\u001b[0m\u001b[1;33m.\u001b[0m\u001b[0mapply_async\u001b[0m\u001b[1;33m(\u001b[0m\u001b[0mbatch\u001b[0m\u001b[1;33m,\u001b[0m \u001b[0mcallback\u001b[0m\u001b[1;33m=\u001b[0m\u001b[0mcb\u001b[0m\u001b[1;33m)\u001b[0m\u001b[1;33m\u001b[0m\u001b[1;33m\u001b[0m\u001b[0m\n\u001b[0m\u001b[0;32m    717\u001b[0m             \u001b[1;31m# A job can complete so quickly than its callback is\u001b[0m\u001b[1;33m\u001b[0m\u001b[1;33m\u001b[0m\u001b[1;33m\u001b[0m\u001b[0m\n\u001b[0;32m    718\u001b[0m             \u001b[1;31m# called before we get here, causing self._jobs to\u001b[0m\u001b[1;33m\u001b[0m\u001b[1;33m\u001b[0m\u001b[1;33m\u001b[0m\u001b[0m\n",
      "\u001b[1;32m~\\Anaconda3\\lib\\site-packages\\joblib\\_parallel_backends.py\u001b[0m in \u001b[0;36mapply_async\u001b[1;34m(self, func, callback)\u001b[0m\n\u001b[0;32m    180\u001b[0m     \u001b[1;32mdef\u001b[0m \u001b[0mapply_async\u001b[0m\u001b[1;33m(\u001b[0m\u001b[0mself\u001b[0m\u001b[1;33m,\u001b[0m \u001b[0mfunc\u001b[0m\u001b[1;33m,\u001b[0m \u001b[0mcallback\u001b[0m\u001b[1;33m=\u001b[0m\u001b[1;32mNone\u001b[0m\u001b[1;33m)\u001b[0m\u001b[1;33m:\u001b[0m\u001b[1;33m\u001b[0m\u001b[1;33m\u001b[0m\u001b[0m\n\u001b[0;32m    181\u001b[0m         \u001b[1;34m\"\"\"Schedule a func to be run\"\"\"\u001b[0m\u001b[1;33m\u001b[0m\u001b[1;33m\u001b[0m\u001b[0m\n\u001b[1;32m--> 182\u001b[1;33m         \u001b[0mresult\u001b[0m \u001b[1;33m=\u001b[0m \u001b[0mImmediateResult\u001b[0m\u001b[1;33m(\u001b[0m\u001b[0mfunc\u001b[0m\u001b[1;33m)\u001b[0m\u001b[1;33m\u001b[0m\u001b[1;33m\u001b[0m\u001b[0m\n\u001b[0m\u001b[0;32m    183\u001b[0m         \u001b[1;32mif\u001b[0m \u001b[0mcallback\u001b[0m\u001b[1;33m:\u001b[0m\u001b[1;33m\u001b[0m\u001b[1;33m\u001b[0m\u001b[0m\n\u001b[0;32m    184\u001b[0m             \u001b[0mcallback\u001b[0m\u001b[1;33m(\u001b[0m\u001b[0mresult\u001b[0m\u001b[1;33m)\u001b[0m\u001b[1;33m\u001b[0m\u001b[1;33m\u001b[0m\u001b[0m\n",
      "\u001b[1;32m~\\Anaconda3\\lib\\site-packages\\joblib\\_parallel_backends.py\u001b[0m in \u001b[0;36m__init__\u001b[1;34m(self, batch)\u001b[0m\n\u001b[0;32m    547\u001b[0m         \u001b[1;31m# Don't delay the application, to avoid keeping the input\u001b[0m\u001b[1;33m\u001b[0m\u001b[1;33m\u001b[0m\u001b[1;33m\u001b[0m\u001b[0m\n\u001b[0;32m    548\u001b[0m         \u001b[1;31m# arguments in memory\u001b[0m\u001b[1;33m\u001b[0m\u001b[1;33m\u001b[0m\u001b[1;33m\u001b[0m\u001b[0m\n\u001b[1;32m--> 549\u001b[1;33m         \u001b[0mself\u001b[0m\u001b[1;33m.\u001b[0m\u001b[0mresults\u001b[0m \u001b[1;33m=\u001b[0m \u001b[0mbatch\u001b[0m\u001b[1;33m(\u001b[0m\u001b[1;33m)\u001b[0m\u001b[1;33m\u001b[0m\u001b[1;33m\u001b[0m\u001b[0m\n\u001b[0m\u001b[0;32m    550\u001b[0m \u001b[1;33m\u001b[0m\u001b[0m\n\u001b[0;32m    551\u001b[0m     \u001b[1;32mdef\u001b[0m \u001b[0mget\u001b[0m\u001b[1;33m(\u001b[0m\u001b[0mself\u001b[0m\u001b[1;33m)\u001b[0m\u001b[1;33m:\u001b[0m\u001b[1;33m\u001b[0m\u001b[1;33m\u001b[0m\u001b[0m\n",
      "\u001b[1;32m~\\Anaconda3\\lib\\site-packages\\joblib\\parallel.py\u001b[0m in \u001b[0;36m__call__\u001b[1;34m(self)\u001b[0m\n\u001b[0;32m    223\u001b[0m         \u001b[1;32mwith\u001b[0m \u001b[0mparallel_backend\u001b[0m\u001b[1;33m(\u001b[0m\u001b[0mself\u001b[0m\u001b[1;33m.\u001b[0m\u001b[0m_backend\u001b[0m\u001b[1;33m,\u001b[0m \u001b[0mn_jobs\u001b[0m\u001b[1;33m=\u001b[0m\u001b[0mself\u001b[0m\u001b[1;33m.\u001b[0m\u001b[0m_n_jobs\u001b[0m\u001b[1;33m)\u001b[0m\u001b[1;33m:\u001b[0m\u001b[1;33m\u001b[0m\u001b[1;33m\u001b[0m\u001b[0m\n\u001b[0;32m    224\u001b[0m             return [func(*args, **kwargs)\n\u001b[1;32m--> 225\u001b[1;33m                     for func, args, kwargs in self.items]\n\u001b[0m\u001b[0;32m    226\u001b[0m \u001b[1;33m\u001b[0m\u001b[0m\n\u001b[0;32m    227\u001b[0m     \u001b[1;32mdef\u001b[0m \u001b[0m__len__\u001b[0m\u001b[1;33m(\u001b[0m\u001b[0mself\u001b[0m\u001b[1;33m)\u001b[0m\u001b[1;33m:\u001b[0m\u001b[1;33m\u001b[0m\u001b[1;33m\u001b[0m\u001b[0m\n",
      "\u001b[1;32m~\\Anaconda3\\lib\\site-packages\\joblib\\parallel.py\u001b[0m in \u001b[0;36m<listcomp>\u001b[1;34m(.0)\u001b[0m\n\u001b[0;32m    223\u001b[0m         \u001b[1;32mwith\u001b[0m \u001b[0mparallel_backend\u001b[0m\u001b[1;33m(\u001b[0m\u001b[0mself\u001b[0m\u001b[1;33m.\u001b[0m\u001b[0m_backend\u001b[0m\u001b[1;33m,\u001b[0m \u001b[0mn_jobs\u001b[0m\u001b[1;33m=\u001b[0m\u001b[0mself\u001b[0m\u001b[1;33m.\u001b[0m\u001b[0m_n_jobs\u001b[0m\u001b[1;33m)\u001b[0m\u001b[1;33m:\u001b[0m\u001b[1;33m\u001b[0m\u001b[1;33m\u001b[0m\u001b[0m\n\u001b[0;32m    224\u001b[0m             return [func(*args, **kwargs)\n\u001b[1;32m--> 225\u001b[1;33m                     for func, args, kwargs in self.items]\n\u001b[0m\u001b[0;32m    226\u001b[0m \u001b[1;33m\u001b[0m\u001b[0m\n\u001b[0;32m    227\u001b[0m     \u001b[1;32mdef\u001b[0m \u001b[0m__len__\u001b[0m\u001b[1;33m(\u001b[0m\u001b[0mself\u001b[0m\u001b[1;33m)\u001b[0m\u001b[1;33m:\u001b[0m\u001b[1;33m\u001b[0m\u001b[1;33m\u001b[0m\u001b[0m\n",
      "\u001b[1;32m~\\Anaconda3\\lib\\site-packages\\sklearn\\model_selection\\_validation.py\u001b[0m in \u001b[0;36m_fit_and_score\u001b[1;34m(estimator, X, y, scorer, train, test, verbose, parameters, fit_params, return_train_score, return_parameters, return_n_test_samples, return_times, return_estimator, error_score)\u001b[0m\n\u001b[0;32m    514\u001b[0m             \u001b[0mestimator\u001b[0m\u001b[1;33m.\u001b[0m\u001b[0mfit\u001b[0m\u001b[1;33m(\u001b[0m\u001b[0mX_train\u001b[0m\u001b[1;33m,\u001b[0m \u001b[1;33m**\u001b[0m\u001b[0mfit_params\u001b[0m\u001b[1;33m)\u001b[0m\u001b[1;33m\u001b[0m\u001b[1;33m\u001b[0m\u001b[0m\n\u001b[0;32m    515\u001b[0m         \u001b[1;32melse\u001b[0m\u001b[1;33m:\u001b[0m\u001b[1;33m\u001b[0m\u001b[1;33m\u001b[0m\u001b[0m\n\u001b[1;32m--> 516\u001b[1;33m             \u001b[0mestimator\u001b[0m\u001b[1;33m.\u001b[0m\u001b[0mfit\u001b[0m\u001b[1;33m(\u001b[0m\u001b[0mX_train\u001b[0m\u001b[1;33m,\u001b[0m \u001b[0my_train\u001b[0m\u001b[1;33m,\u001b[0m \u001b[1;33m**\u001b[0m\u001b[0mfit_params\u001b[0m\u001b[1;33m)\u001b[0m\u001b[1;33m\u001b[0m\u001b[1;33m\u001b[0m\u001b[0m\n\u001b[0m\u001b[0;32m    517\u001b[0m \u001b[1;33m\u001b[0m\u001b[0m\n\u001b[0;32m    518\u001b[0m     \u001b[1;32mexcept\u001b[0m \u001b[0mException\u001b[0m \u001b[1;32mas\u001b[0m \u001b[0me\u001b[0m\u001b[1;33m:\u001b[0m\u001b[1;33m\u001b[0m\u001b[1;33m\u001b[0m\u001b[0m\n",
      "\u001b[1;31mTypeError\u001b[0m: fit() got an unexpected keyword argument 'learning_rate'"
     ]
    }
   ],
   "source": [
    "gs.fit(df_train[feature_cols], df_train[label_col], **params1)"
   ]
  },
  {
   "cell_type": "code",
   "execution_count": 133,
   "metadata": {},
   "outputs": [],
   "source": [
    "import sklearn.metrics as skm"
   ]
  },
  {
   "cell_type": "code",
   "execution_count": 134,
   "metadata": {},
   "outputs": [
    {
     "data": {
      "text/plain": [
       "dict_keys(['explained_variance', 'r2', 'max_error', 'neg_median_absolute_error', 'neg_mean_absolute_error', 'neg_mean_squared_error', 'neg_mean_squared_log_error', 'accuracy', 'roc_auc', 'balanced_accuracy', 'average_precision', 'neg_log_loss', 'brier_score_loss', 'adjusted_rand_score', 'homogeneity_score', 'completeness_score', 'v_measure_score', 'mutual_info_score', 'adjusted_mutual_info_score', 'normalized_mutual_info_score', 'fowlkes_mallows_score', 'precision', 'precision_macro', 'precision_micro', 'precision_samples', 'precision_weighted', 'recall', 'recall_macro', 'recall_micro', 'recall_samples', 'recall_weighted', 'f1', 'f1_macro', 'f1_micro', 'f1_samples', 'f1_weighted', 'jaccard', 'jaccard_macro', 'jaccard_micro', 'jaccard_samples', 'jaccard_weighted'])"
      ]
     },
     "execution_count": 134,
     "metadata": {},
     "output_type": "execute_result"
    }
   ],
   "source": [
    "skm.SCORERS.keys()"
   ]
  },
  {
   "cell_type": "code",
   "execution_count": 276,
   "metadata": {},
   "outputs": [],
   "source": [
    "data.drop(['patientid'], axis=1, inplace=True)"
   ]
  },
  {
   "cell_type": "code",
   "execution_count": 277,
   "metadata": {},
   "outputs": [],
   "source": [
    "data = data.fillna(0)"
   ]
  },
  {
   "cell_type": "code",
   "execution_count": 278,
   "metadata": {},
   "outputs": [
    {
     "data": {
      "text/plain": [
       "Admission_Deposit                    0\n",
       "Age                                  0\n",
       "Available Extra Rooms in Hospital    0\n",
       "Bed Grade                            0\n",
       "City_Code_Hospital                   0\n",
       "City_Code_Patient                    0\n",
       "Department                           0\n",
       "Hospital_code                        0\n",
       "Hospital_region_code                 0\n",
       "Hospital_type_code                   0\n",
       "Severity of Illness                  0\n",
       "Stay                                 0\n",
       "Type of Admission                    0\n",
       "Visitors with Patient                0\n",
       "Ward_Facility_Code                   0\n",
       "Ward_Type                            0\n",
       "flag                                 0\n",
       "dtype: int64"
      ]
     },
     "execution_count": 278,
     "metadata": {},
     "output_type": "execute_result"
    }
   ],
   "source": [
    "data.apply(lambda x: sum(x.isnull()))"
   ]
  },
  {
   "cell_type": "code",
   "execution_count": 292,
   "metadata": {},
   "outputs": [],
   "source": [
    "train, test = data[data.flag==1], data[data.flag==0]"
   ]
  },
  {
   "cell_type": "code",
   "execution_count": 293,
   "metadata": {},
   "outputs": [],
   "source": [
    "target = train['Stay']"
   ]
  },
  {
   "cell_type": "code",
   "execution_count": 294,
   "metadata": {},
   "outputs": [],
   "source": [
    "train.drop(['Stay'], axis=1, inplace=True)"
   ]
  },
  {
   "cell_type": "code",
   "execution_count": 295,
   "metadata": {},
   "outputs": [
    {
     "data": {
      "text/plain": [
       "Index(['Admission_Deposit', 'Age', 'Available Extra Rooms in Hospital',\n",
       "       'Bed Grade', 'City_Code_Hospital', 'City_Code_Patient', 'Department',\n",
       "       'Hospital_code', 'Hospital_region_code', 'Hospital_type_code',\n",
       "       'Severity of Illness', 'Type of Admission', 'Visitors with Patient',\n",
       "       'Ward_Facility_Code', 'Ward_Type', 'flag'],\n",
       "      dtype='object')"
      ]
     },
     "execution_count": 295,
     "metadata": {},
     "output_type": "execute_result"
    }
   ],
   "source": [
    "train.columns"
   ]
  },
  {
   "cell_type": "code",
   "execution_count": 296,
   "metadata": {},
   "outputs": [],
   "source": [
    "test.drop(['Stay'], axis=1, inplace=True)"
   ]
  },
  {
   "cell_type": "code",
   "execution_count": 291,
   "metadata": {},
   "outputs": [],
   "source": [
    "need_to_encode = ['Hospital_type_code', 'Hospital_region_code', 'Department', 'Ward_Type', 'Ward_Facility_Code', 'Type of Admission', 'Severity of Illness']\n",
    "for column in need_to_encode:\n",
    "    le = LabelEncoder()\n",
    "    le.fit(data[column])\n",
    "    data[column] = le.transform(data[column])"
   ]
  },
  {
   "cell_type": "code",
   "execution_count": 290,
   "metadata": {},
   "outputs": [],
   "source": [
    "data.loc[data['Age'] == '0-10', 'Age'] = 0\n",
    "data.loc[data['Age'] == '11-20', 'Age'] = 1\n",
    "data.loc[data['Age'] == '21-30', 'Age'] = 2\n",
    "data.loc[data['Age'] == '31-40', 'Age'] = 3\n",
    "data.loc[data['Age'] == '41-50', 'Age'] = 4\n",
    "data.loc[data['Age'] == '51-60', 'Age'] = 5\n",
    "data.loc[data['Age'] == '61-70', 'Age'] = 6\n",
    "data.loc[data['Age'] == '71-80', 'Age'] = 7\n",
    "data.loc[data['Age'] == '81-90', 'Age'] = 8\n",
    "data.loc[data['Age'] == '91-100', 'Age'] = 9"
   ]
  },
  {
   "cell_type": "code",
   "execution_count": 289,
   "metadata": {},
   "outputs": [],
   "source": [
    "categorical = ['Hospital_code', 'Hospital_code', 'Hospital_code', 'Hospital_region_code', 'Department', 'Ward_Type', 'Ward_Facility_Code', \n",
    "              'City_Code_Patient', 'Type of Admission', 'Severity of Illness']"
   ]
  },
  {
   "cell_type": "code",
   "execution_count": 297,
   "metadata": {},
   "outputs": [],
   "source": [
    "X, X_val, y, y_val = train_test_split(train, target, random_state=0, test_size=0.2, shuffle=True)\n",
    "y=y.astype('int')\n",
    "y_val=y_val.astype('int')"
   ]
  },
  {
   "cell_type": "code",
   "execution_count": 265,
   "metadata": {},
   "outputs": [
    {
     "data": {
      "text/plain": [
       "pandas.core.frame.DataFrame"
      ]
     },
     "execution_count": 265,
     "metadata": {},
     "output_type": "execute_result"
    }
   ],
   "source": [
    "type(train)"
   ]
  },
  {
   "cell_type": "code",
   "execution_count": 298,
   "metadata": {},
   "outputs": [
    {
     "name": "stdout",
     "output_type": "stream",
     "text": [
      "LGBM accuracy:  42.78042959427208 %\n"
     ]
    }
   ],
   "source": [
    "model = lgb.LGBMClassifier(random_state=666)\n",
    "model.fit(X, y, categorical_feature=categorical)\n",
    "preds = model.predict(X_val)\n",
    "print('LGBM accuracy: ', accuracy_score(y_val, preds)*100, '%')"
   ]
  },
  {
   "cell_type": "code",
   "execution_count": 299,
   "metadata": {},
   "outputs": [],
   "source": [
    "pred1 = model.predict(test)"
   ]
  },
  {
   "cell_type": "code",
   "execution_count": 300,
   "metadata": {},
   "outputs": [
    {
     "ename": "ValueError",
     "evalue": "y contains previously unseen labels: [ 3  4  5  6  7  8  9 10]",
     "output_type": "error",
     "traceback": [
      "\u001b[1;31m---------------------------------------------------------------------------\u001b[0m",
      "\u001b[1;31mValueError\u001b[0m                                Traceback (most recent call last)",
      "\u001b[1;32m<ipython-input-300-02a94ee5a87a>\u001b[0m in \u001b[0;36m<module>\u001b[1;34m\u001b[0m\n\u001b[1;32m----> 1\u001b[1;33m \u001b[0mpred1\u001b[0m \u001b[1;33m=\u001b[0m \u001b[0mle\u001b[0m\u001b[1;33m.\u001b[0m\u001b[0minverse_transform\u001b[0m\u001b[1;33m(\u001b[0m\u001b[0mpred1\u001b[0m\u001b[1;33m)\u001b[0m\u001b[1;33m\u001b[0m\u001b[1;33m\u001b[0m\u001b[0m\n\u001b[0m",
      "\u001b[1;32m~\\Anaconda3\\lib\\site-packages\\sklearn\\preprocessing\\label.py\u001b[0m in \u001b[0;36minverse_transform\u001b[1;34m(self, y)\u001b[0m\n\u001b[0;32m    279\u001b[0m         \u001b[1;32mif\u001b[0m \u001b[0mlen\u001b[0m\u001b[1;33m(\u001b[0m\u001b[0mdiff\u001b[0m\u001b[1;33m)\u001b[0m\u001b[1;33m:\u001b[0m\u001b[1;33m\u001b[0m\u001b[1;33m\u001b[0m\u001b[0m\n\u001b[0;32m    280\u001b[0m             raise ValueError(\n\u001b[1;32m--> 281\u001b[1;33m                     \"y contains previously unseen labels: %s\" % str(diff))\n\u001b[0m\u001b[0;32m    282\u001b[0m         \u001b[0my\u001b[0m \u001b[1;33m=\u001b[0m \u001b[0mnp\u001b[0m\u001b[1;33m.\u001b[0m\u001b[0masarray\u001b[0m\u001b[1;33m(\u001b[0m\u001b[0my\u001b[0m\u001b[1;33m)\u001b[0m\u001b[1;33m\u001b[0m\u001b[1;33m\u001b[0m\u001b[0m\n\u001b[0;32m    283\u001b[0m         \u001b[1;32mreturn\u001b[0m \u001b[0mself\u001b[0m\u001b[1;33m.\u001b[0m\u001b[0mclasses_\u001b[0m\u001b[1;33m[\u001b[0m\u001b[0my\u001b[0m\u001b[1;33m]\u001b[0m\u001b[1;33m\u001b[0m\u001b[1;33m\u001b[0m\u001b[0m\n",
      "\u001b[1;31mValueError\u001b[0m: y contains previously unseen labels: [ 3  4  5  6  7  8  9 10]"
     ]
    }
   ],
   "source": [
    "pred1 = le.inverse_transform(pred1)"
   ]
  },
  {
   "cell_type": "code",
   "execution_count": 302,
   "metadata": {},
   "outputs": [
    {
     "data": {
      "text/plain": [
       "numpy.ndarray"
      ]
     },
     "execution_count": 302,
     "metadata": {},
     "output_type": "execute_result"
    }
   ],
   "source": [
    "type(pred1)"
   ]
  },
  {
   "cell_type": "code",
   "execution_count": 303,
   "metadata": {},
   "outputs": [
    {
     "data": {
      "text/plain": [
       "array([0, 5, 2, 2, 5, 2, 2, 2, 2, 2])"
      ]
     },
     "execution_count": 303,
     "metadata": {},
     "output_type": "execute_result"
    }
   ],
   "source": [
    "pred1[:10]"
   ]
  },
  {
   "cell_type": "code",
   "execution_count": 304,
   "metadata": {},
   "outputs": [
    {
     "data": {
      "text/plain": [
       "0    0\n",
       "1    4\n",
       "2    3\n",
       "3    4\n",
       "4    4\n",
       "Name: Stay, dtype: int64"
      ]
     },
     "execution_count": 304,
     "metadata": {},
     "output_type": "execute_result"
    }
   ],
   "source": [
    "target.head()"
   ]
  },
  {
   "cell_type": "code",
   "execution_count": 305,
   "metadata": {},
   "outputs": [
    {
     "data": {
      "text/plain": [
       "numpy.ndarray"
      ]
     },
     "execution_count": 305,
     "metadata": {},
     "output_type": "execute_result"
    }
   ],
   "source": [
    "type(preds)"
   ]
  },
  {
   "cell_type": "code",
   "execution_count": 306,
   "metadata": {},
   "outputs": [
    {
     "data": {
      "text/plain": [
       "array([1, 2, 2, 1, 2])"
      ]
     },
     "execution_count": 306,
     "metadata": {},
     "output_type": "execute_result"
    }
   ],
   "source": [
    "preds[:5]"
   ]
  },
  {
   "cell_type": "code",
   "execution_count": null,
   "metadata": {},
   "outputs": [],
   "source": []
  }
 ],
 "metadata": {
  "kernelspec": {
   "display_name": "Python 3",
   "language": "python",
   "name": "python3"
  },
  "language_info": {
   "codemirror_mode": {
    "name": "ipython",
    "version": 3
   },
   "file_extension": ".py",
   "mimetype": "text/x-python",
   "name": "python",
   "nbconvert_exporter": "python",
   "pygments_lexer": "ipython3",
   "version": "3.7.4"
  }
 },
 "nbformat": 4,
 "nbformat_minor": 2
}
