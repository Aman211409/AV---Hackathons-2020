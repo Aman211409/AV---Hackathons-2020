{
 "cells": [
  {
   "cell_type": "code",
   "execution_count": 48,
   "metadata": {},
   "outputs": [],
   "source": [
    "import pandas as pd\n",
    "import numpy as np\n",
    "import matplotlib.pyplot as plt\n",
    "import lightgbm as lgb\n",
    "from sklearn.preprocessing import LabelEncoder\n",
    "import warnings\n",
    "warnings.filterwarnings('ignore')"
   ]
  },
  {
   "cell_type": "code",
   "execution_count": 320,
   "metadata": {},
   "outputs": [],
   "source": [
    "train = pd.read_csv('C:/Users/LENOVO/Downloads/Train_hMYJ020/train.csv')\n",
    "test = pd.read_csv('C:/Users/LENOVO/Downloads/Test_ND2Q3bm/test.csv')"
   ]
  },
  {
   "cell_type": "code",
   "execution_count": 312,
   "metadata": {},
   "outputs": [
    {
     "name": "stdout",
     "output_type": "stream",
     "text": [
      "(455495, 19)\n"
     ]
    }
   ],
   "source": [
    "train['flag'] = 1\n",
    "test['flag'] = 0\n",
    "test['Stay'] = None\n",
    "\n",
    "data = pd.concat((train, test))\n",
    "print(data.shape)"
   ]
  },
  {
   "cell_type": "code",
   "execution_count": 241,
   "metadata": {},
   "outputs": [],
   "source": [
    "df1 = data.copy()"
   ]
  },
  {
   "cell_type": "code",
   "execution_count": null,
   "metadata": {},
   "outputs": [],
   "source": [
    "data = df1.copy()"
   ]
  },
  {
   "cell_type": "code",
   "execution_count": 258,
   "metadata": {},
   "outputs": [],
   "source": [
    "df2 = train[['Hospital_code', 'Hospital_type_code', 'Ward_Facility_Code', 'Hospital_region_code', 'Stay']]"
   ]
  },
  {
   "cell_type": "code",
   "execution_count": 259,
   "metadata": {},
   "outputs": [
    {
     "name": "stdout",
     "output_type": "stream",
     "text": [
      "26    33076\n",
      "23    26566\n",
      "19    21219\n",
      "6     20425\n",
      "11    17328\n",
      "14    17328\n",
      "28    17137\n",
      "27    14244\n",
      "9     11510\n",
      "29    11311\n",
      "12    11297\n",
      "32    10703\n",
      "25     9834\n",
      "10     9435\n",
      "15     9257\n",
      "21     8150\n",
      "24     7992\n",
      "3      7116\n",
      "17     5501\n",
      "5      5261\n",
      "1      5249\n",
      "13     5236\n",
      "2      5102\n",
      "30     5002\n",
      "22     4277\n",
      "31     3967\n",
      "16     3671\n",
      "8      3663\n",
      "18     3630\n",
      "20     1405\n",
      "7      1306\n",
      "4      1240\n",
      "Name: Hospital_code, dtype: int64\n",
      "a    143425\n",
      "b     68946\n",
      "c     45928\n",
      "e     24770\n",
      "d     20389\n",
      "f     10703\n",
      "g      4277\n",
      "Name: Hospital_type_code, dtype: int64\n",
      "F    112753\n",
      "E     55351\n",
      "D     51809\n",
      "C     35463\n",
      "B     35156\n",
      "A     27906\n",
      "Name: Ward_Facility_Code, dtype: int64\n",
      "X    133336\n",
      "Y    122428\n",
      "Z     62674\n",
      "Name: Hospital_region_code, dtype: int64\n",
      "21-30                 87491\n",
      "11-20                 78139\n",
      "31-40                 55159\n",
      "51-60                 35018\n",
      "0-10                  23604\n",
      "41-50                 11743\n",
      "71-80                 10254\n",
      "More than 100 Days     6683\n",
      "81-90                  4838\n",
      "91-100                 2765\n",
      "61-70                  2744\n",
      "Name: Stay, dtype: int64\n"
     ]
    }
   ],
   "source": [
    "for col in df2.columns:\n",
    "    print(df2[col].value_counts())"
   ]
  },
  {
   "cell_type": "code",
   "execution_count": 260,
   "metadata": {},
   "outputs": [],
   "source": [
    "col1 = ['Hospital_region_code', 'Ward_Facility_Code', 'Hospital_type_code','Stay']\n",
    "for col in col1:\n",
    "    df2[col] = le.fit_transform(df2[col])"
   ]
  },
  {
   "cell_type": "code",
   "execution_count": 261,
   "metadata": {},
   "outputs": [
    {
     "name": "stdout",
     "output_type": "stream",
     "text": [
      "26    33076\n",
      "23    26566\n",
      "19    21219\n",
      "6     20425\n",
      "11    17328\n",
      "14    17328\n",
      "28    17137\n",
      "27    14244\n",
      "9     11510\n",
      "29    11311\n",
      "12    11297\n",
      "32    10703\n",
      "25     9834\n",
      "10     9435\n",
      "15     9257\n",
      "21     8150\n",
      "24     7992\n",
      "3      7116\n",
      "17     5501\n",
      "5      5261\n",
      "1      5249\n",
      "13     5236\n",
      "2      5102\n",
      "30     5002\n",
      "22     4277\n",
      "31     3967\n",
      "16     3671\n",
      "8      3663\n",
      "18     3630\n",
      "20     1405\n",
      "7      1306\n",
      "4      1240\n",
      "Name: Hospital_code, dtype: int64\n",
      "0    143425\n",
      "1     68946\n",
      "2     45928\n",
      "4     24770\n",
      "3     20389\n",
      "5     10703\n",
      "6      4277\n",
      "Name: Hospital_type_code, dtype: int64\n",
      "5    112753\n",
      "4     55351\n",
      "3     51809\n",
      "2     35463\n",
      "1     35156\n",
      "0     27906\n",
      "Name: Ward_Facility_Code, dtype: int64\n",
      "0    133336\n",
      "1    122428\n",
      "2     62674\n",
      "Name: Hospital_region_code, dtype: int64\n",
      "2     87491\n",
      "1     78139\n",
      "3     55159\n",
      "5     35018\n",
      "0     23604\n",
      "4     11743\n",
      "7     10254\n",
      "10     6683\n",
      "8      4838\n",
      "9      2765\n",
      "6      2744\n",
      "Name: Stay, dtype: int64\n"
     ]
    }
   ],
   "source": [
    "for col in df2.columns:\n",
    "    print(df2[col].value_counts())"
   ]
  },
  {
   "cell_type": "code",
   "execution_count": 262,
   "metadata": {},
   "outputs": [
    {
     "data": {
      "text/html": [
       "<div>\n",
       "<style scoped>\n",
       "    .dataframe tbody tr th:only-of-type {\n",
       "        vertical-align: middle;\n",
       "    }\n",
       "\n",
       "    .dataframe tbody tr th {\n",
       "        vertical-align: top;\n",
       "    }\n",
       "\n",
       "    .dataframe thead th {\n",
       "        text-align: right;\n",
       "    }\n",
       "</style>\n",
       "<table border=\"1\" class=\"dataframe\">\n",
       "  <thead>\n",
       "    <tr style=\"text-align: right;\">\n",
       "      <th></th>\n",
       "      <th>Hospital_code</th>\n",
       "      <th>Hospital_type_code</th>\n",
       "      <th>Ward_Facility_Code</th>\n",
       "      <th>Hospital_region_code</th>\n",
       "      <th>Stay</th>\n",
       "    </tr>\n",
       "  </thead>\n",
       "  <tbody>\n",
       "    <tr>\n",
       "      <td>Hospital_code</td>\n",
       "      <td>1.000000</td>\n",
       "      <td>0.039449</td>\n",
       "      <td>-0.132347</td>\n",
       "      <td>-0.135920</td>\n",
       "      <td>0.042846</td>\n",
       "    </tr>\n",
       "    <tr>\n",
       "      <td>Hospital_type_code</td>\n",
       "      <td>0.039449</td>\n",
       "      <td>1.000000</td>\n",
       "      <td>-0.265768</td>\n",
       "      <td>0.268962</td>\n",
       "      <td>0.058592</td>\n",
       "    </tr>\n",
       "    <tr>\n",
       "      <td>Ward_Facility_Code</td>\n",
       "      <td>-0.132347</td>\n",
       "      <td>-0.265768</td>\n",
       "      <td>1.000000</td>\n",
       "      <td>-0.507350</td>\n",
       "      <td>-0.004552</td>\n",
       "    </tr>\n",
       "    <tr>\n",
       "      <td>Hospital_region_code</td>\n",
       "      <td>-0.135920</td>\n",
       "      <td>0.268962</td>\n",
       "      <td>-0.507350</td>\n",
       "      <td>1.000000</td>\n",
       "      <td>0.011905</td>\n",
       "    </tr>\n",
       "    <tr>\n",
       "      <td>Stay</td>\n",
       "      <td>0.042846</td>\n",
       "      <td>0.058592</td>\n",
       "      <td>-0.004552</td>\n",
       "      <td>0.011905</td>\n",
       "      <td>1.000000</td>\n",
       "    </tr>\n",
       "  </tbody>\n",
       "</table>\n",
       "</div>"
      ],
      "text/plain": [
       "                      Hospital_code  Hospital_type_code  Ward_Facility_Code  \\\n",
       "Hospital_code              1.000000            0.039449           -0.132347   \n",
       "Hospital_type_code         0.039449            1.000000           -0.265768   \n",
       "Ward_Facility_Code        -0.132347           -0.265768            1.000000   \n",
       "Hospital_region_code      -0.135920            0.268962           -0.507350   \n",
       "Stay                       0.042846            0.058592           -0.004552   \n",
       "\n",
       "                      Hospital_region_code      Stay  \n",
       "Hospital_code                    -0.135920  0.042846  \n",
       "Hospital_type_code                0.268962  0.058592  \n",
       "Ward_Facility_Code               -0.507350 -0.004552  \n",
       "Hospital_region_code              1.000000  0.011905  \n",
       "Stay                              0.011905  1.000000  "
      ]
     },
     "execution_count": 262,
     "metadata": {},
     "output_type": "execute_result"
    }
   ],
   "source": [
    "df2.corr()"
   ]
  },
  {
   "cell_type": "code",
   "execution_count": 265,
   "metadata": {},
   "outputs": [
    {
     "data": {
      "text/plain": [
       "<seaborn.axisgrid.PairGrid at 0x25a8311ae08>"
      ]
     },
     "execution_count": 265,
     "metadata": {},
     "output_type": "execute_result"
    },
    {
     "data": {
      "image/png": "[encoded data removed]",
      "text/plain": [
       "<Figure size 900x900 with 30 Axes>"
      ]
     },
     "metadata": {
      "needs_background": "light"
     },
     "output_type": "display_data"
    }
   ],
   "source": [
    "#import seaborn as sns\n",
    "sns.pairplot(df2)"
   ]
  },
  {
   "cell_type": "code",
   "execution_count": 266,
   "metadata": {},
   "outputs": [],
   "source": [
    "from sklearn.feature_selection import chi2, SelectKBest, mutual_info_classif\n",
    "from matplotlib import pyplot"
   ]
  },
  {
   "cell_type": "code",
   "execution_count": 264,
   "metadata": {},
   "outputs": [
    {
     "name": "stdout",
     "output_type": "stream",
     "text": [
      "Feature 0: 2837.293810\n",
      "Feature 1: 2539.508961\n",
      "Feature 2: 464.789493\n",
      "Feature 3: 389.916507\n"
     ]
    },
    {
     "data": {
      "image/png": "[encoded data removed]",
      "text/plain": [
       "<Figure size 432x288 with 1 Axes>"
      ]
     },
     "metadata": {
      "needs_background": "light"
     },
     "output_type": "display_data"
    }
   ],
   "source": [
    "X = df2.iloc[:,:-1]\n",
    "y = df2.iloc[:, -1]\n",
    "\n",
    "X_train, X_test, y_train, y_test = train_test_split(X, y, test_size=0.2, random_state=10)\n",
    "\n",
    "fs = SelectKBest(score_func=chi2, k='all')\n",
    "fs.fit(X_train, y_train)\n",
    "X_train_fs = fs.transform(X_train)\n",
    "X_test_fs = fs.transform(X_test)\n",
    "\n",
    "for i in range(len(fs.scores_)):\n",
    "    print('Feature %d: %f' % (i, fs.scores_[i]))\n",
    "# plot the scores\n",
    "pyplot.bar([i for i in range(len(fs.scores_))], fs.scores_)\n",
    "pyplot.show()"
   ]
  },
  {
   "cell_type": "code",
   "execution_count": 268,
   "metadata": {},
   "outputs": [
    {
     "name": "stdout",
     "output_type": "stream",
     "text": [
      "Feature 0: 0.026291\n",
      "Feature 1: 0.011013\n",
      "Feature 2: 0.014859\n",
      "Feature 3: 0.003955\n"
     ]
    },
    {
     "data": {
      "image/png": "[encoded data removed]",
      "text/plain": [
       "<Figure size 432x288 with 1 Axes>"
      ]
     },
     "metadata": {
      "needs_background": "light"
     },
     "output_type": "display_data"
    }
   ],
   "source": [
    "def select_features(X_train, y_train, X_test):\n",
    "    fs = SelectKBest(score_func=mutual_info_classif, k='all')\n",
    "    fs.fit(X_train, y_train)\n",
    "    X_train_fs = fs.transform(X_train)\n",
    "    X_test_fs = fs.transform(X_test)\n",
    "    return X_train_fs, X_test_fs, fs\n",
    "\n",
    "X_train_fs, X_test_fs, fs = select_features(X_train, y_train, X_test)\n",
    "# what are scores for the features\n",
    "for i in range(len(fs.scores_)):\n",
    "    print('Feature %d: %f' % (i, fs.scores_[i]))\n",
    "# plot the scores\n",
    "pyplot.bar([i for i in range(len(fs.scores_))], fs.scores_)\n",
    "pyplot.show()"
   ]
  },
  {
   "cell_type": "code",
   "execution_count": 221,
   "metadata": {},
   "outputs": [
    {
     "data": {
      "text/html": [
       "<div>\n",
       "<style scoped>\n",
       "    .dataframe tbody tr th:only-of-type {\n",
       "        vertical-align: middle;\n",
       "    }\n",
       "\n",
       "    .dataframe tbody tr th {\n",
       "        vertical-align: top;\n",
       "    }\n",
       "\n",
       "    .dataframe thead th {\n",
       "        text-align: right;\n",
       "    }\n",
       "</style>\n",
       "<table border=\"1\" class=\"dataframe\">\n",
       "  <thead>\n",
       "    <tr style=\"text-align: right;\">\n",
       "      <th></th>\n",
       "      <th>Admission_Deposit</th>\n",
       "      <th>Age</th>\n",
       "      <th>Available Extra Rooms in Hospital</th>\n",
       "      <th>Bed Grade</th>\n",
       "      <th>City_Code_Hospital</th>\n",
       "      <th>City_Code_Patient</th>\n",
       "      <th>Department</th>\n",
       "      <th>Hospital_code</th>\n",
       "      <th>Hospital_region_code</th>\n",
       "      <th>Hospital_type_code</th>\n",
       "      <th>Severity of Illness</th>\n",
       "      <th>Stay</th>\n",
       "      <th>Type of Admission</th>\n",
       "      <th>Visitors with Patient</th>\n",
       "      <th>Ward_Facility_Code</th>\n",
       "      <th>Ward_Type</th>\n",
       "      <th>case_id</th>\n",
       "      <th>flag</th>\n",
       "      <th>patientid</th>\n",
       "    </tr>\n",
       "  </thead>\n",
       "  <tbody>\n",
       "    <tr>\n",
       "      <td>0</td>\n",
       "      <td>4911.0</td>\n",
       "      <td>51-60</td>\n",
       "      <td>3</td>\n",
       "      <td>2.0</td>\n",
       "      <td>3</td>\n",
       "      <td>7.0</td>\n",
       "      <td>radiotherapy</td>\n",
       "      <td>8</td>\n",
       "      <td>Z</td>\n",
       "      <td>c</td>\n",
       "      <td>Extreme</td>\n",
       "      <td>0-10</td>\n",
       "      <td>Emergency</td>\n",
       "      <td>2</td>\n",
       "      <td>F</td>\n",
       "      <td>R</td>\n",
       "      <td>1</td>\n",
       "      <td>1</td>\n",
       "      <td>31397</td>\n",
       "    </tr>\n",
       "    <tr>\n",
       "      <td>1</td>\n",
       "      <td>5954.0</td>\n",
       "      <td>51-60</td>\n",
       "      <td>2</td>\n",
       "      <td>2.0</td>\n",
       "      <td>5</td>\n",
       "      <td>7.0</td>\n",
       "      <td>radiotherapy</td>\n",
       "      <td>2</td>\n",
       "      <td>Z</td>\n",
       "      <td>c</td>\n",
       "      <td>Extreme</td>\n",
       "      <td>41-50</td>\n",
       "      <td>Trauma</td>\n",
       "      <td>2</td>\n",
       "      <td>F</td>\n",
       "      <td>S</td>\n",
       "      <td>2</td>\n",
       "      <td>1</td>\n",
       "      <td>31397</td>\n",
       "    </tr>\n",
       "    <tr>\n",
       "      <td>2</td>\n",
       "      <td>4745.0</td>\n",
       "      <td>51-60</td>\n",
       "      <td>2</td>\n",
       "      <td>2.0</td>\n",
       "      <td>1</td>\n",
       "      <td>7.0</td>\n",
       "      <td>anesthesia</td>\n",
       "      <td>10</td>\n",
       "      <td>X</td>\n",
       "      <td>e</td>\n",
       "      <td>Extreme</td>\n",
       "      <td>31-40</td>\n",
       "      <td>Trauma</td>\n",
       "      <td>2</td>\n",
       "      <td>E</td>\n",
       "      <td>S</td>\n",
       "      <td>3</td>\n",
       "      <td>1</td>\n",
       "      <td>31397</td>\n",
       "    </tr>\n",
       "    <tr>\n",
       "      <td>3</td>\n",
       "      <td>7272.0</td>\n",
       "      <td>51-60</td>\n",
       "      <td>2</td>\n",
       "      <td>2.0</td>\n",
       "      <td>2</td>\n",
       "      <td>7.0</td>\n",
       "      <td>radiotherapy</td>\n",
       "      <td>26</td>\n",
       "      <td>Y</td>\n",
       "      <td>b</td>\n",
       "      <td>Extreme</td>\n",
       "      <td>41-50</td>\n",
       "      <td>Trauma</td>\n",
       "      <td>2</td>\n",
       "      <td>D</td>\n",
       "      <td>R</td>\n",
       "      <td>4</td>\n",
       "      <td>1</td>\n",
       "      <td>31397</td>\n",
       "    </tr>\n",
       "    <tr>\n",
       "      <td>4</td>\n",
       "      <td>5558.0</td>\n",
       "      <td>51-60</td>\n",
       "      <td>2</td>\n",
       "      <td>2.0</td>\n",
       "      <td>2</td>\n",
       "      <td>7.0</td>\n",
       "      <td>radiotherapy</td>\n",
       "      <td>26</td>\n",
       "      <td>Y</td>\n",
       "      <td>b</td>\n",
       "      <td>Extreme</td>\n",
       "      <td>41-50</td>\n",
       "      <td>Trauma</td>\n",
       "      <td>2</td>\n",
       "      <td>D</td>\n",
       "      <td>S</td>\n",
       "      <td>5</td>\n",
       "      <td>1</td>\n",
       "      <td>31397</td>\n",
       "    </tr>\n",
       "  </tbody>\n",
       "</table>\n",
       "</div>"
      ],
      "text/plain": [
       "   Admission_Deposit    Age  Available Extra Rooms in Hospital  Bed Grade  \\\n",
       "0             4911.0  51-60                                  3        2.0   \n",
       "1             5954.0  51-60                                  2        2.0   \n",
       "2             4745.0  51-60                                  2        2.0   \n",
       "3             7272.0  51-60                                  2        2.0   \n",
       "4             5558.0  51-60                                  2        2.0   \n",
       "\n",
       "   City_Code_Hospital  City_Code_Patient    Department  Hospital_code  \\\n",
       "0                   3                7.0  radiotherapy              8   \n",
       "1                   5                7.0  radiotherapy              2   \n",
       "2                   1                7.0    anesthesia             10   \n",
       "3                   2                7.0  radiotherapy             26   \n",
       "4                   2                7.0  radiotherapy             26   \n",
       "\n",
       "  Hospital_region_code Hospital_type_code Severity of Illness   Stay  \\\n",
       "0                    Z                  c             Extreme   0-10   \n",
       "1                    Z                  c             Extreme  41-50   \n",
       "2                    X                  e             Extreme  31-40   \n",
       "3                    Y                  b             Extreme  41-50   \n",
       "4                    Y                  b             Extreme  41-50   \n",
       "\n",
       "  Type of Admission  Visitors with Patient Ward_Facility_Code Ward_Type  \\\n",
       "0         Emergency                      2                  F         R   \n",
       "1            Trauma                      2                  F         S   \n",
       "2            Trauma                      2                  E         S   \n",
       "3            Trauma                      2                  D         R   \n",
       "4            Trauma                      2                  D         S   \n",
       "\n",
       "   case_id  flag  patientid  \n",
       "0        1     1      31397  \n",
       "1        2     1      31397  \n",
       "2        3     1      31397  \n",
       "3        4     1      31397  \n",
       "4        5     1      31397  "
      ]
     },
     "execution_count": 221,
     "metadata": {},
     "output_type": "execute_result"
    }
   ],
   "source": [
    "data.head()"
   ]
  },
  {
   "cell_type": "code",
   "execution_count": 271,
   "metadata": {},
   "outputs": [],
   "source": [
    "data.drop(['case_id', 'patientid'], axis=1, inplace=True)"
   ]
  },
  {
   "cell_type": "code",
   "execution_count": 293,
   "metadata": {},
   "outputs": [],
   "source": [
    "data.drop(['case_id'], axis=1, inplace=True)"
   ]
  },
  {
   "cell_type": "code",
   "execution_count": 313,
   "metadata": {},
   "outputs": [],
   "source": [
    "data.loc[data['Age'] == '0-10', 'Age'] = 0\n",
    "data.loc[data['Age'] == '11-20', 'Age'] = 1\n",
    "data.loc[data['Age'] == '21-30', 'Age'] = 2\n",
    "data.loc[data['Age'] == '31-40', 'Age'] = 3\n",
    "data.loc[data['Age'] == '41-50', 'Age'] = 4\n",
    "data.loc[data['Age'] == '51-60', 'Age'] = 5\n",
    "data.loc[data['Age'] == '61-70', 'Age'] = 6\n",
    "data.loc[data['Age'] == '71-80', 'Age'] = 7\n",
    "data.loc[data['Age'] == '81-90', 'Age'] = 8\n",
    "data.loc[data['Age'] == '91-100', 'Age'] = 9"
   ]
  },
  {
   "cell_type": "code",
   "execution_count": 315,
   "metadata": {},
   "outputs": [],
   "source": [
    "need_to_encode = ['Hospital_type_code', 'Hospital_region_code', 'Department', 'Ward_Type', 'Ward_Facility_Code', 'Type of Admission', 'Severity of Illness']\n",
    "for column in need_to_encode:\n",
    "    le = LabelEncoder()\n",
    "    le.fit(data[column])\n",
    "    data[column] = le.transform(data[column])"
   ]
  },
  {
   "cell_type": "code",
   "execution_count": 314,
   "metadata": {},
   "outputs": [],
   "source": [
    "data.loc[data['Department'].eq('gynecology') & data['Bed Grade'].isnull(), 'Bed Grade'] = 2.0\n",
    "data.loc[data['Department'].eq('radiotherapy') & data['Bed Grade'].isnull(), 'Bed Grade'] = 2.0\n",
    "data.loc[data['Department'].eq('TB & Chest disease') & data['Bed Grade'].isnull(), 'Bed Grade'] = 3.0\n",
    "data.loc[data['Department'].eq('anesthesia') & data['Bed Grade'].isnull(), 'Bed Grade'] = 3.0"
   ]
  },
  {
   "cell_type": "code",
   "execution_count": 318,
   "metadata": {},
   "outputs": [],
   "source": [
    "data.to_csv('data_use.csv', index=False)"
   ]
  },
  {
   "cell_type": "code",
   "execution_count": 121,
   "metadata": {},
   "outputs": [
    {
     "data": {
      "text/plain": [
       "Admission_Deposit                    0\n",
       "Age                                  0\n",
       "Available Extra Rooms in Hospital    0\n",
       "Bed Grade                            0\n",
       "City_Code_Hospital                   0\n",
       "City_Code_Patient                    0\n",
       "Department                           0\n",
       "Hospital_code                        0\n",
       "Hospital_region_code                 0\n",
       "Hospital_type_code                   0\n",
       "Severity of Illness                  0\n",
       "Stay                                 0\n",
       "Type of Admission                    0\n",
       "Visitors with Patient                0\n",
       "Ward_Facility_Code                   0\n",
       "Ward_Type                            0\n",
       "flag                                 0\n",
       "dtype: int64"
      ]
     },
     "execution_count": 121,
     "metadata": {},
     "output_type": "execute_result"
    }
   ],
   "source": [
    "train.apply(lambda x: sum(x.isnull()))"
   ]
  },
  {
   "cell_type": "code",
   "execution_count": 347,
   "metadata": {},
   "outputs": [],
   "source": [
    "train.loc[train['Stay'] == '0-10', 'Stay'] = 0\n",
    "train.loc[train['Stay'] == '11-20', 'Stay'] = 1\n",
    "train.loc[train['Stay'] == '21-30', 'Stay'] = 2\n",
    "train.loc[train['Stay'] == '31-40', 'Stay'] = 3\n",
    "train.loc[train['Stay'] == '41-50', 'Stay'] = 4\n",
    "train.loc[train['Stay'] == '51-60', 'Stay'] = 5\n",
    "train.loc[train['Stay'] == '61-70', 'Stay'] = 6\n",
    "train.loc[train['Stay'] == '71-80', 'Stay'] = 7\n",
    "train.loc[train['Stay'] == '81-90', 'Stay'] = 8\n",
    "train.loc[train['Stay'] == '91-100', 'Stay'] = 9\n",
    "train.loc[train['Stay'] == 'More than 100 Days', 'Stay'] = 10"
   ]
  },
  {
   "cell_type": "code",
   "execution_count": 71,
   "metadata": {},
   "outputs": [],
   "source": [
    "df = data.copy()"
   ]
  },
  {
   "cell_type": "code",
   "execution_count": null,
   "metadata": {},
   "outputs": [],
   "source": [
    "data = df.copy()"
   ]
  },
  {
   "cell_type": "code",
   "execution_count": 319,
   "metadata": {},
   "outputs": [
    {
     "data": {
      "text/html": [
       "<div>\n",
       "<style scoped>\n",
       "    .dataframe tbody tr th:only-of-type {\n",
       "        vertical-align: middle;\n",
       "    }\n",
       "\n",
       "    .dataframe tbody tr th {\n",
       "        vertical-align: top;\n",
       "    }\n",
       "\n",
       "    .dataframe thead th {\n",
       "        text-align: right;\n",
       "    }\n",
       "</style>\n",
       "<table border=\"1\" class=\"dataframe\">\n",
       "  <thead>\n",
       "    <tr style=\"text-align: right;\">\n",
       "      <th></th>\n",
       "      <th>Admission_Deposit</th>\n",
       "      <th>Age</th>\n",
       "      <th>Available Extra Rooms in Hospital</th>\n",
       "      <th>Bed Grade</th>\n",
       "      <th>City_Code_Hospital</th>\n",
       "      <th>City_Code_Patient</th>\n",
       "      <th>Department</th>\n",
       "      <th>Hospital_code</th>\n",
       "      <th>Hospital_region_code</th>\n",
       "      <th>Hospital_type_code</th>\n",
       "      <th>Severity of Illness</th>\n",
       "      <th>Stay</th>\n",
       "      <th>Type of Admission</th>\n",
       "      <th>Visitors with Patient</th>\n",
       "      <th>Ward_Facility_Code</th>\n",
       "      <th>Ward_Type</th>\n",
       "      <th>case_id</th>\n",
       "      <th>flag</th>\n",
       "      <th>patientid</th>\n",
       "    </tr>\n",
       "  </thead>\n",
       "  <tbody>\n",
       "    <tr>\n",
       "      <td>0</td>\n",
       "      <td>4911.0</td>\n",
       "      <td>5</td>\n",
       "      <td>3</td>\n",
       "      <td>2.0</td>\n",
       "      <td>3</td>\n",
       "      <td>7.0</td>\n",
       "      <td>3</td>\n",
       "      <td>8</td>\n",
       "      <td>2</td>\n",
       "      <td>2</td>\n",
       "      <td>0</td>\n",
       "      <td>0-10</td>\n",
       "      <td>0</td>\n",
       "      <td>2</td>\n",
       "      <td>5</td>\n",
       "      <td>2</td>\n",
       "      <td>1</td>\n",
       "      <td>1</td>\n",
       "      <td>31397</td>\n",
       "    </tr>\n",
       "    <tr>\n",
       "      <td>1</td>\n",
       "      <td>5954.0</td>\n",
       "      <td>5</td>\n",
       "      <td>2</td>\n",
       "      <td>2.0</td>\n",
       "      <td>5</td>\n",
       "      <td>7.0</td>\n",
       "      <td>3</td>\n",
       "      <td>2</td>\n",
       "      <td>2</td>\n",
       "      <td>2</td>\n",
       "      <td>0</td>\n",
       "      <td>41-50</td>\n",
       "      <td>1</td>\n",
       "      <td>2</td>\n",
       "      <td>5</td>\n",
       "      <td>3</td>\n",
       "      <td>2</td>\n",
       "      <td>1</td>\n",
       "      <td>31397</td>\n",
       "    </tr>\n",
       "    <tr>\n",
       "      <td>2</td>\n",
       "      <td>4745.0</td>\n",
       "      <td>5</td>\n",
       "      <td>2</td>\n",
       "      <td>2.0</td>\n",
       "      <td>1</td>\n",
       "      <td>7.0</td>\n",
       "      <td>1</td>\n",
       "      <td>10</td>\n",
       "      <td>0</td>\n",
       "      <td>4</td>\n",
       "      <td>0</td>\n",
       "      <td>31-40</td>\n",
       "      <td>1</td>\n",
       "      <td>2</td>\n",
       "      <td>4</td>\n",
       "      <td>3</td>\n",
       "      <td>3</td>\n",
       "      <td>1</td>\n",
       "      <td>31397</td>\n",
       "    </tr>\n",
       "    <tr>\n",
       "      <td>3</td>\n",
       "      <td>7272.0</td>\n",
       "      <td>5</td>\n",
       "      <td>2</td>\n",
       "      <td>2.0</td>\n",
       "      <td>2</td>\n",
       "      <td>7.0</td>\n",
       "      <td>3</td>\n",
       "      <td>26</td>\n",
       "      <td>1</td>\n",
       "      <td>1</td>\n",
       "      <td>0</td>\n",
       "      <td>41-50</td>\n",
       "      <td>1</td>\n",
       "      <td>2</td>\n",
       "      <td>3</td>\n",
       "      <td>2</td>\n",
       "      <td>4</td>\n",
       "      <td>1</td>\n",
       "      <td>31397</td>\n",
       "    </tr>\n",
       "    <tr>\n",
       "      <td>4</td>\n",
       "      <td>5558.0</td>\n",
       "      <td>5</td>\n",
       "      <td>2</td>\n",
       "      <td>2.0</td>\n",
       "      <td>2</td>\n",
       "      <td>7.0</td>\n",
       "      <td>3</td>\n",
       "      <td>26</td>\n",
       "      <td>1</td>\n",
       "      <td>1</td>\n",
       "      <td>0</td>\n",
       "      <td>41-50</td>\n",
       "      <td>1</td>\n",
       "      <td>2</td>\n",
       "      <td>3</td>\n",
       "      <td>3</td>\n",
       "      <td>5</td>\n",
       "      <td>1</td>\n",
       "      <td>31397</td>\n",
       "    </tr>\n",
       "  </tbody>\n",
       "</table>\n",
       "</div>"
      ],
      "text/plain": [
       "   Admission_Deposit  Age  Available Extra Rooms in Hospital  Bed Grade  \\\n",
       "0             4911.0    5                                  3        2.0   \n",
       "1             5954.0    5                                  2        2.0   \n",
       "2             4745.0    5                                  2        2.0   \n",
       "3             7272.0    5                                  2        2.0   \n",
       "4             5558.0    5                                  2        2.0   \n",
       "\n",
       "   City_Code_Hospital  City_Code_Patient  Department  Hospital_code  \\\n",
       "0                   3                7.0           3              8   \n",
       "1                   5                7.0           3              2   \n",
       "2                   1                7.0           1             10   \n",
       "3                   2                7.0           3             26   \n",
       "4                   2                7.0           3             26   \n",
       "\n",
       "   Hospital_region_code  Hospital_type_code  Severity of Illness   Stay  \\\n",
       "0                     2                   2                    0   0-10   \n",
       "1                     2                   2                    0  41-50   \n",
       "2                     0                   4                    0  31-40   \n",
       "3                     1                   1                    0  41-50   \n",
       "4                     1                   1                    0  41-50   \n",
       "\n",
       "   Type of Admission  Visitors with Patient  Ward_Facility_Code  Ward_Type  \\\n",
       "0                  0                      2                   5          2   \n",
       "1                  1                      2                   5          3   \n",
       "2                  1                      2                   4          3   \n",
       "3                  1                      2                   3          2   \n",
       "4                  1                      2                   3          3   \n",
       "\n",
       "   case_id  flag  patientid  \n",
       "0        1     1      31397  \n",
       "1        2     1      31397  \n",
       "2        3     1      31397  \n",
       "3        4     1      31397  \n",
       "4        5     1      31397  "
      ]
     },
     "execution_count": 319,
     "metadata": {},
     "output_type": "execute_result"
    }
   ],
   "source": [
    "data.head()"
   ]
  },
  {
   "cell_type": "code",
   "execution_count": 316,
   "metadata": {},
   "outputs": [],
   "source": [
    "data['City_Code_Patient'] = data['City_Code_Patient'].fillna(8)"
   ]
  },
  {
   "cell_type": "code",
   "execution_count": 346,
   "metadata": {},
   "outputs": [],
   "source": [
    "train, test = data[data.flag==1], data[data.flag==0]"
   ]
  },
  {
   "cell_type": "code",
   "execution_count": 374,
   "metadata": {},
   "outputs": [],
   "source": [
    "categorical = ['Hospital_code', 'Hospital_code', 'Hospital_region_code', 'Department', 'Ward_Type', 'Ward_Facility_Code', \n",
    "              'City_Code_Patient', 'Type of Admission', 'Severity of Illness']"
   ]
  },
  {
   "cell_type": "code",
   "execution_count": 304,
   "metadata": {},
   "outputs": [],
   "source": [
    "target = train['Stay']\n",
    "train.drop(['Stay'], axis=1, inplace=True)\n",
    "test.drop(['Stay'], axis=1, inplace=True)"
   ]
  },
  {
   "cell_type": "code",
   "execution_count": 232,
   "metadata": {},
   "outputs": [
    {
     "name": "stdout",
     "output_type": "stream",
     "text": [
      "(318438, 16) (137057, 16)\n"
     ]
    }
   ],
   "source": [
    "print(train.shape, test.shape)"
   ]
  },
  {
   "cell_type": "code",
   "execution_count": 167,
   "metadata": {},
   "outputs": [
    {
     "data": {
      "text/plain": [
       "Admission_Deposit                    float64\n",
       "Age                                    int64\n",
       "Available Extra Rooms in Hospital      int64\n",
       "Bed Grade                            float64\n",
       "City_Code_Hospital                     int64\n",
       "City_Code_Patient                    float64\n",
       "Department                             int32\n",
       "Hospital_code                          int64\n",
       "Hospital_region_code                   int32\n",
       "Hospital_type_code                     int32\n",
       "Severity of Illness                    int32\n",
       "Type of Admission                      int32\n",
       "Visitors with Patient                  int64\n",
       "Ward_Facility_Code                     int32\n",
       "Ward_Type                              int32\n",
       "flag                                   int64\n",
       "patientid                              int64\n",
       "dtype: object"
      ]
     },
     "execution_count": 167,
     "metadata": {},
     "output_type": "execute_result"
    }
   ],
   "source": [
    "train.dtypes"
   ]
  },
  {
   "cell_type": "code",
   "execution_count": 110,
   "metadata": {},
   "outputs": [
    {
     "data": {
      "text/plain": [
       "0    0\n",
       "1    4\n",
       "2    3\n",
       "3    4\n",
       "4    4\n",
       "Name: Stay, dtype: object"
      ]
     },
     "execution_count": 110,
     "metadata": {},
     "output_type": "execute_result"
    }
   ],
   "source": [
    "data['Stay'].head()"
   ]
  },
  {
   "cell_type": "code",
   "execution_count": 300,
   "metadata": {},
   "outputs": [],
   "source": [
    "train.drop(['flag'], axis=1, inplace=True)\n",
    "test.drop(['flag'], axis=1, inplace=True)"
   ]
  },
  {
   "cell_type": "code",
   "execution_count": 377,
   "metadata": {},
   "outputs": [],
   "source": [
    "X, X_val, y, y_val = train_test_split(train2, target, random_state=0, test_size=0.15, shuffle=True)"
   ]
  },
  {
   "cell_type": "code",
   "execution_count": 81,
   "metadata": {},
   "outputs": [],
   "source": [
    "from sklearn.model_selection import train_test_split"
   ]
  },
  {
   "cell_type": "code",
   "execution_count": 170,
   "metadata": {},
   "outputs": [
    {
     "name": "stdout",
     "output_type": "stream",
     "text": [
      "LGBM accuracy:  42.82282376585856 %\n"
     ]
    }
   ],
   "source": [
    "model = lgb.LGBMClassifier(random_state=666)\n",
    "model.fit(X, y, categorical_feature=categorical)\n",
    "preds = model.predict(X_val)\n",
    "print('LGBM accuracy: ', accuracy_score(y_val, preds)*100, '%')"
   ]
  },
  {
   "cell_type": "markdown",
   "metadata": {},
   "source": [
    "Tuning hyperparameters"
   ]
  },
  {
   "cell_type": "code",
   "execution_count": 191,
   "metadata": {},
   "outputs": [],
   "source": [
    "from sklearn.model_selection import GridSearchCV, RandomizedSearchCV"
   ]
  },
  {
   "cell_type": "code",
   "execution_count": 282,
   "metadata": {},
   "outputs": [],
   "source": [
    "model1 = lgb.LGBMClassifier(random_state=1994)\n",
    "#model.fit(X, y, categorical_feature=categorical)\n",
    "#preds = model.predict(X_val)\n",
    "#print('LGBM accuracy: ', accuracy_score(y_val, preds)*100, '%')"
   ]
  },
  {
   "cell_type": "code",
   "execution_count": 307,
   "metadata": {},
   "outputs": [
    {
     "name": "stdout",
     "output_type": "stream",
     "text": [
      "Fitting 3 folds for each of 10 candidates, totalling 30 fits\n"
     ]
    },
    {
     "name": "stderr",
     "output_type": "stream",
     "text": [
      "[Parallel(n_jobs=1)]: Using backend SequentialBackend with 1 concurrent workers.\n"
     ]
    },
    {
     "name": "stdout",
     "output_type": "stream",
     "text": [
      "[CV] subsample=0.8, reg_lambda=1.5, reg_alpha=1.2, n_estimators=300, min_data_in_leaf=200, max_depth=80, learning_rate=0.05, colsample_bytree=0.8 \n",
      "[CV]  subsample=0.8, reg_lambda=1.5, reg_alpha=1.2, n_estimators=300, min_data_in_leaf=200, max_depth=80, learning_rate=0.05, colsample_bytree=0.8, score=0.426, total= 1.1min\n",
      "[CV] subsample=0.8, reg_lambda=1.5, reg_alpha=1.2, n_estimators=300, min_data_in_leaf=200, max_depth=80, learning_rate=0.05, colsample_bytree=0.8 \n"
     ]
    },
    {
     "name": "stderr",
     "output_type": "stream",
     "text": [
      "[Parallel(n_jobs=1)]: Done   1 out of   1 | elapsed:  1.1min remaining:    0.0s\n"
     ]
    },
    {
     "name": "stdout",
     "output_type": "stream",
     "text": [
      "[CV]  subsample=0.8, reg_lambda=1.5, reg_alpha=1.2, n_estimators=300, min_data_in_leaf=200, max_depth=80, learning_rate=0.05, colsample_bytree=0.8, score=0.425, total= 1.1min\n",
      "[CV] subsample=0.8, reg_lambda=1.5, reg_alpha=1.2, n_estimators=300, min_data_in_leaf=200, max_depth=80, learning_rate=0.05, colsample_bytree=0.8 \n"
     ]
    },
    {
     "name": "stderr",
     "output_type": "stream",
     "text": [
      "[Parallel(n_jobs=1)]: Done   2 out of   2 | elapsed:  2.2min remaining:    0.0s\n"
     ]
    },
    {
     "name": "stdout",
     "output_type": "stream",
     "text": [
      "[CV]  subsample=0.8, reg_lambda=1.5, reg_alpha=1.2, n_estimators=300, min_data_in_leaf=200, max_depth=80, learning_rate=0.05, colsample_bytree=0.8, score=0.419, total= 1.2min\n",
      "[CV] subsample=0.9, reg_lambda=1.8, reg_alpha=2.1, n_estimators=400, min_data_in_leaf=200, max_depth=30, learning_rate=0.1, colsample_bytree=0.6 \n"
     ]
    },
    {
     "name": "stderr",
     "output_type": "stream",
     "text": [
      "[Parallel(n_jobs=1)]: Done   3 out of   3 | elapsed:  3.4min remaining:    0.0s\n"
     ]
    },
    {
     "name": "stdout",
     "output_type": "stream",
     "text": [
      "[CV]  subsample=0.9, reg_lambda=1.8, reg_alpha=2.1, n_estimators=400, min_data_in_leaf=200, max_depth=30, learning_rate=0.1, colsample_bytree=0.6, score=0.427, total= 1.4min\n",
      "[CV] subsample=0.9, reg_lambda=1.8, reg_alpha=2.1, n_estimators=400, min_data_in_leaf=200, max_depth=30, learning_rate=0.1, colsample_bytree=0.6 \n"
     ]
    },
    {
     "name": "stderr",
     "output_type": "stream",
     "text": [
      "[Parallel(n_jobs=1)]: Done   4 out of   4 | elapsed:  4.8min remaining:    0.0s\n"
     ]
    },
    {
     "name": "stdout",
     "output_type": "stream",
     "text": [
      "[CV]  subsample=0.9, reg_lambda=1.8, reg_alpha=2.1, n_estimators=400, min_data_in_leaf=200, max_depth=30, learning_rate=0.1, colsample_bytree=0.6, score=0.426, total= 1.3min\n",
      "[CV] subsample=0.9, reg_lambda=1.8, reg_alpha=2.1, n_estimators=400, min_data_in_leaf=200, max_depth=30, learning_rate=0.1, colsample_bytree=0.6 \n"
     ]
    },
    {
     "name": "stderr",
     "output_type": "stream",
     "text": [
      "[Parallel(n_jobs=1)]: Done   5 out of   5 | elapsed:  6.1min remaining:    0.0s\n"
     ]
    },
    {
     "name": "stdout",
     "output_type": "stream",
     "text": [
      "[CV]  subsample=0.9, reg_lambda=1.8, reg_alpha=2.1, n_estimators=400, min_data_in_leaf=200, max_depth=30, learning_rate=0.1, colsample_bytree=0.6, score=0.422, total= 1.3min\n",
      "[CV] subsample=0.8, reg_lambda=1.2, reg_alpha=1.8, n_estimators=400, min_data_in_leaf=150, max_depth=70, learning_rate=0.06, colsample_bytree=0.7 \n"
     ]
    },
    {
     "name": "stderr",
     "output_type": "stream",
     "text": [
      "[Parallel(n_jobs=1)]: Done   6 out of   6 | elapsed:  7.3min remaining:    0.0s\n"
     ]
    },
    {
     "name": "stdout",
     "output_type": "stream",
     "text": [
      "[CV]  subsample=0.8, reg_lambda=1.2, reg_alpha=1.8, n_estimators=400, min_data_in_leaf=150, max_depth=70, learning_rate=0.06, colsample_bytree=0.7, score=0.427, total= 1.4min\n",
      "[CV] subsample=0.8, reg_lambda=1.2, reg_alpha=1.8, n_estimators=400, min_data_in_leaf=150, max_depth=70, learning_rate=0.06, colsample_bytree=0.7 \n"
     ]
    },
    {
     "name": "stderr",
     "output_type": "stream",
     "text": [
      "[Parallel(n_jobs=1)]: Done   7 out of   7 | elapsed:  8.7min remaining:    0.0s\n"
     ]
    },
    {
     "name": "stdout",
     "output_type": "stream",
     "text": [
      "[CV]  subsample=0.8, reg_lambda=1.2, reg_alpha=1.8, n_estimators=400, min_data_in_leaf=150, max_depth=70, learning_rate=0.06, colsample_bytree=0.7, score=0.426, total= 1.4min\n",
      "[CV] subsample=0.8, reg_lambda=1.2, reg_alpha=1.8, n_estimators=400, min_data_in_leaf=150, max_depth=70, learning_rate=0.06, colsample_bytree=0.7 \n"
     ]
    },
    {
     "name": "stderr",
     "output_type": "stream",
     "text": [
      "[Parallel(n_jobs=1)]: Done   8 out of   8 | elapsed: 10.1min remaining:    0.0s\n"
     ]
    },
    {
     "name": "stdout",
     "output_type": "stream",
     "text": [
      "[CV]  subsample=0.8, reg_lambda=1.2, reg_alpha=1.8, n_estimators=400, min_data_in_leaf=150, max_depth=70, learning_rate=0.06, colsample_bytree=0.7, score=0.421, total= 1.4min\n",
      "[CV] subsample=0.9, reg_lambda=1.2, reg_alpha=2.1, n_estimators=300, min_data_in_leaf=400, max_depth=80, learning_rate=0.08, colsample_bytree=0.5 \n"
     ]
    },
    {
     "name": "stderr",
     "output_type": "stream",
     "text": [
      "[Parallel(n_jobs=1)]: Done   9 out of   9 | elapsed: 11.5min remaining:    0.0s\n"
     ]
    },
    {
     "name": "stdout",
     "output_type": "stream",
     "text": [
      "[CV]  subsample=0.9, reg_lambda=1.2, reg_alpha=2.1, n_estimators=300, min_data_in_leaf=400, max_depth=80, learning_rate=0.08, colsample_bytree=0.5, score=0.426, total=  59.3s\n",
      "[CV] subsample=0.9, reg_lambda=1.2, reg_alpha=2.1, n_estimators=300, min_data_in_leaf=400, max_depth=80, learning_rate=0.08, colsample_bytree=0.5 \n",
      "[CV]  subsample=0.9, reg_lambda=1.2, reg_alpha=2.1, n_estimators=300, min_data_in_leaf=400, max_depth=80, learning_rate=0.08, colsample_bytree=0.5, score=0.425, total=  59.2s\n",
      "[CV] subsample=0.9, reg_lambda=1.2, reg_alpha=2.1, n_estimators=300, min_data_in_leaf=400, max_depth=80, learning_rate=0.08, colsample_bytree=0.5 \n",
      "[CV]  subsample=0.9, reg_lambda=1.2, reg_alpha=2.1, n_estimators=300, min_data_in_leaf=400, max_depth=80, learning_rate=0.08, colsample_bytree=0.5, score=0.421, total=  59.7s\n",
      "[CV] subsample=0.6, reg_lambda=2.0, reg_alpha=2.2, n_estimators=300, min_data_in_leaf=150, max_depth=80, learning_rate=0.06, colsample_bytree=0.5 \n",
      "[CV]  subsample=0.6, reg_lambda=2.0, reg_alpha=2.2, n_estimators=300, min_data_in_leaf=150, max_depth=80, learning_rate=0.06, colsample_bytree=0.5, score=0.426, total=  59.4s\n",
      "[CV] subsample=0.6, reg_lambda=2.0, reg_alpha=2.2, n_estimators=300, min_data_in_leaf=150, max_depth=80, learning_rate=0.06, colsample_bytree=0.5 \n",
      "[CV]  subsample=0.6, reg_lambda=2.0, reg_alpha=2.2, n_estimators=300, min_data_in_leaf=150, max_depth=80, learning_rate=0.06, colsample_bytree=0.5, score=0.425, total= 1.0min\n",
      "[CV] subsample=0.6, reg_lambda=2.0, reg_alpha=2.2, n_estimators=300, min_data_in_leaf=150, max_depth=80, learning_rate=0.06, colsample_bytree=0.5 \n",
      "[CV]  subsample=0.6, reg_lambda=2.0, reg_alpha=2.2, n_estimators=300, min_data_in_leaf=150, max_depth=80, learning_rate=0.06, colsample_bytree=0.5, score=0.420, total=  59.6s\n",
      "[CV] subsample=0.7, reg_lambda=1.2, reg_alpha=1.2, n_estimators=500, min_data_in_leaf=400, max_depth=40, learning_rate=0.08, colsample_bytree=0.8 \n",
      "[CV]  subsample=0.7, reg_lambda=1.2, reg_alpha=1.2, n_estimators=500, min_data_in_leaf=400, max_depth=40, learning_rate=0.08, colsample_bytree=0.8, score=0.427, total= 1.7min\n",
      "[CV] subsample=0.7, reg_lambda=1.2, reg_alpha=1.2, n_estimators=500, min_data_in_leaf=400, max_depth=40, learning_rate=0.08, colsample_bytree=0.8 \n",
      "[CV]  subsample=0.7, reg_lambda=1.2, reg_alpha=1.2, n_estimators=500, min_data_in_leaf=400, max_depth=40, learning_rate=0.08, colsample_bytree=0.8, score=0.425, total= 1.7min\n",
      "[CV] subsample=0.7, reg_lambda=1.2, reg_alpha=1.2, n_estimators=500, min_data_in_leaf=400, max_depth=40, learning_rate=0.08, colsample_bytree=0.8 \n",
      "[CV]  subsample=0.7, reg_lambda=1.2, reg_alpha=1.2, n_estimators=500, min_data_in_leaf=400, max_depth=40, learning_rate=0.08, colsample_bytree=0.8, score=0.422, total= 1.6min\n",
      "[CV] subsample=0.8, reg_lambda=1.0, reg_alpha=2.1, n_estimators=300, min_data_in_leaf=50, max_depth=70, learning_rate=0.05, colsample_bytree=0.5 \n",
      "[CV]  subsample=0.8, reg_lambda=1.0, reg_alpha=2.1, n_estimators=300, min_data_in_leaf=50, max_depth=70, learning_rate=0.05, colsample_bytree=0.5, score=0.425, total= 1.1min\n",
      "[CV] subsample=0.8, reg_lambda=1.0, reg_alpha=2.1, n_estimators=300, min_data_in_leaf=50, max_depth=70, learning_rate=0.05, colsample_bytree=0.5 \n",
      "[CV]  subsample=0.8, reg_lambda=1.0, reg_alpha=2.1, n_estimators=300, min_data_in_leaf=50, max_depth=70, learning_rate=0.05, colsample_bytree=0.5, score=0.424, total= 1.0min\n",
      "[CV] subsample=0.8, reg_lambda=1.0, reg_alpha=2.1, n_estimators=300, min_data_in_leaf=50, max_depth=70, learning_rate=0.05, colsample_bytree=0.5 \n",
      "[CV]  subsample=0.8, reg_lambda=1.0, reg_alpha=2.1, n_estimators=300, min_data_in_leaf=50, max_depth=70, learning_rate=0.05, colsample_bytree=0.5, score=0.420, total= 1.0min\n",
      "[CV] subsample=0.8, reg_lambda=1.1, reg_alpha=1.8, n_estimators=500, min_data_in_leaf=150, max_depth=100, learning_rate=0.05, colsample_bytree=0.6 \n",
      "[CV]  subsample=0.8, reg_lambda=1.1, reg_alpha=1.8, n_estimators=500, min_data_in_leaf=150, max_depth=100, learning_rate=0.05, colsample_bytree=0.6, score=0.427, total= 1.7min\n",
      "[CV] subsample=0.8, reg_lambda=1.1, reg_alpha=1.8, n_estimators=500, min_data_in_leaf=150, max_depth=100, learning_rate=0.05, colsample_bytree=0.6 \n",
      "[CV]  subsample=0.8, reg_lambda=1.1, reg_alpha=1.8, n_estimators=500, min_data_in_leaf=150, max_depth=100, learning_rate=0.05, colsample_bytree=0.6, score=0.426, total= 1.8min\n",
      "[CV] subsample=0.8, reg_lambda=1.1, reg_alpha=1.8, n_estimators=500, min_data_in_leaf=150, max_depth=100, learning_rate=0.05, colsample_bytree=0.6 \n",
      "[CV]  subsample=0.8, reg_lambda=1.1, reg_alpha=1.8, n_estimators=500, min_data_in_leaf=150, max_depth=100, learning_rate=0.05, colsample_bytree=0.6, score=0.421, total= 1.7min\n",
      "[CV] subsample=0.7, reg_lambda=1.5, reg_alpha=1.4, n_estimators=400, min_data_in_leaf=100, max_depth=150, learning_rate=0.05, colsample_bytree=0.6 \n",
      "[CV]  subsample=0.7, reg_lambda=1.5, reg_alpha=1.4, n_estimators=400, min_data_in_leaf=100, max_depth=150, learning_rate=0.05, colsample_bytree=0.6, score=0.427, total= 1.4min\n",
      "[CV] subsample=0.7, reg_lambda=1.5, reg_alpha=1.4, n_estimators=400, min_data_in_leaf=100, max_depth=150, learning_rate=0.05, colsample_bytree=0.6 \n",
      "[CV]  subsample=0.7, reg_lambda=1.5, reg_alpha=1.4, n_estimators=400, min_data_in_leaf=100, max_depth=150, learning_rate=0.05, colsample_bytree=0.6, score=0.425, total= 1.4min\n",
      "[CV] subsample=0.7, reg_lambda=1.5, reg_alpha=1.4, n_estimators=400, min_data_in_leaf=100, max_depth=150, learning_rate=0.05, colsample_bytree=0.6 \n",
      "[CV]  subsample=0.7, reg_lambda=1.5, reg_alpha=1.4, n_estimators=400, min_data_in_leaf=100, max_depth=150, learning_rate=0.05, colsample_bytree=0.6, score=0.421, total= 1.4min\n",
      "[CV] subsample=0.9, reg_lambda=1.1, reg_alpha=2.1, n_estimators=400, min_data_in_leaf=50, max_depth=100, learning_rate=0.1, colsample_bytree=0.7 \n",
      "[CV]  subsample=0.9, reg_lambda=1.1, reg_alpha=2.1, n_estimators=400, min_data_in_leaf=50, max_depth=100, learning_rate=0.1, colsample_bytree=0.7, score=0.427, total= 1.3min\n",
      "[CV] subsample=0.9, reg_lambda=1.1, reg_alpha=2.1, n_estimators=400, min_data_in_leaf=50, max_depth=100, learning_rate=0.1, colsample_bytree=0.7 \n",
      "[CV]  subsample=0.9, reg_lambda=1.1, reg_alpha=2.1, n_estimators=400, min_data_in_leaf=50, max_depth=100, learning_rate=0.1, colsample_bytree=0.7, score=0.427, total= 1.3min\n",
      "[CV] subsample=0.9, reg_lambda=1.1, reg_alpha=2.1, n_estimators=400, min_data_in_leaf=50, max_depth=100, learning_rate=0.1, colsample_bytree=0.7 \n",
      "[CV]  subsample=0.9, reg_lambda=1.1, reg_alpha=2.1, n_estimators=400, min_data_in_leaf=50, max_depth=100, learning_rate=0.1, colsample_bytree=0.7, score=0.422, total= 1.3min\n"
     ]
    },
    {
     "name": "stderr",
     "output_type": "stream",
     "text": [
      "[Parallel(n_jobs=1)]: Done  30 out of  30 | elapsed: 38.8min finished\n"
     ]
    },
    {
     "name": "stdout",
     "output_type": "stream",
     "text": [
      "0.42560737719453806 \n",
      "\n",
      " {'subsample': 0.9, 'reg_lambda': 1.1, 'reg_alpha': 2.1, 'n_estimators': 400, 'min_data_in_leaf': 50, 'max_depth': 100, 'learning_rate': 0.1, 'colsample_bytree': 0.7}\n"
     ]
    }
   ],
   "source": [
    "param_test = {'learning_rate':[0.05,0.06,0.08,0.1,0.2], \n",
    "             'max_depth':[20,40,30,50,70,80,100,150], \n",
    "             'n_estimators':[400, 500, 300],\n",
    "             'min_data_in_leaf':[50,100,150,200,400],\n",
    "             'colsample_bytree':[0.6,0.7,0.8,0.9,0.5], \n",
    "             'reg_alpha':[1.6, 1.4, 1.8, 2.0, 2.1, 2.2,1.2], \n",
    "             'reg_lambda':[1.0, 1.1, 1.2, 1.5, 1.8, 1.4,2.0], \n",
    "             'subsample':[0.6, 0.7, 0.8, 0.9]}\n",
    "\n",
    "grid = RandomizedSearchCV(model1, param_test, verbose=10)\n",
    "grid.fit(X, y)\n",
    "print(grid.best_score_, '\\n\\n', grid.best_params_)"
   ]
  },
  {
   "cell_type": "code",
   "execution_count": 378,
   "metadata": {},
   "outputs": [
    {
     "name": "stdout",
     "output_type": "stream",
     "text": [
      "LGBM accuracy:  27.20763723150358 %\n"
     ]
    }
   ],
   "source": [
    "params_1 = {'learning_rate':0.1, \n",
    "             'max_depth':40, \n",
    "             'min_data_in_leaf':50,\n",
    "             'n_estimators':400,\n",
    "             'colsample_bytree':0.7, \n",
    "             'reg_alpha':2.1, \n",
    "             'reg_lambda':1.1, \n",
    "             'subsample':0.9,\n",
    "            'random_state':1994}\n",
    "\n",
    "model1 = lgb.LGBMClassifier(**params_1)\n",
    "model1.fit(X, y, categorical_feature=categorical)\n",
    "preds_1 = model1.predict(X_val)\n",
    "print('LGBM accuracy: ', accuracy_score(y_val, preds_1)*100, '%')"
   ]
  },
  {
   "cell_type": "code",
   "execution_count": 309,
   "metadata": {},
   "outputs": [],
   "source": [
    "pred_2 = model1.predict(test)\n",
    "sub122 = pd.DataFrame({'case_id':test1.case_id, 'Stay':pred_2})\n",
    "sub122.loc[sub122['Stay'] == 0, 'Stay'] = '0-10'\n",
    "sub122.loc[sub122['Stay'] == 1, 'Stay'] = '11-20'\n",
    "sub122.loc[sub122['Stay'] == 2, 'Stay'] = '21-30'\n",
    "sub122.loc[sub122['Stay'] == 3, 'Stay'] = '31-40'\n",
    "sub122.loc[sub122['Stay'] == 4, 'Stay'] = '41-50'\n",
    "sub122.loc[sub122['Stay'] == 5, 'Stay'] = '51-60'\n",
    "sub122.loc[sub122['Stay'] == 6, 'Stay'] = '61-70'\n",
    "sub122.loc[sub122['Stay'] == 7, 'Stay'] = '71-80'\n",
    "sub122.loc[sub122['Stay'] == 8, 'Stay'] = '81-90'\n",
    "sub122.loc[sub122['Stay'] == 9, 'Stay'] = '91-100'\n",
    "sub122.loc[sub122['Stay'] == 10, 'Stay'] = 'More than 100 Days'\n",
    "\n",
    "sub122.to_csv('sub122.csv', index=False)"
   ]
  },
  {
   "cell_type": "code",
   "execution_count": 287,
   "metadata": {},
   "outputs": [
    {
     "name": "stdout",
     "output_type": "stream",
     "text": [
      "LGBM accuracy:  43.143658669346394 %\n"
     ]
    }
   ],
   "source": [
    "params_2 = {'learning_rate':0.05, \n",
    "             'max_depth':40, \n",
    "             'min_data_in_leaf':100,\n",
    "             'n_estimators':500,\n",
    "             'num_iterations':500,\n",
    "             'colsample_bytree':0.6, \n",
    "             'reg_alpha':2.2, \n",
    "             'reg_lambda':2.0, \n",
    "             'subsample':0.9,\n",
    "            'random_state':1994}\n",
    "\n",
    "model2 = lgb.LGBMClassifier(**params_2)\n",
    "model2.fit(X, y, categorical_feature=categorical)\n",
    "preds_2 = model2.predict(X_val)\n",
    "print('LGBM accuracy: ', accuracy_score(y_val, preds_2)*100, '%')"
   ]
  },
  {
   "cell_type": "code",
   "execution_count": 288,
   "metadata": {},
   "outputs": [],
   "source": [
    "pred_1 = model1.predict(test)\n",
    "sub121 = pd.DataFrame({'case_id':test1.case_id, 'Stay':pred_1})\n",
    "sub121.loc[sub121['Stay'] == 0, 'Stay'] = '0-10'\n",
    "sub121.loc[sub121['Stay'] == 1, 'Stay'] = '11-20'\n",
    "sub121.loc[sub121['Stay'] == 2, 'Stay'] = '21-30'\n",
    "sub121.loc[sub121['Stay'] == 3, 'Stay'] = '31-40'\n",
    "sub121.loc[sub121['Stay'] == 4, 'Stay'] = '41-50'\n",
    "sub121.loc[sub121['Stay'] == 5, 'Stay'] = '51-60'\n",
    "sub121.loc[sub121['Stay'] == 6, 'Stay'] = '61-70'\n",
    "sub121.loc[sub121['Stay'] == 7, 'Stay'] = '71-80'\n",
    "sub121.loc[sub121['Stay'] == 8, 'Stay'] = '81-90'\n",
    "sub121.loc[sub121['Stay'] == 9, 'Stay'] = '91-100'\n",
    "sub121.loc[sub121['Stay'] == 10, 'Stay'] = 'More than 100 Days'\n",
    "\n",
    "sub121.to_csv('sub121.csv', index=False)"
   ]
  },
  {
   "cell_type": "code",
   "execution_count": 217,
   "metadata": {},
   "outputs": [
    {
     "name": "stdout",
     "output_type": "stream",
     "text": [
      "LGBM accuracy:  43.08189925888708 %\n"
     ]
    }
   ],
   "source": [
    "params3 = {'learning_rate':0.08, \n",
    "             'max_depth':40, \n",
    "             'n_estimators':400, \n",
    "             'num_iterations':500,\n",
    "             'colsample_bytree':0.8, \n",
    "             'reg_alpha':1.4, \n",
    "             'reg_lambda':1.2, \n",
    "             'subsample':0.6,\n",
    "            'random_state':666}\n",
    "model2 = lgb.LGBMClassifier(**params3)\n",
    "model2.fit(X, y, categorical_feature=categorical)\n",
    "preds3 = model2.predict(X_val)\n",
    "print('LGBM accuracy: ', accuracy_score(y_val, preds3)*100, '%')"
   ]
  },
  {
   "cell_type": "code",
   "execution_count": 237,
   "metadata": {},
   "outputs": [
    {
     "name": "stdout",
     "output_type": "stream",
     "text": [
      "LGBM accuracy:  43.207511619143325 %\n"
     ]
    }
   ],
   "source": [
    "params2 = {'learning_rate':0.1, \n",
    "             'max_depth':20, \n",
    "             'n_estimators':400, \n",
    "             'colsample_bytree':0.7, \n",
    "             'reg_alpha':2.0, \n",
    "             'reg_lambda':1.0, \n",
    "             'subsample':0.6,\n",
    "            'random_state':666}\n",
    "model1 = lgb.LGBMClassifier(**params2)\n",
    "model1.fit(X, y, categorical_feature=categorical)\n",
    "preds2 = model1.predict(X_val)\n",
    "print('LGBM accuracy: ', accuracy_score(y_val, preds2)*100, '%')"
   ]
  },
  {
   "cell_type": "code",
   "execution_count": null,
   "metadata": {},
   "outputs": [],
   "source": [
    "params2 = {'learning_rate':0.1,\n",
    "             'max_depth':20, \n",
    "             'n_estimators':400, \n",
    "             'colsample_bytree':0.7, \n",
    "             'reg_alpha':2.0, \n",
    "             'reg_lambda':1.0, \n",
    "             'subsample':0.6,\n",
    "            'random_state':1994}\n",
    "model1 = lgb.LGBMClassifier(**params2)\n",
    "model1.fit(X, y, categorical_feature=categorical)\n",
    "preds2 = model1.predict(X_val)\n",
    "print('LGBM accuracy: ', accuracy_score(y_val, preds2)*100, '%')"
   ]
  },
  {
   "cell_type": "code",
   "execution_count": 238,
   "metadata": {},
   "outputs": [],
   "source": [
    "pred5 = model1.predict(test)\n",
    "sub12 = pd.DataFrame({'case_id':test1.case_id, 'Stay':pred5})\n",
    "sub12.loc[sub12['Stay'] == 0, 'Stay'] = '0-10'\n",
    "sub12.loc[sub12['Stay'] == 1, 'Stay'] = '11-20'\n",
    "sub12.loc[sub12['Stay'] == 2, 'Stay'] = '21-30'\n",
    "sub12.loc[sub12['Stay'] == 3, 'Stay'] = '31-40'\n",
    "sub12.loc[sub12['Stay'] == 4, 'Stay'] = '41-50'\n",
    "sub12.loc[sub12['Stay'] == 5, 'Stay'] = '51-60'\n",
    "sub12.loc[sub12['Stay'] == 6, 'Stay'] = '61-70'\n",
    "sub12.loc[sub12['Stay'] == 7, 'Stay'] = '71-80'\n",
    "sub12.loc[sub12['Stay'] == 8, 'Stay'] = '81-90'\n",
    "sub12.loc[sub12['Stay'] == 9, 'Stay'] = '91-100'\n",
    "sub12.loc[sub12['Stay'] == 10, 'Stay'] = 'More than 100 Days'\n",
    "\n",
    "sub12.to_csv('sub12.csv', index=False)"
   ]
  },
  {
   "cell_type": "code",
   "execution_count": 198,
   "metadata": {},
   "outputs": [
    {
     "name": "stdout",
     "output_type": "stream",
     "text": [
      "LGBM accuracy:  43.139994975505594 %\n"
     ]
    }
   ],
   "source": [
    "params2 = {'learning_rate':0.05, \n",
    "             'max_depth':30, \n",
    "             'n_estimators':400, \n",
    "             'colsample_bytree':0.7, \n",
    "             'reg_alpha':2.0, \n",
    "             'reg_lambda':1.8, \n",
    "             'subsample':0.7,\n",
    "            'random_state':666}\n",
    "model1 = lgb.LGBMClassifier(**params2)\n",
    "model1.fit(X, y, categorical_feature=categorical)\n",
    "preds2 = model1.predict(X_val)\n",
    "print('LGBM accuracy: ', accuracy_score(y_val, preds2)*100, '%')"
   ]
  },
  {
   "cell_type": "code",
   "execution_count": null,
   "metadata": {},
   "outputs": [],
   "source": []
  },
  {
   "cell_type": "code",
   "execution_count": 23,
   "metadata": {},
   "outputs": [],
   "source": [
    "from sklearn.metrics import accuracy_score"
   ]
  },
  {
   "cell_type": "code",
   "execution_count": 199,
   "metadata": {},
   "outputs": [],
   "source": [
    "pred3 = model1.predict(test)"
   ]
  },
  {
   "cell_type": "code",
   "execution_count": 201,
   "metadata": {},
   "outputs": [
    {
     "data": {
      "text/plain": [
       "137057"
      ]
     },
     "execution_count": 201,
     "metadata": {},
     "output_type": "execute_result"
    }
   ],
   "source": [
    "len(pred3)"
   ]
  },
  {
   "cell_type": "code",
   "execution_count": 202,
   "metadata": {},
   "outputs": [
    {
     "data": {
      "text/plain": [
       "array([0, 5, 2, 2, 5], dtype=int64)"
      ]
     },
     "execution_count": 202,
     "metadata": {},
     "output_type": "execute_result"
    }
   ],
   "source": [
    "pred3[:5]"
   ]
  },
  {
   "cell_type": "code",
   "execution_count": 42,
   "metadata": {},
   "outputs": [],
   "source": [
    "test1 = pd.read_csv('C:/Users/LENOVO/Downloads/Test_ND2Q3bm/test.csv')"
   ]
  },
  {
   "cell_type": "code",
   "execution_count": 203,
   "metadata": {},
   "outputs": [],
   "source": [
    "sub11 = pd.DataFrame({'case_id':test1.case_id, 'Stay':pred3})"
   ]
  },
  {
   "cell_type": "code",
   "execution_count": 28,
   "metadata": {},
   "outputs": [
    {
     "data": {
      "text/plain": [
       "Index(['Admission_Deposit', 'Age', 'Available Extra Rooms in Hospital',\n",
       "       'Bed Grade', 'City_Code_Hospital', 'City_Code_Patient', 'Department',\n",
       "       'Hospital_code', 'Hospital_region_code', 'Hospital_type_code',\n",
       "       'Severity of Illness', 'Type of Admission', 'Visitors with Patient',\n",
       "       'Ward_Facility_Code', 'Ward_Type'],\n",
       "      dtype='object')"
      ]
     },
     "execution_count": 28,
     "metadata": {},
     "output_type": "execute_result"
    }
   ],
   "source": [
    "test.columns"
   ]
  },
  {
   "cell_type": "code",
   "execution_count": 132,
   "metadata": {},
   "outputs": [
    {
     "data": {
      "text/html": [
       "<div>\n",
       "<style scoped>\n",
       "    .dataframe tbody tr th:only-of-type {\n",
       "        vertical-align: middle;\n",
       "    }\n",
       "\n",
       "    .dataframe tbody tr th {\n",
       "        vertical-align: top;\n",
       "    }\n",
       "\n",
       "    .dataframe thead th {\n",
       "        text-align: right;\n",
       "    }\n",
       "</style>\n",
       "<table border=\"1\" class=\"dataframe\">\n",
       "  <thead>\n",
       "    <tr style=\"text-align: right;\">\n",
       "      <th></th>\n",
       "      <th>case_id</th>\n",
       "      <th>Stay</th>\n",
       "    </tr>\n",
       "  </thead>\n",
       "  <tbody>\n",
       "    <tr>\n",
       "      <td>0</td>\n",
       "      <td>318439</td>\n",
       "      <td>0</td>\n",
       "    </tr>\n",
       "    <tr>\n",
       "      <td>1</td>\n",
       "      <td>318440</td>\n",
       "      <td>5</td>\n",
       "    </tr>\n",
       "    <tr>\n",
       "      <td>2</td>\n",
       "      <td>318441</td>\n",
       "      <td>2</td>\n",
       "    </tr>\n",
       "    <tr>\n",
       "      <td>3</td>\n",
       "      <td>318442</td>\n",
       "      <td>2</td>\n",
       "    </tr>\n",
       "    <tr>\n",
       "      <td>4</td>\n",
       "      <td>318443</td>\n",
       "      <td>5</td>\n",
       "    </tr>\n",
       "    <tr>\n",
       "      <td>5</td>\n",
       "      <td>318444</td>\n",
       "      <td>2</td>\n",
       "    </tr>\n",
       "    <tr>\n",
       "      <td>6</td>\n",
       "      <td>318445</td>\n",
       "      <td>2</td>\n",
       "    </tr>\n",
       "    <tr>\n",
       "      <td>7</td>\n",
       "      <td>318446</td>\n",
       "      <td>1</td>\n",
       "    </tr>\n",
       "    <tr>\n",
       "      <td>8</td>\n",
       "      <td>318447</td>\n",
       "      <td>2</td>\n",
       "    </tr>\n",
       "    <tr>\n",
       "      <td>9</td>\n",
       "      <td>318448</td>\n",
       "      <td>2</td>\n",
       "    </tr>\n",
       "  </tbody>\n",
       "</table>\n",
       "</div>"
      ],
      "text/plain": [
       "   case_id  Stay\n",
       "0   318439     0\n",
       "1   318440     5\n",
       "2   318441     2\n",
       "3   318442     2\n",
       "4   318443     5\n",
       "5   318444     2\n",
       "6   318445     2\n",
       "7   318446     1\n",
       "8   318447     2\n",
       "9   318448     2"
      ]
     },
     "execution_count": 132,
     "metadata": {},
     "output_type": "execute_result"
    }
   ],
   "source": [
    "sub8.head(10)"
   ]
  },
  {
   "cell_type": "code",
   "execution_count": 204,
   "metadata": {},
   "outputs": [],
   "source": [
    "sub11.loc[sub11['Stay'] == 0, 'Stay'] = '0-10'\n",
    "sub11.loc[sub11['Stay'] == 1, 'Stay'] = '11-20'\n",
    "sub11.loc[sub11['Stay'] == 2, 'Stay'] = '21-30'\n",
    "sub11.loc[sub11['Stay'] == 3, 'Stay'] = '31-40'\n",
    "sub11.loc[sub11['Stay'] == 4, 'Stay'] = '41-50'\n",
    "sub11.loc[sub11['Stay'] == 5, 'Stay'] = '51-60'\n",
    "sub11.loc[sub11['Stay'] == 6, 'Stay'] = '61-70'\n",
    "sub11.loc[sub11['Stay'] == 7, 'Stay'] = '71-80'\n",
    "sub11.loc[sub11['Stay'] == 8, 'Stay'] = '81-90'\n",
    "sub11.loc[sub11['Stay'] == 9, 'Stay'] = '91-100'\n",
    "sub11.loc[sub11['Stay'] == 10, 'Stay'] = 'More than 100 Days'"
   ]
  },
  {
   "cell_type": "code",
   "execution_count": 205,
   "metadata": {},
   "outputs": [
    {
     "data": {
      "text/html": [
       "<div>\n",
       "<style scoped>\n",
       "    .dataframe tbody tr th:only-of-type {\n",
       "        vertical-align: middle;\n",
       "    }\n",
       "\n",
       "    .dataframe tbody tr th {\n",
       "        vertical-align: top;\n",
       "    }\n",
       "\n",
       "    .dataframe thead th {\n",
       "        text-align: right;\n",
       "    }\n",
       "</style>\n",
       "<table border=\"1\" class=\"dataframe\">\n",
       "  <thead>\n",
       "    <tr style=\"text-align: right;\">\n",
       "      <th></th>\n",
       "      <th>case_id</th>\n",
       "      <th>Stay</th>\n",
       "    </tr>\n",
       "  </thead>\n",
       "  <tbody>\n",
       "    <tr>\n",
       "      <td>0</td>\n",
       "      <td>318439</td>\n",
       "      <td>0-10</td>\n",
       "    </tr>\n",
       "    <tr>\n",
       "      <td>1</td>\n",
       "      <td>318440</td>\n",
       "      <td>51-60</td>\n",
       "    </tr>\n",
       "    <tr>\n",
       "      <td>2</td>\n",
       "      <td>318441</td>\n",
       "      <td>21-30</td>\n",
       "    </tr>\n",
       "    <tr>\n",
       "      <td>3</td>\n",
       "      <td>318442</td>\n",
       "      <td>21-30</td>\n",
       "    </tr>\n",
       "    <tr>\n",
       "      <td>4</td>\n",
       "      <td>318443</td>\n",
       "      <td>51-60</td>\n",
       "    </tr>\n",
       "    <tr>\n",
       "      <td>5</td>\n",
       "      <td>318444</td>\n",
       "      <td>21-30</td>\n",
       "    </tr>\n",
       "    <tr>\n",
       "      <td>6</td>\n",
       "      <td>318445</td>\n",
       "      <td>21-30</td>\n",
       "    </tr>\n",
       "    <tr>\n",
       "      <td>7</td>\n",
       "      <td>318446</td>\n",
       "      <td>11-20</td>\n",
       "    </tr>\n",
       "    <tr>\n",
       "      <td>8</td>\n",
       "      <td>318447</td>\n",
       "      <td>21-30</td>\n",
       "    </tr>\n",
       "    <tr>\n",
       "      <td>9</td>\n",
       "      <td>318448</td>\n",
       "      <td>21-30</td>\n",
       "    </tr>\n",
       "  </tbody>\n",
       "</table>\n",
       "</div>"
      ],
      "text/plain": [
       "   case_id   Stay\n",
       "0   318439   0-10\n",
       "1   318440  51-60\n",
       "2   318441  21-30\n",
       "3   318442  21-30\n",
       "4   318443  51-60\n",
       "5   318444  21-30\n",
       "6   318445  21-30\n",
       "7   318446  11-20\n",
       "8   318447  21-30\n",
       "9   318448  21-30"
      ]
     },
     "execution_count": 205,
     "metadata": {},
     "output_type": "execute_result"
    }
   ],
   "source": [
    "sub11.head(10)"
   ]
  },
  {
   "cell_type": "code",
   "execution_count": 206,
   "metadata": {},
   "outputs": [],
   "source": [
    "sub11.to_csv('sub11.csv', index=False)"
   ]
  },
  {
   "cell_type": "code",
   "execution_count": 218,
   "metadata": {},
   "outputs": [
    {
     "data": {
      "text/html": [
       "<div>\n",
       "<style scoped>\n",
       "    .dataframe tbody tr th:only-of-type {\n",
       "        vertical-align: middle;\n",
       "    }\n",
       "\n",
       "    .dataframe tbody tr th {\n",
       "        vertical-align: top;\n",
       "    }\n",
       "\n",
       "    .dataframe thead th {\n",
       "        text-align: right;\n",
       "    }\n",
       "</style>\n",
       "<table border=\"1\" class=\"dataframe\">\n",
       "  <thead>\n",
       "    <tr style=\"text-align: right;\">\n",
       "      <th></th>\n",
       "      <th>Admission_Deposit</th>\n",
       "      <th>Age</th>\n",
       "      <th>Available Extra Rooms in Hospital</th>\n",
       "      <th>Bed Grade</th>\n",
       "      <th>City_Code_Hospital</th>\n",
       "      <th>City_Code_Patient</th>\n",
       "      <th>Department</th>\n",
       "      <th>Hospital_code</th>\n",
       "      <th>Hospital_region_code</th>\n",
       "      <th>Hospital_type_code</th>\n",
       "      <th>Severity of Illness</th>\n",
       "      <th>Type of Admission</th>\n",
       "      <th>Visitors with Patient</th>\n",
       "      <th>Ward_Facility_Code</th>\n",
       "      <th>Ward_Type</th>\n",
       "    </tr>\n",
       "  </thead>\n",
       "  <tbody>\n",
       "    <tr>\n",
       "      <td>0</td>\n",
       "      <td>4911.0</td>\n",
       "      <td>5</td>\n",
       "      <td>3</td>\n",
       "      <td>2.0</td>\n",
       "      <td>3</td>\n",
       "      <td>7.0</td>\n",
       "      <td>3</td>\n",
       "      <td>8</td>\n",
       "      <td>2</td>\n",
       "      <td>2</td>\n",
       "      <td>0</td>\n",
       "      <td>0</td>\n",
       "      <td>2</td>\n",
       "      <td>5</td>\n",
       "      <td>2</td>\n",
       "    </tr>\n",
       "    <tr>\n",
       "      <td>1</td>\n",
       "      <td>5954.0</td>\n",
       "      <td>5</td>\n",
       "      <td>2</td>\n",
       "      <td>2.0</td>\n",
       "      <td>5</td>\n",
       "      <td>7.0</td>\n",
       "      <td>3</td>\n",
       "      <td>2</td>\n",
       "      <td>2</td>\n",
       "      <td>2</td>\n",
       "      <td>0</td>\n",
       "      <td>1</td>\n",
       "      <td>2</td>\n",
       "      <td>5</td>\n",
       "      <td>3</td>\n",
       "    </tr>\n",
       "    <tr>\n",
       "      <td>2</td>\n",
       "      <td>4745.0</td>\n",
       "      <td>5</td>\n",
       "      <td>2</td>\n",
       "      <td>2.0</td>\n",
       "      <td>1</td>\n",
       "      <td>7.0</td>\n",
       "      <td>1</td>\n",
       "      <td>10</td>\n",
       "      <td>0</td>\n",
       "      <td>4</td>\n",
       "      <td>0</td>\n",
       "      <td>1</td>\n",
       "      <td>2</td>\n",
       "      <td>4</td>\n",
       "      <td>3</td>\n",
       "    </tr>\n",
       "    <tr>\n",
       "      <td>3</td>\n",
       "      <td>7272.0</td>\n",
       "      <td>5</td>\n",
       "      <td>2</td>\n",
       "      <td>2.0</td>\n",
       "      <td>2</td>\n",
       "      <td>7.0</td>\n",
       "      <td>3</td>\n",
       "      <td>26</td>\n",
       "      <td>1</td>\n",
       "      <td>1</td>\n",
       "      <td>0</td>\n",
       "      <td>1</td>\n",
       "      <td>2</td>\n",
       "      <td>3</td>\n",
       "      <td>2</td>\n",
       "    </tr>\n",
       "    <tr>\n",
       "      <td>4</td>\n",
       "      <td>5558.0</td>\n",
       "      <td>5</td>\n",
       "      <td>2</td>\n",
       "      <td>2.0</td>\n",
       "      <td>2</td>\n",
       "      <td>7.0</td>\n",
       "      <td>3</td>\n",
       "      <td>26</td>\n",
       "      <td>1</td>\n",
       "      <td>1</td>\n",
       "      <td>0</td>\n",
       "      <td>1</td>\n",
       "      <td>2</td>\n",
       "      <td>3</td>\n",
       "      <td>3</td>\n",
       "    </tr>\n",
       "  </tbody>\n",
       "</table>\n",
       "</div>"
      ],
      "text/plain": [
       "   Admission_Deposit  Age  Available Extra Rooms in Hospital  Bed Grade  \\\n",
       "0             4911.0    5                                  3        2.0   \n",
       "1             5954.0    5                                  2        2.0   \n",
       "2             4745.0    5                                  2        2.0   \n",
       "3             7272.0    5                                  2        2.0   \n",
       "4             5558.0    5                                  2        2.0   \n",
       "\n",
       "   City_Code_Hospital  City_Code_Patient  Department  Hospital_code  \\\n",
       "0                   3                7.0           3              8   \n",
       "1                   5                7.0           3              2   \n",
       "2                   1                7.0           1             10   \n",
       "3                   2                7.0           3             26   \n",
       "4                   2                7.0           3             26   \n",
       "\n",
       "   Hospital_region_code  Hospital_type_code  Severity of Illness  \\\n",
       "0                     2                   2                    0   \n",
       "1                     2                   2                    0   \n",
       "2                     0                   4                    0   \n",
       "3                     1                   1                    0   \n",
       "4                     1                   1                    0   \n",
       "\n",
       "   Type of Admission  Visitors with Patient  Ward_Facility_Code  Ward_Type  \n",
       "0                  0                      2                   5          2  \n",
       "1                  1                      2                   5          3  \n",
       "2                  1                      2                   4          3  \n",
       "3                  1                      2                   3          2  \n",
       "4                  1                      2                   3          3  "
      ]
     },
     "execution_count": 218,
     "metadata": {},
     "output_type": "execute_result"
    }
   ],
   "source": [
    "train.head()"
   ]
  },
  {
   "cell_type": "code",
   "execution_count": 324,
   "metadata": {},
   "outputs": [],
   "source": [
    "def agg_numeric(df, parent_var, df_name):\n",
    "    \"\"\"\n",
    "    Groups and aggregates the numeric values in a child dataframe\n",
    "    by the parent variable.\n",
    "    \n",
    "    Parameters\n",
    "    --------\n",
    "        df (dataframe): \n",
    "            the child dataframe to calculate the statistics on\n",
    "        parent_var (string): \n",
    "            the parent variable used for grouping and aggregating\n",
    "        df_name (string): \n",
    "            the variable used to rename the columns\n",
    "        \n",
    "    Return\n",
    "    --------\n",
    "        agg (dataframe): \n",
    "            a dataframe with the statistics aggregated by the `parent_var` for \n",
    "            all numeric columns. Each observation of the parent variable will have \n",
    "            one row in the dataframe with the parent variable as the index. \n",
    "            The columns are also renamed using the `df_name`. Columns with all duplicate\n",
    "            values are removed. \n",
    "    \n",
    "    \"\"\"\n",
    "    \n",
    "            \n",
    "    # Only want the numeric variables\n",
    "    parent_ids = df['patientid'].copy()\n",
    "    numeric_df = df[['patientid', 'Hospital_code', 'Hospital_region_code', 'Ward_Facility_Code', 'Hospital_type_code']]\n",
    "    numeric_df[parent_var] = parent_ids\n",
    "\n",
    "    # Group by the specified variable and calculate the statistics\n",
    "    agg = numeric_df.groupby('patientid').agg(['count', 'mean', 'max', 'min', 'sum'])\n",
    "\n",
    "    # Need to create new column names\n",
    "    columns = []\n",
    "\n",
    "    # Iterate through the variables names\n",
    "    for var in agg.columns.levels[0]:\n",
    "        if var != parent_var:\n",
    "            # Iterate through the stat names\n",
    "            for stat in agg.columns.levels[1]:\n",
    "                # Make a new column name for the variable and stat\n",
    "                columns.append('%s_%s_%s' % (df_name, var, stat))\n",
    "    \n",
    "    agg.columns = columns\n",
    "    \n",
    "    # Remove the columns with all redundant values\n",
    "    _, idx = np.unique(agg, axis = 1, return_index=True)\n",
    "    agg = agg.iloc[:, idx]\n",
    "    \n",
    "    return agg"
   ]
  },
  {
   "cell_type": "code",
   "execution_count": 323,
   "metadata": {},
   "outputs": [
    {
     "data": {
      "text/html": [
       "<div>\n",
       "<style scoped>\n",
       "    .dataframe tbody tr th:only-of-type {\n",
       "        vertical-align: middle;\n",
       "    }\n",
       "\n",
       "    .dataframe tbody tr th {\n",
       "        vertical-align: top;\n",
       "    }\n",
       "\n",
       "    .dataframe thead th {\n",
       "        text-align: right;\n",
       "    }\n",
       "</style>\n",
       "<table border=\"1\" class=\"dataframe\">\n",
       "  <thead>\n",
       "    <tr style=\"text-align: right;\">\n",
       "      <th></th>\n",
       "      <th>Admission_Deposit</th>\n",
       "      <th>Age</th>\n",
       "      <th>Available Extra Rooms in Hospital</th>\n",
       "      <th>Bed Grade</th>\n",
       "      <th>City_Code_Hospital</th>\n",
       "      <th>City_Code_Patient</th>\n",
       "      <th>Department</th>\n",
       "      <th>Hospital_code</th>\n",
       "      <th>Hospital_region_code</th>\n",
       "      <th>Hospital_type_code</th>\n",
       "      <th>Severity of Illness</th>\n",
       "      <th>Stay</th>\n",
       "      <th>Type of Admission</th>\n",
       "      <th>Visitors with Patient</th>\n",
       "      <th>Ward_Facility_Code</th>\n",
       "      <th>Ward_Type</th>\n",
       "      <th>case_id</th>\n",
       "      <th>flag</th>\n",
       "      <th>patientid</th>\n",
       "    </tr>\n",
       "  </thead>\n",
       "  <tbody>\n",
       "    <tr>\n",
       "      <td>0</td>\n",
       "      <td>4911.0</td>\n",
       "      <td>5</td>\n",
       "      <td>3</td>\n",
       "      <td>2.0</td>\n",
       "      <td>3</td>\n",
       "      <td>7.0</td>\n",
       "      <td>3</td>\n",
       "      <td>8</td>\n",
       "      <td>2</td>\n",
       "      <td>2</td>\n",
       "      <td>0</td>\n",
       "      <td>0-10</td>\n",
       "      <td>0</td>\n",
       "      <td>2</td>\n",
       "      <td>5</td>\n",
       "      <td>2</td>\n",
       "      <td>1</td>\n",
       "      <td>1</td>\n",
       "      <td>31397</td>\n",
       "    </tr>\n",
       "    <tr>\n",
       "      <td>1</td>\n",
       "      <td>5954.0</td>\n",
       "      <td>5</td>\n",
       "      <td>2</td>\n",
       "      <td>2.0</td>\n",
       "      <td>5</td>\n",
       "      <td>7.0</td>\n",
       "      <td>3</td>\n",
       "      <td>2</td>\n",
       "      <td>2</td>\n",
       "      <td>2</td>\n",
       "      <td>0</td>\n",
       "      <td>41-50</td>\n",
       "      <td>1</td>\n",
       "      <td>2</td>\n",
       "      <td>5</td>\n",
       "      <td>3</td>\n",
       "      <td>2</td>\n",
       "      <td>1</td>\n",
       "      <td>31397</td>\n",
       "    </tr>\n",
       "    <tr>\n",
       "      <td>2</td>\n",
       "      <td>4745.0</td>\n",
       "      <td>5</td>\n",
       "      <td>2</td>\n",
       "      <td>2.0</td>\n",
       "      <td>1</td>\n",
       "      <td>7.0</td>\n",
       "      <td>1</td>\n",
       "      <td>10</td>\n",
       "      <td>0</td>\n",
       "      <td>4</td>\n",
       "      <td>0</td>\n",
       "      <td>31-40</td>\n",
       "      <td>1</td>\n",
       "      <td>2</td>\n",
       "      <td>4</td>\n",
       "      <td>3</td>\n",
       "      <td>3</td>\n",
       "      <td>1</td>\n",
       "      <td>31397</td>\n",
       "    </tr>\n",
       "    <tr>\n",
       "      <td>3</td>\n",
       "      <td>7272.0</td>\n",
       "      <td>5</td>\n",
       "      <td>2</td>\n",
       "      <td>2.0</td>\n",
       "      <td>2</td>\n",
       "      <td>7.0</td>\n",
       "      <td>3</td>\n",
       "      <td>26</td>\n",
       "      <td>1</td>\n",
       "      <td>1</td>\n",
       "      <td>0</td>\n",
       "      <td>41-50</td>\n",
       "      <td>1</td>\n",
       "      <td>2</td>\n",
       "      <td>3</td>\n",
       "      <td>2</td>\n",
       "      <td>4</td>\n",
       "      <td>1</td>\n",
       "      <td>31397</td>\n",
       "    </tr>\n",
       "    <tr>\n",
       "      <td>4</td>\n",
       "      <td>5558.0</td>\n",
       "      <td>5</td>\n",
       "      <td>2</td>\n",
       "      <td>2.0</td>\n",
       "      <td>2</td>\n",
       "      <td>7.0</td>\n",
       "      <td>3</td>\n",
       "      <td>26</td>\n",
       "      <td>1</td>\n",
       "      <td>1</td>\n",
       "      <td>0</td>\n",
       "      <td>41-50</td>\n",
       "      <td>1</td>\n",
       "      <td>2</td>\n",
       "      <td>3</td>\n",
       "      <td>3</td>\n",
       "      <td>5</td>\n",
       "      <td>1</td>\n",
       "      <td>31397</td>\n",
       "    </tr>\n",
       "  </tbody>\n",
       "</table>\n",
       "</div>"
      ],
      "text/plain": [
       "   Admission_Deposit  Age  Available Extra Rooms in Hospital  Bed Grade  \\\n",
       "0             4911.0    5                                  3        2.0   \n",
       "1             5954.0    5                                  2        2.0   \n",
       "2             4745.0    5                                  2        2.0   \n",
       "3             7272.0    5                                  2        2.0   \n",
       "4             5558.0    5                                  2        2.0   \n",
       "\n",
       "   City_Code_Hospital  City_Code_Patient  Department  Hospital_code  \\\n",
       "0                   3                7.0           3              8   \n",
       "1                   5                7.0           3              2   \n",
       "2                   1                7.0           1             10   \n",
       "3                   2                7.0           3             26   \n",
       "4                   2                7.0           3             26   \n",
       "\n",
       "   Hospital_region_code  Hospital_type_code  Severity of Illness   Stay  \\\n",
       "0                     2                   2                    0   0-10   \n",
       "1                     2                   2                    0  41-50   \n",
       "2                     0                   4                    0  31-40   \n",
       "3                     1                   1                    0  41-50   \n",
       "4                     1                   1                    0  41-50   \n",
       "\n",
       "   Type of Admission  Visitors with Patient  Ward_Facility_Code  Ward_Type  \\\n",
       "0                  0                      2                   5          2   \n",
       "1                  1                      2                   5          3   \n",
       "2                  1                      2                   4          3   \n",
       "3                  1                      2                   3          2   \n",
       "4                  1                      2                   3          3   \n",
       "\n",
       "   case_id  flag  patientid  \n",
       "0        1     1      31397  \n",
       "1        2     1      31397  \n",
       "2        3     1      31397  \n",
       "3        4     1      31397  \n",
       "4        5     1      31397  "
      ]
     },
     "execution_count": 323,
     "metadata": {},
     "output_type": "execute_result"
    }
   ],
   "source": [
    "data.head()"
   ]
  },
  {
   "cell_type": "code",
   "execution_count": 325,
   "metadata": {},
   "outputs": [],
   "source": [
    "train_1 = train.copy()"
   ]
  },
  {
   "cell_type": "code",
   "execution_count": 326,
   "metadata": {},
   "outputs": [
    {
     "name": "stdout",
     "output_type": "stream",
     "text": [
      "PID aggregate shape:  (92017, 17)\n"
     ]
    }
   ],
   "source": [
    "PID_aggregate = agg_numeric(train, 'patientid', 'agg')\n",
    "print('PID aggregate shape: ', PID_aggregate.shape)\n",
    "train=train.merge(PID_aggregate, on ='patientid', how = 'left')"
   ]
  },
  {
   "cell_type": "code",
   "execution_count": 329,
   "metadata": {},
   "outputs": [
    {
     "data": {
      "text/html": [
       "<div>\n",
       "<style scoped>\n",
       "    .dataframe tbody tr th:only-of-type {\n",
       "        vertical-align: middle;\n",
       "    }\n",
       "\n",
       "    .dataframe tbody tr th {\n",
       "        vertical-align: top;\n",
       "    }\n",
       "\n",
       "    .dataframe thead th {\n",
       "        text-align: right;\n",
       "    }\n",
       "</style>\n",
       "<table border=\"1\" class=\"dataframe\">\n",
       "  <thead>\n",
       "    <tr style=\"text-align: right;\">\n",
       "      <th></th>\n",
       "      <th>Admission_Deposit</th>\n",
       "      <th>Age</th>\n",
       "      <th>Available Extra Rooms in Hospital</th>\n",
       "      <th>Bed Grade</th>\n",
       "      <th>City_Code_Hospital</th>\n",
       "      <th>City_Code_Patient</th>\n",
       "      <th>Department</th>\n",
       "      <th>Hospital_code</th>\n",
       "      <th>Hospital_region_code</th>\n",
       "      <th>Hospital_type_code</th>\n",
       "      <th>Severity of Illness</th>\n",
       "      <th>Stay</th>\n",
       "      <th>Type of Admission</th>\n",
       "      <th>Visitors with Patient</th>\n",
       "      <th>Ward_Facility_Code</th>\n",
       "      <th>Ward_Type</th>\n",
       "      <th>case_id</th>\n",
       "      <th>flag</th>\n",
       "      <th>patientid</th>\n",
       "      <th>agg_Ward_Facility_Code_min</th>\n",
       "      <th>agg_Hospital_type_code_min</th>\n",
       "      <th>agg_Hospital_region_code_min</th>\n",
       "      <th>agg_Hospital_region_code_mean</th>\n",
       "      <th>agg_Ward_Facility_Code_mean</th>\n",
       "      <th>agg_Hospital_region_code_max</th>\n",
       "      <th>agg_Hospital_type_code_mean</th>\n",
       "      <th>agg_Ward_Facility_Code_max</th>\n",
       "      <th>agg_Hospital_code_min</th>\n",
       "      <th>agg_Hospital_code_count</th>\n",
       "      <th>agg_Hospital_region_code_sum</th>\n",
       "      <th>agg_Hospital_type_code_max</th>\n",
       "      <th>agg_Ward_Facility_Code_sum</th>\n",
       "      <th>agg_Hospital_type_code_sum</th>\n",
       "      <th>agg_Hospital_code_mean</th>\n",
       "      <th>agg_Hospital_code_max</th>\n",
       "      <th>agg_Hospital_code_sum</th>\n",
       "    </tr>\n",
       "  </thead>\n",
       "  <tbody>\n",
       "    <tr>\n",
       "      <td>0</td>\n",
       "      <td>4911.0</td>\n",
       "      <td>5</td>\n",
       "      <td>3</td>\n",
       "      <td>2.0</td>\n",
       "      <td>3</td>\n",
       "      <td>7.0</td>\n",
       "      <td>3</td>\n",
       "      <td>8</td>\n",
       "      <td>2</td>\n",
       "      <td>2</td>\n",
       "      <td>0</td>\n",
       "      <td>0</td>\n",
       "      <td>0</td>\n",
       "      <td>2</td>\n",
       "      <td>5</td>\n",
       "      <td>2</td>\n",
       "      <td>1</td>\n",
       "      <td>1</td>\n",
       "      <td>31397</td>\n",
       "      <td>0</td>\n",
       "      <td>0</td>\n",
       "      <td>0</td>\n",
       "      <td>1.0</td>\n",
       "      <td>3.214286</td>\n",
       "      <td>2</td>\n",
       "      <td>2.428571</td>\n",
       "      <td>5</td>\n",
       "      <td>1</td>\n",
       "      <td>14</td>\n",
       "      <td>14</td>\n",
       "      <td>6</td>\n",
       "      <td>45</td>\n",
       "      <td>34</td>\n",
       "      <td>16.714286</td>\n",
       "      <td>32</td>\n",
       "      <td>234</td>\n",
       "    </tr>\n",
       "    <tr>\n",
       "      <td>1</td>\n",
       "      <td>5954.0</td>\n",
       "      <td>5</td>\n",
       "      <td>2</td>\n",
       "      <td>2.0</td>\n",
       "      <td>5</td>\n",
       "      <td>7.0</td>\n",
       "      <td>3</td>\n",
       "      <td>2</td>\n",
       "      <td>2</td>\n",
       "      <td>2</td>\n",
       "      <td>0</td>\n",
       "      <td>4</td>\n",
       "      <td>1</td>\n",
       "      <td>2</td>\n",
       "      <td>5</td>\n",
       "      <td>3</td>\n",
       "      <td>2</td>\n",
       "      <td>1</td>\n",
       "      <td>31397</td>\n",
       "      <td>0</td>\n",
       "      <td>0</td>\n",
       "      <td>0</td>\n",
       "      <td>1.0</td>\n",
       "      <td>3.214286</td>\n",
       "      <td>2</td>\n",
       "      <td>2.428571</td>\n",
       "      <td>5</td>\n",
       "      <td>1</td>\n",
       "      <td>14</td>\n",
       "      <td>14</td>\n",
       "      <td>6</td>\n",
       "      <td>45</td>\n",
       "      <td>34</td>\n",
       "      <td>16.714286</td>\n",
       "      <td>32</td>\n",
       "      <td>234</td>\n",
       "    </tr>\n",
       "    <tr>\n",
       "      <td>2</td>\n",
       "      <td>4745.0</td>\n",
       "      <td>5</td>\n",
       "      <td>2</td>\n",
       "      <td>2.0</td>\n",
       "      <td>1</td>\n",
       "      <td>7.0</td>\n",
       "      <td>1</td>\n",
       "      <td>10</td>\n",
       "      <td>0</td>\n",
       "      <td>4</td>\n",
       "      <td>0</td>\n",
       "      <td>3</td>\n",
       "      <td>1</td>\n",
       "      <td>2</td>\n",
       "      <td>4</td>\n",
       "      <td>3</td>\n",
       "      <td>3</td>\n",
       "      <td>1</td>\n",
       "      <td>31397</td>\n",
       "      <td>0</td>\n",
       "      <td>0</td>\n",
       "      <td>0</td>\n",
       "      <td>1.0</td>\n",
       "      <td>3.214286</td>\n",
       "      <td>2</td>\n",
       "      <td>2.428571</td>\n",
       "      <td>5</td>\n",
       "      <td>1</td>\n",
       "      <td>14</td>\n",
       "      <td>14</td>\n",
       "      <td>6</td>\n",
       "      <td>45</td>\n",
       "      <td>34</td>\n",
       "      <td>16.714286</td>\n",
       "      <td>32</td>\n",
       "      <td>234</td>\n",
       "    </tr>\n",
       "    <tr>\n",
       "      <td>3</td>\n",
       "      <td>7272.0</td>\n",
       "      <td>5</td>\n",
       "      <td>2</td>\n",
       "      <td>2.0</td>\n",
       "      <td>2</td>\n",
       "      <td>7.0</td>\n",
       "      <td>3</td>\n",
       "      <td>26</td>\n",
       "      <td>1</td>\n",
       "      <td>1</td>\n",
       "      <td>0</td>\n",
       "      <td>4</td>\n",
       "      <td>1</td>\n",
       "      <td>2</td>\n",
       "      <td>3</td>\n",
       "      <td>2</td>\n",
       "      <td>4</td>\n",
       "      <td>1</td>\n",
       "      <td>31397</td>\n",
       "      <td>0</td>\n",
       "      <td>0</td>\n",
       "      <td>0</td>\n",
       "      <td>1.0</td>\n",
       "      <td>3.214286</td>\n",
       "      <td>2</td>\n",
       "      <td>2.428571</td>\n",
       "      <td>5</td>\n",
       "      <td>1</td>\n",
       "      <td>14</td>\n",
       "      <td>14</td>\n",
       "      <td>6</td>\n",
       "      <td>45</td>\n",
       "      <td>34</td>\n",
       "      <td>16.714286</td>\n",
       "      <td>32</td>\n",
       "      <td>234</td>\n",
       "    </tr>\n",
       "    <tr>\n",
       "      <td>4</td>\n",
       "      <td>5558.0</td>\n",
       "      <td>5</td>\n",
       "      <td>2</td>\n",
       "      <td>2.0</td>\n",
       "      <td>2</td>\n",
       "      <td>7.0</td>\n",
       "      <td>3</td>\n",
       "      <td>26</td>\n",
       "      <td>1</td>\n",
       "      <td>1</td>\n",
       "      <td>0</td>\n",
       "      <td>4</td>\n",
       "      <td>1</td>\n",
       "      <td>2</td>\n",
       "      <td>3</td>\n",
       "      <td>3</td>\n",
       "      <td>5</td>\n",
       "      <td>1</td>\n",
       "      <td>31397</td>\n",
       "      <td>0</td>\n",
       "      <td>0</td>\n",
       "      <td>0</td>\n",
       "      <td>1.0</td>\n",
       "      <td>3.214286</td>\n",
       "      <td>2</td>\n",
       "      <td>2.428571</td>\n",
       "      <td>5</td>\n",
       "      <td>1</td>\n",
       "      <td>14</td>\n",
       "      <td>14</td>\n",
       "      <td>6</td>\n",
       "      <td>45</td>\n",
       "      <td>34</td>\n",
       "      <td>16.714286</td>\n",
       "      <td>32</td>\n",
       "      <td>234</td>\n",
       "    </tr>\n",
       "  </tbody>\n",
       "</table>\n",
       "</div>"
      ],
      "text/plain": [
       "   Admission_Deposit  Age  Available Extra Rooms in Hospital  Bed Grade  \\\n",
       "0             4911.0    5                                  3        2.0   \n",
       "1             5954.0    5                                  2        2.0   \n",
       "2             4745.0    5                                  2        2.0   \n",
       "3             7272.0    5                                  2        2.0   \n",
       "4             5558.0    5                                  2        2.0   \n",
       "\n",
       "   City_Code_Hospital  City_Code_Patient  Department  Hospital_code  \\\n",
       "0                   3                7.0           3              8   \n",
       "1                   5                7.0           3              2   \n",
       "2                   1                7.0           1             10   \n",
       "3                   2                7.0           3             26   \n",
       "4                   2                7.0           3             26   \n",
       "\n",
       "   Hospital_region_code  Hospital_type_code  Severity of Illness  Stay  \\\n",
       "0                     2                   2                    0     0   \n",
       "1                     2                   2                    0     4   \n",
       "2                     0                   4                    0     3   \n",
       "3                     1                   1                    0     4   \n",
       "4                     1                   1                    0     4   \n",
       "\n",
       "   Type of Admission  Visitors with Patient  Ward_Facility_Code  Ward_Type  \\\n",
       "0                  0                      2                   5          2   \n",
       "1                  1                      2                   5          3   \n",
       "2                  1                      2                   4          3   \n",
       "3                  1                      2                   3          2   \n",
       "4                  1                      2                   3          3   \n",
       "\n",
       "   case_id  flag  patientid  agg_Ward_Facility_Code_min  \\\n",
       "0        1     1      31397                           0   \n",
       "1        2     1      31397                           0   \n",
       "2        3     1      31397                           0   \n",
       "3        4     1      31397                           0   \n",
       "4        5     1      31397                           0   \n",
       "\n",
       "   agg_Hospital_type_code_min  agg_Hospital_region_code_min  \\\n",
       "0                           0                             0   \n",
       "1                           0                             0   \n",
       "2                           0                             0   \n",
       "3                           0                             0   \n",
       "4                           0                             0   \n",
       "\n",
       "   agg_Hospital_region_code_mean  agg_Ward_Facility_Code_mean  \\\n",
       "0                            1.0                     3.214286   \n",
       "1                            1.0                     3.214286   \n",
       "2                            1.0                     3.214286   \n",
       "3                            1.0                     3.214286   \n",
       "4                            1.0                     3.214286   \n",
       "\n",
       "   agg_Hospital_region_code_max  agg_Hospital_type_code_mean  \\\n",
       "0                             2                     2.428571   \n",
       "1                             2                     2.428571   \n",
       "2                             2                     2.428571   \n",
       "3                             2                     2.428571   \n",
       "4                             2                     2.428571   \n",
       "\n",
       "   agg_Ward_Facility_Code_max  agg_Hospital_code_min  agg_Hospital_code_count  \\\n",
       "0                           5                      1                       14   \n",
       "1                           5                      1                       14   \n",
       "2                           5                      1                       14   \n",
       "3                           5                      1                       14   \n",
       "4                           5                      1                       14   \n",
       "\n",
       "   agg_Hospital_region_code_sum  agg_Hospital_type_code_max  \\\n",
       "0                            14                           6   \n",
       "1                            14                           6   \n",
       "2                            14                           6   \n",
       "3                            14                           6   \n",
       "4                            14                           6   \n",
       "\n",
       "   agg_Ward_Facility_Code_sum  agg_Hospital_type_code_sum  \\\n",
       "0                          45                          34   \n",
       "1                          45                          34   \n",
       "2                          45                          34   \n",
       "3                          45                          34   \n",
       "4                          45                          34   \n",
       "\n",
       "   agg_Hospital_code_mean  agg_Hospital_code_max  agg_Hospital_code_sum  \n",
       "0               16.714286                     32                    234  \n",
       "1               16.714286                     32                    234  \n",
       "2               16.714286                     32                    234  \n",
       "3               16.714286                     32                    234  \n",
       "4               16.714286                     32                    234  "
      ]
     },
     "execution_count": 329,
     "metadata": {},
     "output_type": "execute_result"
    }
   ],
   "source": [
    "train.head()"
   ]
  },
  {
   "cell_type": "code",
   "execution_count": 328,
   "metadata": {},
   "outputs": [],
   "source": [
    "pd.set_option('display.max_columns', None)"
   ]
  },
  {
   "cell_type": "code",
   "execution_count": 330,
   "metadata": {},
   "outputs": [
    {
     "data": {
      "text/plain": [
       "92017"
      ]
     },
     "execution_count": 330,
     "metadata": {},
     "output_type": "execute_result"
    }
   ],
   "source": [
    "len(train['patientid'].unique())"
   ]
  },
  {
   "cell_type": "code",
   "execution_count": 331,
   "metadata": {},
   "outputs": [
    {
     "data": {
      "text/plain": [
       "(318438, 36)"
      ]
     },
     "execution_count": 331,
     "metadata": {},
     "output_type": "execute_result"
    }
   ],
   "source": [
    "train.shape"
   ]
  },
  {
   "cell_type": "code",
   "execution_count": 351,
   "metadata": {},
   "outputs": [],
   "source": [
    "traindf = train_1.groupby(['patientid', 'Hospital_code'])['Hospital_code'].count().to_frame()"
   ]
  },
  {
   "cell_type": "code",
   "execution_count": 352,
   "metadata": {},
   "outputs": [
    {
     "data": {
      "text/html": [
       "<div>\n",
       "<style scoped>\n",
       "    .dataframe tbody tr th:only-of-type {\n",
       "        vertical-align: middle;\n",
       "    }\n",
       "\n",
       "    .dataframe tbody tr th {\n",
       "        vertical-align: top;\n",
       "    }\n",
       "\n",
       "    .dataframe thead th {\n",
       "        text-align: right;\n",
       "    }\n",
       "</style>\n",
       "<table border=\"1\" class=\"dataframe\">\n",
       "  <thead>\n",
       "    <tr style=\"text-align: right;\">\n",
       "      <th></th>\n",
       "      <th></th>\n",
       "      <th>Hospital_code</th>\n",
       "    </tr>\n",
       "    <tr>\n",
       "      <th>patientid</th>\n",
       "      <th>Hospital_code</th>\n",
       "      <th></th>\n",
       "    </tr>\n",
       "  </thead>\n",
       "  <tbody>\n",
       "    <tr>\n",
       "      <td rowspan=\"4\" valign=\"top\">1</td>\n",
       "      <td>3</td>\n",
       "      <td>1</td>\n",
       "    </tr>\n",
       "    <tr>\n",
       "      <td>22</td>\n",
       "      <td>1</td>\n",
       "    </tr>\n",
       "    <tr>\n",
       "      <td>26</td>\n",
       "      <td>1</td>\n",
       "    </tr>\n",
       "    <tr>\n",
       "      <td>27</td>\n",
       "      <td>1</td>\n",
       "    </tr>\n",
       "    <tr>\n",
       "      <td rowspan=\"2\" valign=\"top\">2</td>\n",
       "      <td>11</td>\n",
       "      <td>1</td>\n",
       "    </tr>\n",
       "    <tr>\n",
       "      <td>21</td>\n",
       "      <td>1</td>\n",
       "    </tr>\n",
       "    <tr>\n",
       "      <td rowspan=\"2\" valign=\"top\">4</td>\n",
       "      <td>21</td>\n",
       "      <td>1</td>\n",
       "    </tr>\n",
       "    <tr>\n",
       "      <td>24</td>\n",
       "      <td>1</td>\n",
       "    </tr>\n",
       "    <tr>\n",
       "      <td>6</td>\n",
       "      <td>30</td>\n",
       "      <td>1</td>\n",
       "    </tr>\n",
       "    <tr>\n",
       "      <td rowspan=\"4\" valign=\"top\">7</td>\n",
       "      <td>10</td>\n",
       "      <td>1</td>\n",
       "    </tr>\n",
       "    <tr>\n",
       "      <td>11</td>\n",
       "      <td>1</td>\n",
       "    </tr>\n",
       "    <tr>\n",
       "      <td>14</td>\n",
       "      <td>1</td>\n",
       "    </tr>\n",
       "    <tr>\n",
       "      <td>24</td>\n",
       "      <td>1</td>\n",
       "    </tr>\n",
       "    <tr>\n",
       "      <td rowspan=\"2\" valign=\"top\">9</td>\n",
       "      <td>19</td>\n",
       "      <td>1</td>\n",
       "    </tr>\n",
       "    <tr>\n",
       "      <td>26</td>\n",
       "      <td>1</td>\n",
       "    </tr>\n",
       "    <tr>\n",
       "      <td rowspan=\"2\" valign=\"top\">10</td>\n",
       "      <td>7</td>\n",
       "      <td>1</td>\n",
       "    </tr>\n",
       "    <tr>\n",
       "      <td>29</td>\n",
       "      <td>1</td>\n",
       "    </tr>\n",
       "    <tr>\n",
       "      <td rowspan=\"2\" valign=\"top\">13</td>\n",
       "      <td>25</td>\n",
       "      <td>2</td>\n",
       "    </tr>\n",
       "    <tr>\n",
       "      <td>28</td>\n",
       "      <td>1</td>\n",
       "    </tr>\n",
       "    <tr>\n",
       "      <td>14</td>\n",
       "      <td>6</td>\n",
       "      <td>1</td>\n",
       "    </tr>\n",
       "  </tbody>\n",
       "</table>\n",
       "</div>"
      ],
      "text/plain": [
       "                         Hospital_code\n",
       "patientid Hospital_code               \n",
       "1         3                          1\n",
       "          22                         1\n",
       "          26                         1\n",
       "          27                         1\n",
       "2         11                         1\n",
       "          21                         1\n",
       "4         21                         1\n",
       "          24                         1\n",
       "6         30                         1\n",
       "7         10                         1\n",
       "          11                         1\n",
       "          14                         1\n",
       "          24                         1\n",
       "9         19                         1\n",
       "          26                         1\n",
       "10        7                          1\n",
       "          29                         1\n",
       "13        25                         2\n",
       "          28                         1\n",
       "14        6                          1"
      ]
     },
     "execution_count": 352,
     "metadata": {},
     "output_type": "execute_result"
    }
   ],
   "source": [
    "traindf.head(20)"
   ]
  },
  {
   "cell_type": "code",
   "execution_count": 353,
   "metadata": {},
   "outputs": [],
   "source": [
    "traindf.rename(columns = {'Hospital_code':'Count'}, inplace=True)\n",
    "traindf.reset_index(inplace=True)"
   ]
  },
  {
   "cell_type": "code",
   "execution_count": 354,
   "metadata": {},
   "outputs": [
    {
     "data": {
      "text/html": [
       "<div>\n",
       "<style scoped>\n",
       "    .dataframe tbody tr th:only-of-type {\n",
       "        vertical-align: middle;\n",
       "    }\n",
       "\n",
       "    .dataframe tbody tr th {\n",
       "        vertical-align: top;\n",
       "    }\n",
       "\n",
       "    .dataframe thead th {\n",
       "        text-align: right;\n",
       "    }\n",
       "</style>\n",
       "<table border=\"1\" class=\"dataframe\">\n",
       "  <thead>\n",
       "    <tr style=\"text-align: right;\">\n",
       "      <th></th>\n",
       "      <th>patientid</th>\n",
       "      <th>Hospital_code</th>\n",
       "      <th>Count</th>\n",
       "    </tr>\n",
       "  </thead>\n",
       "  <tbody>\n",
       "    <tr>\n",
       "      <td>0</td>\n",
       "      <td>1</td>\n",
       "      <td>3</td>\n",
       "      <td>1</td>\n",
       "    </tr>\n",
       "    <tr>\n",
       "      <td>1</td>\n",
       "      <td>1</td>\n",
       "      <td>22</td>\n",
       "      <td>1</td>\n",
       "    </tr>\n",
       "    <tr>\n",
       "      <td>2</td>\n",
       "      <td>1</td>\n",
       "      <td>26</td>\n",
       "      <td>1</td>\n",
       "    </tr>\n",
       "    <tr>\n",
       "      <td>3</td>\n",
       "      <td>1</td>\n",
       "      <td>27</td>\n",
       "      <td>1</td>\n",
       "    </tr>\n",
       "    <tr>\n",
       "      <td>4</td>\n",
       "      <td>2</td>\n",
       "      <td>11</td>\n",
       "      <td>1</td>\n",
       "    </tr>\n",
       "    <tr>\n",
       "      <td>5</td>\n",
       "      <td>2</td>\n",
       "      <td>21</td>\n",
       "      <td>1</td>\n",
       "    </tr>\n",
       "    <tr>\n",
       "      <td>6</td>\n",
       "      <td>4</td>\n",
       "      <td>21</td>\n",
       "      <td>1</td>\n",
       "    </tr>\n",
       "    <tr>\n",
       "      <td>7</td>\n",
       "      <td>4</td>\n",
       "      <td>24</td>\n",
       "      <td>1</td>\n",
       "    </tr>\n",
       "    <tr>\n",
       "      <td>8</td>\n",
       "      <td>6</td>\n",
       "      <td>30</td>\n",
       "      <td>1</td>\n",
       "    </tr>\n",
       "    <tr>\n",
       "      <td>9</td>\n",
       "      <td>7</td>\n",
       "      <td>10</td>\n",
       "      <td>1</td>\n",
       "    </tr>\n",
       "    <tr>\n",
       "      <td>10</td>\n",
       "      <td>7</td>\n",
       "      <td>11</td>\n",
       "      <td>1</td>\n",
       "    </tr>\n",
       "    <tr>\n",
       "      <td>11</td>\n",
       "      <td>7</td>\n",
       "      <td>14</td>\n",
       "      <td>1</td>\n",
       "    </tr>\n",
       "    <tr>\n",
       "      <td>12</td>\n",
       "      <td>7</td>\n",
       "      <td>24</td>\n",
       "      <td>1</td>\n",
       "    </tr>\n",
       "    <tr>\n",
       "      <td>13</td>\n",
       "      <td>9</td>\n",
       "      <td>19</td>\n",
       "      <td>1</td>\n",
       "    </tr>\n",
       "    <tr>\n",
       "      <td>14</td>\n",
       "      <td>9</td>\n",
       "      <td>26</td>\n",
       "      <td>1</td>\n",
       "    </tr>\n",
       "    <tr>\n",
       "      <td>15</td>\n",
       "      <td>10</td>\n",
       "      <td>7</td>\n",
       "      <td>1</td>\n",
       "    </tr>\n",
       "    <tr>\n",
       "      <td>16</td>\n",
       "      <td>10</td>\n",
       "      <td>29</td>\n",
       "      <td>1</td>\n",
       "    </tr>\n",
       "    <tr>\n",
       "      <td>17</td>\n",
       "      <td>13</td>\n",
       "      <td>25</td>\n",
       "      <td>2</td>\n",
       "    </tr>\n",
       "    <tr>\n",
       "      <td>18</td>\n",
       "      <td>13</td>\n",
       "      <td>28</td>\n",
       "      <td>1</td>\n",
       "    </tr>\n",
       "    <tr>\n",
       "      <td>19</td>\n",
       "      <td>14</td>\n",
       "      <td>6</td>\n",
       "      <td>1</td>\n",
       "    </tr>\n",
       "  </tbody>\n",
       "</table>\n",
       "</div>"
      ],
      "text/plain": [
       "    patientid  Hospital_code  Count\n",
       "0           1              3      1\n",
       "1           1             22      1\n",
       "2           1             26      1\n",
       "3           1             27      1\n",
       "4           2             11      1\n",
       "5           2             21      1\n",
       "6           4             21      1\n",
       "7           4             24      1\n",
       "8           6             30      1\n",
       "9           7             10      1\n",
       "10          7             11      1\n",
       "11          7             14      1\n",
       "12          7             24      1\n",
       "13          9             19      1\n",
       "14          9             26      1\n",
       "15         10              7      1\n",
       "16         10             29      1\n",
       "17         13             25      2\n",
       "18         13             28      1\n",
       "19         14              6      1"
      ]
     },
     "execution_count": 354,
     "metadata": {},
     "output_type": "execute_result"
    }
   ],
   "source": [
    "traindf.head(20)"
   ]
  },
  {
   "cell_type": "code",
   "execution_count": 355,
   "metadata": {},
   "outputs": [
    {
     "data": {
      "text/plain": [
       "(274293, 3)"
      ]
     },
     "execution_count": 355,
     "metadata": {},
     "output_type": "execute_result"
    }
   ],
   "source": [
    "traindf.shape"
   ]
  },
  {
   "cell_type": "code",
   "execution_count": 356,
   "metadata": {},
   "outputs": [
    {
     "data": {
      "text/plain": [
       "(318438, 19)"
      ]
     },
     "execution_count": 356,
     "metadata": {},
     "output_type": "execute_result"
    }
   ],
   "source": [
    "train.shape"
   ]
  },
  {
   "cell_type": "code",
   "execution_count": 362,
   "metadata": {},
   "outputs": [
    {
     "data": {
      "text/plain": [
       "92017"
      ]
     },
     "execution_count": 362,
     "metadata": {},
     "output_type": "execute_result"
    }
   ],
   "source": [
    "len(traindf['patientid'].unique())"
   ]
  },
  {
   "cell_type": "code",
   "execution_count": 363,
   "metadata": {},
   "outputs": [
    {
     "data": {
      "text/plain": [
       "92017"
      ]
     },
     "execution_count": 363,
     "metadata": {},
     "output_type": "execute_result"
    }
   ],
   "source": [
    "len(train['patientid'].unique())"
   ]
  },
  {
   "cell_type": "code",
   "execution_count": 367,
   "metadata": {},
   "outputs": [],
   "source": [
    "train2 = pd.merge(train_1, traindf, on=['patientid','Hospital_code'], how='left')"
   ]
  },
  {
   "cell_type": "code",
   "execution_count": 368,
   "metadata": {},
   "outputs": [
    {
     "data": {
      "text/plain": [
       "(318438, 20)"
      ]
     },
     "execution_count": 368,
     "metadata": {},
     "output_type": "execute_result"
    }
   ],
   "source": [
    "train2.shape"
   ]
  },
  {
   "cell_type": "code",
   "execution_count": 369,
   "metadata": {},
   "outputs": [
    {
     "data": {
      "text/html": [
       "<div>\n",
       "<style scoped>\n",
       "    .dataframe tbody tr th:only-of-type {\n",
       "        vertical-align: middle;\n",
       "    }\n",
       "\n",
       "    .dataframe tbody tr th {\n",
       "        vertical-align: top;\n",
       "    }\n",
       "\n",
       "    .dataframe thead th {\n",
       "        text-align: right;\n",
       "    }\n",
       "</style>\n",
       "<table border=\"1\" class=\"dataframe\">\n",
       "  <thead>\n",
       "    <tr style=\"text-align: right;\">\n",
       "      <th></th>\n",
       "      <th>Admission_Deposit</th>\n",
       "      <th>Age</th>\n",
       "      <th>Available Extra Rooms in Hospital</th>\n",
       "      <th>Bed Grade</th>\n",
       "      <th>City_Code_Hospital</th>\n",
       "      <th>City_Code_Patient</th>\n",
       "      <th>Department</th>\n",
       "      <th>Hospital_code</th>\n",
       "      <th>Hospital_region_code</th>\n",
       "      <th>Hospital_type_code</th>\n",
       "      <th>Severity of Illness</th>\n",
       "      <th>Stay</th>\n",
       "      <th>Type of Admission</th>\n",
       "      <th>Visitors with Patient</th>\n",
       "      <th>Ward_Facility_Code</th>\n",
       "      <th>Ward_Type</th>\n",
       "      <th>case_id</th>\n",
       "      <th>flag</th>\n",
       "      <th>patientid</th>\n",
       "      <th>Count</th>\n",
       "    </tr>\n",
       "  </thead>\n",
       "  <tbody>\n",
       "    <tr>\n",
       "      <td>0</td>\n",
       "      <td>4911.0</td>\n",
       "      <td>5</td>\n",
       "      <td>3</td>\n",
       "      <td>2.0</td>\n",
       "      <td>3</td>\n",
       "      <td>7.0</td>\n",
       "      <td>3</td>\n",
       "      <td>8</td>\n",
       "      <td>2</td>\n",
       "      <td>2</td>\n",
       "      <td>0</td>\n",
       "      <td>0</td>\n",
       "      <td>0</td>\n",
       "      <td>2</td>\n",
       "      <td>5</td>\n",
       "      <td>2</td>\n",
       "      <td>1</td>\n",
       "      <td>1</td>\n",
       "      <td>31397</td>\n",
       "      <td>1</td>\n",
       "    </tr>\n",
       "    <tr>\n",
       "      <td>1</td>\n",
       "      <td>5954.0</td>\n",
       "      <td>5</td>\n",
       "      <td>2</td>\n",
       "      <td>2.0</td>\n",
       "      <td>5</td>\n",
       "      <td>7.0</td>\n",
       "      <td>3</td>\n",
       "      <td>2</td>\n",
       "      <td>2</td>\n",
       "      <td>2</td>\n",
       "      <td>0</td>\n",
       "      <td>4</td>\n",
       "      <td>1</td>\n",
       "      <td>2</td>\n",
       "      <td>5</td>\n",
       "      <td>3</td>\n",
       "      <td>2</td>\n",
       "      <td>1</td>\n",
       "      <td>31397</td>\n",
       "      <td>1</td>\n",
       "    </tr>\n",
       "    <tr>\n",
       "      <td>2</td>\n",
       "      <td>4745.0</td>\n",
       "      <td>5</td>\n",
       "      <td>2</td>\n",
       "      <td>2.0</td>\n",
       "      <td>1</td>\n",
       "      <td>7.0</td>\n",
       "      <td>1</td>\n",
       "      <td>10</td>\n",
       "      <td>0</td>\n",
       "      <td>4</td>\n",
       "      <td>0</td>\n",
       "      <td>3</td>\n",
       "      <td>1</td>\n",
       "      <td>2</td>\n",
       "      <td>4</td>\n",
       "      <td>3</td>\n",
       "      <td>3</td>\n",
       "      <td>1</td>\n",
       "      <td>31397</td>\n",
       "      <td>2</td>\n",
       "    </tr>\n",
       "    <tr>\n",
       "      <td>3</td>\n",
       "      <td>7272.0</td>\n",
       "      <td>5</td>\n",
       "      <td>2</td>\n",
       "      <td>2.0</td>\n",
       "      <td>2</td>\n",
       "      <td>7.0</td>\n",
       "      <td>3</td>\n",
       "      <td>26</td>\n",
       "      <td>1</td>\n",
       "      <td>1</td>\n",
       "      <td>0</td>\n",
       "      <td>4</td>\n",
       "      <td>1</td>\n",
       "      <td>2</td>\n",
       "      <td>3</td>\n",
       "      <td>2</td>\n",
       "      <td>4</td>\n",
       "      <td>1</td>\n",
       "      <td>31397</td>\n",
       "      <td>3</td>\n",
       "    </tr>\n",
       "    <tr>\n",
       "      <td>4</td>\n",
       "      <td>5558.0</td>\n",
       "      <td>5</td>\n",
       "      <td>2</td>\n",
       "      <td>2.0</td>\n",
       "      <td>2</td>\n",
       "      <td>7.0</td>\n",
       "      <td>3</td>\n",
       "      <td>26</td>\n",
       "      <td>1</td>\n",
       "      <td>1</td>\n",
       "      <td>0</td>\n",
       "      <td>4</td>\n",
       "      <td>1</td>\n",
       "      <td>2</td>\n",
       "      <td>3</td>\n",
       "      <td>3</td>\n",
       "      <td>5</td>\n",
       "      <td>1</td>\n",
       "      <td>31397</td>\n",
       "      <td>3</td>\n",
       "    </tr>\n",
       "  </tbody>\n",
       "</table>\n",
       "</div>"
      ],
      "text/plain": [
       "   Admission_Deposit  Age  Available Extra Rooms in Hospital  Bed Grade  \\\n",
       "0             4911.0    5                                  3        2.0   \n",
       "1             5954.0    5                                  2        2.0   \n",
       "2             4745.0    5                                  2        2.0   \n",
       "3             7272.0    5                                  2        2.0   \n",
       "4             5558.0    5                                  2        2.0   \n",
       "\n",
       "   City_Code_Hospital  City_Code_Patient  Department  Hospital_code  \\\n",
       "0                   3                7.0           3              8   \n",
       "1                   5                7.0           3              2   \n",
       "2                   1                7.0           1             10   \n",
       "3                   2                7.0           3             26   \n",
       "4                   2                7.0           3             26   \n",
       "\n",
       "   Hospital_region_code  Hospital_type_code  Severity of Illness  Stay  \\\n",
       "0                     2                   2                    0     0   \n",
       "1                     2                   2                    0     4   \n",
       "2                     0                   4                    0     3   \n",
       "3                     1                   1                    0     4   \n",
       "4                     1                   1                    0     4   \n",
       "\n",
       "   Type of Admission  Visitors with Patient  Ward_Facility_Code  Ward_Type  \\\n",
       "0                  0                      2                   5          2   \n",
       "1                  1                      2                   5          3   \n",
       "2                  1                      2                   4          3   \n",
       "3                  1                      2                   3          2   \n",
       "4                  1                      2                   3          3   \n",
       "\n",
       "   case_id  flag  patientid  Count  \n",
       "0        1     1      31397      1  \n",
       "1        2     1      31397      1  \n",
       "2        3     1      31397      2  \n",
       "3        4     1      31397      3  \n",
       "4        5     1      31397      3  "
      ]
     },
     "execution_count": 369,
     "metadata": {},
     "output_type": "execute_result"
    }
   ],
   "source": [
    "train2.head()"
   ]
  },
  {
   "cell_type": "code",
   "execution_count": 373,
   "metadata": {},
   "outputs": [],
   "source": [
    "target = train2['Stay']\n",
    "train2.drop(['case_id', 'Stay', 'flag'], axis=1, inplace=True)\n",
    "testdf = test.groupby(['patientid', 'Hospital_code'])['Hospital_code'].count().to_frame()\n",
    "testdf.rename(columns = {'Hospital_code':'Count'}, inplace=True)\n",
    "testdf.reset_index(inplace=True)\n",
    "test2 = pd.merge(test, testdf, on=['patientid','Hospital_code'], how='left')\n",
    "test.drop(['case_id', 'Stay', 'flag'], axis=1, inplace=True)\n",
    "train2 = train2.sample(frac=1)\n",
    "test2 = test2.sample(frac=1)"
   ]
  },
  {
   "cell_type": "code",
   "execution_count": null,
   "metadata": {},
   "outputs": [],
   "source": [
    "params_2 = {'learning_rate':0.05, \n",
    "             'max_depth':40, \n",
    "             'min_data_in_leaf':100,\n",
    "             'n_estimators':500,\n",
    "             'num_iterations':500,\n",
    "             'colsample_bytree':0.6, \n",
    "             'reg_alpha':2.2, \n",
    "             'reg_lambda':2.0, \n",
    "             'subsample':0.9,\n",
    "            'random_state':1994}\n",
    "\n",
    "model2 = lgb.LGBMClassifier(**params_2)\n",
    "model2.fit(X, y, categorical_feature=categorical)\n",
    "preds_2 = model2.predict(X_val)\n",
    "print('LGBM accuracy: ', accuracy_score(y_val, preds_2)*100, '%')"
   ]
  }
 ],
 "metadata": {
  "kernelspec": {
   "display_name": "Python 3",
   "language": "python",
   "name": "python3"
  },
  "language_info": {
   "codemirror_mode": {
    "name": "ipython",
    "version": 3
   },
   "file_extension": ".py",
   "mimetype": "text/x-python",
   "name": "python",
   "nbconvert_exporter": "python",
   "pygments_lexer": "ipython3",
   "version": "3.7.4"
  }
 },
 "nbformat": 4,
 "nbformat_minor": 2
}
